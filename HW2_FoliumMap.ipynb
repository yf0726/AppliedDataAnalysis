{
 "cells": [
  {
   "cell_type": "markdown",
   "metadata": {},
   "source": [
    "# Assignment 2: Voting Visualized"
   ]
  },
  {
   "cell_type": "markdown",
   "metadata": {},
   "source": [
    "TA Reviews\n",
    "\n",
    "Grade for Textual Description: 6.0\n",
    "\n",
    "Grade for Code Quality: 6.0\n",
    "\n",
    "Grade for Results: 6.0\n",
    "\n",
    "Comments: Amazing work  ! Some specific comments:\n",
    "\n",
    "Task 1\n",
    "\n",
    "Part B: Regarding rural areas, it would have been more relevant to showcase the communes with the smallest population instead. Your interpretation of urban/rural areas is appreciated (bonus: https://en.wikipedia.org/wiki/Pareto_principle)\n",
    "\n",
    "Part C: The plots are well done. However the distribution isnt a power law ( the cdf should be a straight line if it were )\n",
    "\n",
    "Task 2 :\n",
    "\n",
    "Part B: The language borders are very much appreciated, congrats !\n",
    "\n",
    "Task 3 \n",
    "\n",
    "Part B: Awesome ! (The bar charts would be a bit easier to read if the two nuances of red would be further apart )\n",
    "\n",
    "Tip: Avoid showing columns you do not refer to/are not relevant for the questions you are trying to answer. (i.e. Task 1b)\n",
    "\n"
   ]
  },
  {
   "cell_type": "markdown",
   "metadata": {},
   "source": [
    "## Deadline\n",
    "\n",
    "Oct. 24th\n",
    "\n",
    "## Important notes\n",
    "\n",
    "- Make sure you push on GitHub your notebook with all the cells already evaluated.\n",
    "- Note that maps do not render in a standard Github environment. You should export them to HTML and link them in your notebook.\n",
    "- Don't forget to add a textual description of your thought process, the assumptions you made, and the solution you implemented.\n",
    "- Please write all your comments in English, and use meaningful variable names in your code.\n",
    "- Your repo should have a single notebook (plus the data files necessary) in the master branch. If there are multiple notebooks present, we will not grade anything. \n",
    "\n",
    "## Background\n"
   ]
  },
  {
   "cell_type": "markdown",
   "metadata": {},
   "source": [
    "* Are you curious to know what the political leanings of the people of Switzerland are?\n",
    "* Do you wake up in a cold sweat, wondering which party won the last cantonal parliament election in Vaud?\n",
    "* Are you looking to learn all sorts of visualizations, including maps, in Python?\n",
    "\n",
    "If your answer to any of the above is yes, this assignment is just right for you. Otherwise, it's still an assignment, so we're terribly sorry.\n",
    "\n",
    "The chief aim of this assignment is to familiarize you with visualizations in Python, particularly maps, and also to give you some insight into how visualizations are to be interpreted. The data we will use is the data on Swiss cantonal parliament elections from 2007 to 2018, which contains, for each cantonal election in this time period, the voting percentages for each party and canton.\n",
    "\n",
    "For the visualization part, install [Folium](Folium) (_Hint: it is not available in your standard Anaconda environment, therefore search on the Web how to install it easily!_). Folium's README comes with very clear examples, and links to their own iPython Notebooks -- make good use of this information. For your own convenience, in this same directory you can already find one TopoJSON file, containing the geo-coordinates of the cantonal borders of Switzerland.\n",
    "\n",
    "One last, general reminder: back up any hypotheses and claims with data, since this is an important aspect of the course."
   ]
  },
  {
   "cell_type": "code",
   "execution_count": 2,
   "metadata": {},
   "outputs": [],
   "source": [
    "%matplotlib inline\n",
    "import pandas as pd\n",
    "import numpy as np\n",
    "import matplotlib.pyplot as plt \n",
    "import seaborn as sns\n",
    "import json\n",
    "import folium\n",
    "import branca.colormap as cm\n",
    "import copy\n",
    "# import vincent\n",
    "# vincent.core.initialize_notebook()\n",
    "from IPython.display import IFrame,display, HTML"
   ]
  },
  {
   "cell_type": "code",
   "execution_count": 3,
   "metadata": {},
   "outputs": [],
   "source": [
    "data_folder = './data/'"
   ]
  },
  {
   "cell_type": "markdown",
   "metadata": {},
   "source": [
    "### Notice!\n",
    "Folium maps cannot be viewed directly from github so we exported every map to HTML and they are linked in the notebook. Also you can use the 'HW2_main.html' to view the whole homework."
   ]
  },
  {
   "cell_type": "markdown",
   "metadata": {},
   "source": [
    "[Click here to see Homework 2 as HTML file](HW2_main.html)"
   ]
  },
  {
   "cell_type": "markdown",
   "metadata": {},
   "source": [
    "## Task 1: Cartography and census\n",
    "\n",
    "__A)__ Display a Swiss map that has cantonal borders as well as the national borders. We provide a TopoJSON `data/ch-cantons.topojson.json` that contains the borders of the cantons.\n",
    "\n",
    "__B)__ Take the spreadsheet `data/communes_pop.xls`, collected from [admin.ch](https://www.bfs.admin.ch/bfs/fr/home/statistiques/catalogues-banques-donnees/tableaux.assetdetail.5886191.html), containing population figures for every commune. You can use [pd.read_excel()](https://pandas.pydata.org/pandas-docs/version/0.20/generated/pandas.read_excel.html) to read the file and to select specific sheets. Plot a histogram of the population counts and explain your observations. Do not use a log-scale plot for now. What does this histogram tell you about urban and rural communes in Switzerland? Are there any clear outliers on either side, and if so, which communes?\n",
    "\n",
    "__C)__ The figure below represents 4 types of histogram. At this stage, our distribution should look like Fig.(a). A common way to represent [power-laws](https://en.wikipedia.org/wiki/Power_law) is to use a histogram using a log-log scale  -- remember: the x-axis of an histogram is segmented in bins of equal sizes and y-values are the average of each bin. As shown in Fig.(b), small bins sizes might introduce artifacts. Fig.(b) and Fig.(c) are examples of histograms with two different bin sizes. Another great way to visualize such distribution is to use a cumulative representation, as show in Fig.(d), in which the y-axis represents the number of data points with values greater than y.  \n",
    "  \n",
    "Create the figures (b) and (d) using the data extracted for task 1B. For Fig.(b), represent two histograms using two different bin sizes and provide a brief description of the results. What does this tell you about the relationship between the two variables, namely the frequency of each bin and the value (i.e. population in case of the communal data) for each bin?\n",
    "\n",
    "<img src=\"plaw_crop.png\" style=\"width: 600px;\">\n",
    "  \n",
    "The figure is extracted from [this paper](https://arxiv.org/pdf/cond-mat/0412004.pdf) that contains more information about this family of distributions."
   ]
  },
  {
   "cell_type": "markdown",
   "metadata": {},
   "source": [
    "__A)__ Display a Swiss map that has cantonal borders as well as the national borders. We provide a TopoJSON `data/ch-cantons.topojson.json` that contains the borders of the cantons."
   ]
  },
  {
   "cell_type": "markdown",
   "metadata": {},
   "source": [
    "First, we create a map with a geographical center of Switzerland and add the cantonal borders to the map. Furthermore, we add a tooltip marker which shows the name of each canton when hovering over the canton. "
   ]
  },
  {
   "cell_type": "code",
   "execution_count": 3,
   "metadata": {},
   "outputs": [
    {
     "data": {
      "text/html": [
       "\n",
       "        <iframe\n",
       "            width=\"980\"\n",
       "            height=\"600\"\n",
       "            src=\"Switzerland_Cantons.html\"\n",
       "            frameborder=\"0\"\n",
       "            allowfullscreen\n",
       "        ></iframe>\n",
       "        "
      ],
      "text/plain": [
       "<IPython.lib.display.IFrame at 0x1e9700e15c0>"
      ]
     },
     "execution_count": 3,
     "metadata": {},
     "output_type": "execute_result"
    }
   ],
   "source": [
    "# Creating the map with a center in Switzerland\n",
    "m = folium.Map(location=[46.87, 8.36], tiles='cartodbpositron', zoom_start=7, control_scale=True)\n",
    "\n",
    "# Load the topojson file that contains the borders of the cantons.\n",
    "topojson_cantons = json.load(open('data/ch-cantons.topojson.json'))\n",
    "\n",
    "# Add the cantons to the map\n",
    "folium.TopoJson(topojson_cantons,'objects.cantons',name='Switzerland Cantons', \n",
    "                style_function=lambda feature: {\n",
    "                                'color': 'red',\n",
    "                                'fillOpacity':0.1,\n",
    "                                'weight': '1',\n",
    "                                'dashArray': '5, 5'       \n",
    "}).add_to(m)\n",
    "\n",
    "# We take the names of the cantons from cantons.csv file to show them on our map\n",
    "cantons = pd.read_csv('data/cantons.csv')\n",
    "\n",
    "# Create a tooltip marker which shows the name of each canton when hovering over the canton\n",
    "for data in topojson_cantons['objects']['cantons']['geometries']:\n",
    "    cantons_topo = copy.deepcopy(topojson_cantons)\n",
    "    cantons_topo['objects']['cantons']['geometries'] = [data]\n",
    "    canton_id = cantons_topo['objects']['cantons']['geometries'][0]['id']\n",
    "    canton_name = cantons[cantons['Code'] == canton_id]['Canton of'].values[0] \n",
    "    cantons_layer = folium.TopoJson(cantons_topo, 'objects.cantons')\n",
    "    cantons_layer.add_child(folium.Tooltip(canton_name))\n",
    "    cantons_layer.add_to(m)\n",
    "    \n",
    "# We export the map as HTML ('Switzerland_Cantons.html') and open it in the notebook and the link is below\n",
    "m.save('Switzerland_Cantons.html')\n",
    "IFrame(src=\"Switzerland_Cantons.html\", width = 980, height = 600)"
   ]
  },
  {
   "cell_type": "markdown",
   "metadata": {},
   "source": [
    "[Click here to see Switzerland_Cantons.html](Switzerland_Cantons.html)"
   ]
  },
  {
   "cell_type": "markdown",
   "metadata": {},
   "source": [
    "__B)__ Take the spreadsheet `data/communes_pop.xls`, collected from [admin.ch](https://www.bfs.admin.ch/bfs/fr/home/statistiques/catalogues-banques-donnees/tableaux.assetdetail.5886191.html), containing population figures for every commune. You can use [pd.read_excel()](https://pandas.pydata.org/pandas-docs/version/0.20/generated/pandas.read_excel.html) to read the file and to select specific sheets. Plot a histogram of the population counts and explain your observations. Do not use a log-scale plot for now. What does this histogram tell you about urban and rural communes in Switzerland? Are there any clear outliers on either side, and if so, which communes?"
   ]
  },
  {
   "cell_type": "markdown",
   "metadata": {},
   "source": [
    "First, we read the the first sheet '2017' of the spreadsheet 'communes_pop.xls':"
   ]
  },
  {
   "cell_type": "code",
   "execution_count": 4,
   "metadata": {},
   "outputs": [
    {
     "data": {
      "text/html": [
       "<div>\n",
       "<style scoped>\n",
       "    .dataframe tbody tr th:only-of-type {\n",
       "        vertical-align: middle;\n",
       "    }\n",
       "\n",
       "    .dataframe tbody tr th {\n",
       "        vertical-align: top;\n",
       "    }\n",
       "\n",
       "    .dataframe thead th {\n",
       "        text-align: right;\n",
       "    }\n",
       "</style>\n",
       "<table border=\"1\" class=\"dataframe\">\n",
       "  <thead>\n",
       "    <tr style=\"text-align: right;\">\n",
       "      <th></th>\n",
       "      <th>su-f-01.02.04.07</th>\n",
       "      <th>Bilan de la population résidante permanente selon les districts et les communes, en 2017</th>\n",
       "      <th>Unnamed: 2</th>\n",
       "      <th>Unnamed: 3</th>\n",
       "      <th>Unnamed: 4</th>\n",
       "      <th>Unnamed: 5</th>\n",
       "      <th>Unnamed: 6</th>\n",
       "      <th>Unnamed: 7</th>\n",
       "      <th>Unnamed: 8</th>\n",
       "      <th>Unnamed: 9</th>\n",
       "      <th>Unnamed: 10</th>\n",
       "      <th>Unnamed: 11</th>\n",
       "    </tr>\n",
       "  </thead>\n",
       "  <tbody>\n",
       "    <tr>\n",
       "      <th>0</th>\n",
       "      <td>NaN</td>\n",
       "      <td>NaN</td>\n",
       "      <td></td>\n",
       "      <td></td>\n",
       "      <td>NaN</td>\n",
       "      <td>NaN</td>\n",
       "      <td>NaN</td>\n",
       "      <td>NaN</td>\n",
       "      <td>NaN</td>\n",
       "      <td>NaN</td>\n",
       "      <td>NaN</td>\n",
       "      <td>NaN</td>\n",
       "    </tr>\n",
       "    <tr>\n",
       "      <th>1</th>\n",
       "      <td>NaN</td>\n",
       "      <td>NaN</td>\n",
       "      <td>Composantes de l'évolution de la population</td>\n",
       "      <td>NaN</td>\n",
       "      <td>NaN</td>\n",
       "      <td>NaN</td>\n",
       "      <td>NaN</td>\n",
       "      <td>NaN</td>\n",
       "      <td>NaN</td>\n",
       "      <td>NaN</td>\n",
       "      <td>Variation</td>\n",
       "      <td>NaN</td>\n",
       "    </tr>\n",
       "    <tr>\n",
       "      <th>2</th>\n",
       "      <td>NaN</td>\n",
       "      <td>Etat de la</td>\n",
       "      <td>Naissances</td>\n",
       "      <td>Décès</td>\n",
       "      <td>Accroissement</td>\n",
       "      <td>Arrivées 1)</td>\n",
       "      <td>Départs</td>\n",
       "      <td>Solde</td>\n",
       "      <td>Divergences</td>\n",
       "      <td>Etat de la</td>\n",
       "      <td>en nombres</td>\n",
       "      <td>en %</td>\n",
       "    </tr>\n",
       "    <tr>\n",
       "      <th>3</th>\n",
       "      <td>NaN</td>\n",
       "      <td>population</td>\n",
       "      <td>vivantes</td>\n",
       "      <td>NaN</td>\n",
       "      <td>naturel</td>\n",
       "      <td>NaN</td>\n",
       "      <td>NaN</td>\n",
       "      <td>migratoire 1)</td>\n",
       "      <td>statistiques</td>\n",
       "      <td>population</td>\n",
       "      <td>absolus</td>\n",
       "      <td>NaN</td>\n",
       "    </tr>\n",
       "    <tr>\n",
       "      <th>4</th>\n",
       "      <td>NaN</td>\n",
       "      <td>au 1er janvier</td>\n",
       "      <td>NaN</td>\n",
       "      <td>NaN</td>\n",
       "      <td>NaN</td>\n",
       "      <td>NaN</td>\n",
       "      <td>NaN</td>\n",
       "      <td>NaN</td>\n",
       "      <td></td>\n",
       "      <td>au 31 décembre</td>\n",
       "      <td>NaN</td>\n",
       "      <td>NaN</td>\n",
       "    </tr>\n",
       "  </tbody>\n",
       "</table>\n",
       "</div>"
      ],
      "text/plain": [
       "  su-f-01.02.04.07  \\\n",
       "0              NaN   \n",
       "1              NaN   \n",
       "2              NaN   \n",
       "3              NaN   \n",
       "4              NaN   \n",
       "\n",
       "  Bilan de la population résidante permanente selon les districts et les communes, en 2017  \\\n",
       "0                                                NaN                                         \n",
       "1                                                NaN                                         \n",
       "2                                         Etat de la                                         \n",
       "3                                         population                                         \n",
       "4                                     au 1er janvier                                         \n",
       "\n",
       "                                    Unnamed: 2  Unnamed: 3     Unnamed: 4  \\\n",
       "0                                                                     NaN   \n",
       "1  Composantes de l'évolution de la population         NaN            NaN   \n",
       "2                                   Naissances       Décès  Accroissement   \n",
       "3                                     vivantes         NaN        naturel   \n",
       "4                                          NaN         NaN            NaN   \n",
       "\n",
       "    Unnamed: 5 Unnamed: 6     Unnamed: 7    Unnamed: 8      Unnamed: 9  \\\n",
       "0          NaN        NaN            NaN           NaN             NaN   \n",
       "1          NaN        NaN            NaN           NaN             NaN   \n",
       "2  Arrivées 1)    Départs          Solde   Divergences      Etat de la   \n",
       "3          NaN        NaN  migratoire 1)  statistiques      population   \n",
       "4          NaN        NaN            NaN                au 31 décembre   \n",
       "\n",
       "  Unnamed: 10 Unnamed: 11  \n",
       "0         NaN         NaN  \n",
       "1  Variation          NaN  \n",
       "2  en nombres        en %  \n",
       "3     absolus         NaN  \n",
       "4         NaN         NaN  "
      ]
     },
     "execution_count": 4,
     "metadata": {},
     "output_type": "execute_result"
    }
   ],
   "source": [
    "communes = pd.read_excel('data/communes_pop.xls')\n",
    "communes.head()"
   ]
  },
  {
   "cell_type": "markdown",
   "metadata": {},
   "source": [
    "We can notice that the data needs some modifications, so we changed the names of the columns and we reduced the number of rows:"
   ]
  },
  {
   "cell_type": "code",
   "execution_count": 5,
   "metadata": {},
   "outputs": [
    {
     "data": {
      "text/html": [
       "<div>\n",
       "<style scoped>\n",
       "    .dataframe tbody tr th:only-of-type {\n",
       "        vertical-align: middle;\n",
       "    }\n",
       "\n",
       "    .dataframe tbody tr th {\n",
       "        vertical-align: top;\n",
       "    }\n",
       "\n",
       "    .dataframe thead th {\n",
       "        text-align: right;\n",
       "    }\n",
       "</style>\n",
       "<table border=\"1\" class=\"dataframe\">\n",
       "  <thead>\n",
       "    <tr style=\"text-align: right;\">\n",
       "      <th></th>\n",
       "      <th>commune</th>\n",
       "      <th>pop_start</th>\n",
       "      <th>birth</th>\n",
       "      <th>death</th>\n",
       "      <th>natrual_increase</th>\n",
       "      <th>arrive</th>\n",
       "      <th>depart</th>\n",
       "      <th>migration</th>\n",
       "      <th>divergence</th>\n",
       "      <th>pop_end</th>\n",
       "      <th>abs_increase</th>\n",
       "      <th>per</th>\n",
       "    </tr>\n",
       "  </thead>\n",
       "  <tbody>\n",
       "    <tr>\n",
       "      <th>0</th>\n",
       "      <td>- Zürich</td>\n",
       "      <td>1487969</td>\n",
       "      <td>17070</td>\n",
       "      <td>11076</td>\n",
       "      <td>5994</td>\n",
       "      <td>120593</td>\n",
       "      <td>108666</td>\n",
       "      <td>11927</td>\n",
       "      <td>-1544</td>\n",
       "      <td>1504346</td>\n",
       "      <td>16377</td>\n",
       "      <td>1.100628</td>\n",
       "    </tr>\n",
       "    <tr>\n",
       "      <th>1</th>\n",
       "      <td>&gt;&gt; Bezirk Affoltern</td>\n",
       "      <td>52904</td>\n",
       "      <td>517</td>\n",
       "      <td>310</td>\n",
       "      <td>207</td>\n",
       "      <td>4501</td>\n",
       "      <td>3862</td>\n",
       "      <td>639</td>\n",
       "      <td>21</td>\n",
       "      <td>53771</td>\n",
       "      <td>867</td>\n",
       "      <td>1.638817</td>\n",
       "    </tr>\n",
       "    <tr>\n",
       "      <th>2</th>\n",
       "      <td>......0001 Aeugst am Albis</td>\n",
       "      <td>1977</td>\n",
       "      <td>10</td>\n",
       "      <td>7</td>\n",
       "      <td>3</td>\n",
       "      <td>129</td>\n",
       "      <td>165</td>\n",
       "      <td>-36</td>\n",
       "      <td>-3</td>\n",
       "      <td>1941</td>\n",
       "      <td>-36</td>\n",
       "      <td>-1.820941</td>\n",
       "    </tr>\n",
       "    <tr>\n",
       "      <th>3</th>\n",
       "      <td>......0002 Affoltern am Albis</td>\n",
       "      <td>11900</td>\n",
       "      <td>128</td>\n",
       "      <td>93</td>\n",
       "      <td>35</td>\n",
       "      <td>1239</td>\n",
       "      <td>1029</td>\n",
       "      <td>210</td>\n",
       "      <td>1</td>\n",
       "      <td>12146</td>\n",
       "      <td>246</td>\n",
       "      <td>2.067227</td>\n",
       "    </tr>\n",
       "    <tr>\n",
       "      <th>4</th>\n",
       "      <td>......0003 Bonstetten</td>\n",
       "      <td>5435</td>\n",
       "      <td>47</td>\n",
       "      <td>25</td>\n",
       "      <td>22</td>\n",
       "      <td>374</td>\n",
       "      <td>322</td>\n",
       "      <td>52</td>\n",
       "      <td>3</td>\n",
       "      <td>5512</td>\n",
       "      <td>77</td>\n",
       "      <td>1.416743</td>\n",
       "    </tr>\n",
       "  </tbody>\n",
       "</table>\n",
       "</div>"
      ],
      "text/plain": [
       "                         commune  pop_start  birth  death  natrual_increase  \\\n",
       "0                       - Zürich    1487969  17070  11076              5994   \n",
       "1            >> Bezirk Affoltern      52904    517    310               207   \n",
       "2     ......0001 Aeugst am Albis       1977     10      7                 3   \n",
       "3  ......0002 Affoltern am Albis      11900    128     93                35   \n",
       "4          ......0003 Bonstetten       5435     47     25                22   \n",
       "\n",
       "   arrive  depart  migration  divergence  pop_end  abs_increase       per  \n",
       "0  120593  108666      11927       -1544  1504346         16377  1.100628  \n",
       "1    4501    3862        639          21    53771           867  1.638817  \n",
       "2     129     165        -36          -3     1941           -36 -1.820941  \n",
       "3    1239    1029        210           1    12146           246  2.067227  \n",
       "4     374     322         52           3     5512            77  1.416743  "
      ]
     },
     "execution_count": 5,
     "metadata": {},
     "output_type": "execute_result"
    }
   ],
   "source": [
    "colnames = ['commune','pop_start','birth','death','natrual_increase','arrive',\\\n",
    "            'depart','migration','divergence','pop_end','abs_increase','per']\n",
    "communes = pd.read_excel('data/communes_pop.xls', sheet_name = 0, skiprows = 6, names = colnames,nrows = 2406)\n",
    "communes.head()"
   ]
  },
  {
   "cell_type": "markdown",
   "metadata": {},
   "source": [
    "NOTE: We observe that the notation for cantons begins with the sign '-' in front of the canton (i.e. '- Zurich'), the notation for districts is '>>' in front of the district (i.e. '- Bezirk Affoltern') and the notation for communes is in the following format '......0001' in front of the commune (i.e. '......0001 Aeugst am Albis'). Furthermore, the number of population in each canton is the sum of the population from every district in that particular canton (note that some cantones do not have districts, so the number of population in each canton is the sum of the population from every commune in that canton) and the number of population in each district is the sum of the population from every district in that particular canton, or:\n",
    "\n",
    "Canton pop. = sum (District pop.) and District pop. = sum (Commune pop.)\n",
    "\n",
    "or \n",
    "\n",
    "Canton pop. = sum (Commune pop.) //cases where the canton does not have districts\n",
    "\n",
    "Below is the desription for canton, district and commune population which we got by using filters with regex expressions matching the special notiation mentioned above:"
   ]
  },
  {
   "cell_type": "code",
   "execution_count": 6,
   "metadata": {},
   "outputs": [
    {
     "data": {
      "text/plain": [
       "count      2240.000000\n",
       "mean       3787.558036\n",
       "std       12436.473308\n",
       "min          12.000000\n",
       "25%         679.000000\n",
       "50%        1493.500000\n",
       "75%        3643.500000\n",
       "max      409241.000000\n",
       "Name: pop_end, dtype: float64"
      ]
     },
     "execution_count": 6,
     "metadata": {},
     "output_type": "execute_result"
    }
   ],
   "source": [
    "communes[communes.commune.str.contains('\\d{4}')==True].pop_end.describe() # Commune population"
   ]
  },
  {
   "cell_type": "code",
   "execution_count": 7,
   "metadata": {},
   "outputs": [
    {
     "data": {
      "text/plain": [
       "count       140.000000\n",
       "mean      53544.678571\n",
       "std       56980.837955\n",
       "min        2279.000000\n",
       "25%       18151.250000\n",
       "50%       42854.000000\n",
       "75%       68470.750000\n",
       "max      413143.000000\n",
       "Name: pop_end, dtype: float64"
      ]
     },
     "execution_count": 7,
     "metadata": {},
     "output_type": "execute_result"
    }
   ],
   "source": [
    "communes[communes.commune.str.contains('>>')==True].pop_end.describe() # District population"
   ]
  },
  {
   "cell_type": "code",
   "execution_count": 8,
   "metadata": {},
   "outputs": [
    {
     "data": {
      "text/plain": [
       "count    2.600000e+01\n",
       "mean     3.263127e+05\n",
       "std      3.489819e+05\n",
       "min      1.610500e+04\n",
       "25%      7.530525e+04\n",
       "50%      2.346600e+05\n",
       "75%      3.933068e+05\n",
       "max      1.504346e+06\n",
       "Name: pop_end, dtype: float64"
      ]
     },
     "execution_count": 8,
     "metadata": {},
     "output_type": "execute_result"
    }
   ],
   "source": [
    "communes[communes.commune.str.contains('- ')==True].pop_end.describe() # Canton population"
   ]
  },
  {
   "cell_type": "markdown",
   "metadata": {},
   "source": [
    "From the results above, we can plot three different histograms showing the population in each commune, each district or each canton. Note that the total population from cantons is equal to the total population from communes (not equal to the total population of districts since not all cantones are divided into districts). In order to spot any outliers better we show these three histograms below:"
   ]
  },
  {
   "cell_type": "code",
   "execution_count": 9,
   "metadata": {},
   "outputs": [
    {
     "data": {
      "image/png": "[encoded data removed]",
      "text/plain": [
       "<Figure size 432x288 with 1 Axes>"
      ]
     },
     "metadata": {},
     "output_type": "display_data"
    }
   ],
   "source": [
    "# Histogram of the population counts in communes  \n",
    "plt.hist(communes[communes.commune.str.contains('\\d{4}')==True].pop_end, bins=25, rwidth = 0.8, color='#607c8e')\n",
    "plt.title(\"Population counts in communes\")\n",
    "plt.xlabel('Population')\n",
    "plt.ylabel('Counts')\n",
    "plt.grid()\n",
    "plt.tight_layout()\n",
    "plt.savefig(\"1.B Population counts in communes.png\")\n",
    "plt.show()"
   ]
  },
  {
   "cell_type": "code",
   "execution_count": 10,
   "metadata": {},
   "outputs": [
    {
     "data": {
      "image/png": "[encoded data removed]",
      "text/plain": [
       "<Figure size 432x288 with 1 Axes>"
      ]
     },
     "metadata": {},
     "output_type": "display_data"
    }
   ],
   "source": [
    "# Histogram of the population counts in districts\n",
    "plt.hist(communes[communes.commune.str.contains('>>')==True].pop_end, bins=25, rwidth = 0.8, color='#607c8e')\n",
    "plt.title(\"Population counts in districts\")\n",
    "plt.xlabel('Population')\n",
    "plt.ylabel('Counts')\n",
    "plt.grid()\n",
    "plt.tight_layout()\n",
    "plt.savefig(\"1.B Population counts in districts.png\")\n",
    "plt.show()"
   ]
  },
  {
   "cell_type": "code",
   "execution_count": 11,
   "metadata": {},
   "outputs": [
    {
     "data": {
      "image/png": "[encoded data removed]",
      "text/plain": [
       "<Figure size 432x288 with 1 Axes>"
      ]
     },
     "metadata": {},
     "output_type": "display_data"
    }
   ],
   "source": [
    "# Histogram of the population counts in cantones\n",
    "plt.hist(communes[communes.commune.str.contains('- ')==True].pop_end, bins=20, rwidth = 0.8, color='#607c8e')\n",
    "plt.title(\"Population counts in cantons\")\n",
    "plt.xlabel('Population')\n",
    "plt.ylabel('Counts')\n",
    "plt.grid()\n",
    "plt.tight_layout()\n",
    "plt.savefig(\"1.B Population counts in cantons.png\")\n",
    "plt.show()"
   ]
  },
  {
   "cell_type": "markdown",
   "metadata": {},
   "source": [
    "From the descriptions and the histograms above we can notice that most of the population in the communes is in small quantities (with a mean value of around 3.787), but since the outliers cannot be observed in the first histogram because we are not using log scale, we can check by dividing all communes that have population more than 4.000 as urban, and all communes that have population less than 4.000 as rural. (we choose 4.000 as a treshold since we have a mean value for the communes 3.787, and 75% of the data is within this treshold) And we get the following results:"
   ]
  },
  {
   "cell_type": "code",
   "execution_count": 12,
   "metadata": {},
   "outputs": [
    {
     "data": {
      "text/html": [
       "<div>\n",
       "<style scoped>\n",
       "    .dataframe tbody tr th:only-of-type {\n",
       "        vertical-align: middle;\n",
       "    }\n",
       "\n",
       "    .dataframe tbody tr th {\n",
       "        vertical-align: top;\n",
       "    }\n",
       "\n",
       "    .dataframe thead th {\n",
       "        text-align: right;\n",
       "    }\n",
       "</style>\n",
       "<table border=\"1\" class=\"dataframe\">\n",
       "  <thead>\n",
       "    <tr style=\"text-align: right;\">\n",
       "      <th></th>\n",
       "      <th>commune</th>\n",
       "      <th>pop_start</th>\n",
       "      <th>birth</th>\n",
       "      <th>death</th>\n",
       "      <th>natrual_increase</th>\n",
       "      <th>arrive</th>\n",
       "      <th>depart</th>\n",
       "      <th>migration</th>\n",
       "      <th>divergence</th>\n",
       "      <th>pop_end</th>\n",
       "      <th>abs_increase</th>\n",
       "      <th>per</th>\n",
       "    </tr>\n",
       "  </thead>\n",
       "  <tbody>\n",
       "    <tr>\n",
       "      <th>180</th>\n",
       "      <td>......0261 Zürich</td>\n",
       "      <td>402762</td>\n",
       "      <td>5289</td>\n",
       "      <td>3486</td>\n",
       "      <td>1803</td>\n",
       "      <td>35044</td>\n",
       "      <td>28684</td>\n",
       "      <td>6360</td>\n",
       "      <td>-1684</td>\n",
       "      <td>409241</td>\n",
       "      <td>6479</td>\n",
       "      <td>1.608642</td>\n",
       "    </tr>\n",
       "    <tr>\n",
       "      <th>2320</th>\n",
       "      <td>......6621 Genève</td>\n",
       "      <td>198979</td>\n",
       "      <td>2434</td>\n",
       "      <td>1397</td>\n",
       "      <td>1037</td>\n",
       "      <td>22666</td>\n",
       "      <td>20032</td>\n",
       "      <td>2634</td>\n",
       "      <td>-2102</td>\n",
       "      <td>200548</td>\n",
       "      <td>1569</td>\n",
       "      <td>0.788525</td>\n",
       "    </tr>\n",
       "    <tr>\n",
       "      <th>992</th>\n",
       "      <td>......2701 Basel</td>\n",
       "      <td>171017</td>\n",
       "      <td>1923</td>\n",
       "      <td>1846</td>\n",
       "      <td>77</td>\n",
       "      <td>11349</td>\n",
       "      <td>11000</td>\n",
       "      <td>349</td>\n",
       "      <td>70</td>\n",
       "      <td>171513</td>\n",
       "      <td>496</td>\n",
       "      <td>0.290030</td>\n",
       "    </tr>\n",
       "    <tr>\n",
       "      <th>1961</th>\n",
       "      <td>......5586 Lausanne</td>\n",
       "      <td>137810</td>\n",
       "      <td>1733</td>\n",
       "      <td>997</td>\n",
       "      <td>736</td>\n",
       "      <td>14233</td>\n",
       "      <td>14031</td>\n",
       "      <td>202</td>\n",
       "      <td>157</td>\n",
       "      <td>138905</td>\n",
       "      <td>1095</td>\n",
       "      <td>0.794572</td>\n",
       "    </tr>\n",
       "    <tr>\n",
       "      <th>376</th>\n",
       "      <td>......0351 Bern</td>\n",
       "      <td>133115</td>\n",
       "      <td>1689</td>\n",
       "      <td>1276</td>\n",
       "      <td>413</td>\n",
       "      <td>11325</td>\n",
       "      <td>10384</td>\n",
       "      <td>941</td>\n",
       "      <td>-671</td>\n",
       "      <td>133798</td>\n",
       "      <td>683</td>\n",
       "      <td>0.513090</td>\n",
       "    </tr>\n",
       "  </tbody>\n",
       "</table>\n",
       "</div>"
      ],
      "text/plain": [
       "                  commune  pop_start  birth  death  natrual_increase  arrive  \\\n",
       "180     ......0261 Zürich     402762   5289   3486              1803   35044   \n",
       "2320    ......6621 Genève     198979   2434   1397              1037   22666   \n",
       "992      ......2701 Basel     171017   1923   1846                77   11349   \n",
       "1961  ......5586 Lausanne     137810   1733    997               736   14233   \n",
       "376       ......0351 Bern     133115   1689   1276               413   11325   \n",
       "\n",
       "      depart  migration  divergence  pop_end  abs_increase       per  \n",
       "180    28684       6360       -1684   409241          6479  1.608642  \n",
       "2320   20032       2634       -2102   200548          1569  0.788525  \n",
       "992    11000        349          70   171513           496  0.290030  \n",
       "1961   14031        202         157   138905          1095  0.794572  \n",
       "376    10384        941        -671   133798           683  0.513090  "
      ]
     },
     "execution_count": 12,
     "metadata": {},
     "output_type": "execute_result"
    }
   ],
   "source": [
    "commune_ = communes[communes.commune.str.contains('\\d{4}')==True] # Filtering the data only for the communes\n",
    "urban = commune_[commune_['pop_end'] > 4000].sort_values(by='pop_end', ascending=False) # Defining urban population\n",
    "rural = commune_[commune_['pop_end'] <= 4000].sort_values(by='pop_end', ascending=False) # Defining rural population\n",
    "urban.head()"
   ]
  },
  {
   "cell_type": "code",
   "execution_count": 13,
   "metadata": {},
   "outputs": [
    {
     "data": {
      "text/plain": [
       "count       512.000000\n",
       "mean      12037.712891\n",
       "std       24204.884341\n",
       "min        4017.000000\n",
       "25%        5044.000000\n",
       "50%        6927.000000\n",
       "75%       11405.250000\n",
       "max      409241.000000\n",
       "Name: pop_end, dtype: float64"
      ]
     },
     "execution_count": 13,
     "metadata": {},
     "output_type": "execute_result"
    }
   ],
   "source": [
    "urban.pop_end.describe()"
   ]
  },
  {
   "cell_type": "code",
   "execution_count": 14,
   "metadata": {},
   "outputs": [
    {
     "data": {
      "text/html": [
       "<div>\n",
       "<style scoped>\n",
       "    .dataframe tbody tr th:only-of-type {\n",
       "        vertical-align: middle;\n",
       "    }\n",
       "\n",
       "    .dataframe tbody tr th {\n",
       "        vertical-align: top;\n",
       "    }\n",
       "\n",
       "    .dataframe thead th {\n",
       "        text-align: right;\n",
       "    }\n",
       "</style>\n",
       "<table border=\"1\" class=\"dataframe\">\n",
       "  <thead>\n",
       "    <tr style=\"text-align: right;\">\n",
       "      <th></th>\n",
       "      <th>commune</th>\n",
       "      <th>pop_start</th>\n",
       "      <th>birth</th>\n",
       "      <th>death</th>\n",
       "      <th>natrual_increase</th>\n",
       "      <th>arrive</th>\n",
       "      <th>depart</th>\n",
       "      <th>migration</th>\n",
       "      <th>divergence</th>\n",
       "      <th>pop_end</th>\n",
       "      <th>abs_increase</th>\n",
       "      <th>per</th>\n",
       "    </tr>\n",
       "  </thead>\n",
       "  <tbody>\n",
       "    <tr>\n",
       "      <th>232</th>\n",
       "      <td>......0739 Ipsach</td>\n",
       "      <td>4015</td>\n",
       "      <td>26</td>\n",
       "      <td>28</td>\n",
       "      <td>-2</td>\n",
       "      <td>246</td>\n",
       "      <td>257</td>\n",
       "      <td>-11</td>\n",
       "      <td>-6</td>\n",
       "      <td>3996</td>\n",
       "      <td>-19</td>\n",
       "      <td>-0.473225</td>\n",
       "    </tr>\n",
       "    <tr>\n",
       "      <th>2183</th>\n",
       "      <td>......6154 Port-Valais</td>\n",
       "      <td>3937</td>\n",
       "      <td>30</td>\n",
       "      <td>21</td>\n",
       "      <td>9</td>\n",
       "      <td>518</td>\n",
       "      <td>450</td>\n",
       "      <td>68</td>\n",
       "      <td>-19</td>\n",
       "      <td>3995</td>\n",
       "      <td>58</td>\n",
       "      <td>1.473203</td>\n",
       "    </tr>\n",
       "    <tr>\n",
       "      <th>1566</th>\n",
       "      <td>......4303 Böttstein</td>\n",
       "      <td>3942</td>\n",
       "      <td>40</td>\n",
       "      <td>35</td>\n",
       "      <td>5</td>\n",
       "      <td>304</td>\n",
       "      <td>266</td>\n",
       "      <td>38</td>\n",
       "      <td>1</td>\n",
       "      <td>3986</td>\n",
       "      <td>44</td>\n",
       "      <td>1.116185</td>\n",
       "    </tr>\n",
       "    <tr>\n",
       "      <th>638</th>\n",
       "      <td>......1205 Bürglen (UR)</td>\n",
       "      <td>4021</td>\n",
       "      <td>44</td>\n",
       "      <td>39</td>\n",
       "      <td>5</td>\n",
       "      <td>180</td>\n",
       "      <td>226</td>\n",
       "      <td>-46</td>\n",
       "      <td>2</td>\n",
       "      <td>3982</td>\n",
       "      <td>-39</td>\n",
       "      <td>-0.969908</td>\n",
       "    </tr>\n",
       "    <tr>\n",
       "      <th>2148</th>\n",
       "      <td>......6082 Ayent</td>\n",
       "      <td>3935</td>\n",
       "      <td>35</td>\n",
       "      <td>40</td>\n",
       "      <td>-5</td>\n",
       "      <td>269</td>\n",
       "      <td>228</td>\n",
       "      <td>41</td>\n",
       "      <td>4</td>\n",
       "      <td>3975</td>\n",
       "      <td>40</td>\n",
       "      <td>1.016518</td>\n",
       "    </tr>\n",
       "  </tbody>\n",
       "</table>\n",
       "</div>"
      ],
      "text/plain": [
       "                      commune  pop_start  birth  death  natrual_increase  \\\n",
       "232         ......0739 Ipsach       4015     26     28                -2   \n",
       "2183   ......6154 Port-Valais       3937     30     21                 9   \n",
       "1566     ......4303 Böttstein       3942     40     35                 5   \n",
       "638   ......1205 Bürglen (UR)       4021     44     39                 5   \n",
       "2148         ......6082 Ayent       3935     35     40                -5   \n",
       "\n",
       "      arrive  depart  migration  divergence  pop_end  abs_increase       per  \n",
       "232      246     257        -11          -6     3996           -19 -0.473225  \n",
       "2183     518     450         68         -19     3995            58  1.473203  \n",
       "1566     304     266         38           1     3986            44  1.116185  \n",
       "638      180     226        -46           2     3982           -39 -0.969908  \n",
       "2148     269     228         41           4     3975            40  1.016518  "
      ]
     },
     "execution_count": 14,
     "metadata": {},
     "output_type": "execute_result"
    }
   ],
   "source": [
    "rural.head()"
   ]
  },
  {
   "cell_type": "code",
   "execution_count": 15,
   "metadata": {},
   "outputs": [
    {
     "data": {
      "text/plain": [
       "count    1728.000000\n",
       "mean     1343.067708\n",
       "std      1003.467173\n",
       "min        12.000000\n",
       "25%       529.250000\n",
       "50%      1066.500000\n",
       "75%      1947.000000\n",
       "max      3996.000000\n",
       "Name: pop_end, dtype: float64"
      ]
     },
     "execution_count": 15,
     "metadata": {},
     "output_type": "execute_result"
    }
   ],
   "source": [
    "rural.pop_end.describe()"
   ]
  },
  {
   "cell_type": "markdown",
   "metadata": {},
   "source": [
    "From the table above we can observe that the first histogram has several outliers larger than 50.000 (10 to be precise) that cannot be seen on the histogram and the biggest one with a value of 409.241 (which is the commune of Zurich). \n",
    "\n",
    "Furthermore, we can count how many communes belong to each category and how many people does each one have to provide our final conclusion. "
   ]
  },
  {
   "cell_type": "code",
   "execution_count": 16,
   "metadata": {},
   "outputs": [
    {
     "name": "stdout",
     "output_type": "stream",
     "text": [
      "Urban population in Switzerland: 6,163,309 or 72.65%\n",
      "Rural population in Switzerland: 2,320,821 or 27.35%\n",
      "Number of urban communes in Switzerland: 512 or 22.86%\n",
      "Number of rural communes in Switzerland: 1,728 or 77.14%\n"
     ]
    }
   ],
   "source": [
    "print('Urban population in Switzerland: {:,} or {:2.2%}'.format(urban.pop_end.sum(),urban.pop_end.sum()/commune_.pop_end.sum()))\n",
    "print('Rural population in Switzerland: {:,} or {:2.2%}'.format(rural.pop_end.sum(),rural.pop_end.sum()/commune_.pop_end.sum()))\n",
    "print('Number of urban communes in Switzerland: {:,} or {:2.2%}'.format(urban.pop_end.count(),urban.pop_end.count()/commune_.pop_end.count()))\n",
    "print('Number of rural communes in Switzerland: {:,} or {:2.2%}'.format(rural.pop_end.count(),rural.pop_end.count()/commune_.pop_end.count()))"
   ]
  },
  {
   "cell_type": "markdown",
   "metadata": {},
   "source": [
    "In general, theese histograms and datasets tell us that the number of rural communes (77%) in Switzerland is greater than urban communes (23%), but the population is completely opposite, namely around 73% of the population in Switzerland lives in urban areas (if urban and rural areas are defined as we defined them), and around 27% of the population in Switzerland lives in rural areas."
   ]
  },
  {
   "cell_type": "markdown",
   "metadata": {},
   "source": [
    "__C)__ Create the figures (b) and (d) using the data extracted for task 1B. For Fig.(b), represent two histograms using two different bin sizes and provide a brief description of the results. What does this tell you about the relationship between the two variables, namely the frequency of each bin and the value (i.e. population in case of the communal data) for each bin?"
   ]
  },
  {
   "cell_type": "markdown",
   "metadata": {},
   "source": [
    "First we extract the data from our first histogram in variables bins(population on x axis) and hist(counts on y axis) for the first case of 25 bins and we represent the first loglog scale histogram."
   ]
  },
  {
   "cell_type": "code",
   "execution_count": 17,
   "metadata": {},
   "outputs": [
    {
     "data": {
      "image/png": "[encoded data removed]",
      "text/plain": [
       "<Figure size 432x288 with 1 Axes>"
      ]
     },
     "metadata": {},
     "output_type": "display_data"
    }
   ],
   "source": [
    "hist, bins, _ = plt.hist(commune_.pop_end, bins=25, rwidth = 0.8, color='#607c8e') # Extract hist and bins"
   ]
  },
  {
   "cell_type": "code",
   "execution_count": 18,
   "metadata": {},
   "outputs": [
    {
     "data": {
      "image/png": "[encoded data removed]",
      "text/plain": [
       "<Figure size 720x288 with 2 Axes>"
      ]
     },
     "metadata": {},
     "output_type": "display_data"
    }
   ],
   "source": [
    "fig, axes = plt.subplots(1, 2, figsize=(10,4))\n",
    "      \n",
    "axes[0].plot(bins[:-1],hist,color=\"blue\", lw=2, ls='--') # Plot of the first histogram (normal scale)\n",
    "axes[0].set_title(\"Normal scale\")\n",
    "axes[0].set_xlabel(\"Population\")\n",
    "axes[0].set_ylabel(\"Counts\")\n",
    "axes[0].grid()\n",
    "\n",
    "axes[1].loglog(bins[:-1],hist/sum(hist),color=\"red\", lw=2, ls='-') # Plot of the first histogram (loglog scale)\n",
    "axes[1].set_title(\"Logarithmic scale\")                             # Y-axes values are represented as '%'\n",
    "axes[1].set_xlabel(\"Population\")\n",
    "axes[1].set_ylabel(\"Proportion\")\n",
    "axes[1].grid()\n",
    "\n",
    "fig.suptitle(\"Population counts in communes\", fontsize=16)\n",
    "\n",
    "fig.savefig(\"1.C Population counts in communes 25 bins.png\")"
   ]
  },
  {
   "cell_type": "markdown",
   "metadata": {},
   "source": [
    "Here we display the second case which consists of 500 bins to demonstrate the difference in the results."
   ]
  },
  {
   "cell_type": "code",
   "execution_count": 19,
   "metadata": {},
   "outputs": [
    {
     "data": {
      "image/png": "[encoded data removed]",
      "text/plain": [
       "<Figure size 432x288 with 1 Axes>"
      ]
     },
     "metadata": {},
     "output_type": "display_data"
    }
   ],
   "source": [
    "hist1, bins1, _ = plt.hist(commune_.pop_end, bins=500, rwidth = 0.8, color='#607c8e') # Extract hist and bins"
   ]
  },
  {
   "cell_type": "code",
   "execution_count": 20,
   "metadata": {},
   "outputs": [
    {
     "data": {
      "image/png": "[encoded data removed]",
      "text/plain": [
       "<Figure size 720x288 with 2 Axes>"
      ]
     },
     "metadata": {},
     "output_type": "display_data"
    }
   ],
   "source": [
    "fig, axes = plt.subplots(1, 2, figsize=(10,4))\n",
    "      \n",
    "axes[0].plot(bins1[:-1],hist1,color=\"blue\", lw=2, ls='--') # Plot of the second histogram (normal scale)\n",
    "axes[0].set_title(\"Normal scale\")\n",
    "axes[0].set_xlabel(\"Population\")\n",
    "axes[0].set_ylabel(\"Counts\")\n",
    "axes[0].grid()\n",
    "\n",
    "axes[1].loglog(bins1[:-1],hist1/sum(hist1),color=\"red\", lw=2, ls='-') # Plot of the second histogram (loglog scale)\n",
    "axes[1].set_title(\"Logarithmic scale\")                                # Y-axes values are represented as '%'\n",
    "axes[1].set_xlabel(\"Population\")\n",
    "axes[1].set_ylabel(\"Proportion\")\n",
    "axes[1].grid()\n",
    "\n",
    "fig.suptitle(\"Population counts in communes\", fontsize=16)\n",
    "\n",
    "fig.savefig(\"1.C Population counts in communes 500 bins.png\")"
   ]
  },
  {
   "cell_type": "markdown",
   "metadata": {},
   "source": [
    "We represent two histograms using two different bin sizes to observe the power law relationship between the frequency of each bin and the population in communes. We notice that when we use more bins we get much more clear representation of the frequency of population in communes and that the distribution follows a power law. We can state that at the right-hand end of the distribution the fluctuations in the bin counts are large due to the fact that each bin only has a few samples in it and this appears as a noisy curve on the plot. In order to avoid theese fluctuations we can remove the data in this part which is not advisable or display a distribution with less bars and see the overall distribution. And here we present a third case where we display 10 bins to demonstrate the difference in the results."
   ]
  },
  {
   "cell_type": "code",
   "execution_count": 21,
   "metadata": {},
   "outputs": [
    {
     "data": {
      "image/png": "[encoded data removed]",
      "text/plain": [
       "<Figure size 432x288 with 1 Axes>"
      ]
     },
     "metadata": {},
     "output_type": "display_data"
    }
   ],
   "source": [
    "hist2, bins2, _ = plt.hist(commune_.pop_end, bins=10, rwidth = 0.8, color='#607c8e') # Extract hist and bins"
   ]
  },
  {
   "cell_type": "code",
   "execution_count": 22,
   "metadata": {},
   "outputs": [
    {
     "data": {
      "image/png": "[encoded data removed]",
      "text/plain": [
       "<Figure size 720x288 with 2 Axes>"
      ]
     },
     "metadata": {},
     "output_type": "display_data"
    }
   ],
   "source": [
    "fig, axes = plt.subplots(1, 2, figsize=(10,4))\n",
    "      \n",
    "axes[0].plot(bins2[:-1],hist2,color=\"blue\", lw=2, ls='--') # Plot of the third histogram (normal scale)\n",
    "axes[0].set_title(\"Normal scale\")\n",
    "axes[0].set_xlabel(\"Population\")\n",
    "axes[0].set_ylabel(\"Counts\")\n",
    "axes[0].grid()\n",
    "\n",
    "axes[1].loglog(bins2[:-1],hist2/sum(hist1),color=\"red\", lw=2, ls='-') # Plot of the third histogram (loglog scale)\n",
    "axes[1].set_title(\"Logarithmic scale\")                                # Y-axes values are represented as '%'\n",
    "axes[1].set_xlabel(\"Population\")\n",
    "axes[1].set_ylabel(\"Proportion\")\n",
    "axes[1].grid()\n",
    "\n",
    "fig.suptitle(\"Population counts in communes\", fontsize=16)\n",
    "\n",
    "fig.savefig(\"1.C Population counts in communes 10 bins.png\")"
   ]
  },
  {
   "cell_type": "markdown",
   "metadata": {},
   "source": [
    "Here we give the cumulative representation, as shown in Fig.(d), in which the y-axis represents the number of data points with values greater than y."
   ]
  },
  {
   "cell_type": "code",
   "execution_count": 23,
   "metadata": {},
   "outputs": [
    {
     "data": {
      "image/png": "[encoded data removed]",
      "text/plain": [
       "<Figure size 432x288 with 1 Axes>"
      ]
     },
     "metadata": {},
     "output_type": "display_data"
    }
   ],
   "source": [
    "cumul = [sum(hist[i:]) for i in range(len(hist))] # Calculate the cumulative values for case with 25 bins\n",
    "cumul[-1]=0\n",
    "\n",
    "fig, axes = plt.subplots(figsize=(6,4))\n",
    "      \n",
    "axes.loglog(bins[:-1],cumul/sum(cumul),color=\"red\", lw=2, ls='-') # Plot of the histogram (loglog scale)\n",
    "axes.set_title(\"Logarithmic scale\")                                \n",
    "axes.set_xlabel(\"Population\")\n",
    "axes.set_ylabel(\"Proportion\")\n",
    "axes.grid()\n",
    "\n",
    "fig.suptitle(\"Cumulative representation of population counts in communes\", fontsize=16)\n",
    "\n",
    "fig.savefig(\"1.C Cumulative representation 25 bins.png\")"
   ]
  },
  {
   "cell_type": "markdown",
   "metadata": {},
   "source": [
    "## Task 2: Parties visualized\n",
    "\n",
    "We provide a spreadsheet, `data/voters.xls`, (again) collected from [admin.ch](https://www.bfs.admin.ch/bfs/fr/home/statistiques/politique/elections/conseil-national/force-partis.assetdetail.217195.html), which contains the percentage of voters for each party and for each canton. For the following task, we will focus on the period 2014-2018 (the first page of the spreadsheet). Please report any assumptions you make regarding outliers, missing values, etc. Notice that data is missing for two cantons, namely Appenzell Ausserrhoden and Graubünden, and your visualisations should include data for every other canton.\n",
    "\n",
    "\n",
    "__A)__ For the period 2014-2018 and for each canton, visualize, on the map, **the percentage of voters** in that canton who voted for the party [`UDC`](https://en.wikipedia.org/wiki/Swiss_People%27s_Party) (Union démocratique du centre). Does this party seem to be more popular in the German-speaking part, the French-speaking part, or the Italian-speaking part?\n",
    "\n",
    "__B)__ For the same period, now visualize **the number of residents** in each canton who voted for UDC.\n",
    "\n",
    "__C)__ Which one of the two visualizations above would be more informative in case of a national election with majority voting (i.e. when a party needs to have the largest number of citizens voting for it among all parties)? Which one is more informative for the cantonal parliament elections?\n",
    "\n",
    "For part B, you can use the `data/national_council_elections.xslx` file ([guess where we got it from](https://www.bfs.admin.ch/bfs/fr/home/statistiques/politique/elections/conseil-national/participation.assetdetail.81625.html)) to have the voting-eligible population of each canton in 2015."
   ]
  },
  {
   "cell_type": "markdown",
   "metadata": {
    "collapsed": true
   },
   "source": [
    "Load `voters.xls` as voters and rename the columns with party names. This dataframe includes canton name, voting year, voting porprotion compared to registered voters (named as 'participation') and also percentage of voters for each party."
   ]
  },
  {
   "cell_type": "code",
   "execution_count": 24,
   "metadata": {},
   "outputs": [
    {
     "data": {
      "text/html": [
       "<div>\n",
       "<style scoped>\n",
       "    .dataframe tbody tr th:only-of-type {\n",
       "        vertical-align: middle;\n",
       "    }\n",
       "\n",
       "    .dataframe tbody tr th {\n",
       "        vertical-align: top;\n",
       "    }\n",
       "\n",
       "    .dataframe thead th {\n",
       "        text-align: right;\n",
       "    }\n",
       "</style>\n",
       "<table border=\"1\" class=\"dataframe\">\n",
       "  <thead>\n",
       "    <tr style=\"text-align: right;\">\n",
       "      <th></th>\n",
       "      <th>index</th>\n",
       "      <th>canton</th>\n",
       "      <th>year</th>\n",
       "      <th>participation</th>\n",
       "      <th>PLR</th>\n",
       "      <th>PDC</th>\n",
       "      <th>PS</th>\n",
       "      <th>UDC</th>\n",
       "      <th>PLS</th>\n",
       "      <th>PEV</th>\n",
       "      <th>...</th>\n",
       "      <th>PSA</th>\n",
       "      <th>PES</th>\n",
       "      <th>AVF</th>\n",
       "      <th>Sol</th>\n",
       "      <th>DS</th>\n",
       "      <th>UDF</th>\n",
       "      <th>Lega</th>\n",
       "      <th>MCR</th>\n",
       "      <th>Autres</th>\n",
       "      <th>Total</th>\n",
       "    </tr>\n",
       "  </thead>\n",
       "  <tbody>\n",
       "    <tr>\n",
       "      <th>0</th>\n",
       "      <td>0</td>\n",
       "      <td>Zurich</td>\n",
       "      <td>2015.0</td>\n",
       "      <td>32.652497</td>\n",
       "      <td>17.327820</td>\n",
       "      <td>4.878712</td>\n",
       "      <td>19.716444</td>\n",
       "      <td>30.023215</td>\n",
       "      <td>NaN</td>\n",
       "      <td>4.271767</td>\n",
       "      <td>...</td>\n",
       "      <td>NaN</td>\n",
       "      <td>7.218776</td>\n",
       "      <td>2.977664</td>\n",
       "      <td>NaN</td>\n",
       "      <td>NaN</td>\n",
       "      <td>2.662277</td>\n",
       "      <td>NaN</td>\n",
       "      <td>NaN</td>\n",
       "      <td>0.669707</td>\n",
       "      <td>100</td>\n",
       "    </tr>\n",
       "    <tr>\n",
       "      <th>1</th>\n",
       "      <td>1</td>\n",
       "      <td>Berne</td>\n",
       "      <td>2018.0</td>\n",
       "      <td>30.516313</td>\n",
       "      <td>11.717910</td>\n",
       "      <td>0.671415</td>\n",
       "      <td>22.328775</td>\n",
       "      <td>26.760869</td>\n",
       "      <td>NaN</td>\n",
       "      <td>6.172897</td>\n",
       "      <td>...</td>\n",
       "      <td>0.681873</td>\n",
       "      <td>10.104467</td>\n",
       "      <td>0.495841</td>\n",
       "      <td>NaN</td>\n",
       "      <td>0.179432</td>\n",
       "      <td>3.710624</td>\n",
       "      <td>NaN</td>\n",
       "      <td>NaN</td>\n",
       "      <td>0.912781</td>\n",
       "      <td>100</td>\n",
       "    </tr>\n",
       "    <tr>\n",
       "      <th>2</th>\n",
       "      <td>2</td>\n",
       "      <td>Lucerne</td>\n",
       "      <td>2015.0</td>\n",
       "      <td>38.741267</td>\n",
       "      <td>21.039516</td>\n",
       "      <td>30.862513</td>\n",
       "      <td>11.848915</td>\n",
       "      <td>24.115646</td>\n",
       "      <td>NaN</td>\n",
       "      <td>0.199143</td>\n",
       "      <td>...</td>\n",
       "      <td>NaN</td>\n",
       "      <td>6.700011</td>\n",
       "      <td>NaN</td>\n",
       "      <td>NaN</td>\n",
       "      <td>NaN</td>\n",
       "      <td>NaN</td>\n",
       "      <td>NaN</td>\n",
       "      <td>NaN</td>\n",
       "      <td>0.036129</td>\n",
       "      <td>100</td>\n",
       "    </tr>\n",
       "    <tr>\n",
       "      <th>3</th>\n",
       "      <td>3</td>\n",
       "      <td>Uri 1)</td>\n",
       "      <td>2016.0</td>\n",
       "      <td>61.989056</td>\n",
       "      <td>26.856698</td>\n",
       "      <td>31.298814</td>\n",
       "      <td>12.984966</td>\n",
       "      <td>24.053191</td>\n",
       "      <td>NaN</td>\n",
       "      <td>NaN</td>\n",
       "      <td>...</td>\n",
       "      <td>NaN</td>\n",
       "      <td>2.378061</td>\n",
       "      <td>NaN</td>\n",
       "      <td>NaN</td>\n",
       "      <td>NaN</td>\n",
       "      <td>NaN</td>\n",
       "      <td>NaN</td>\n",
       "      <td>NaN</td>\n",
       "      <td>2.428270</td>\n",
       "      <td>100</td>\n",
       "    </tr>\n",
       "    <tr>\n",
       "      <th>4</th>\n",
       "      <td>4</td>\n",
       "      <td>Schwytz</td>\n",
       "      <td>2016.0</td>\n",
       "      <td>37.747088</td>\n",
       "      <td>21.628996</td>\n",
       "      <td>27.167707</td>\n",
       "      <td>12.925363</td>\n",
       "      <td>33.115090</td>\n",
       "      <td>NaN</td>\n",
       "      <td>0.304428</td>\n",
       "      <td>...</td>\n",
       "      <td>NaN</td>\n",
       "      <td>0.800215</td>\n",
       "      <td>NaN</td>\n",
       "      <td>NaN</td>\n",
       "      <td>NaN</td>\n",
       "      <td>NaN</td>\n",
       "      <td>NaN</td>\n",
       "      <td>NaN</td>\n",
       "      <td>1.513578</td>\n",
       "      <td>100</td>\n",
       "    </tr>\n",
       "  </tbody>\n",
       "</table>\n",
       "<p>5 rows × 24 columns</p>\n",
       "</div>"
      ],
      "text/plain": [
       "   index   canton    year  participation        PLR        PDC         PS  \\\n",
       "0      0   Zurich  2015.0      32.652497  17.327820   4.878712  19.716444   \n",
       "1      1   Berne   2018.0      30.516313  11.717910   0.671415  22.328775   \n",
       "2      2  Lucerne  2015.0      38.741267  21.039516  30.862513  11.848915   \n",
       "3      3   Uri 1)  2016.0      61.989056  26.856698  31.298814  12.984966   \n",
       "4      4  Schwytz  2016.0      37.747088  21.628996  27.167707  12.925363   \n",
       "\n",
       "         UDC  PLS       PEV  ...         PSA        PES       AVF  Sol  \\\n",
       "0  30.023215  NaN  4.271767  ...         NaN   7.218776  2.977664  NaN   \n",
       "1  26.760869  NaN  6.172897  ...    0.681873  10.104467  0.495841  NaN   \n",
       "2  24.115646  NaN  0.199143  ...         NaN   6.700011       NaN  NaN   \n",
       "3  24.053191  NaN       NaN  ...         NaN   2.378061       NaN  NaN   \n",
       "4  33.115090  NaN  0.304428  ...         NaN   0.800215       NaN  NaN   \n",
       "\n",
       "         DS       UDF  Lega  MCR    Autres  Total  \n",
       "0       NaN  2.662277   NaN  NaN  0.669707    100  \n",
       "1  0.179432  3.710624   NaN  NaN  0.912781    100  \n",
       "2       NaN       NaN   NaN  NaN  0.036129    100  \n",
       "3       NaN       NaN   NaN  NaN  2.428270    100  \n",
       "4       NaN       NaN   NaN  NaN  1.513578    100  \n",
       "\n",
       "[5 rows x 24 columns]"
      ]
     },
     "execution_count": 24,
     "metadata": {},
     "output_type": "execute_result"
    }
   ],
   "source": [
    "# data from 2014-2018\n",
    "voters = pd.read_excel('data/voters.xls',sheet_name = 0,skiprows = 5,nrows = 30)\n",
    "voters = voters.dropna(axis = 1,how = 'all')\n",
    "voters = voters.dropna(axis = 0,how = 'all')\n",
    "names = ['canton','year','participation','PLR','PDC','PS','UDC','PLS','PEV','PCS','PVL','PBD','PST','PSA','PES','AVF','Sol','DS','UDF','Lega','MCR','Autres','Total']\n",
    "voters.columns = names\n",
    "voters = voters.reset_index()\n",
    "voters.head()"
   ]
  },
  {
   "cell_type": "markdown",
   "metadata": {},
   "source": [
    "Load `national_council_elections.xlsx` as election. The dataframe election includes canton name, total number of registered voters, number of participate voters and the participation."
   ]
  },
  {
   "cell_type": "code",
   "execution_count": 25,
   "metadata": {},
   "outputs": [
    {
     "data": {
      "text/html": [
       "<div>\n",
       "<style scoped>\n",
       "    .dataframe tbody tr th:only-of-type {\n",
       "        vertical-align: middle;\n",
       "    }\n",
       "\n",
       "    .dataframe tbody tr th {\n",
       "        vertical-align: top;\n",
       "    }\n",
       "\n",
       "    .dataframe thead th {\n",
       "        text-align: right;\n",
       "    }\n",
       "</style>\n",
       "<table border=\"1\" class=\"dataframe\">\n",
       "  <thead>\n",
       "    <tr style=\"text-align: right;\">\n",
       "      <th></th>\n",
       "      <th>canton</th>\n",
       "      <th>regis_voter</th>\n",
       "      <th>voter</th>\n",
       "      <th>participation</th>\n",
       "    </tr>\n",
       "  </thead>\n",
       "  <tbody>\n",
       "    <tr>\n",
       "      <th>0</th>\n",
       "      <td>Zurich</td>\n",
       "      <td>907623</td>\n",
       "      <td>428837</td>\n",
       "      <td>47.248362</td>\n",
       "    </tr>\n",
       "    <tr>\n",
       "      <th>1</th>\n",
       "      <td>Berne</td>\n",
       "      <td>729203</td>\n",
       "      <td>357770</td>\n",
       "      <td>49.063155</td>\n",
       "    </tr>\n",
       "    <tr>\n",
       "      <th>2</th>\n",
       "      <td>Lucerne</td>\n",
       "      <td>271143</td>\n",
       "      <td>138096</td>\n",
       "      <td>50.931059</td>\n",
       "    </tr>\n",
       "    <tr>\n",
       "      <th>3</th>\n",
       "      <td>Uri 1)</td>\n",
       "      <td>26414</td>\n",
       "      <td>15091</td>\n",
       "      <td>57.132581</td>\n",
       "    </tr>\n",
       "    <tr>\n",
       "      <th>4</th>\n",
       "      <td>Schwytz</td>\n",
       "      <td>102145</td>\n",
       "      <td>54857</td>\n",
       "      <td>53.705027</td>\n",
       "    </tr>\n",
       "  </tbody>\n",
       "</table>\n",
       "</div>"
      ],
      "text/plain": [
       "    canton  regis_voter   voter  participation\n",
       "0   Zurich       907623  428837      47.248362\n",
       "1    Berne       729203  357770      49.063155\n",
       "2  Lucerne       271143  138096      50.931059\n",
       "3   Uri 1)        26414   15091      57.132581\n",
       "4  Schwytz       102145   54857      53.705027"
      ]
     },
     "execution_count": 25,
     "metadata": {},
     "output_type": "execute_result"
    }
   ],
   "source": [
    "# data from 2015\n",
    "election = pd.read_excel('data/national_council_elections.xlsx',sheet_name = 0,skiprows = 8,nrows = 26)\n",
    "names = ['canton','regis_voter','voter','participation']\n",
    "election.columns = names\n",
    "election.head()"
   ]
  },
  {
   "cell_type": "markdown",
   "metadata": {},
   "source": [
    "Load `cantons.csv` as cantons and create a new dataframe named cantonvoter, which includes the canton code, canton voting rate for UDC and number of voters. Then we add a column named 'UDCvoters' to cantonvoter, which is created by multiplying UDC voting rate and the number of voters."
   ]
  },
  {
   "cell_type": "code",
   "execution_count": 26,
   "metadata": {},
   "outputs": [
    {
     "data": {
      "text/html": [
       "<div>\n",
       "<style scoped>\n",
       "    .dataframe tbody tr th:only-of-type {\n",
       "        vertical-align: middle;\n",
       "    }\n",
       "\n",
       "    .dataframe tbody tr th {\n",
       "        vertical-align: top;\n",
       "    }\n",
       "\n",
       "    .dataframe thead th {\n",
       "        text-align: right;\n",
       "    }\n",
       "</style>\n",
       "<table border=\"1\" class=\"dataframe\">\n",
       "  <thead>\n",
       "    <tr style=\"text-align: right;\">\n",
       "      <th></th>\n",
       "      <th>Code</th>\n",
       "      <th>UDC</th>\n",
       "      <th>voter</th>\n",
       "      <th>UDCvoter</th>\n",
       "    </tr>\n",
       "  </thead>\n",
       "  <tbody>\n",
       "    <tr>\n",
       "      <th>0</th>\n",
       "      <td>ZH</td>\n",
       "      <td>30.023215</td>\n",
       "      <td>428837</td>\n",
       "      <td>128751.0</td>\n",
       "    </tr>\n",
       "    <tr>\n",
       "      <th>1</th>\n",
       "      <td>BE</td>\n",
       "      <td>26.760869</td>\n",
       "      <td>357770</td>\n",
       "      <td>95742.0</td>\n",
       "    </tr>\n",
       "    <tr>\n",
       "      <th>2</th>\n",
       "      <td>LU</td>\n",
       "      <td>24.115646</td>\n",
       "      <td>138096</td>\n",
       "      <td>33303.0</td>\n",
       "    </tr>\n",
       "    <tr>\n",
       "      <th>3</th>\n",
       "      <td>UR</td>\n",
       "      <td>24.053191</td>\n",
       "      <td>15091</td>\n",
       "      <td>3630.0</td>\n",
       "    </tr>\n",
       "    <tr>\n",
       "      <th>4</th>\n",
       "      <td>SZ</td>\n",
       "      <td>33.115090</td>\n",
       "      <td>54857</td>\n",
       "      <td>18166.0</td>\n",
       "    </tr>\n",
       "  </tbody>\n",
       "</table>\n",
       "</div>"
      ],
      "text/plain": [
       "  Code        UDC   voter  UDCvoter\n",
       "0   ZH  30.023215  428837  128751.0\n",
       "1   BE  26.760869  357770   95742.0\n",
       "2   LU  24.115646  138096   33303.0\n",
       "3   UR  24.053191   15091    3630.0\n",
       "4   SZ  33.115090   54857   18166.0"
      ]
     },
     "execution_count": 26,
     "metadata": {},
     "output_type": "execute_result"
    }
   ],
   "source": [
    "cantons = pd.read_csv('data/cantons.csv')\n",
    "cantonvoter = pd.concat([cantons['Code'],voters['UDC'],election['voter']],axis=1)\n",
    "cantonvoter['UDCvoter'] = np.round(cantonvoter.UDC.get_values()*cantonvoter.voter.get_values()/100)\n",
    "cantonvoter.head()"
   ]
  },
  {
   "cell_type": "markdown",
   "metadata": {},
   "source": [
    "Next, after loading and creating the dataframe, we are going to visualize the voting result. Here we use choropleth to fill the canton with color RGB proportionally to data value (voting rate or number of voting residents). The darker the color, the larger the data value. \n",
    "\n",
    "As for the canton missing data (namely Appenzell Ausserrhoden and Graubünden), we fill in the canton with gray (RGB: #999999). Then we add pop up showing detailed infomation of each canton. \n",
    "\n",
    "Also, we outline different language speaking areas( French, German and Italian) with different line color (Blue, red and green respectively) so the user can see how the UDC voting result differ in different language speaking areas."
   ]
  },
  {
   "cell_type": "code",
   "execution_count": 27,
   "metadata": {},
   "outputs": [],
   "source": [
    "def color_mapCanton(canton,colormap,voterCol):\n",
    "    \"\"\"\n",
    "    \n",
    "    This function is used to return RGB value of corresponding data (voting ratio or voter number) according to input colormap.\n",
    "    \n",
    "    Parameters:\n",
    "        canton:\n",
    "        feature['ID'] from topojson. Here it is the code of canton. Eg. 'ZH' refers to Zurich.\n",
    "        \n",
    "        colormap:\n",
    "        The colormap created before.\n",
    "    \n",
    "        voterCol:\n",
    "        The column name of cantonvoter we want to plot. Eg. 'UDC' refers the ratio of UDC voters, and 'UDCvoter' refers to actual voter number.\n",
    "    \n",
    "    Returns:\n",
    "        RGB value in hex. Setting the fillColor in style_function of the polygon.\n",
    "    \n",
    "    \"\"\"\n",
    "    if np.isnan(cantonvoter.loc[(cantonvoter['Code']==canton)][voterCol]).get_values():\n",
    "        return '#999999'\n",
    "    # For the canton with nan we fill it with gray color.\n",
    "    else:\n",
    "        return colormap(cantonvoter.loc[(cantonvoter['Code']==canton)][voterCol].get_values())\n",
    "    # Fill the canton with RGB proportionally to data value."
   ]
  },
  {
   "cell_type": "code",
   "execution_count": 28,
   "metadata": {},
   "outputs": [],
   "source": [
    "def languages_border(canton,language):\n",
    "    \"\"\"\n",
    "    \n",
    "    Outline the border of French-, German-, and Italian speaking cantons by bolding the border.\n",
    "    \n",
    "    Parameters:\n",
    "        canton:\n",
    "        feature['ID'] from topojson. Here it is the code of canton. Eg. 'ZH' refers to Zurich.\n",
    "        \n",
    "        language:\n",
    "        The language user wants to outline. Eg. 'French', 'German' or 'Italian'\n",
    "    \n",
    "    Return:\n",
    "        The 'weight' in folium.Topojson.style_function, which controls the width of lines. \n",
    "        '2' means bolding and '0' means not drawing the line.\n",
    "        \n",
    "    \"\"\"\n",
    "    # cantons.loc[cantons['Official languages'] == language]['Code']\n",
    "    lang = cantons.loc[cantons['Code'] == canton]['Official languages'].str.contains(language).values[0]\n",
    "    if lang:\n",
    "        return 2\n",
    "    # For cantons in certain language speaking area, we bold its border.\n",
    "    else:\n",
    "        return 0\n",
    "    # For cantons not in the language speaking area, we do not draw its border."
   ]
  },
  {
   "cell_type": "code",
   "execution_count": 29,
   "metadata": {},
   "outputs": [],
   "source": [
    "def languages_cantons(topojson,language,line_color):\n",
    "    \"\"\"\n",
    "    \n",
    "    Outline the border of French-, German-, and Italian speaking cantons by bolding the border and emphasizing in different colors.\n",
    "    \n",
    "    Parameters:\n",
    "        topojson: \n",
    "        The topojson contains infomation of canton code, canton position and borders.\n",
    "        \n",
    "        language:\n",
    "        The language area we want to find.\n",
    "        \n",
    "        line_color:\n",
    "        The RGB value of color. Used to set the border color.\n",
    "        \n",
    "    Return:\n",
    "        Return folium.map.FeatureGroup layer, which can be added to map.\n",
    "    \n",
    "    \"\"\"\n",
    "    feature_group = folium.FeatureGroup(name=language,overlay = True,show = False)\n",
    "    folium.TopoJson(\n",
    "        topojson,object_path = 'objects.cantons',\n",
    "        style_function = lambda feature: {\n",
    "            'fillColor': '#999999',\n",
    "            'color' : line_color, # setting the border color\n",
    "            'weight' : languages_border(feature['id'],language), # setting the the line weight of canton borders\n",
    "            'fillOpacity': 0, # not filling cantons with color\n",
    "            'dashArray' : '5, 5'\n",
    "            }\n",
    "        ).add_to(feature_group)\n",
    "    return feature_group"
   ]
  },
  {
   "cell_type": "code",
   "execution_count": 30,
   "metadata": {},
   "outputs": [],
   "source": [
    "def datacolormap(voterCol,caption1):\n",
    "    \"\"\"\n",
    "    \n",
    "    Create linear colopmap for data.\n",
    "    \n",
    "    Parameter:\n",
    "        voterCol:\n",
    "        The column name of cantonvoter we want to plot. Eg. 'UDC' refers the ratio of UDC voters, \n",
    "        and 'UDCvoter' refers to actual voter number.\n",
    "        \n",
    "        caption1:\n",
    "        Part of the caption which will be shown below the colorbar.\n",
    "        \n",
    "    Return:\n",
    "        Return a linear colormap based on linear interpolation of a set of colors over given index.\n",
    "    \n",
    "    \"\"\"\n",
    "    color_range = ['#023858','#084081','#0868ac','#2b8cbe','#4eb3d3','#7bccc4','#a8ddb5','#ccebc5','#e0f3db','#f7fcf0','#fff7bc']\n",
    "    colormap = cm.LinearColormap(\n",
    "        color_range[::-1],\n",
    "        vmin =  0, \n",
    "        vmax = round(max(cantonvoter[voterCol])+1),\n",
    "        index = np.linspace(round(min(cantonvoter[voterCol])),round(max(cantonvoter[voterCol])+1),11),\n",
    "        caption = ''.join([caption1,' of voters for UDC in every canton'])\n",
    "    )\n",
    "    return colormap"
   ]
  },
  {
   "cell_type": "code",
   "execution_count": 31,
   "metadata": {},
   "outputs": [],
   "source": [
    "def visualization_UDCvoting(m,topojson,voterCol,caption,mapname):\n",
    "    \n",
    "    \"\"\"\n",
    "    \n",
    "    Visualizing the canton voting result to the party UDC and finally save the map as .html file.\n",
    "    \n",
    "    Parameters:\n",
    "        \n",
    "        m: \n",
    "        The original map onto which we add language area, pop-ups of detailed number of every canton and colormap.\n",
    "    \n",
    "        topojson:\n",
    "        The topojson contains infomation of canton code, canton position and borders.\n",
    "    \n",
    "        voterCol:\n",
    "        The column name of cantonvoter we want to plot. Eg. 'UDC' refers the ratio of UDC voters, and 'UDCvoter' refers to actual voter number.\n",
    "    \n",
    "        caption:\n",
    "        Part of the caption which will be shown below the colorbar.\n",
    "    \n",
    "        mapname:\n",
    "        Save the map in this mapname.\n",
    "    \n",
    "    \"\"\"\n",
    "\n",
    "    # Outline the border of French-, German-, and Italian speaking cantons, \n",
    "    # and color the outline with blue, red and green respectively.\n",
    "    French = languages_cantons(topojson,'French','#0000ff')\n",
    "    German = languages_cantons(topojson,'German','#ff0000')\n",
    "    Italian = languages_cantons(topojson,'Italian','#00ff00')\n",
    "\n",
    "    # Create the colormap to visualize the proportion/number different in selected cantonvoter column.\n",
    "    colormap1 = datacolormap(voterCol,caption)\n",
    "    \n",
    "    # Draw the choropleth for selected cantonvoter column.\n",
    "    vote_map = folium.FeatureGroup(name='Voting visulization',overlay = True,show = True)\n",
    "    \n",
    "    folium.TopoJson(\n",
    "        topojson1,object_path = 'objects.cantons',control = False,\n",
    "        style_function = lambda feature: {\n",
    "            'fillColor': color_mapCanton(feature['id'],colormap1,voterCol),\n",
    "            'color' : 'black',\n",
    "            'fillOpacity': 0.9,\n",
    "            'weight' : 1,\n",
    "            'dashArray' : '5, 5'\n",
    "            }\n",
    "        ).add_to(vote_map)\n",
    "\n",
    "    # Add pop up infomation (Eg. Voting ratio, number of residents) for each canton.\n",
    "    popup = folium.FeatureGroup(name='Pop-ups',overlay = True,show = True)\n",
    "\n",
    "    for data in topojson['objects']['cantons']['geometries']:\n",
    "        cantons_topo = copy.deepcopy(topojson)\n",
    "        cantons_topo['objects']['cantons']['geometries'] = [data]\n",
    "        canton_id = cantons_topo['objects']['cantons']['geometries'][0]['id']\n",
    "        if np.isnan(cantonvoter.loc[(cantonvoter['Code']==canton_id)].UDC).get_values():\n",
    "            canton_layer = folium.TopoJson(cantons_topo, 'objects.cantons', control = False,\n",
    "                                           show = False,\n",
    "                                          style_function = lambda feature:{\n",
    "                                              'fillOpacity':0,\n",
    "                                              'weight' : 0\n",
    "                                          })\n",
    "            canton_layer.add_child(folium.Tooltip(canton_id+': No data.'))\n",
    "            canton_layer.add_to(popup)\n",
    "        else:\n",
    "            if caption == 'Percentage':\n",
    "                rate = round(cantonvoter[cantonvoter['Code'] == canton_id][voterCol].values[0],3)\n",
    "                rate = str(rate)+'%'\n",
    "            else:\n",
    "                rate = int(cantonvoter[cantonvoter['Code'] == canton_id][voterCol].values[0])\n",
    "            canton_layer = folium.TopoJson(cantons_topo, 'objects.cantons', control = False, show = False,\n",
    "                                          style_function = lambda feature:{\n",
    "                                              'fillOpacity':0,\n",
    "                                              'weight' : 0\n",
    "                                          })\n",
    "            canton_layer.add_child(folium.Tooltip(canton_id+': '+str(rate)))\n",
    "            canton_layer.add_to(popup)\n",
    "    \n",
    "    # Add layers to the map.\n",
    "    vote_map.add_to(m)\n",
    "    popup.add_to(m)\n",
    "    colormap1.add_to(m)\n",
    "    French.add_to(m)\n",
    "    German.add_to(m)\n",
    "    Italian.add_to(m) \n",
    "    \n",
    "    folium.LayerControl(collapsed = True).add_to(m)\n",
    "    \n",
    "    # Save the map with layers.\n",
    "    folium.Map.save(m, mapname)"
   ]
  },
  {
   "cell_type": "markdown",
   "metadata": {},
   "source": [
    "The map we create is interactive. When you hover with mouse on the map, there will pop up a bubble with canton code and data of the this canton.(Eg. 'ZH: 30.023%' means the rate voting for UDC in Zurich is 30.023%, 'ZH: 128751' means the number of residents in Zurich voting for UDC is 128751.)\n",
    "\n",
    "And different language speaking area is outlined with different color, namely French in blue, German in red and Italian in green, corresponding to their national flag color and can be selected through the layers of the map.\n",
    "\n",
    "**ATTENTION**: Initially we show the choropleth of canton voting and the pop-up layer, where users can get the details on the map by hovering the mouse over the cantons. However, due to toggle order, if users want to display borders of different language speaking area (like French), they will need to choose the layer they want to display and to go back they need to cancel and toggle again the pop-up layers to show pop up information.\n",
    "\n",
    "**MAP A**"
   ]
  },
  {
   "cell_type": "code",
   "execution_count": 4,
   "metadata": {},
   "outputs": [
    {
     "data": {
      "text/plain": [
       "[{'type': 'Polygon',\n",
       "  'arcs': [[0, 1, 2, 3, 4, 5, 6, 7, 8, 9]],\n",
       "  'id': 'ZH',\n",
       "  'properties': {'name': 'Zürich'}},\n",
       " {'type': 'MultiPolygon',\n",
       "  'arcs': [[[10, 11, 12, 13, 14, 15, 16, 17, 18, 19, 20, 21, 22], [23], [24]],\n",
       "   [[25, 26]],\n",
       "   [[27]],\n",
       "   [[28, 29]]],\n",
       "  'id': 'BE',\n",
       "  'properties': {'name': 'Bern/Berne'}},\n",
       " {'type': 'Polygon',\n",
       "  'arcs': [[-12, 30, 31, 32, 33, 34]],\n",
       "  'id': 'LU',\n",
       "  'properties': {'name': 'Luzern'}},\n",
       " {'type': 'Polygon',\n",
       "  'arcs': [[35, 36, 37, 38, -16, 39, 40, 41]],\n",
       "  'id': 'UR',\n",
       "  'properties': {'name': 'Uri'}},\n",
       " {'type': 'Polygon',\n",
       "  'arcs': [[42, -33, 43, -1, 44, 45, 46, -42]],\n",
       "  'id': 'SZ',\n",
       "  'properties': {'name': 'Schwyz'}},\n",
       " {'type': 'MultiPolygon',\n",
       "  'arcs': [[[-13, -35, 47]], [[-15, 48, -40]]],\n",
       "  'id': 'OW',\n",
       "  'properties': {'name': 'Obwalden'}},\n",
       " {'type': 'Polygon',\n",
       "  'arcs': [[-34, -43, -41, -49, -14, -48]],\n",
       "  'id': 'NW',\n",
       "  'properties': {'name': 'Nidwalden'}},\n",
       " {'type': 'Polygon',\n",
       "  'arcs': [[49, -36, -47, 50, 51]],\n",
       "  'id': 'GL',\n",
       "  'properties': {'name': 'Glarus'}},\n",
       " {'type': 'Polygon',\n",
       "  'arcs': [[-32, 52, -2, -44]],\n",
       "  'id': 'ZG',\n",
       "  'properties': {'name': 'Zug'}},\n",
       " {'type': 'MultiPolygon',\n",
       "  'arcs': [[[53, 54, 55, -27, 56, -19], [57]],\n",
       "   [[58]],\n",
       "   [[59, 60]],\n",
       "   [[61]],\n",
       "   [[62]]],\n",
       "  'id': 'FR',\n",
       "  'properties': {'name': 'Fribourg'}},\n",
       " {'type': 'MultiPolygon',\n",
       "  'arcs': [[[-30, 63, 64, 65, -23]], [[66]], [[67, 68, 69]], [[70, 71]]],\n",
       "  'id': 'SO',\n",
       "  'properties': {'name': 'Solothurn'}},\n",
       " {'type': 'Polygon',\n",
       "  'arcs': [[72, 73]],\n",
       "  'id': 'BS',\n",
       "  'properties': {'name': 'Basel-Stadt'}},\n",
       " {'type': 'MultiPolygon',\n",
       "  'arcs': [[[74, -70, 75, -71, 76, -73, 77, 78, -65]], [[79, 80, -68]]],\n",
       "  'id': 'BL',\n",
       "  'properties': {'name': 'Basel-Landschaft'}},\n",
       " {'type': 'MultiPolygon',\n",
       "  'arcs': [[[-7, 81, 82, 83]], [[84, 85]], [[-5, 86]]],\n",
       "  'id': 'SH',\n",
       "  'properties': {'name': 'Schaffhausen'}},\n",
       " {'type': 'Polygon',\n",
       "  'arcs': [[87, 88, 89, 90, 91, 92]],\n",
       "  'id': 'AR',\n",
       "  'properties': {'name': 'Appenzell Ausserrhoden'}},\n",
       " {'type': 'MultiPolygon',\n",
       "  'arcs': [[[93, -92]], [[94, -90]], [[-88, 95]]],\n",
       "  'id': 'AI',\n",
       "  'properties': {'name': 'Appenzell Innerrhoden'}},\n",
       " {'type': 'MultiPolygon',\n",
       "  'arcs': [[[-51, -45, -10, 96, 97, 98, -52],\n",
       "    [99],\n",
       "    [-94, -91, -95, -89, -96, -93]],\n",
       "   [[100]]],\n",
       "  'id': 'SG',\n",
       "  'properties': {'name': 'St. Gallen'}},\n",
       " {'type': 'Polygon',\n",
       "  'arcs': [[101, -37, -50, -99, 102]],\n",
       "  'id': 'GR',\n",
       "  'properties': {'name': 'Graubünden/Grigioni'}},\n",
       " {'type': 'Polygon',\n",
       "  'arcs': [[-53, -31, -11, -66, -79, 103, -3]],\n",
       "  'id': 'AG',\n",
       "  'properties': {'name': 'Aargau'}},\n",
       " {'type': 'MultiPolygon',\n",
       "  'arcs': [[[-9, 104, -83, 105, -85, 106, -97], [-101]], [[107]]],\n",
       "  'id': 'TG',\n",
       "  'properties': {'name': 'Thurgau'}},\n",
       " {'type': 'Polygon',\n",
       "  'arcs': [[108, -38, -102, 109], [110]],\n",
       "  'id': 'TI',\n",
       "  'properties': {'name': 'Ticino'}},\n",
       " {'type': 'MultiPolygon',\n",
       "  'arcs': [[[111, 112, 113, 114, 115, -61, 116, -54, -18, 117, 118],\n",
       "    [-62],\n",
       "    [119],\n",
       "    [120]],\n",
       "   [[-26, -56, 121, -20, -57]]],\n",
       "  'id': 'VD',\n",
       "  'properties': {'name': 'Vaud'}},\n",
       " {'type': 'Polygon',\n",
       "  'arcs': [[-118, -17, -39, -109, 122]],\n",
       "  'id': 'VS',\n",
       "  'properties': {'name': 'Valais/Wallis'}},\n",
       " {'type': 'Polygon',\n",
       "  'arcs': [[-122, -55, -117, -60, -116, 123, 124, -21]],\n",
       "  'id': 'NE',\n",
       "  'properties': {'name': 'Neuchâtel'}},\n",
       " {'type': 'MultiPolygon',\n",
       "  'arcs': [[[-114, 125]], [[126]], [[127]]],\n",
       "  'id': 'GE',\n",
       "  'properties': {'name': 'Genève'}},\n",
       " {'type': 'Polygon',\n",
       "  'arcs': [[-64, -29, -22, -125, 128, -80, -75]],\n",
       "  'id': 'JU',\n",
       "  'properties': {'name': 'Jura'}}]"
      ]
     },
     "execution_count": 4,
     "metadata": {},
     "output_type": "execute_result"
    }
   ],
   "source": [
    "# For the period 2014-2018 and for each canton, visualize the percentage of voters who voted for the party UDC.\n",
    "m1 = folium.Map(location = [46.87, 8.36], tiles='cartodbpositron', zoom_start=7)\n",
    "topojson1 = json.load(open(r'data/ch-cantons.topojson.json'))\n",
    "topojson1['objects']['cantons']['geometries']\n",
    "# visualization_UDCvoting(m1,topojson1,'UDC','Percentage','PercentageUDC.html')\n",
    "# IFrame(src='PercentageUDC.html',width=980,height=600)"
   ]
  },
  {
   "cell_type": "code",
   "execution_count": 7,
   "metadata": {},
   "outputs": [
    {
     "data": {
      "text/plain": [
       "{'type': 'Polygon',\n",
       " 'arcs': [[0, 1, 2, 3, 4, 5, 6, 7, 8, 9]],\n",
       " 'id': 'ZH',\n",
       " 'properties': {'name': 'Zürich'}}"
      ]
     },
     "execution_count": 7,
     "metadata": {},
     "output_type": "execute_result"
    }
   ],
   "source": [
    "topojson1['objects']['cantons']['geometries'][0]"
   ]
  },
  {
   "cell_type": "markdown",
   "metadata": {},
   "source": [
    "[Click here to see PercentageUDC.html](PercentageUDC.html)"
   ]
  },
  {
   "cell_type": "markdown",
   "metadata": {},
   "source": [
    "In this map we can see the percentage for the party UDC differs in different language speaking area. Intuitively, as the map shows, voting rate in German speaking is higher than other two language speaking areas on average. The voting rate for UDC is extremely high in German - only speaking area (where German is the only official language) compared to French - only speaking area. And in the Italian speaking area the voting rate is lowest among three language areas.\n",
    "\n",
    "**MAP B**"
   ]
  },
  {
   "cell_type": "code",
   "execution_count": 33,
   "metadata": {},
   "outputs": [
    {
     "data": {
      "text/html": [
       "\n",
       "        <iframe\n",
       "            width=\"980\"\n",
       "            height=\"600\"\n",
       "            src=\"NumberUDC.html\"\n",
       "            frameborder=\"0\"\n",
       "            allowfullscreen\n",
       "        ></iframe>\n",
       "        "
      ],
      "text/plain": [
       "<IPython.lib.display.IFrame at 0x1e97569a550>"
      ]
     },
     "execution_count": 33,
     "metadata": {},
     "output_type": "execute_result"
    }
   ],
   "source": [
    "# For 2015, visualize the number of residents in each canton who voted for UDC.\n",
    "m1 = folium.Map(location=[46.87, 8.36], tiles='cartodbpositron', zoom_start=7)\n",
    "topojson1 = json.load(open(r'data/ch-cantons.topojson.json'))\n",
    "\n",
    "visualization_UDCvoting(m1,topojson1,'UDCvoter','Number','NumberUDC.html')\n",
    "IFrame(src='NumberUDC.html',width=980,height=600)"
   ]
  },
  {
   "cell_type": "markdown",
   "metadata": {},
   "source": [
    "[Click here to see NumberUDC.html](NumberUDC.html)"
   ]
  },
  {
   "cell_type": "markdown",
   "metadata": {},
   "source": [
    "Here the map shows the number of residents voting for UDC of each canton. This time, something has changed subtly. The German speaking area contains the highest number of UDC voting residents (namely, Zurich) but on average, we cannot say confidently that the average number of each canton in German-speaking area is higher than that in French-speaking area. The difference in percentage map and number map may result from the population varying from canton to canton. \n",
    "\n",
    "The difference in percentage map and number map may result from the population varying from canton to canton. And to the national election with majority voting,\n",
    "\n",
    "According to the official website([cantonal parliament elections](https://www.ch.ch/en/demokratie/federal-and-cantonal-elections-when-and-how/election-of-cantonal-parliaments-when-and-how/),cantonal parliament are also generally elected by a majority system (first-past-the-post). In this situation, the party has to win the largest proportion to win the canton. So the percentage map will offer more information to them.\n"
   ]
  },
  {
   "cell_type": "markdown",
   "metadata": {},
   "source": [
    "## Task 3: More socialism or more nationalism?\n",
    "\n",
    "In this section, we focus on two parties that are representative of the left and the right on the Swiss political spectrum. You will propose a way to visualize their influence over time and for each canton.\n",
    "\n",
    "__A)__ Take the two parties [`UDC`](https://en.wikipedia.org/wiki/Swiss_People%27s_Party) (Union démocratique du centre) and [`PS`](https://en.wikipedia.org/wiki/Social_Democratic_Party_of_Switzerland) (Parti socialiste suisse). For each canton, we define 'right lean' in a certain period as follows:\n",
    "\n",
    "$$\\frac{VoteShare_{UDC} - VoteShare_{PS}}{VoteShare_{UDC} + VoteShare_{PS}}$$  \n",
    "\n",
    "Visualize the right lean of each canton on the map. What conclusions can you draw this time? Can you observe the [röstigraben](https://en.wikipedia.org/wiki/R%C3%B6stigraben) ?\n",
    "\n",
    "__B)__ For each party, devise a way to visualize the difference between its 2014-2018 vote share (i.e. percentage) and its 2010-2013 vote share for each canton. Propose a way to visualize this evolution of the party over time, and justify your choices. There's no single correct answer, but you must reasonably explain your choices."
   ]
  },
  {
   "cell_type": "markdown",
   "metadata": {
    "collapsed": true
   },
   "source": [
    "**TASK A**\n",
    "\n",
    "In order to get the \"Right Lean\", we first have to extract useful columns('canton','UDC','PS') from `voters` and make a new column 'lean' to save the value according to definition above. Then we can get a new dataframe `voters_withlean` which contains all values we need."
   ]
  },
  {
   "cell_type": "code",
   "execution_count": 34,
   "metadata": {},
   "outputs": [
    {
     "name": "stderr",
     "output_type": "stream",
     "text": [
      "C:\\Users\\Ekonomski\\Anaconda3\\lib\\site-packages\\ipykernel\\__main__.py:4: SettingWithCopyWarning: \n",
      "A value is trying to be set on a copy of a slice from a DataFrame.\n",
      "Try using .loc[row_indexer,col_indexer] = value instead\n",
      "\n",
      "See the caveats in the documentation: http://pandas.pydata.org/pandas-docs/stable/indexing.html#indexing-view-versus-copy\n"
     ]
    },
    {
     "data": {
      "text/html": [
       "<div>\n",
       "<style scoped>\n",
       "    .dataframe tbody tr th:only-of-type {\n",
       "        vertical-align: middle;\n",
       "    }\n",
       "\n",
       "    .dataframe tbody tr th {\n",
       "        vertical-align: top;\n",
       "    }\n",
       "\n",
       "    .dataframe thead th {\n",
       "        text-align: right;\n",
       "    }\n",
       "</style>\n",
       "<table border=\"1\" class=\"dataframe\">\n",
       "  <thead>\n",
       "    <tr style=\"text-align: right;\">\n",
       "      <th></th>\n",
       "      <th>canton</th>\n",
       "      <th>UDC</th>\n",
       "      <th>PS</th>\n",
       "      <th>lean</th>\n",
       "      <th>Code</th>\n",
       "    </tr>\n",
       "  </thead>\n",
       "  <tbody>\n",
       "    <tr>\n",
       "      <th>0</th>\n",
       "      <td>Zurich</td>\n",
       "      <td>30.023215</td>\n",
       "      <td>19.716444</td>\n",
       "      <td>0.207214</td>\n",
       "      <td>ZH</td>\n",
       "    </tr>\n",
       "    <tr>\n",
       "      <th>1</th>\n",
       "      <td>Berne</td>\n",
       "      <td>26.760869</td>\n",
       "      <td>22.328775</td>\n",
       "      <td>0.090286</td>\n",
       "      <td>BE</td>\n",
       "    </tr>\n",
       "    <tr>\n",
       "      <th>2</th>\n",
       "      <td>Lucerne</td>\n",
       "      <td>24.115646</td>\n",
       "      <td>11.848915</td>\n",
       "      <td>0.341078</td>\n",
       "      <td>LU</td>\n",
       "    </tr>\n",
       "    <tr>\n",
       "      <th>3</th>\n",
       "      <td>Uri 1)</td>\n",
       "      <td>24.053191</td>\n",
       "      <td>12.984966</td>\n",
       "      <td>0.298833</td>\n",
       "      <td>UR</td>\n",
       "    </tr>\n",
       "    <tr>\n",
       "      <th>4</th>\n",
       "      <td>Schwytz</td>\n",
       "      <td>33.115090</td>\n",
       "      <td>12.925363</td>\n",
       "      <td>0.438521</td>\n",
       "      <td>SZ</td>\n",
       "    </tr>\n",
       "  </tbody>\n",
       "</table>\n",
       "</div>"
      ],
      "text/plain": [
       "    canton        UDC         PS      lean Code\n",
       "0   Zurich  30.023215  19.716444  0.207214   ZH\n",
       "1   Berne   26.760869  22.328775  0.090286   BE\n",
       "2  Lucerne  24.115646  11.848915  0.341078   LU\n",
       "3   Uri 1)  24.053191  12.984966  0.298833   UR\n",
       "4  Schwytz  33.115090  12.925363  0.438521   SZ"
      ]
     },
     "execution_count": 34,
     "metadata": {},
     "output_type": "execute_result"
    }
   ],
   "source": [
    "# import data and get useful info\n",
    "voters_withlean = voters[['canton', 'UDC', 'PS']]\n",
    "#caculate 'lean' according to definition\n",
    "voters_withlean['lean'] = (voters_withlean['UDC']-voters_withlean['PS'])/(voters_withlean['UDC']+voters_withlean['PS'])\n",
    "voters_withlean = voters_withlean.merge(cantons[['Code']], left_index=True, right_index=True)\n",
    "voters_withlean.head()"
   ]
  },
  {
   "cell_type": "code",
   "execution_count": 35,
   "metadata": {},
   "outputs": [
    {
     "data": {
      "text/plain": [
       "0.7057886963474544"
      ]
     },
     "execution_count": 35,
     "metadata": {},
     "output_type": "execute_result"
    }
   ],
   "source": [
    "max(voters_withlean.lean)"
   ]
  },
  {
   "cell_type": "code",
   "execution_count": 36,
   "metadata": {},
   "outputs": [
    {
     "data": {
      "text/plain": [
       "False    24\n",
       "True      2\n",
       "Name: lean, dtype: int64"
      ]
     },
     "execution_count": 36,
     "metadata": {},
     "output_type": "execute_result"
    }
   ],
   "source": [
    "voters_withlean['lean'].isnull().value_counts()"
   ]
  },
  {
   "cell_type": "markdown",
   "metadata": {},
   "source": [
    "But after checking the dataset, we find out that there are two NAN in `voters_withlean['lean']`, because we have missing values (namely Appenzell Ausserrhoden and Graubünden). And we plan to fill in these cantons with gray color (RGB: #999999) as the previous task. Then we add pop up showing detailed infomation of each canton. \n",
    "\n",
    "Here we use Topojson with stylefunction to fill the canton with color RGB according to lean value.\n",
    "\n",
    "First, we need a function to create a colormap for our vasulisation which is slightly different from the function used in the previous task (here we have negative values). The darker the color, the larger the data value is.(And Grey means no data here)"
   ]
  },
  {
   "cell_type": "code",
   "execution_count": 37,
   "metadata": {},
   "outputs": [],
   "source": [
    "def make_colormap(data_column, caption, color_range=['#67001f','#b2182b','#d6604d','#f4a582','#fddbc7',\\\n",
    "                                                     '#f7f7f7','#d1e5f0','#92c5de','#4393c3','#2166ac','#053061']):\n",
    "    \"\"\"\n",
    "    This is function to Create linear colormap.\n",
    "    \n",
    "    Parameter:\n",
    "        data:\n",
    "        data should be a series\n",
    "        \n",
    "        caption1:\n",
    "        the caption which will be shown below the colorbar.\n",
    "        \n",
    "        color_range:\n",
    "        default is a 11 levels yellow-blue bar\n",
    "        \n",
    "    Return:\n",
    "        Return a linear colormap based on linear interpolation of a set of colors over given index.\n",
    "    \n",
    "    \"\"\"\n",
    "    colormap = cm.LinearColormap(\n",
    "        color_range[::-1],\n",
    "        vmin = round(min(data_column)*0.6-0.5), \n",
    "        vmax = round(max(data_column)*0.6+0.5),\n",
    "        index = np.linspace(round(min(data_column)*0.6-0.5), round(max(data_column)*0.6+0.5), 11),\n",
    "        caption = caption\n",
    "    )\n",
    "    return colormap"
   ]
  },
  {
   "cell_type": "markdown",
   "metadata": {},
   "source": [
    "The default color_range in colormap:"
   ]
  },
  {
   "cell_type": "code",
   "execution_count": 38,
   "metadata": {},
   "outputs": [
    {
     "data": {
      "text/html": [
       "<svg height=\"50\" width=\"500\"><line x1=\"0\" y1=\"0\" x2=\"0\" y2=\"20\" style=\"stroke:#053061;stroke-width:3;\" /><line x1=\"1\" y1=\"0\" x2=\"1\" y2=\"20\" style=\"stroke:#053162;stroke-width:3;\" /><line x1=\"2\" y1=\"0\" x2=\"2\" y2=\"20\" style=\"stroke:#063264;stroke-width:3;\" /><line x1=\"3\" y1=\"0\" x2=\"3\" y2=\"20\" style=\"stroke:#063365;stroke-width:3;\" /><line x1=\"4\" y1=\"0\" x2=\"4\" y2=\"20\" style=\"stroke:#073467;stroke-width:3;\" /><line x1=\"5\" y1=\"0\" x2=\"5\" y2=\"20\" style=\"stroke:#073568;stroke-width:3;\" /><line x1=\"6\" y1=\"0\" x2=\"6\" y2=\"20\" style=\"stroke:#08366a;stroke-width:3;\" /><line x1=\"7\" y1=\"0\" x2=\"7\" y2=\"20\" style=\"stroke:#08376b;stroke-width:3;\" /><line x1=\"8\" y1=\"0\" x2=\"8\" y2=\"20\" style=\"stroke:#09386d;stroke-width:3;\" /><line x1=\"9\" y1=\"0\" x2=\"9\" y2=\"20\" style=\"stroke:#0a396e;stroke-width:3;\" /><line x1=\"10\" y1=\"0\" x2=\"10\" y2=\"20\" style=\"stroke:#0a3b70;stroke-width:3;\" /><line x1=\"11\" y1=\"0\" x2=\"11\" y2=\"20\" style=\"stroke:#0b3c71;stroke-width:3;\" /><line x1=\"12\" y1=\"0\" x2=\"12\" y2=\"20\" style=\"stroke:#0b3d73;stroke-width:3;\" /><line x1=\"13\" y1=\"0\" x2=\"13\" y2=\"20\" style=\"stroke:#0c3e74;stroke-width:3;\" /><line x1=\"14\" y1=\"0\" x2=\"14\" y2=\"20\" style=\"stroke:#0c3f76;stroke-width:3;\" /><line x1=\"15\" y1=\"0\" x2=\"15\" y2=\"20\" style=\"stroke:#0d4078;stroke-width:3;\" /><line x1=\"16\" y1=\"0\" x2=\"16\" y2=\"20\" style=\"stroke:#0e4179;stroke-width:3;\" /><line x1=\"17\" y1=\"0\" x2=\"17\" y2=\"20\" style=\"stroke:#0e427b;stroke-width:3;\" /><line x1=\"18\" y1=\"0\" x2=\"18\" y2=\"20\" style=\"stroke:#0f437c;stroke-width:3;\" /><line x1=\"19\" y1=\"0\" x2=\"19\" y2=\"20\" style=\"stroke:#0f447e;stroke-width:3;\" /><line x1=\"20\" y1=\"0\" x2=\"20\" y2=\"20\" style=\"stroke:#10457f;stroke-width:3;\" /><line x1=\"21\" y1=\"0\" x2=\"21\" y2=\"20\" style=\"stroke:#104781;stroke-width:3;\" /><line x1=\"22\" y1=\"0\" x2=\"22\" y2=\"20\" style=\"stroke:#114882;stroke-width:3;\" /><line x1=\"23\" y1=\"0\" x2=\"23\" y2=\"20\" style=\"stroke:#114984;stroke-width:3;\" /><line x1=\"24\" y1=\"0\" x2=\"24\" y2=\"20\" style=\"stroke:#124a85;stroke-width:3;\" /><line x1=\"25\" y1=\"0\" x2=\"25\" y2=\"20\" style=\"stroke:#134b87;stroke-width:3;\" /><line x1=\"26\" y1=\"0\" x2=\"26\" y2=\"20\" style=\"stroke:#134c88;stroke-width:3;\" /><line x1=\"27\" y1=\"0\" x2=\"27\" y2=\"20\" style=\"stroke:#144d8a;stroke-width:3;\" /><line x1=\"28\" y1=\"0\" x2=\"28\" y2=\"20\" style=\"stroke:#144e8b;stroke-width:3;\" /><line x1=\"29\" y1=\"0\" x2=\"29\" y2=\"20\" style=\"stroke:#154f8d;stroke-width:3;\" /><line x1=\"30\" y1=\"0\" x2=\"30\" y2=\"20\" style=\"stroke:#15508e;stroke-width:3;\" /><line x1=\"31\" y1=\"0\" x2=\"31\" y2=\"20\" style=\"stroke:#165190;stroke-width:3;\" /><line x1=\"32\" y1=\"0\" x2=\"32\" y2=\"20\" style=\"stroke:#175291;stroke-width:3;\" /><line x1=\"33\" y1=\"0\" x2=\"33\" y2=\"20\" style=\"stroke:#175493;stroke-width:3;\" /><line x1=\"34\" y1=\"0\" x2=\"34\" y2=\"20\" style=\"stroke:#185594;stroke-width:3;\" /><line x1=\"35\" y1=\"0\" x2=\"35\" y2=\"20\" style=\"stroke:#185696;stroke-width:3;\" /><line x1=\"36\" y1=\"0\" x2=\"36\" y2=\"20\" style=\"stroke:#195797;stroke-width:3;\" /><line x1=\"37\" y1=\"0\" x2=\"37\" y2=\"20\" style=\"stroke:#195899;stroke-width:3;\" /><line x1=\"38\" y1=\"0\" x2=\"38\" y2=\"20\" style=\"stroke:#1a599a;stroke-width:3;\" /><line x1=\"39\" y1=\"0\" x2=\"39\" y2=\"20\" style=\"stroke:#1a5a9c;stroke-width:3;\" /><line x1=\"40\" y1=\"0\" x2=\"40\" y2=\"20\" style=\"stroke:#1b5b9d;stroke-width:3;\" /><line x1=\"41\" y1=\"0\" x2=\"41\" y2=\"20\" style=\"stroke:#1c5c9f;stroke-width:3;\" /><line x1=\"42\" y1=\"0\" x2=\"42\" y2=\"20\" style=\"stroke:#1c5da0;stroke-width:3;\" /><line x1=\"43\" y1=\"0\" x2=\"43\" y2=\"20\" style=\"stroke:#1d5ea2;stroke-width:3;\" /><line x1=\"44\" y1=\"0\" x2=\"44\" y2=\"20\" style=\"stroke:#1d5fa3;stroke-width:3;\" /><line x1=\"45\" y1=\"0\" x2=\"45\" y2=\"20\" style=\"stroke:#1e61a5;stroke-width:3;\" /><line x1=\"46\" y1=\"0\" x2=\"46\" y2=\"20\" style=\"stroke:#1e62a6;stroke-width:3;\" /><line x1=\"47\" y1=\"0\" x2=\"47\" y2=\"20\" style=\"stroke:#1f63a8;stroke-width:3;\" /><line x1=\"48\" y1=\"0\" x2=\"48\" y2=\"20\" style=\"stroke:#2064a9;stroke-width:3;\" /><line x1=\"49\" y1=\"0\" x2=\"49\" y2=\"20\" style=\"stroke:#2065ab;stroke-width:3;\" /><line x1=\"50\" y1=\"0\" x2=\"50\" y2=\"20\" style=\"stroke:#2166ac;stroke-width:3;\" /><line x1=\"51\" y1=\"0\" x2=\"51\" y2=\"20\" style=\"stroke:#2167ad;stroke-width:3;\" /><line x1=\"52\" y1=\"0\" x2=\"52\" y2=\"20\" style=\"stroke:#2268ad;stroke-width:3;\" /><line x1=\"53\" y1=\"0\" x2=\"53\" y2=\"20\" style=\"stroke:#2369ae;stroke-width:3;\" /><line x1=\"54\" y1=\"0\" x2=\"54\" y2=\"20\" style=\"stroke:#236aae;stroke-width:3;\" /><line x1=\"55\" y1=\"0\" x2=\"55\" y2=\"20\" style=\"stroke:#246baf;stroke-width:3;\" /><line x1=\"56\" y1=\"0\" x2=\"56\" y2=\"20\" style=\"stroke:#256baf;stroke-width:3;\" /><line x1=\"57\" y1=\"0\" x2=\"57\" y2=\"20\" style=\"stroke:#256caf;stroke-width:3;\" /><line x1=\"58\" y1=\"0\" x2=\"58\" y2=\"20\" style=\"stroke:#266db0;stroke-width:3;\" /><line x1=\"59\" y1=\"0\" x2=\"59\" y2=\"20\" style=\"stroke:#276eb0;stroke-width:3;\" /><line x1=\"60\" y1=\"0\" x2=\"60\" y2=\"20\" style=\"stroke:#286fb1;stroke-width:3;\" /><line x1=\"61\" y1=\"0\" x2=\"61\" y2=\"20\" style=\"stroke:#2870b1;stroke-width:3;\" /><line x1=\"62\" y1=\"0\" x2=\"62\" y2=\"20\" style=\"stroke:#2971b2;stroke-width:3;\" /><line x1=\"63\" y1=\"0\" x2=\"63\" y2=\"20\" style=\"stroke:#2a72b2;stroke-width:3;\" /><line x1=\"64\" y1=\"0\" x2=\"64\" y2=\"20\" style=\"stroke:#2a73b3;stroke-width:3;\" /><line x1=\"65\" y1=\"0\" x2=\"65\" y2=\"20\" style=\"stroke:#2b74b3;stroke-width:3;\" /><line x1=\"66\" y1=\"0\" x2=\"66\" y2=\"20\" style=\"stroke:#2c74b4;stroke-width:3;\" /><line x1=\"67\" y1=\"0\" x2=\"67\" y2=\"20\" style=\"stroke:#2c75b4;stroke-width:3;\" /><line x1=\"68\" y1=\"0\" x2=\"68\" y2=\"20\" style=\"stroke:#2d76b5;stroke-width:3;\" /><line x1=\"69\" y1=\"0\" x2=\"69\" y2=\"20\" style=\"stroke:#2e77b5;stroke-width:3;\" /><line x1=\"70\" y1=\"0\" x2=\"70\" y2=\"20\" style=\"stroke:#2e78b5;stroke-width:3;\" /><line x1=\"71\" y1=\"0\" x2=\"71\" y2=\"20\" style=\"stroke:#2f79b6;stroke-width:3;\" /><line x1=\"72\" y1=\"0\" x2=\"72\" y2=\"20\" style=\"stroke:#307ab6;stroke-width:3;\" /><line x1=\"73\" y1=\"0\" x2=\"73\" y2=\"20\" style=\"stroke:#307bb7;stroke-width:3;\" /><line x1=\"74\" y1=\"0\" x2=\"74\" y2=\"20\" style=\"stroke:#317cb7;stroke-width:3;\" /><line x1=\"75\" y1=\"0\" x2=\"75\" y2=\"20\" style=\"stroke:#327db8;stroke-width:3;\" /><line x1=\"76\" y1=\"0\" x2=\"76\" y2=\"20\" style=\"stroke:#327eb8;stroke-width:3;\" /><line x1=\"77\" y1=\"0\" x2=\"77\" y2=\"20\" style=\"stroke:#337eb9;stroke-width:3;\" /><line x1=\"78\" y1=\"0\" x2=\"78\" y2=\"20\" style=\"stroke:#347fb9;stroke-width:3;\" /><line x1=\"79\" y1=\"0\" x2=\"79\" y2=\"20\" style=\"stroke:#3580ba;stroke-width:3;\" /><line x1=\"80\" y1=\"0\" x2=\"80\" y2=\"20\" style=\"stroke:#3581ba;stroke-width:3;\" /><line x1=\"81\" y1=\"0\" x2=\"81\" y2=\"20\" style=\"stroke:#3682bb;stroke-width:3;\" /><line x1=\"82\" y1=\"0\" x2=\"82\" y2=\"20\" style=\"stroke:#3783bb;stroke-width:3;\" /><line x1=\"83\" y1=\"0\" x2=\"83\" y2=\"20\" style=\"stroke:#3784bb;stroke-width:3;\" /><line x1=\"84\" y1=\"0\" x2=\"84\" y2=\"20\" style=\"stroke:#3885bc;stroke-width:3;\" /><line x1=\"85\" y1=\"0\" x2=\"85\" y2=\"20\" style=\"stroke:#3986bc;stroke-width:3;\" /><line x1=\"86\" y1=\"0\" x2=\"86\" y2=\"20\" style=\"stroke:#3987bd;stroke-width:3;\" /><line x1=\"87\" y1=\"0\" x2=\"87\" y2=\"20\" style=\"stroke:#3a87bd;stroke-width:3;\" /><line x1=\"88\" y1=\"0\" x2=\"88\" y2=\"20\" style=\"stroke:#3b88be;stroke-width:3;\" /><line x1=\"89\" y1=\"0\" x2=\"89\" y2=\"20\" style=\"stroke:#3b89be;stroke-width:3;\" /><line x1=\"90\" y1=\"0\" x2=\"90\" y2=\"20\" style=\"stroke:#3c8abf;stroke-width:3;\" /><line x1=\"91\" y1=\"0\" x2=\"91\" y2=\"20\" style=\"stroke:#3d8bbf;stroke-width:3;\" /><line x1=\"92\" y1=\"0\" x2=\"92\" y2=\"20\" style=\"stroke:#3d8cc0;stroke-width:3;\" /><line x1=\"93\" y1=\"0\" x2=\"93\" y2=\"20\" style=\"stroke:#3e8dc0;stroke-width:3;\" /><line x1=\"94\" y1=\"0\" x2=\"94\" y2=\"20\" style=\"stroke:#3f8ec1;stroke-width:3;\" /><line x1=\"95\" y1=\"0\" x2=\"95\" y2=\"20\" style=\"stroke:#3f8fc1;stroke-width:3;\" /><line x1=\"96\" y1=\"0\" x2=\"96\" y2=\"20\" style=\"stroke:#4090c2;stroke-width:3;\" /><line x1=\"97\" y1=\"0\" x2=\"97\" y2=\"20\" style=\"stroke:#4191c2;stroke-width:3;\" /><line x1=\"98\" y1=\"0\" x2=\"98\" y2=\"20\" style=\"stroke:#4291c2;stroke-width:3;\" /><line x1=\"99\" y1=\"0\" x2=\"99\" y2=\"20\" style=\"stroke:#4292c3;stroke-width:3;\" /><line x1=\"100\" y1=\"0\" x2=\"100\" y2=\"20\" style=\"stroke:#4393c3;stroke-width:3;\" /><line x1=\"101\" y1=\"0\" x2=\"101\" y2=\"20\" style=\"stroke:#4594c4;stroke-width:3;\" /><line x1=\"102\" y1=\"0\" x2=\"102\" y2=\"20\" style=\"stroke:#4695c4;stroke-width:3;\" /><line x1=\"103\" y1=\"0\" x2=\"103\" y2=\"20\" style=\"stroke:#4896c5;stroke-width:3;\" /><line x1=\"104\" y1=\"0\" x2=\"104\" y2=\"20\" style=\"stroke:#4997c6;stroke-width:3;\" /><line x1=\"105\" y1=\"0\" x2=\"105\" y2=\"20\" style=\"stroke:#4b98c6;stroke-width:3;\" /><line x1=\"106\" y1=\"0\" x2=\"106\" y2=\"20\" style=\"stroke:#4d99c7;stroke-width:3;\" /><line x1=\"107\" y1=\"0\" x2=\"107\" y2=\"20\" style=\"stroke:#4e9ac7;stroke-width:3;\" /><line x1=\"108\" y1=\"0\" x2=\"108\" y2=\"20\" style=\"stroke:#509bc8;stroke-width:3;\" /><line x1=\"109\" y1=\"0\" x2=\"109\" y2=\"20\" style=\"stroke:#519cc8;stroke-width:3;\" /><line x1=\"110\" y1=\"0\" x2=\"110\" y2=\"20\" style=\"stroke:#539dc9;stroke-width:3;\" /><line x1=\"111\" y1=\"0\" x2=\"111\" y2=\"20\" style=\"stroke:#559ec9;stroke-width:3;\" /><line x1=\"112\" y1=\"0\" x2=\"112\" y2=\"20\" style=\"stroke:#569fca;stroke-width:3;\" /><line x1=\"113\" y1=\"0\" x2=\"113\" y2=\"20\" style=\"stroke:#58a0ca;stroke-width:3;\" /><line x1=\"114\" y1=\"0\" x2=\"114\" y2=\"20\" style=\"stroke:#59a1cb;stroke-width:3;\" /><line x1=\"115\" y1=\"0\" x2=\"115\" y2=\"20\" style=\"stroke:#5ba2cc;stroke-width:3;\" /><line x1=\"116\" y1=\"0\" x2=\"116\" y2=\"20\" style=\"stroke:#5da3cc;stroke-width:3;\" /><line x1=\"117\" y1=\"0\" x2=\"117\" y2=\"20\" style=\"stroke:#5ea4cd;stroke-width:3;\" /><line x1=\"118\" y1=\"0\" x2=\"118\" y2=\"20\" style=\"stroke:#60a5cd;stroke-width:3;\" /><line x1=\"119\" y1=\"0\" x2=\"119\" y2=\"20\" style=\"stroke:#61a6ce;stroke-width:3;\" /><line x1=\"120\" y1=\"0\" x2=\"120\" y2=\"20\" style=\"stroke:#63a7ce;stroke-width:3;\" /><line x1=\"121\" y1=\"0\" x2=\"121\" y2=\"20\" style=\"stroke:#64a8cf;stroke-width:3;\" /><line x1=\"122\" y1=\"0\" x2=\"122\" y2=\"20\" style=\"stroke:#66a9cf;stroke-width:3;\" /><line x1=\"123\" y1=\"0\" x2=\"123\" y2=\"20\" style=\"stroke:#68aad0;stroke-width:3;\" /><line x1=\"124\" y1=\"0\" x2=\"124\" y2=\"20\" style=\"stroke:#69abd0;stroke-width:3;\" /><line x1=\"125\" y1=\"0\" x2=\"125\" y2=\"20\" style=\"stroke:#6bacd1;stroke-width:3;\" /><line x1=\"126\" y1=\"0\" x2=\"126\" y2=\"20\" style=\"stroke:#6cadd1;stroke-width:3;\" /><line x1=\"127\" y1=\"0\" x2=\"127\" y2=\"20\" style=\"stroke:#6eaed2;stroke-width:3;\" /><line x1=\"128\" y1=\"0\" x2=\"128\" y2=\"20\" style=\"stroke:#70afd3;stroke-width:3;\" /><line x1=\"129\" y1=\"0\" x2=\"129\" y2=\"20\" style=\"stroke:#71b0d3;stroke-width:3;\" /><line x1=\"130\" y1=\"0\" x2=\"130\" y2=\"20\" style=\"stroke:#73b1d4;stroke-width:3;\" /><line x1=\"131\" y1=\"0\" x2=\"131\" y2=\"20\" style=\"stroke:#74b2d4;stroke-width:3;\" /><line x1=\"132\" y1=\"0\" x2=\"132\" y2=\"20\" style=\"stroke:#76b3d5;stroke-width:3;\" /><line x1=\"133\" y1=\"0\" x2=\"133\" y2=\"20\" style=\"stroke:#78b4d5;stroke-width:3;\" /><line x1=\"134\" y1=\"0\" x2=\"134\" y2=\"20\" style=\"stroke:#79b5d6;stroke-width:3;\" /><line x1=\"135\" y1=\"0\" x2=\"135\" y2=\"20\" style=\"stroke:#7bb6d6;stroke-width:3;\" /><line x1=\"136\" y1=\"0\" x2=\"136\" y2=\"20\" style=\"stroke:#7cb7d7;stroke-width:3;\" /><line x1=\"137\" y1=\"0\" x2=\"137\" y2=\"20\" style=\"stroke:#7eb8d7;stroke-width:3;\" /><line x1=\"138\" y1=\"0\" x2=\"138\" y2=\"20\" style=\"stroke:#7fbad8;stroke-width:3;\" /><line x1=\"139\" y1=\"0\" x2=\"139\" y2=\"20\" style=\"stroke:#81bbd9;stroke-width:3;\" /><line x1=\"140\" y1=\"0\" x2=\"140\" y2=\"20\" style=\"stroke:#83bcd9;stroke-width:3;\" /><line x1=\"141\" y1=\"0\" x2=\"141\" y2=\"20\" style=\"stroke:#84bdda;stroke-width:3;\" /><line x1=\"142\" y1=\"0\" x2=\"142\" y2=\"20\" style=\"stroke:#86beda;stroke-width:3;\" /><line x1=\"143\" y1=\"0\" x2=\"143\" y2=\"20\" style=\"stroke:#87bfdb;stroke-width:3;\" /><line x1=\"144\" y1=\"0\" x2=\"144\" y2=\"20\" style=\"stroke:#89c0db;stroke-width:3;\" /><line x1=\"145\" y1=\"0\" x2=\"145\" y2=\"20\" style=\"stroke:#8bc1dc;stroke-width:3;\" /><line x1=\"146\" y1=\"0\" x2=\"146\" y2=\"20\" style=\"stroke:#8cc2dc;stroke-width:3;\" /><line x1=\"147\" y1=\"0\" x2=\"147\" y2=\"20\" style=\"stroke:#8ec3dd;stroke-width:3;\" /><line x1=\"148\" y1=\"0\" x2=\"148\" y2=\"20\" style=\"stroke:#8fc4dd;stroke-width:3;\" /><line x1=\"149\" y1=\"0\" x2=\"149\" y2=\"20\" style=\"stroke:#91c5de;stroke-width:3;\" /><line x1=\"150\" y1=\"0\" x2=\"150\" y2=\"20\" style=\"stroke:#92c5de;stroke-width:3;\" /><line x1=\"151\" y1=\"0\" x2=\"151\" y2=\"20\" style=\"stroke:#94c6df;stroke-width:3;\" /><line x1=\"152\" y1=\"0\" x2=\"152\" y2=\"20\" style=\"stroke:#95c7df;stroke-width:3;\" /><line x1=\"153\" y1=\"0\" x2=\"153\" y2=\"20\" style=\"stroke:#96c7e0;stroke-width:3;\" /><line x1=\"154\" y1=\"0\" x2=\"154\" y2=\"20\" style=\"stroke:#98c8e0;stroke-width:3;\" /><line x1=\"155\" y1=\"0\" x2=\"155\" y2=\"20\" style=\"stroke:#99c9e0;stroke-width:3;\" /><line x1=\"156\" y1=\"0\" x2=\"156\" y2=\"20\" style=\"stroke:#9ac9e1;stroke-width:3;\" /><line x1=\"157\" y1=\"0\" x2=\"157\" y2=\"20\" style=\"stroke:#9bcae1;stroke-width:3;\" /><line x1=\"158\" y1=\"0\" x2=\"158\" y2=\"20\" style=\"stroke:#9dcbe1;stroke-width:3;\" /><line x1=\"159\" y1=\"0\" x2=\"159\" y2=\"20\" style=\"stroke:#9ecbe2;stroke-width:3;\" /><line x1=\"160\" y1=\"0\" x2=\"160\" y2=\"20\" style=\"stroke:#9fcce2;stroke-width:3;\" /><line x1=\"161\" y1=\"0\" x2=\"161\" y2=\"20\" style=\"stroke:#a0cde2;stroke-width:3;\" /><line x1=\"162\" y1=\"0\" x2=\"162\" y2=\"20\" style=\"stroke:#a2cde3;stroke-width:3;\" /><line x1=\"163\" y1=\"0\" x2=\"163\" y2=\"20\" style=\"stroke:#a3cee3;stroke-width:3;\" /><line x1=\"164\" y1=\"0\" x2=\"164\" y2=\"20\" style=\"stroke:#a4cee4;stroke-width:3;\" /><line x1=\"165\" y1=\"0\" x2=\"165\" y2=\"20\" style=\"stroke:#a5cfe4;stroke-width:3;\" /><line x1=\"166\" y1=\"0\" x2=\"166\" y2=\"20\" style=\"stroke:#a7d0e4;stroke-width:3;\" /><line x1=\"167\" y1=\"0\" x2=\"167\" y2=\"20\" style=\"stroke:#a8d0e5;stroke-width:3;\" /><line x1=\"168\" y1=\"0\" x2=\"168\" y2=\"20\" style=\"stroke:#a9d1e5;stroke-width:3;\" /><line x1=\"169\" y1=\"0\" x2=\"169\" y2=\"20\" style=\"stroke:#abd2e5;stroke-width:3;\" /><line x1=\"170\" y1=\"0\" x2=\"170\" y2=\"20\" style=\"stroke:#acd2e6;stroke-width:3;\" /><line x1=\"171\" y1=\"0\" x2=\"171\" y2=\"20\" style=\"stroke:#add3e6;stroke-width:3;\" /><line x1=\"172\" y1=\"0\" x2=\"172\" y2=\"20\" style=\"stroke:#aed4e6;stroke-width:3;\" /><line x1=\"173\" y1=\"0\" x2=\"173\" y2=\"20\" style=\"stroke:#b0d4e7;stroke-width:3;\" /><line x1=\"174\" y1=\"0\" x2=\"174\" y2=\"20\" style=\"stroke:#b1d5e7;stroke-width:3;\" /><line x1=\"175\" y1=\"0\" x2=\"175\" y2=\"20\" style=\"stroke:#b2d6e8;stroke-width:3;\" /><line x1=\"176\" y1=\"0\" x2=\"176\" y2=\"20\" style=\"stroke:#b3d6e8;stroke-width:3;\" /><line x1=\"177\" y1=\"0\" x2=\"177\" y2=\"20\" style=\"stroke:#b5d7e8;stroke-width:3;\" /><line x1=\"178\" y1=\"0\" x2=\"178\" y2=\"20\" style=\"stroke:#b6d7e9;stroke-width:3;\" /><line x1=\"179\" y1=\"0\" x2=\"179\" y2=\"20\" style=\"stroke:#b7d8e9;stroke-width:3;\" /><line x1=\"180\" y1=\"0\" x2=\"180\" y2=\"20\" style=\"stroke:#b8d9e9;stroke-width:3;\" /><line x1=\"181\" y1=\"0\" x2=\"181\" y2=\"20\" style=\"stroke:#bad9ea;stroke-width:3;\" /><line x1=\"182\" y1=\"0\" x2=\"182\" y2=\"20\" style=\"stroke:#bbdaea;stroke-width:3;\" /><line x1=\"183\" y1=\"0\" x2=\"183\" y2=\"20\" style=\"stroke:#bcdbea;stroke-width:3;\" /><line x1=\"184\" y1=\"0\" x2=\"184\" y2=\"20\" style=\"stroke:#bedbeb;stroke-width:3;\" /><line x1=\"185\" y1=\"0\" x2=\"185\" y2=\"20\" style=\"stroke:#bfdceb;stroke-width:3;\" /><line x1=\"186\" y1=\"0\" x2=\"186\" y2=\"20\" style=\"stroke:#c0ddec;stroke-width:3;\" /><line x1=\"187\" y1=\"0\" x2=\"187\" y2=\"20\" style=\"stroke:#c1ddec;stroke-width:3;\" /><line x1=\"188\" y1=\"0\" x2=\"188\" y2=\"20\" style=\"stroke:#c3deec;stroke-width:3;\" /><line x1=\"189\" y1=\"0\" x2=\"189\" y2=\"20\" style=\"stroke:#c4dfed;stroke-width:3;\" /><line x1=\"190\" y1=\"0\" x2=\"190\" y2=\"20\" style=\"stroke:#c5dfed;stroke-width:3;\" /><line x1=\"191\" y1=\"0\" x2=\"191\" y2=\"20\" style=\"stroke:#c6e0ed;stroke-width:3;\" /><line x1=\"192\" y1=\"0\" x2=\"192\" y2=\"20\" style=\"stroke:#c8e1ee;stroke-width:3;\" /><line x1=\"193\" y1=\"0\" x2=\"193\" y2=\"20\" style=\"stroke:#c9e1ee;stroke-width:3;\" /><line x1=\"194\" y1=\"0\" x2=\"194\" y2=\"20\" style=\"stroke:#cae2ee;stroke-width:3;\" /><line x1=\"195\" y1=\"0\" x2=\"195\" y2=\"20\" style=\"stroke:#cbe2ef;stroke-width:3;\" /><line x1=\"196\" y1=\"0\" x2=\"196\" y2=\"20\" style=\"stroke:#cde3ef;stroke-width:3;\" /><line x1=\"197\" y1=\"0\" x2=\"197\" y2=\"20\" style=\"stroke:#cee4ef;stroke-width:3;\" /><line x1=\"198\" y1=\"0\" x2=\"198\" y2=\"20\" style=\"stroke:#cfe4f0;stroke-width:3;\" /><line x1=\"199\" y1=\"0\" x2=\"199\" y2=\"20\" style=\"stroke:#d1e5f0;stroke-width:3;\" /><line x1=\"200\" y1=\"0\" x2=\"200\" y2=\"20\" style=\"stroke:#d2e6f0;stroke-width:3;\" /><line x1=\"201\" y1=\"0\" x2=\"201\" y2=\"20\" style=\"stroke:#d2e6f1;stroke-width:3;\" /><line x1=\"202\" y1=\"0\" x2=\"202\" y2=\"20\" style=\"stroke:#d3e6f1;stroke-width:3;\" /><line x1=\"203\" y1=\"0\" x2=\"203\" y2=\"20\" style=\"stroke:#d4e7f1;stroke-width:3;\" /><line x1=\"204\" y1=\"0\" x2=\"204\" y2=\"20\" style=\"stroke:#d5e7f1;stroke-width:3;\" /><line x1=\"205\" y1=\"0\" x2=\"205\" y2=\"20\" style=\"stroke:#d5e7f1;stroke-width:3;\" /><line x1=\"206\" y1=\"0\" x2=\"206\" y2=\"20\" style=\"stroke:#d6e8f1;stroke-width:3;\" /><line x1=\"207\" y1=\"0\" x2=\"207\" y2=\"20\" style=\"stroke:#d7e8f1;stroke-width:3;\" /><line x1=\"208\" y1=\"0\" x2=\"208\" y2=\"20\" style=\"stroke:#d8e8f2;stroke-width:3;\" /><line x1=\"209\" y1=\"0\" x2=\"209\" y2=\"20\" style=\"stroke:#d9e9f2;stroke-width:3;\" /><line x1=\"210\" y1=\"0\" x2=\"210\" y2=\"20\" style=\"stroke:#d9e9f2;stroke-width:3;\" /><line x1=\"211\" y1=\"0\" x2=\"211\" y2=\"20\" style=\"stroke:#daeaf2;stroke-width:3;\" /><line x1=\"212\" y1=\"0\" x2=\"212\" y2=\"20\" style=\"stroke:#dbeaf2;stroke-width:3;\" /><line x1=\"213\" y1=\"0\" x2=\"213\" y2=\"20\" style=\"stroke:#dceaf2;stroke-width:3;\" /><line x1=\"214\" y1=\"0\" x2=\"214\" y2=\"20\" style=\"stroke:#dcebf2;stroke-width:3;\" /><line x1=\"215\" y1=\"0\" x2=\"215\" y2=\"20\" style=\"stroke:#ddebf3;stroke-width:3;\" /><line x1=\"216\" y1=\"0\" x2=\"216\" y2=\"20\" style=\"stroke:#deebf3;stroke-width:3;\" /><line x1=\"217\" y1=\"0\" x2=\"217\" y2=\"20\" style=\"stroke:#dfecf3;stroke-width:3;\" /><line x1=\"218\" y1=\"0\" x2=\"218\" y2=\"20\" style=\"stroke:#dfecf3;stroke-width:3;\" /><line x1=\"219\" y1=\"0\" x2=\"219\" y2=\"20\" style=\"stroke:#e0ecf3;stroke-width:3;\" /><line x1=\"220\" y1=\"0\" x2=\"220\" y2=\"20\" style=\"stroke:#e1edf3;stroke-width:3;\" /><line x1=\"221\" y1=\"0\" x2=\"221\" y2=\"20\" style=\"stroke:#e2edf3;stroke-width:3;\" /><line x1=\"222\" y1=\"0\" x2=\"222\" y2=\"20\" style=\"stroke:#e2eef4;stroke-width:3;\" /><line x1=\"223\" y1=\"0\" x2=\"223\" y2=\"20\" style=\"stroke:#e3eef4;stroke-width:3;\" /><line x1=\"224\" y1=\"0\" x2=\"224\" y2=\"20\" style=\"stroke:#e4eef4;stroke-width:3;\" /><line x1=\"225\" y1=\"0\" x2=\"225\" y2=\"20\" style=\"stroke:#e5eff4;stroke-width:3;\" /><line x1=\"226\" y1=\"0\" x2=\"226\" y2=\"20\" style=\"stroke:#e6eff4;stroke-width:3;\" /><line x1=\"227\" y1=\"0\" x2=\"227\" y2=\"20\" style=\"stroke:#e6eff4;stroke-width:3;\" /><line x1=\"228\" y1=\"0\" x2=\"228\" y2=\"20\" style=\"stroke:#e7f0f4;stroke-width:3;\" /><line x1=\"229\" y1=\"0\" x2=\"229\" y2=\"20\" style=\"stroke:#e8f0f5;stroke-width:3;\" /><line x1=\"230\" y1=\"0\" x2=\"230\" y2=\"20\" style=\"stroke:#e9f0f5;stroke-width:3;\" /><line x1=\"231\" y1=\"0\" x2=\"231\" y2=\"20\" style=\"stroke:#e9f1f5;stroke-width:3;\" /><line x1=\"232\" y1=\"0\" x2=\"232\" y2=\"20\" style=\"stroke:#eaf1f5;stroke-width:3;\" /><line x1=\"233\" y1=\"0\" x2=\"233\" y2=\"20\" style=\"stroke:#ebf1f5;stroke-width:3;\" /><line x1=\"234\" y1=\"0\" x2=\"234\" y2=\"20\" style=\"stroke:#ecf2f5;stroke-width:3;\" /><line x1=\"235\" y1=\"0\" x2=\"235\" y2=\"20\" style=\"stroke:#ecf2f5;stroke-width:3;\" /><line x1=\"236\" y1=\"0\" x2=\"236\" y2=\"20\" style=\"stroke:#edf3f6;stroke-width:3;\" /><line x1=\"237\" y1=\"0\" x2=\"237\" y2=\"20\" style=\"stroke:#eef3f6;stroke-width:3;\" /><line x1=\"238\" y1=\"0\" x2=\"238\" y2=\"20\" style=\"stroke:#eff3f6;stroke-width:3;\" /><line x1=\"239\" y1=\"0\" x2=\"239\" y2=\"20\" style=\"stroke:#eff4f6;stroke-width:3;\" /><line x1=\"240\" y1=\"0\" x2=\"240\" y2=\"20\" style=\"stroke:#f0f4f6;stroke-width:3;\" /><line x1=\"241\" y1=\"0\" x2=\"241\" y2=\"20\" style=\"stroke:#f1f4f6;stroke-width:3;\" /><line x1=\"242\" y1=\"0\" x2=\"242\" y2=\"20\" style=\"stroke:#f2f5f6;stroke-width:3;\" /><line x1=\"243\" y1=\"0\" x2=\"243\" y2=\"20\" style=\"stroke:#f2f5f7;stroke-width:3;\" /><line x1=\"244\" y1=\"0\" x2=\"244\" y2=\"20\" style=\"stroke:#f3f5f7;stroke-width:3;\" /><line x1=\"245\" y1=\"0\" x2=\"245\" y2=\"20\" style=\"stroke:#f4f6f7;stroke-width:3;\" /><line x1=\"246\" y1=\"0\" x2=\"246\" y2=\"20\" style=\"stroke:#f5f6f7;stroke-width:3;\" /><line x1=\"247\" y1=\"0\" x2=\"247\" y2=\"20\" style=\"stroke:#f6f7f7;stroke-width:3;\" /><line x1=\"248\" y1=\"0\" x2=\"248\" y2=\"20\" style=\"stroke:#f6f7f7;stroke-width:3;\" /><line x1=\"249\" y1=\"0\" x2=\"249\" y2=\"20\" style=\"stroke:#f7f7f7;stroke-width:3;\" /><line x1=\"250\" y1=\"0\" x2=\"250\" y2=\"20\" style=\"stroke:#f8f7f7;stroke-width:3;\" /><line x1=\"251\" y1=\"0\" x2=\"251\" y2=\"20\" style=\"stroke:#f8f7f6;stroke-width:3;\" /><line x1=\"252\" y1=\"0\" x2=\"252\" y2=\"20\" style=\"stroke:#f8f6f5;stroke-width:3;\" /><line x1=\"253\" y1=\"0\" x2=\"253\" y2=\"20\" style=\"stroke:#f8f5f4;stroke-width:3;\" /><line x1=\"254\" y1=\"0\" x2=\"254\" y2=\"20\" style=\"stroke:#f8f5f3;stroke-width:3;\" /><line x1=\"255\" y1=\"0\" x2=\"255\" y2=\"20\" style=\"stroke:#f8f4f2;stroke-width:3;\" /><line x1=\"256\" y1=\"0\" x2=\"256\" y2=\"20\" style=\"stroke:#f8f4f1;stroke-width:3;\" /><line x1=\"257\" y1=\"0\" x2=\"257\" y2=\"20\" style=\"stroke:#f8f3f0;stroke-width:3;\" /><line x1=\"258\" y1=\"0\" x2=\"258\" y2=\"20\" style=\"stroke:#f8f3ef;stroke-width:3;\" /><line x1=\"259\" y1=\"0\" x2=\"259\" y2=\"20\" style=\"stroke:#f9f2ee;stroke-width:3;\" /><line x1=\"260\" y1=\"0\" x2=\"260\" y2=\"20\" style=\"stroke:#f9f2ed;stroke-width:3;\" /><line x1=\"261\" y1=\"0\" x2=\"261\" y2=\"20\" style=\"stroke:#f9f1ec;stroke-width:3;\" /><line x1=\"262\" y1=\"0\" x2=\"262\" y2=\"20\" style=\"stroke:#f9f0eb;stroke-width:3;\" /><line x1=\"263\" y1=\"0\" x2=\"263\" y2=\"20\" style=\"stroke:#f9f0ea;stroke-width:3;\" /><line x1=\"264\" y1=\"0\" x2=\"264\" y2=\"20\" style=\"stroke:#f9efe9;stroke-width:3;\" /><line x1=\"265\" y1=\"0\" x2=\"265\" y2=\"20\" style=\"stroke:#f9efe9;stroke-width:3;\" /><line x1=\"266\" y1=\"0\" x2=\"266\" y2=\"20\" style=\"stroke:#f9eee8;stroke-width:3;\" /><line x1=\"267\" y1=\"0\" x2=\"267\" y2=\"20\" style=\"stroke:#faeee7;stroke-width:3;\" /><line x1=\"268\" y1=\"0\" x2=\"268\" y2=\"20\" style=\"stroke:#faede6;stroke-width:3;\" /><line x1=\"269\" y1=\"0\" x2=\"269\" y2=\"20\" style=\"stroke:#faece5;stroke-width:3;\" /><line x1=\"270\" y1=\"0\" x2=\"270\" y2=\"20\" style=\"stroke:#faece4;stroke-width:3;\" /><line x1=\"271\" y1=\"0\" x2=\"271\" y2=\"20\" style=\"stroke:#faebe3;stroke-width:3;\" /><line x1=\"272\" y1=\"0\" x2=\"272\" y2=\"20\" style=\"stroke:#faebe2;stroke-width:3;\" /><line x1=\"273\" y1=\"0\" x2=\"273\" y2=\"20\" style=\"stroke:#faeae1;stroke-width:3;\" /><line x1=\"274\" y1=\"0\" x2=\"274\" y2=\"20\" style=\"stroke:#faeae0;stroke-width:3;\" /><line x1=\"275\" y1=\"0\" x2=\"275\" y2=\"20\" style=\"stroke:#fbe9df;stroke-width:3;\" /><line x1=\"276\" y1=\"0\" x2=\"276\" y2=\"20\" style=\"stroke:#fbe9de;stroke-width:3;\" /><line x1=\"277\" y1=\"0\" x2=\"277\" y2=\"20\" style=\"stroke:#fbe8dd;stroke-width:3;\" /><line x1=\"278\" y1=\"0\" x2=\"278\" y2=\"20\" style=\"stroke:#fbe7dc;stroke-width:3;\" /><line x1=\"279\" y1=\"0\" x2=\"279\" y2=\"20\" style=\"stroke:#fbe7db;stroke-width:3;\" /><line x1=\"280\" y1=\"0\" x2=\"280\" y2=\"20\" style=\"stroke:#fbe6da;stroke-width:3;\" /><line x1=\"281\" y1=\"0\" x2=\"281\" y2=\"20\" style=\"stroke:#fbe6d9;stroke-width:3;\" /><line x1=\"282\" y1=\"0\" x2=\"282\" y2=\"20\" style=\"stroke:#fbe5d8;stroke-width:3;\" /><line x1=\"283\" y1=\"0\" x2=\"283\" y2=\"20\" style=\"stroke:#fce5d7;stroke-width:3;\" /><line x1=\"284\" y1=\"0\" x2=\"284\" y2=\"20\" style=\"stroke:#fce4d6;stroke-width:3;\" /><line x1=\"285\" y1=\"0\" x2=\"285\" y2=\"20\" style=\"stroke:#fce3d5;stroke-width:3;\" /><line x1=\"286\" y1=\"0\" x2=\"286\" y2=\"20\" style=\"stroke:#fce3d4;stroke-width:3;\" /><line x1=\"287\" y1=\"0\" x2=\"287\" y2=\"20\" style=\"stroke:#fce2d3;stroke-width:3;\" /><line x1=\"288\" y1=\"0\" x2=\"288\" y2=\"20\" style=\"stroke:#fce2d2;stroke-width:3;\" /><line x1=\"289\" y1=\"0\" x2=\"289\" y2=\"20\" style=\"stroke:#fce1d1;stroke-width:3;\" /><line x1=\"290\" y1=\"0\" x2=\"290\" y2=\"20\" style=\"stroke:#fce1d0;stroke-width:3;\" /><line x1=\"291\" y1=\"0\" x2=\"291\" y2=\"20\" style=\"stroke:#fce0cf;stroke-width:3;\" /><line x1=\"292\" y1=\"0\" x2=\"292\" y2=\"20\" style=\"stroke:#fde0ce;stroke-width:3;\" /><line x1=\"293\" y1=\"0\" x2=\"293\" y2=\"20\" style=\"stroke:#fddfcd;stroke-width:3;\" /><line x1=\"294\" y1=\"0\" x2=\"294\" y2=\"20\" style=\"stroke:#fddecc;stroke-width:3;\" /><line x1=\"295\" y1=\"0\" x2=\"295\" y2=\"20\" style=\"stroke:#fddecc;stroke-width:3;\" /><line x1=\"296\" y1=\"0\" x2=\"296\" y2=\"20\" style=\"stroke:#fdddcb;stroke-width:3;\" /><line x1=\"297\" y1=\"0\" x2=\"297\" y2=\"20\" style=\"stroke:#fdddca;stroke-width:3;\" /><line x1=\"298\" y1=\"0\" x2=\"298\" y2=\"20\" style=\"stroke:#fddcc9;stroke-width:3;\" /><line x1=\"299\" y1=\"0\" x2=\"299\" y2=\"20\" style=\"stroke:#fddcc8;stroke-width:3;\" /><line x1=\"300\" y1=\"0\" x2=\"300\" y2=\"20\" style=\"stroke:#fddbc6;stroke-width:3;\" /><line x1=\"301\" y1=\"0\" x2=\"301\" y2=\"20\" style=\"stroke:#fddac5;stroke-width:3;\" /><line x1=\"302\" y1=\"0\" x2=\"302\" y2=\"20\" style=\"stroke:#fdd9c4;stroke-width:3;\" /><line x1=\"303\" y1=\"0\" x2=\"303\" y2=\"20\" style=\"stroke:#fdd7c2;stroke-width:3;\" /><line x1=\"304\" y1=\"0\" x2=\"304\" y2=\"20\" style=\"stroke:#fdd6c1;stroke-width:3;\" /><line x1=\"305\" y1=\"0\" x2=\"305\" y2=\"20\" style=\"stroke:#fcd5c0;stroke-width:3;\" /><line x1=\"306\" y1=\"0\" x2=\"306\" y2=\"20\" style=\"stroke:#fcd4be;stroke-width:3;\" /><line x1=\"307\" y1=\"0\" x2=\"307\" y2=\"20\" style=\"stroke:#fcd3bd;stroke-width:3;\" /><line x1=\"308\" y1=\"0\" x2=\"308\" y2=\"20\" style=\"stroke:#fcd2bb;stroke-width:3;\" /><line x1=\"309\" y1=\"0\" x2=\"309\" y2=\"20\" style=\"stroke:#fcd1ba;stroke-width:3;\" /><line x1=\"310\" y1=\"0\" x2=\"310\" y2=\"20\" style=\"stroke:#fcd0b9;stroke-width:3;\" /><line x1=\"311\" y1=\"0\" x2=\"311\" y2=\"20\" style=\"stroke:#fbcfb7;stroke-width:3;\" /><line x1=\"312\" y1=\"0\" x2=\"312\" y2=\"20\" style=\"stroke:#fbceb6;stroke-width:3;\" /><line x1=\"313\" y1=\"0\" x2=\"313\" y2=\"20\" style=\"stroke:#fbcdb4;stroke-width:3;\" /><line x1=\"314\" y1=\"0\" x2=\"314\" y2=\"20\" style=\"stroke:#fbcbb3;stroke-width:3;\" /><line x1=\"315\" y1=\"0\" x2=\"315\" y2=\"20\" style=\"stroke:#fbcab2;stroke-width:3;\" /><line x1=\"316\" y1=\"0\" x2=\"316\" y2=\"20\" style=\"stroke:#fac9b0;stroke-width:3;\" /><line x1=\"317\" y1=\"0\" x2=\"317\" y2=\"20\" style=\"stroke:#fac8af;stroke-width:3;\" /><line x1=\"318\" y1=\"0\" x2=\"318\" y2=\"20\" style=\"stroke:#fac7ad;stroke-width:3;\" /><line x1=\"319\" y1=\"0\" x2=\"319\" y2=\"20\" style=\"stroke:#fac6ac;stroke-width:3;\" /><line x1=\"320\" y1=\"0\" x2=\"320\" y2=\"20\" style=\"stroke:#fac5ab;stroke-width:3;\" /><line x1=\"321\" y1=\"0\" x2=\"321\" y2=\"20\" style=\"stroke:#fac4a9;stroke-width:3;\" /><line x1=\"322\" y1=\"0\" x2=\"322\" y2=\"20\" style=\"stroke:#f9c3a8;stroke-width:3;\" /><line x1=\"323\" y1=\"0\" x2=\"323\" y2=\"20\" style=\"stroke:#f9c2a7;stroke-width:3;\" /><line x1=\"324\" y1=\"0\" x2=\"324\" y2=\"20\" style=\"stroke:#f9c1a5;stroke-width:3;\" /><line x1=\"325\" y1=\"0\" x2=\"325\" y2=\"20\" style=\"stroke:#f9c0a4;stroke-width:3;\" /><line x1=\"326\" y1=\"0\" x2=\"326\" y2=\"20\" style=\"stroke:#f9bea2;stroke-width:3;\" /><line x1=\"327\" y1=\"0\" x2=\"327\" y2=\"20\" style=\"stroke:#f8bda1;stroke-width:3;\" /><line x1=\"328\" y1=\"0\" x2=\"328\" y2=\"20\" style=\"stroke:#f8bca0;stroke-width:3;\" /><line x1=\"329\" y1=\"0\" x2=\"329\" y2=\"20\" style=\"stroke:#f8bb9e;stroke-width:3;\" /><line x1=\"330\" y1=\"0\" x2=\"330\" y2=\"20\" style=\"stroke:#f8ba9d;stroke-width:3;\" /><line x1=\"331\" y1=\"0\" x2=\"331\" y2=\"20\" style=\"stroke:#f8b99b;stroke-width:3;\" /><line x1=\"332\" y1=\"0\" x2=\"332\" y2=\"20\" style=\"stroke:#f8b89a;stroke-width:3;\" /><line x1=\"333\" y1=\"0\" x2=\"333\" y2=\"20\" style=\"stroke:#f7b799;stroke-width:3;\" /><line x1=\"334\" y1=\"0\" x2=\"334\" y2=\"20\" style=\"stroke:#f7b697;stroke-width:3;\" /><line x1=\"335\" y1=\"0\" x2=\"335\" y2=\"20\" style=\"stroke:#f7b596;stroke-width:3;\" /><line x1=\"336\" y1=\"0\" x2=\"336\" y2=\"20\" style=\"stroke:#f7b494;stroke-width:3;\" /><line x1=\"337\" y1=\"0\" x2=\"337\" y2=\"20\" style=\"stroke:#f7b393;stroke-width:3;\" /><line x1=\"338\" y1=\"0\" x2=\"338\" y2=\"20\" style=\"stroke:#f7b192;stroke-width:3;\" /><line x1=\"339\" y1=\"0\" x2=\"339\" y2=\"20\" style=\"stroke:#f6b090;stroke-width:3;\" /><line x1=\"340\" y1=\"0\" x2=\"340\" y2=\"20\" style=\"stroke:#f6af8f;stroke-width:3;\" /><line x1=\"341\" y1=\"0\" x2=\"341\" y2=\"20\" style=\"stroke:#f6ae8e;stroke-width:3;\" /><line x1=\"342\" y1=\"0\" x2=\"342\" y2=\"20\" style=\"stroke:#f6ad8c;stroke-width:3;\" /><line x1=\"343\" y1=\"0\" x2=\"343\" y2=\"20\" style=\"stroke:#f6ac8b;stroke-width:3;\" /><line x1=\"344\" y1=\"0\" x2=\"344\" y2=\"20\" style=\"stroke:#f5ab89;stroke-width:3;\" /><line x1=\"345\" y1=\"0\" x2=\"345\" y2=\"20\" style=\"stroke:#f5aa88;stroke-width:3;\" /><line x1=\"346\" y1=\"0\" x2=\"346\" y2=\"20\" style=\"stroke:#f5a987;stroke-width:3;\" /><line x1=\"347\" y1=\"0\" x2=\"347\" y2=\"20\" style=\"stroke:#f5a885;stroke-width:3;\" /><line x1=\"348\" y1=\"0\" x2=\"348\" y2=\"20\" style=\"stroke:#f5a784;stroke-width:3;\" /><line x1=\"349\" y1=\"0\" x2=\"349\" y2=\"20\" style=\"stroke:#f5a582;stroke-width:3;\" /><line x1=\"350\" y1=\"0\" x2=\"350\" y2=\"20\" style=\"stroke:#f4a481;stroke-width:3;\" /><line x1=\"351\" y1=\"0\" x2=\"351\" y2=\"20\" style=\"stroke:#f3a380;stroke-width:3;\" /><line x1=\"352\" y1=\"0\" x2=\"352\" y2=\"20\" style=\"stroke:#f3a17f;stroke-width:3;\" /><line x1=\"353\" y1=\"0\" x2=\"353\" y2=\"20\" style=\"stroke:#f2a07e;stroke-width:3;\" /><line x1=\"354\" y1=\"0\" x2=\"354\" y2=\"20\" style=\"stroke:#f29f7d;stroke-width:3;\" /><line x1=\"355\" y1=\"0\" x2=\"355\" y2=\"20\" style=\"stroke:#f19d7c;stroke-width:3;\" /><line x1=\"356\" y1=\"0\" x2=\"356\" y2=\"20\" style=\"stroke:#f09c7b;stroke-width:3;\" /><line x1=\"357\" y1=\"0\" x2=\"357\" y2=\"20\" style=\"stroke:#f09a7a;stroke-width:3;\" /><line x1=\"358\" y1=\"0\" x2=\"358\" y2=\"20\" style=\"stroke:#ef9979;stroke-width:3;\" /><line x1=\"359\" y1=\"0\" x2=\"359\" y2=\"20\" style=\"stroke:#ef9878;stroke-width:3;\" /><line x1=\"360\" y1=\"0\" x2=\"360\" y2=\"20\" style=\"stroke:#ee9677;stroke-width:3;\" /><line x1=\"361\" y1=\"0\" x2=\"361\" y2=\"20\" style=\"stroke:#ed9576;stroke-width:3;\" /><line x1=\"362\" y1=\"0\" x2=\"362\" y2=\"20\" style=\"stroke:#ed9474;stroke-width:3;\" /><line x1=\"363\" y1=\"0\" x2=\"363\" y2=\"20\" style=\"stroke:#ec9273;stroke-width:3;\" /><line x1=\"364\" y1=\"0\" x2=\"364\" y2=\"20\" style=\"stroke:#ec9172;stroke-width:3;\" /><line x1=\"365\" y1=\"0\" x2=\"365\" y2=\"20\" style=\"stroke:#eb8f71;stroke-width:3;\" /><line x1=\"366\" y1=\"0\" x2=\"366\" y2=\"20\" style=\"stroke:#ea8e70;stroke-width:3;\" /><line x1=\"367\" y1=\"0\" x2=\"367\" y2=\"20\" style=\"stroke:#ea8d6f;stroke-width:3;\" /><line x1=\"368\" y1=\"0\" x2=\"368\" y2=\"20\" style=\"stroke:#e98b6e;stroke-width:3;\" /><line x1=\"369\" y1=\"0\" x2=\"369\" y2=\"20\" style=\"stroke:#e98a6d;stroke-width:3;\" /><line x1=\"370\" y1=\"0\" x2=\"370\" y2=\"20\" style=\"stroke:#e8886c;stroke-width:3;\" /><line x1=\"371\" y1=\"0\" x2=\"371\" y2=\"20\" style=\"stroke:#e7876b;stroke-width:3;\" /><line x1=\"372\" y1=\"0\" x2=\"372\" y2=\"20\" style=\"stroke:#e7866a;stroke-width:3;\" /><line x1=\"373\" y1=\"0\" x2=\"373\" y2=\"20\" style=\"stroke:#e68469;stroke-width:3;\" /><line x1=\"374\" y1=\"0\" x2=\"374\" y2=\"20\" style=\"stroke:#e68368;stroke-width:3;\" /><line x1=\"375\" y1=\"0\" x2=\"375\" y2=\"20\" style=\"stroke:#e58167;stroke-width:3;\" /><line x1=\"376\" y1=\"0\" x2=\"376\" y2=\"20\" style=\"stroke:#e48066;stroke-width:3;\" /><line x1=\"377\" y1=\"0\" x2=\"377\" y2=\"20\" style=\"stroke:#e47f64;stroke-width:3;\" /><line x1=\"378\" y1=\"0\" x2=\"378\" y2=\"20\" style=\"stroke:#e37d63;stroke-width:3;\" /><line x1=\"379\" y1=\"0\" x2=\"379\" y2=\"20\" style=\"stroke:#e37c62;stroke-width:3;\" /><line x1=\"380\" y1=\"0\" x2=\"380\" y2=\"20\" style=\"stroke:#e27b61;stroke-width:3;\" /><line x1=\"381\" y1=\"0\" x2=\"381\" y2=\"20\" style=\"stroke:#e17960;stroke-width:3;\" /><line x1=\"382\" y1=\"0\" x2=\"382\" y2=\"20\" style=\"stroke:#e1785f;stroke-width:3;\" /><line x1=\"383\" y1=\"0\" x2=\"383\" y2=\"20\" style=\"stroke:#e0765e;stroke-width:3;\" /><line x1=\"384\" y1=\"0\" x2=\"384\" y2=\"20\" style=\"stroke:#e0755d;stroke-width:3;\" /><line x1=\"385\" y1=\"0\" x2=\"385\" y2=\"20\" style=\"stroke:#df745c;stroke-width:3;\" /><line x1=\"386\" y1=\"0\" x2=\"386\" y2=\"20\" style=\"stroke:#de725b;stroke-width:3;\" /><line x1=\"387\" y1=\"0\" x2=\"387\" y2=\"20\" style=\"stroke:#de715a;stroke-width:3;\" /><line x1=\"388\" y1=\"0\" x2=\"388\" y2=\"20\" style=\"stroke:#dd6f59;stroke-width:3;\" /><line x1=\"389\" y1=\"0\" x2=\"389\" y2=\"20\" style=\"stroke:#dc6e58;stroke-width:3;\" /><line x1=\"390\" y1=\"0\" x2=\"390\" y2=\"20\" style=\"stroke:#dc6d57;stroke-width:3;\" /><line x1=\"391\" y1=\"0\" x2=\"391\" y2=\"20\" style=\"stroke:#db6b56;stroke-width:3;\" /><line x1=\"392\" y1=\"0\" x2=\"392\" y2=\"20\" style=\"stroke:#db6a54;stroke-width:3;\" /><line x1=\"393\" y1=\"0\" x2=\"393\" y2=\"20\" style=\"stroke:#da6853;stroke-width:3;\" /><line x1=\"394\" y1=\"0\" x2=\"394\" y2=\"20\" style=\"stroke:#d96752;stroke-width:3;\" /><line x1=\"395\" y1=\"0\" x2=\"395\" y2=\"20\" style=\"stroke:#d96651;stroke-width:3;\" /><line x1=\"396\" y1=\"0\" x2=\"396\" y2=\"20\" style=\"stroke:#d86450;stroke-width:3;\" /><line x1=\"397\" y1=\"0\" x2=\"397\" y2=\"20\" style=\"stroke:#d8634f;stroke-width:3;\" /><line x1=\"398\" y1=\"0\" x2=\"398\" y2=\"20\" style=\"stroke:#d7624e;stroke-width:3;\" /><line x1=\"399\" y1=\"0\" x2=\"399\" y2=\"20\" style=\"stroke:#d6604d;stroke-width:3;\" /><line x1=\"400\" y1=\"0\" x2=\"400\" y2=\"20\" style=\"stroke:#d65f4c;stroke-width:3;\" /><line x1=\"401\" y1=\"0\" x2=\"401\" y2=\"20\" style=\"stroke:#d55d4c;stroke-width:3;\" /><line x1=\"402\" y1=\"0\" x2=\"402\" y2=\"20\" style=\"stroke:#d45c4b;stroke-width:3;\" /><line x1=\"403\" y1=\"0\" x2=\"403\" y2=\"20\" style=\"stroke:#d45a4a;stroke-width:3;\" /><line x1=\"404\" y1=\"0\" x2=\"404\" y2=\"20\" style=\"stroke:#d3594a;stroke-width:3;\" /><line x1=\"405\" y1=\"0\" x2=\"405\" y2=\"20\" style=\"stroke:#d25749;stroke-width:3;\" /><line x1=\"406\" y1=\"0\" x2=\"406\" y2=\"20\" style=\"stroke:#d15648;stroke-width:3;\" /><line x1=\"407\" y1=\"0\" x2=\"407\" y2=\"20\" style=\"stroke:#d15547;stroke-width:3;\" /><line x1=\"408\" y1=\"0\" x2=\"408\" y2=\"20\" style=\"stroke:#d05347;stroke-width:3;\" /><line x1=\"409\" y1=\"0\" x2=\"409\" y2=\"20\" style=\"stroke:#cf5246;stroke-width:3;\" /><line x1=\"410\" y1=\"0\" x2=\"410\" y2=\"20\" style=\"stroke:#cf5045;stroke-width:3;\" /><line x1=\"411\" y1=\"0\" x2=\"411\" y2=\"20\" style=\"stroke:#ce4f45;stroke-width:3;\" /><line x1=\"412\" y1=\"0\" x2=\"412\" y2=\"20\" style=\"stroke:#cd4d44;stroke-width:3;\" /><line x1=\"413\" y1=\"0\" x2=\"413\" y2=\"20\" style=\"stroke:#cc4c43;stroke-width:3;\" /><line x1=\"414\" y1=\"0\" x2=\"414\" y2=\"20\" style=\"stroke:#cc4a43;stroke-width:3;\" /><line x1=\"415\" y1=\"0\" x2=\"415\" y2=\"20\" style=\"stroke:#cb4942;stroke-width:3;\" /><line x1=\"416\" y1=\"0\" x2=\"416\" y2=\"20\" style=\"stroke:#ca4841;stroke-width:3;\" /><line x1=\"417\" y1=\"0\" x2=\"417\" y2=\"20\" style=\"stroke:#c94641;stroke-width:3;\" /><line x1=\"418\" y1=\"0\" x2=\"418\" y2=\"20\" style=\"stroke:#c94540;stroke-width:3;\" /><line x1=\"419\" y1=\"0\" x2=\"419\" y2=\"20\" style=\"stroke:#c8433f;stroke-width:3;\" /><line x1=\"420\" y1=\"0\" x2=\"420\" y2=\"20\" style=\"stroke:#c7423f;stroke-width:3;\" /><line x1=\"421\" y1=\"0\" x2=\"421\" y2=\"20\" style=\"stroke:#c7403e;stroke-width:3;\" /><line x1=\"422\" y1=\"0\" x2=\"422\" y2=\"20\" style=\"stroke:#c63f3d;stroke-width:3;\" /><line x1=\"423\" y1=\"0\" x2=\"423\" y2=\"20\" style=\"stroke:#c53d3d;stroke-width:3;\" /><line x1=\"424\" y1=\"0\" x2=\"424\" y2=\"20\" style=\"stroke:#c43c3c;stroke-width:3;\" /><line x1=\"425\" y1=\"0\" x2=\"425\" y2=\"20\" style=\"stroke:#c43b3b;stroke-width:3;\" /><line x1=\"426\" y1=\"0\" x2=\"426\" y2=\"20\" style=\"stroke:#c3393a;stroke-width:3;\" /><line x1=\"427\" y1=\"0\" x2=\"427\" y2=\"20\" style=\"stroke:#c2383a;stroke-width:3;\" /><line x1=\"428\" y1=\"0\" x2=\"428\" y2=\"20\" style=\"stroke:#c13639;stroke-width:3;\" /><line x1=\"429\" y1=\"0\" x2=\"429\" y2=\"20\" style=\"stroke:#c13538;stroke-width:3;\" /><line x1=\"430\" y1=\"0\" x2=\"430\" y2=\"20\" style=\"stroke:#c03338;stroke-width:3;\" /><line x1=\"431\" y1=\"0\" x2=\"431\" y2=\"20\" style=\"stroke:#bf3237;stroke-width:3;\" /><line x1=\"432\" y1=\"0\" x2=\"432\" y2=\"20\" style=\"stroke:#bf3036;stroke-width:3;\" /><line x1=\"433\" y1=\"0\" x2=\"433\" y2=\"20\" style=\"stroke:#be2f36;stroke-width:3;\" /><line x1=\"434\" y1=\"0\" x2=\"434\" y2=\"20\" style=\"stroke:#bd2d35;stroke-width:3;\" /><line x1=\"435\" y1=\"0\" x2=\"435\" y2=\"20\" style=\"stroke:#bc2c34;stroke-width:3;\" /><line x1=\"436\" y1=\"0\" x2=\"436\" y2=\"20\" style=\"stroke:#bc2b34;stroke-width:3;\" /><line x1=\"437\" y1=\"0\" x2=\"437\" y2=\"20\" style=\"stroke:#bb2933;stroke-width:3;\" /><line x1=\"438\" y1=\"0\" x2=\"438\" y2=\"20\" style=\"stroke:#ba2832;stroke-width:3;\" /><line x1=\"439\" y1=\"0\" x2=\"439\" y2=\"20\" style=\"stroke:#ba2632;stroke-width:3;\" /><line x1=\"440\" y1=\"0\" x2=\"440\" y2=\"20\" style=\"stroke:#b92531;stroke-width:3;\" /><line x1=\"441\" y1=\"0\" x2=\"441\" y2=\"20\" style=\"stroke:#b82330;stroke-width:3;\" /><line x1=\"442\" y1=\"0\" x2=\"442\" y2=\"20\" style=\"stroke:#b72230;stroke-width:3;\" /><line x1=\"443\" y1=\"0\" x2=\"443\" y2=\"20\" style=\"stroke:#b7202f;stroke-width:3;\" /><line x1=\"444\" y1=\"0\" x2=\"444\" y2=\"20\" style=\"stroke:#b61f2e;stroke-width:3;\" /><line x1=\"445\" y1=\"0\" x2=\"445\" y2=\"20\" style=\"stroke:#b51e2d;stroke-width:3;\" /><line x1=\"446\" y1=\"0\" x2=\"446\" y2=\"20\" style=\"stroke:#b41c2d;stroke-width:3;\" /><line x1=\"447\" y1=\"0\" x2=\"447\" y2=\"20\" style=\"stroke:#b41b2c;stroke-width:3;\" /><line x1=\"448\" y1=\"0\" x2=\"448\" y2=\"20\" style=\"stroke:#b3192b;stroke-width:3;\" /><line x1=\"449\" y1=\"0\" x2=\"449\" y2=\"20\" style=\"stroke:#b2182b;stroke-width:3;\" /><line x1=\"450\" y1=\"0\" x2=\"450\" y2=\"20\" style=\"stroke:#b1172a;stroke-width:3;\" /><line x1=\"451\" y1=\"0\" x2=\"451\" y2=\"20\" style=\"stroke:#af172a;stroke-width:3;\" /><line x1=\"452\" y1=\"0\" x2=\"452\" y2=\"20\" style=\"stroke:#ae162a;stroke-width:3;\" /><line x1=\"453\" y1=\"0\" x2=\"453\" y2=\"20\" style=\"stroke:#ac162a;stroke-width:3;\" /><line x1=\"454\" y1=\"0\" x2=\"454\" y2=\"20\" style=\"stroke:#ab1529;stroke-width:3;\" /><line x1=\"455\" y1=\"0\" x2=\"455\" y2=\"20\" style=\"stroke:#a91529;stroke-width:3;\" /><line x1=\"456\" y1=\"0\" x2=\"456\" y2=\"20\" style=\"stroke:#a81429;stroke-width:3;\" /><line x1=\"457\" y1=\"0\" x2=\"457\" y2=\"20\" style=\"stroke:#a61429;stroke-width:3;\" /><line x1=\"458\" y1=\"0\" x2=\"458\" y2=\"20\" style=\"stroke:#a51329;stroke-width:3;\" /><line x1=\"459\" y1=\"0\" x2=\"459\" y2=\"20\" style=\"stroke:#a31328;stroke-width:3;\" /><line x1=\"460\" y1=\"0\" x2=\"460\" y2=\"20\" style=\"stroke:#a21228;stroke-width:3;\" /><line x1=\"461\" y1=\"0\" x2=\"461\" y2=\"20\" style=\"stroke:#a01228;stroke-width:3;\" /><line x1=\"462\" y1=\"0\" x2=\"462\" y2=\"20\" style=\"stroke:#9f1128;stroke-width:3;\" /><line x1=\"463\" y1=\"0\" x2=\"463\" y2=\"20\" style=\"stroke:#9d1127;stroke-width:3;\" /><line x1=\"464\" y1=\"0\" x2=\"464\" y2=\"20\" style=\"stroke:#9c1027;stroke-width:3;\" /><line x1=\"465\" y1=\"0\" x2=\"465\" y2=\"20\" style=\"stroke:#9a1027;stroke-width:3;\" /><line x1=\"466\" y1=\"0\" x2=\"466\" y2=\"20\" style=\"stroke:#990f27;stroke-width:3;\" /><line x1=\"467\" y1=\"0\" x2=\"467\" y2=\"20\" style=\"stroke:#970f26;stroke-width:3;\" /><line x1=\"468\" y1=\"0\" x2=\"468\" y2=\"20\" style=\"stroke:#960e26;stroke-width:3;\" /><line x1=\"469\" y1=\"0\" x2=\"469\" y2=\"20\" style=\"stroke:#940e26;stroke-width:3;\" /><line x1=\"470\" y1=\"0\" x2=\"470\" y2=\"20\" style=\"stroke:#930e26;stroke-width:3;\" /><line x1=\"471\" y1=\"0\" x2=\"471\" y2=\"20\" style=\"stroke:#910d25;stroke-width:3;\" /><line x1=\"472\" y1=\"0\" x2=\"472\" y2=\"20\" style=\"stroke:#900d25;stroke-width:3;\" /><line x1=\"473\" y1=\"0\" x2=\"473\" y2=\"20\" style=\"stroke:#8e0c25;stroke-width:3;\" /><line x1=\"474\" y1=\"0\" x2=\"474\" y2=\"20\" style=\"stroke:#8d0c25;stroke-width:3;\" /><line x1=\"475\" y1=\"0\" x2=\"475\" y2=\"20\" style=\"stroke:#8b0b24;stroke-width:3;\" /><line x1=\"476\" y1=\"0\" x2=\"476\" y2=\"20\" style=\"stroke:#8a0b24;stroke-width:3;\" /><line x1=\"477\" y1=\"0\" x2=\"477\" y2=\"20\" style=\"stroke:#880a24;stroke-width:3;\" /><line x1=\"478\" y1=\"0\" x2=\"478\" y2=\"20\" style=\"stroke:#870a24;stroke-width:3;\" /><line x1=\"479\" y1=\"0\" x2=\"479\" y2=\"20\" style=\"stroke:#850923;stroke-width:3;\" /><line x1=\"480\" y1=\"0\" x2=\"480\" y2=\"20\" style=\"stroke:#840923;stroke-width:3;\" /><line x1=\"481\" y1=\"0\" x2=\"481\" y2=\"20\" style=\"stroke:#820823;stroke-width:3;\" /><line x1=\"482\" y1=\"0\" x2=\"482\" y2=\"20\" style=\"stroke:#810823;stroke-width:3;\" /><line x1=\"483\" y1=\"0\" x2=\"483\" y2=\"20\" style=\"stroke:#7f0722;stroke-width:3;\" /><line x1=\"484\" y1=\"0\" x2=\"484\" y2=\"20\" style=\"stroke:#7e0722;stroke-width:3;\" /><line x1=\"485\" y1=\"0\" x2=\"485\" y2=\"20\" style=\"stroke:#7c0622;stroke-width:3;\" /><line x1=\"486\" y1=\"0\" x2=\"486\" y2=\"20\" style=\"stroke:#7b0622;stroke-width:3;\" /><line x1=\"487\" y1=\"0\" x2=\"487\" y2=\"20\" style=\"stroke:#790522;stroke-width:3;\" /><line x1=\"488\" y1=\"0\" x2=\"488\" y2=\"20\" style=\"stroke:#780521;stroke-width:3;\" /><line x1=\"489\" y1=\"0\" x2=\"489\" y2=\"20\" style=\"stroke:#760421;stroke-width:3;\" /><line x1=\"490\" y1=\"0\" x2=\"490\" y2=\"20\" style=\"stroke:#740421;stroke-width:3;\" /><line x1=\"491\" y1=\"0\" x2=\"491\" y2=\"20\" style=\"stroke:#730321;stroke-width:3;\" /><line x1=\"492\" y1=\"0\" x2=\"492\" y2=\"20\" style=\"stroke:#710320;stroke-width:3;\" /><line x1=\"493\" y1=\"0\" x2=\"493\" y2=\"20\" style=\"stroke:#700220;stroke-width:3;\" /><line x1=\"494\" y1=\"0\" x2=\"494\" y2=\"20\" style=\"stroke:#6e0220;stroke-width:3;\" /><line x1=\"495\" y1=\"0\" x2=\"495\" y2=\"20\" style=\"stroke:#6d0120;stroke-width:3;\" /><line x1=\"496\" y1=\"0\" x2=\"496\" y2=\"20\" style=\"stroke:#6b011f;stroke-width:3;\" /><line x1=\"497\" y1=\"0\" x2=\"497\" y2=\"20\" style=\"stroke:#6a001f;stroke-width:3;\" /><line x1=\"498\" y1=\"0\" x2=\"498\" y2=\"20\" style=\"stroke:#68001f;stroke-width:3;\" /><line x1=\"499\" y1=\"0\" x2=\"499\" y2=\"20\" style=\"stroke:#67001f;stroke-width:3;\" /><text x=\"0\" y=\"35\">-1</text><text x=\"500\" y=\"35\" style=\"text-anchor:end;\">1</text></svg>"
      ],
      "text/plain": [
       "<branca.colormap.LinearColormap at 0x1e9731da748>"
      ]
     },
     "execution_count": 38,
     "metadata": {},
     "output_type": "execute_result"
    }
   ],
   "source": [
    "make_colormap(voters_withlean['lean'], 'Right Lean of Each Canton' )"
   ]
  },
  {
   "cell_type": "markdown",
   "metadata": {},
   "source": [
    "We still need another funciton to distinguish and give NAN a color:"
   ]
  },
  {
   "cell_type": "code",
   "execution_count": 39,
   "metadata": {},
   "outputs": [],
   "source": [
    "def get_color(dataframe, index, canton_id, color_range=['#67001f','#b2182b','#d6604d','#f4a582','#fddbc7',\\\n",
    "                                                     '#f7f7f7','#d1e5f0','#92c5de','#4393c3','#2166ac','#053061']):\n",
    "              \n",
    "    \"\"\"\n",
    "    This is function to get RGB values of each canton (include nan).\n",
    "    \n",
    "    Parameter:\n",
    "        dataframe:\n",
    "        the datafram including columns ['Code'] \n",
    "        \n",
    "        index:\n",
    "        index is a str name of one column in dataframe  eg.index='lean'\n",
    "        \n",
    "        canton_id:\n",
    "        id of canton eg: 'ZH'\n",
    "        \n",
    "        color_range:\n",
    "        a list of 11 levels RGB values to custumize the color\n",
    "        \n",
    "    Return:\n",
    "        Return a RGB value for lean\n",
    "    \n",
    "    \"\"\"\n",
    "    data = dataframe[dataframe['Code']== canton_id][index].iloc[0]\n",
    "    color = make_colormap(dataframe[index], index, color_range)\n",
    "    if np.isnan(data):\n",
    "        return '#999999' # grey for no data\n",
    "    else:\n",
    "        return color(data)"
   ]
  },
  {
   "cell_type": "code",
   "execution_count": 40,
   "metadata": {},
   "outputs": [
    {
     "name": "stdout",
     "output_type": "stream",
     "text": [
      "The color of ZH:  #fdd9c5\n",
      "The color of GR:  #999999\n"
     ]
    }
   ],
   "source": [
    "print('The color of ZH: ',get_color(voters_withlean, 'lean', 'ZH'))\n",
    "print('The color of GR: ',get_color(voters_withlean, 'lean', 'GR'))"
   ]
  },
  {
   "cell_type": "code",
   "execution_count": 41,
   "metadata": {},
   "outputs": [],
   "source": [
    "def make_layer(topojson, dataframe, index, color_range=['#67001f','#b2182b','#d6604d','#f4a582','#fddbc7',\\\n",
    "                                                     '#f7f7f7','#d1e5f0','#92c5de','#4393c3','#2166ac','#053061']):\n",
    "    \"\"\"\n",
    "    \n",
    "    make a layer for right lean, which canbe add to map directly\n",
    "    \n",
    "    Parameters:\n",
    "        topojson: \n",
    "        The topojson contains infomation of canton code, canton position and borders.\n",
    "        \n",
    "        dataframe:\n",
    "        the datafram including columns ['Code'] \n",
    "        \n",
    "        index:\n",
    "        index is a str name of one column in dataframe\n",
    "        \n",
    "        color_range:\n",
    "        a list of 11 levels RGB values to customize the color\n",
    "        \n",
    "    Return:\n",
    "        Return folium.map.FeatureGroup layer, which can be added to map.\n",
    "    \n",
    "    \"\"\"\n",
    "    feature_group = folium.FeatureGroup(name=index, overlay = True, show = False)\n",
    "    folium.TopoJson(\n",
    "        topojson,object_path = 'objects.cantons',\n",
    "        style_function = lambda feature: {\n",
    "            'fillColor': get_color(dataframe, index, feature['id'], color_range), #fill color according to its index value\n",
    "            'color' : 'black', # setting the border color\n",
    "            'weight' :  1, # setting the the line weight of canton borders\n",
    "            'fillOpacity': 1, \n",
    "            'dashArray' : '5, 5'\n",
    "            }\n",
    "        ).add_to(feature_group)\n",
    "    return feature_group"
   ]
  },
  {
   "cell_type": "markdown",
   "metadata": {},
   "source": [
    "This function is to make a pop-up layer to display the exact data we want to show. In this part, we need to use `copy.deepcopy` to get information of topojson. Then, we give variable `data` the value of index and chage it to string which is easy to be print. Lastly, we add all information to the Featuregroup we create before."
   ]
  },
  {
   "cell_type": "code",
   "execution_count": 42,
   "metadata": {},
   "outputs": [],
   "source": [
    "def column_isnan(dataframe, index, canton_id):\n",
    "    \"\"\"\n",
    "    to test does the datafram[index] is NAN where dataframe['Code'] == canton_id\n",
    "    \n",
    "    Parameters:\n",
    "        \n",
    "        dataframe:\n",
    "        the datafram including columns ['Code']\n",
    "        \n",
    "        index:\n",
    "        the str name of a colum in dataframe eg: 'lean'\n",
    "        \n",
    "        canton_id:\n",
    "        The id of canton eg: 'ZH'\n",
    "        \n",
    "    Return:\n",
    "        Return folium.map.FeatureGroup layer, which can be added to map.\n",
    "    \n",
    "    \"\"\"\n",
    "    return np.isnan(dataframe[(dataframe['Code'] == canton_id)][index]).get_values()"
   ]
  },
  {
   "cell_type": "code",
   "execution_count": 43,
   "metadata": {},
   "outputs": [],
   "source": [
    "def make_popup_data_layer(topojson, dataframe, index):\n",
    "    \"\"\"\n",
    "    \n",
    "     Add pop up infomation (Eg. Voting ratio, number of residents) for each canton.\n",
    "    \n",
    "    Parameters:\n",
    "        topojson: \n",
    "        The topojson contains infomation of canton code, canton position and borders.\n",
    "        \n",
    "        dataframe:\n",
    "        the datafram including columns ['Code']\n",
    "        \n",
    "        index:\n",
    "        the str name of a colum in dataframe eg: 'lean'\n",
    "        \n",
    "    Return:\n",
    "        Return folium.map.FeatureGroup layer, which can be added to map.\n",
    "    \n",
    "    \"\"\"\n",
    "    \n",
    "    popup = folium.FeatureGroup(name='Pop-ups',overlay = False, show = True)\n",
    "\n",
    "    for data in topojson['objects']['cantons']['geometries']:\n",
    "        \n",
    "        #copy information in topojson\n",
    "        cantons_topo = copy.deepcopy(topojson)\n",
    "        cantons_topo['objects']['cantons']['geometries'] = [data]\n",
    "        canton_id = cantons_topo['objects']['cantons']['geometries'][0]['id']\n",
    "        canton_name = cantons[dataframe['Code'] == canton_id]['Canton of'].values[0]\n",
    "        \n",
    "        #get value of index and chage to str\n",
    "        if column_isnan(dataframe, index, canton_id):\n",
    "            data = 'No data.'\n",
    "        else:\n",
    "            data = str(round(dataframe[dataframe['Code'] == canton_id][index].values[0],2))\n",
    "        \n",
    "        #create layer of caton using foliun.Topojson\n",
    "        canton_layer = folium.TopoJson(cantons_topo, 'objects.cantons', control = False, show = False,\n",
    "                                          style_function = lambda feature:{\n",
    "                                              'fillOpacity':0,\n",
    "                                              'weight' : 0\n",
    "                                          })\n",
    "        #add popup infomation to base layer\n",
    "        canton_layer.add_child(folium.Tooltip(canton_name + ' ' + index + ':  '+ data))\n",
    "        canton_layer.add_to(popup)\n",
    "        \n",
    "    return popup"
   ]
  },
  {
   "cell_type": "code",
   "execution_count": 44,
   "metadata": {},
   "outputs": [
    {
     "data": {
      "text/html": [
       "\n",
       "        <iframe\n",
       "            width=\"980\"\n",
       "            height=\"600\"\n",
       "            src=\"Right_lean.html\"\n",
       "            frameborder=\"0\"\n",
       "            allowfullscreen\n",
       "        ></iframe>\n",
       "        "
      ],
      "text/plain": [
       "<IPython.lib.display.IFrame at 0x1e973f36828>"
      ]
     },
     "execution_count": 44,
     "metadata": {},
     "output_type": "execute_result"
    }
   ],
   "source": [
    "topojson = json.load(open(r'data/ch-cantons.topojson.json'))\n",
    "mp = folium.Map([46.87, 8.36], tiles='cartodbpositron', zoom_start=7)\n",
    "\n",
    "make_colormap(voters_withlean['lean'], 'Right Lean of Each Canton').add_to(mp)\n",
    "make_layer(topojson, voters_withlean, 'lean').add_to(mp)\n",
    "make_popup_data_layer(topojson, voters_withlean, 'lean').add_to(mp)\n",
    "\n",
    "folium.Map.save(mp, 'Right_lean.html')\n",
    "IFrame(src=\"Right_lean.html\", width = 980, height = 600)"
   ]
  },
  {
   "cell_type": "markdown",
   "metadata": {},
   "source": [
    "[Click here to see Right_lean.html](Right_lean.html)"
   ]
  },
  {
   "cell_type": "markdown",
   "metadata": {},
   "source": [
    "### Conclusion of A)\n",
    "\n",
    "From the plot above, we can observe the röstigraben indeed when we combine with language boarders which we draw in the previous task. Here we use diverging color (red vs. blue) to show the right lean or left lean of each canton. This is clear that German-speaking cantons are more likely to have red colors while French-Speaking cantons mostly hold blue color. Greman-speaking areas are more intend to have right lean, which means they more prefer UDC than PS in 2014-2018 selection.\n"
   ]
  },
  {
   "cell_type": "markdown",
   "metadata": {},
   "source": [
    "__B)__ For each party, devise a way to visualize the difference between its 2014-2018 vote share (i.e. percentage) and its 2010-2013 vote share for each canton. Propose a way to visualize this evolution of the party over time, and justify your choices. There's no single correct answer, but you must reasonably explain your choices.\n",
    "\n",
    "First, we need to import the two periods' data. But there is some values equal to '*' in 2010-2013. So we replace them with np.nan. And we drop some columns to focus on information we are interested in."
   ]
  },
  {
   "cell_type": "code",
   "execution_count": 45,
   "metadata": {},
   "outputs": [
    {
     "data": {
      "text/html": [
       "<div>\n",
       "<style scoped>\n",
       "    .dataframe tbody tr th:only-of-type {\n",
       "        vertical-align: middle;\n",
       "    }\n",
       "\n",
       "    .dataframe tbody tr th {\n",
       "        vertical-align: top;\n",
       "    }\n",
       "\n",
       "    .dataframe thead th {\n",
       "        text-align: right;\n",
       "    }\n",
       "</style>\n",
       "<table border=\"1\" class=\"dataframe\">\n",
       "  <thead>\n",
       "    <tr style=\"text-align: right;\">\n",
       "      <th></th>\n",
       "      <th>Code</th>\n",
       "      <th>PLR</th>\n",
       "      <th>PDC</th>\n",
       "      <th>PS</th>\n",
       "      <th>UDC</th>\n",
       "      <th>PLS</th>\n",
       "      <th>PEV</th>\n",
       "      <th>PCS</th>\n",
       "      <th>PVL</th>\n",
       "      <th>PBD</th>\n",
       "      <th>PST</th>\n",
       "      <th>PSA</th>\n",
       "      <th>PES</th>\n",
       "      <th>AVF</th>\n",
       "      <th>Sol</th>\n",
       "      <th>DS</th>\n",
       "      <th>UDF</th>\n",
       "      <th>Lega</th>\n",
       "      <th>MCR</th>\n",
       "    </tr>\n",
       "  </thead>\n",
       "  <tbody>\n",
       "    <tr>\n",
       "      <th>0</th>\n",
       "      <td>ZH</td>\n",
       "      <td>12.934426</td>\n",
       "      <td>4.862598</td>\n",
       "      <td>19.317182</td>\n",
       "      <td>29.635552</td>\n",
       "      <td>NaN</td>\n",
       "      <td>3.778014</td>\n",
       "      <td>NaN</td>\n",
       "      <td>10.265505</td>\n",
       "      <td>3.465970</td>\n",
       "      <td>NaN</td>\n",
       "      <td>NaN</td>\n",
       "      <td>10.569400</td>\n",
       "      <td>1.627417</td>\n",
       "      <td>NaN</td>\n",
       "      <td>0.405206</td>\n",
       "      <td>2.571601</td>\n",
       "      <td>NaN</td>\n",
       "      <td>NaN</td>\n",
       "    </tr>\n",
       "    <tr>\n",
       "      <th>1</th>\n",
       "      <td>BE</td>\n",
       "      <td>10.335474</td>\n",
       "      <td>1.256537</td>\n",
       "      <td>18.852832</td>\n",
       "      <td>26.621577</td>\n",
       "      <td>NaN</td>\n",
       "      <td>5.898273</td>\n",
       "      <td>NaN</td>\n",
       "      <td>4.071319</td>\n",
       "      <td>16.027757</td>\n",
       "      <td>NaN</td>\n",
       "      <td>1.039215</td>\n",
       "      <td>10.101410</td>\n",
       "      <td>NaN</td>\n",
       "      <td>NaN</td>\n",
       "      <td>0.414800</td>\n",
       "      <td>4.403570</td>\n",
       "      <td>NaN</td>\n",
       "      <td>NaN</td>\n",
       "    </tr>\n",
       "    <tr>\n",
       "      <th>2</th>\n",
       "      <td>LU</td>\n",
       "      <td>18.864849</td>\n",
       "      <td>31.298184</td>\n",
       "      <td>10.964228</td>\n",
       "      <td>22.126508</td>\n",
       "      <td>NaN</td>\n",
       "      <td>NaN</td>\n",
       "      <td>NaN</td>\n",
       "      <td>5.904835</td>\n",
       "      <td>1.661765</td>\n",
       "      <td>NaN</td>\n",
       "      <td>NaN</td>\n",
       "      <td>8.668342</td>\n",
       "      <td>NaN</td>\n",
       "      <td>NaN</td>\n",
       "      <td>NaN</td>\n",
       "      <td>NaN</td>\n",
       "      <td>NaN</td>\n",
       "      <td>NaN</td>\n",
       "    </tr>\n",
       "    <tr>\n",
       "      <th>3</th>\n",
       "      <td>UR</td>\n",
       "      <td>20.281885</td>\n",
       "      <td>36.611083</td>\n",
       "      <td>12.085318</td>\n",
       "      <td>24.629866</td>\n",
       "      <td>NaN</td>\n",
       "      <td>NaN</td>\n",
       "      <td>NaN</td>\n",
       "      <td>NaN</td>\n",
       "      <td>NaN</td>\n",
       "      <td>NaN</td>\n",
       "      <td>NaN</td>\n",
       "      <td>3.892682</td>\n",
       "      <td>NaN</td>\n",
       "      <td>NaN</td>\n",
       "      <td>NaN</td>\n",
       "      <td>NaN</td>\n",
       "      <td>NaN</td>\n",
       "      <td>NaN</td>\n",
       "    </tr>\n",
       "    <tr>\n",
       "      <th>4</th>\n",
       "      <td>SZ</td>\n",
       "      <td>22.818461</td>\n",
       "      <td>29.083853</td>\n",
       "      <td>12.381160</td>\n",
       "      <td>34.004523</td>\n",
       "      <td>NaN</td>\n",
       "      <td>NaN</td>\n",
       "      <td>NaN</td>\n",
       "      <td>NaN</td>\n",
       "      <td>0.030112</td>\n",
       "      <td>NaN</td>\n",
       "      <td>NaN</td>\n",
       "      <td>0.189013</td>\n",
       "      <td>NaN</td>\n",
       "      <td>NaN</td>\n",
       "      <td>NaN</td>\n",
       "      <td>NaN</td>\n",
       "      <td>NaN</td>\n",
       "      <td>NaN</td>\n",
       "    </tr>\n",
       "  </tbody>\n",
       "</table>\n",
       "</div>"
      ],
      "text/plain": [
       "  Code        PLR        PDC         PS        UDC  PLS       PEV  PCS  \\\n",
       "0   ZH  12.934426   4.862598  19.317182  29.635552  NaN  3.778014  NaN   \n",
       "1   BE  10.335474   1.256537  18.852832  26.621577  NaN  5.898273  NaN   \n",
       "2   LU  18.864849  31.298184  10.964228  22.126508  NaN       NaN  NaN   \n",
       "3   UR  20.281885  36.611083  12.085318  24.629866  NaN       NaN  NaN   \n",
       "4   SZ  22.818461  29.083853  12.381160  34.004523  NaN       NaN  NaN   \n",
       "\n",
       "         PVL        PBD  PST       PSA        PES       AVF  Sol        DS  \\\n",
       "0  10.265505   3.465970  NaN       NaN  10.569400  1.627417  NaN  0.405206   \n",
       "1   4.071319  16.027757  NaN  1.039215  10.101410       NaN  NaN  0.414800   \n",
       "2   5.904835   1.661765  NaN       NaN   8.668342       NaN  NaN       NaN   \n",
       "3        NaN        NaN  NaN       NaN   3.892682       NaN  NaN       NaN   \n",
       "4        NaN   0.030112  NaN       NaN   0.189013       NaN  NaN       NaN   \n",
       "\n",
       "        UDF  Lega  MCR  \n",
       "0  2.571601   NaN  NaN  \n",
       "1  4.403570   NaN  NaN  \n",
       "2       NaN   NaN  NaN  \n",
       "3       NaN   NaN  NaN  \n",
       "4       NaN   NaN  NaN  "
      ]
     },
     "execution_count": 45,
     "metadata": {},
     "output_type": "execute_result"
    }
   ],
   "source": [
    "# deal with voters_org(to get rid of '*' which is tricky while deleting nan)\n",
    "voters_org_2010 = pd.read_excel('data/voters.xls',sheet_name = 5,skiprows = 5,nrows = 30)\n",
    "voters_org_2010 = voters_org_2010.fillna(np.nan)\n",
    "voters_org_2010 = voters_org_2010.replace({'*':np.nan})\n",
    "voters_org_2010 = voters_org_2010.dropna(axis = 1, how = 'all')\n",
    "voters_org_2010 = voters_org_2010.dropna(axis = 0, how = 'all')\n",
    "names = ['canton','year','participation','PLR','PDC','PS','UDC','PLS','PEV','PCS','PVL','PBD','PST','PSA','PES','AVF','Sol','DS','UDF','Lega','MCR','Autres','Total']\n",
    "voters_org_2010.columns = names\n",
    "voters_org_2010 = voters_org_2010.reset_index().drop(['index'],axis = 1)\n",
    "voters_org_2010 = pd.concat([cantons[['Code']], voters_org_2010.iloc[:,3:-2]], axis=1)\n",
    "\n",
    "#get voters_org_2014 from voters\n",
    "voters_org_2014 = voters\n",
    "voters_org_2014 = voters_org_2014.drop(['index'],axis = 1)\n",
    "voters_org_2014 = pd.concat([cantons[['Code']], voters_org_2014.iloc[:,3:-2]], axis=1)\n",
    "\n",
    "voters_org_2010.head()"
   ]
  },
  {
   "cell_type": "markdown",
   "metadata": {},
   "source": [
    "Because it requires visualised difference between two time periods, we caculate voters difference of each party as follows:"
   ]
  },
  {
   "cell_type": "code",
   "execution_count": 46,
   "metadata": {},
   "outputs": [
    {
     "data": {
      "text/html": [
       "<div>\n",
       "<style scoped>\n",
       "    .dataframe tbody tr th:only-of-type {\n",
       "        vertical-align: middle;\n",
       "    }\n",
       "\n",
       "    .dataframe tbody tr th {\n",
       "        vertical-align: top;\n",
       "    }\n",
       "\n",
       "    .dataframe thead th {\n",
       "        text-align: right;\n",
       "    }\n",
       "</style>\n",
       "<table border=\"1\" class=\"dataframe\">\n",
       "  <thead>\n",
       "    <tr style=\"text-align: right;\">\n",
       "      <th></th>\n",
       "      <th>Code</th>\n",
       "      <th>PLR</th>\n",
       "      <th>PDC</th>\n",
       "      <th>PS</th>\n",
       "      <th>UDC</th>\n",
       "      <th>PLS</th>\n",
       "      <th>PEV</th>\n",
       "      <th>PCS</th>\n",
       "      <th>PVL</th>\n",
       "      <th>PBD</th>\n",
       "      <th>PST</th>\n",
       "      <th>PSA</th>\n",
       "      <th>PES</th>\n",
       "      <th>AVF</th>\n",
       "      <th>Sol</th>\n",
       "      <th>DS</th>\n",
       "      <th>UDF</th>\n",
       "      <th>Lega</th>\n",
       "    </tr>\n",
       "  </thead>\n",
       "  <tbody>\n",
       "    <tr>\n",
       "      <th>0</th>\n",
       "      <td>ZH</td>\n",
       "      <td>4.393394</td>\n",
       "      <td>0.016113</td>\n",
       "      <td>0.399261</td>\n",
       "      <td>0.387663</td>\n",
       "      <td>NaN</td>\n",
       "      <td>0.493754</td>\n",
       "      <td>NaN</td>\n",
       "      <td>-2.627647</td>\n",
       "      <td>-0.850210</td>\n",
       "      <td>NaN</td>\n",
       "      <td>NaN</td>\n",
       "      <td>-3.350623</td>\n",
       "      <td>1.350247</td>\n",
       "      <td>NaN</td>\n",
       "      <td>NaN</td>\n",
       "      <td>0.090676</td>\n",
       "      <td>NaN</td>\n",
       "    </tr>\n",
       "    <tr>\n",
       "      <th>1</th>\n",
       "      <td>BE</td>\n",
       "      <td>1.382436</td>\n",
       "      <td>-0.585122</td>\n",
       "      <td>3.475942</td>\n",
       "      <td>0.139293</td>\n",
       "      <td>NaN</td>\n",
       "      <td>0.274624</td>\n",
       "      <td>NaN</td>\n",
       "      <td>2.843412</td>\n",
       "      <td>-7.006961</td>\n",
       "      <td>NaN</td>\n",
       "      <td>-0.357342</td>\n",
       "      <td>0.003058</td>\n",
       "      <td>NaN</td>\n",
       "      <td>NaN</td>\n",
       "      <td>-0.235368</td>\n",
       "      <td>-0.692946</td>\n",
       "      <td>NaN</td>\n",
       "    </tr>\n",
       "    <tr>\n",
       "      <th>2</th>\n",
       "      <td>LU</td>\n",
       "      <td>2.174667</td>\n",
       "      <td>-0.435671</td>\n",
       "      <td>0.884687</td>\n",
       "      <td>1.989138</td>\n",
       "      <td>NaN</td>\n",
       "      <td>NaN</td>\n",
       "      <td>NaN</td>\n",
       "      <td>-1.584624</td>\n",
       "      <td>-0.783849</td>\n",
       "      <td>NaN</td>\n",
       "      <td>NaN</td>\n",
       "      <td>-1.968331</td>\n",
       "      <td>NaN</td>\n",
       "      <td>NaN</td>\n",
       "      <td>NaN</td>\n",
       "      <td>NaN</td>\n",
       "      <td>NaN</td>\n",
       "    </tr>\n",
       "    <tr>\n",
       "      <th>3</th>\n",
       "      <td>UR</td>\n",
       "      <td>6.574812</td>\n",
       "      <td>-5.312268</td>\n",
       "      <td>0.899648</td>\n",
       "      <td>-0.576676</td>\n",
       "      <td>NaN</td>\n",
       "      <td>NaN</td>\n",
       "      <td>NaN</td>\n",
       "      <td>NaN</td>\n",
       "      <td>NaN</td>\n",
       "      <td>NaN</td>\n",
       "      <td>NaN</td>\n",
       "      <td>-1.514621</td>\n",
       "      <td>NaN</td>\n",
       "      <td>NaN</td>\n",
       "      <td>NaN</td>\n",
       "      <td>NaN</td>\n",
       "      <td>NaN</td>\n",
       "    </tr>\n",
       "    <tr>\n",
       "      <th>4</th>\n",
       "      <td>SZ</td>\n",
       "      <td>-1.189466</td>\n",
       "      <td>-1.916146</td>\n",
       "      <td>0.544203</td>\n",
       "      <td>-0.889433</td>\n",
       "      <td>NaN</td>\n",
       "      <td>NaN</td>\n",
       "      <td>NaN</td>\n",
       "      <td>NaN</td>\n",
       "      <td>NaN</td>\n",
       "      <td>NaN</td>\n",
       "      <td>NaN</td>\n",
       "      <td>0.611202</td>\n",
       "      <td>NaN</td>\n",
       "      <td>NaN</td>\n",
       "      <td>NaN</td>\n",
       "      <td>NaN</td>\n",
       "      <td>NaN</td>\n",
       "    </tr>\n",
       "  </tbody>\n",
       "</table>\n",
       "</div>"
      ],
      "text/plain": [
       "  Code       PLR       PDC        PS       UDC  PLS       PEV  PCS       PVL  \\\n",
       "0   ZH  4.393394  0.016113  0.399261  0.387663  NaN  0.493754  NaN -2.627647   \n",
       "1   BE  1.382436 -0.585122  3.475942  0.139293  NaN  0.274624  NaN  2.843412   \n",
       "2   LU  2.174667 -0.435671  0.884687  1.989138  NaN       NaN  NaN -1.584624   \n",
       "3   UR  6.574812 -5.312268  0.899648 -0.576676  NaN       NaN  NaN       NaN   \n",
       "4   SZ -1.189466 -1.916146  0.544203 -0.889433  NaN       NaN  NaN       NaN   \n",
       "\n",
       "        PBD  PST       PSA       PES       AVF  Sol        DS       UDF  Lega  \n",
       "0 -0.850210  NaN       NaN -3.350623  1.350247  NaN       NaN  0.090676   NaN  \n",
       "1 -7.006961  NaN -0.357342  0.003058       NaN  NaN -0.235368 -0.692946   NaN  \n",
       "2 -0.783849  NaN       NaN -1.968331       NaN  NaN       NaN       NaN   NaN  \n",
       "3       NaN  NaN       NaN -1.514621       NaN  NaN       NaN       NaN   NaN  \n",
       "4       NaN  NaN       NaN  0.611202       NaN  NaN       NaN       NaN   NaN  "
      ]
     },
     "execution_count": 46,
     "metadata": {},
     "output_type": "execute_result"
    }
   ],
   "source": [
    "voters_org_diff = pd.concat([cantons[['Code']], voters_org_2014.iloc[:,1:-1] - voters_org_2010.iloc[:,1:-1]], axis=1)\n",
    "voters_org_diff.head()"
   ]
  },
  {
   "cell_type": "markdown",
   "metadata": {},
   "source": [
    "Actually, for this question, we have 3 dimensions to present:\n",
    "    1. 26 Cantons\n",
    "    2. 2 Parties\n",
    "    3. difference between 2 periods of time\n",
    "Therefore we decided to use pop-up lable to show more data. To be specific, the result is expected to be a map with two different layers namely 'UDC' and 'PS'. On each layer, every canton has a color to present the difference between two periods of time. If we click on one caton, detailed information will be shown as a compact bar chart.\n",
    "\n",
    "Basicly, the colormap for the layers should be made. Since the difference can be positive or negative, the color map is decided to be blue to red. The cold color(blue) means negative and the warm color(red) means positive. And the darker the color is, the higher value it has."
   ]
  },
  {
   "cell_type": "code",
   "execution_count": 47,
   "metadata": {},
   "outputs": [
    {
     "data": {
      "text/html": [
       "<svg height=\"50\" width=\"500\"><line x1=\"0\" y1=\"0\" x2=\"0\" y2=\"20\" style=\"stroke:#5e4fa2;stroke-width:3;\" /><line x1=\"1\" y1=\"0\" x2=\"1\" y2=\"20\" style=\"stroke:#5d50a3;stroke-width:3;\" /><line x1=\"2\" y1=\"0\" x2=\"2\" y2=\"20\" style=\"stroke:#5c51a3;stroke-width:3;\" /><line x1=\"3\" y1=\"0\" x2=\"3\" y2=\"20\" style=\"stroke:#5b52a4;stroke-width:3;\" /><line x1=\"4\" y1=\"0\" x2=\"4\" y2=\"20\" style=\"stroke:#5a53a4;stroke-width:3;\" /><line x1=\"5\" y1=\"0\" x2=\"5\" y2=\"20\" style=\"stroke:#5955a5;stroke-width:3;\" /><line x1=\"6\" y1=\"0\" x2=\"6\" y2=\"20\" style=\"stroke:#5956a5;stroke-width:3;\" /><line x1=\"7\" y1=\"0\" x2=\"7\" y2=\"20\" style=\"stroke:#5857a6;stroke-width:3;\" /><line x1=\"8\" y1=\"0\" x2=\"8\" y2=\"20\" style=\"stroke:#5758a6;stroke-width:3;\" /><line x1=\"9\" y1=\"0\" x2=\"9\" y2=\"20\" style=\"stroke:#5659a7;stroke-width:3;\" /><line x1=\"10\" y1=\"0\" x2=\"10\" y2=\"20\" style=\"stroke:#555aa8;stroke-width:3;\" /><line x1=\"11\" y1=\"0\" x2=\"11\" y2=\"20\" style=\"stroke:#545ba8;stroke-width:3;\" /><line x1=\"12\" y1=\"0\" x2=\"12\" y2=\"20\" style=\"stroke:#535da9;stroke-width:3;\" /><line x1=\"13\" y1=\"0\" x2=\"13\" y2=\"20\" style=\"stroke:#525ea9;stroke-width:3;\" /><line x1=\"14\" y1=\"0\" x2=\"14\" y2=\"20\" style=\"stroke:#515faa;stroke-width:3;\" /><line x1=\"15\" y1=\"0\" x2=\"15\" y2=\"20\" style=\"stroke:#5160aa;stroke-width:3;\" /><line x1=\"16\" y1=\"0\" x2=\"16\" y2=\"20\" style=\"stroke:#5061ab;stroke-width:3;\" /><line x1=\"17\" y1=\"0\" x2=\"17\" y2=\"20\" style=\"stroke:#4f62ab;stroke-width:3;\" /><line x1=\"18\" y1=\"0\" x2=\"18\" y2=\"20\" style=\"stroke:#4e63ac;stroke-width:3;\" /><line x1=\"19\" y1=\"0\" x2=\"19\" y2=\"20\" style=\"stroke:#4d65ac;stroke-width:3;\" /><line x1=\"20\" y1=\"0\" x2=\"20\" y2=\"20\" style=\"stroke:#4c66ad;stroke-width:3;\" /><line x1=\"21\" y1=\"0\" x2=\"21\" y2=\"20\" style=\"stroke:#4b67ae;stroke-width:3;\" /><line x1=\"22\" y1=\"0\" x2=\"22\" y2=\"20\" style=\"stroke:#4a68ae;stroke-width:3;\" /><line x1=\"23\" y1=\"0\" x2=\"23\" y2=\"20\" style=\"stroke:#4a69af;stroke-width:3;\" /><line x1=\"24\" y1=\"0\" x2=\"24\" y2=\"20\" style=\"stroke:#496aaf;stroke-width:3;\" /><line x1=\"25\" y1=\"0\" x2=\"25\" y2=\"20\" style=\"stroke:#486bb0;stroke-width:3;\" /><line x1=\"26\" y1=\"0\" x2=\"26\" y2=\"20\" style=\"stroke:#476db0;stroke-width:3;\" /><line x1=\"27\" y1=\"0\" x2=\"27\" y2=\"20\" style=\"stroke:#466eb1;stroke-width:3;\" /><line x1=\"28\" y1=\"0\" x2=\"28\" y2=\"20\" style=\"stroke:#456fb1;stroke-width:3;\" /><line x1=\"29\" y1=\"0\" x2=\"29\" y2=\"20\" style=\"stroke:#4470b2;stroke-width:3;\" /><line x1=\"30\" y1=\"0\" x2=\"30\" y2=\"20\" style=\"stroke:#4371b2;stroke-width:3;\" /><line x1=\"31\" y1=\"0\" x2=\"31\" y2=\"20\" style=\"stroke:#4272b3;stroke-width:3;\" /><line x1=\"32\" y1=\"0\" x2=\"32\" y2=\"20\" style=\"stroke:#4274b4;stroke-width:3;\" /><line x1=\"33\" y1=\"0\" x2=\"33\" y2=\"20\" style=\"stroke:#4175b4;stroke-width:3;\" /><line x1=\"34\" y1=\"0\" x2=\"34\" y2=\"20\" style=\"stroke:#4076b5;stroke-width:3;\" /><line x1=\"35\" y1=\"0\" x2=\"35\" y2=\"20\" style=\"stroke:#3f77b5;stroke-width:3;\" /><line x1=\"36\" y1=\"0\" x2=\"36\" y2=\"20\" style=\"stroke:#3e78b6;stroke-width:3;\" /><line x1=\"37\" y1=\"0\" x2=\"37\" y2=\"20\" style=\"stroke:#3d79b6;stroke-width:3;\" /><line x1=\"38\" y1=\"0\" x2=\"38\" y2=\"20\" style=\"stroke:#3c7ab7;stroke-width:3;\" /><line x1=\"39\" y1=\"0\" x2=\"39\" y2=\"20\" style=\"stroke:#3b7cb7;stroke-width:3;\" /><line x1=\"40\" y1=\"0\" x2=\"40\" y2=\"20\" style=\"stroke:#3a7db8;stroke-width:3;\" /><line x1=\"41\" y1=\"0\" x2=\"41\" y2=\"20\" style=\"stroke:#3a7eb8;stroke-width:3;\" /><line x1=\"42\" y1=\"0\" x2=\"42\" y2=\"20\" style=\"stroke:#397fb9;stroke-width:3;\" /><line x1=\"43\" y1=\"0\" x2=\"43\" y2=\"20\" style=\"stroke:#3880b9;stroke-width:3;\" /><line x1=\"44\" y1=\"0\" x2=\"44\" y2=\"20\" style=\"stroke:#3781ba;stroke-width:3;\" /><line x1=\"45\" y1=\"0\" x2=\"45\" y2=\"20\" style=\"stroke:#3682bb;stroke-width:3;\" /><line x1=\"46\" y1=\"0\" x2=\"46\" y2=\"20\" style=\"stroke:#3584bb;stroke-width:3;\" /><line x1=\"47\" y1=\"0\" x2=\"47\" y2=\"20\" style=\"stroke:#3485bc;stroke-width:3;\" /><line x1=\"48\" y1=\"0\" x2=\"48\" y2=\"20\" style=\"stroke:#3386bc;stroke-width:3;\" /><line x1=\"49\" y1=\"0\" x2=\"49\" y2=\"20\" style=\"stroke:#3287bd;stroke-width:3;\" /><line x1=\"50\" y1=\"0\" x2=\"50\" y2=\"20\" style=\"stroke:#3288bd;stroke-width:3;\" /><line x1=\"51\" y1=\"0\" x2=\"51\" y2=\"20\" style=\"stroke:#3389bd;stroke-width:3;\" /><line x1=\"52\" y1=\"0\" x2=\"52\" y2=\"20\" style=\"stroke:#348abc;stroke-width:3;\" /><line x1=\"53\" y1=\"0\" x2=\"53\" y2=\"20\" style=\"stroke:#358cbc;stroke-width:3;\" /><line x1=\"54\" y1=\"0\" x2=\"54\" y2=\"20\" style=\"stroke:#368dbb;stroke-width:3;\" /><line x1=\"55\" y1=\"0\" x2=\"55\" y2=\"20\" style=\"stroke:#378ebb;stroke-width:3;\" /><line x1=\"56\" y1=\"0\" x2=\"56\" y2=\"20\" style=\"stroke:#388fba;stroke-width:3;\" /><line x1=\"57\" y1=\"0\" x2=\"57\" y2=\"20\" style=\"stroke:#3990ba;stroke-width:3;\" /><line x1=\"58\" y1=\"0\" x2=\"58\" y2=\"20\" style=\"stroke:#3a91b9;stroke-width:3;\" /><line x1=\"59\" y1=\"0\" x2=\"59\" y2=\"20\" style=\"stroke:#3b93b9;stroke-width:3;\" /><line x1=\"60\" y1=\"0\" x2=\"60\" y2=\"20\" style=\"stroke:#3c94b8;stroke-width:3;\" /><line x1=\"61\" y1=\"0\" x2=\"61\" y2=\"20\" style=\"stroke:#3d95b8;stroke-width:3;\" /><line x1=\"62\" y1=\"0\" x2=\"62\" y2=\"20\" style=\"stroke:#3e96b7;stroke-width:3;\" /><line x1=\"63\" y1=\"0\" x2=\"63\" y2=\"20\" style=\"stroke:#3f97b7;stroke-width:3;\" /><line x1=\"64\" y1=\"0\" x2=\"64\" y2=\"20\" style=\"stroke:#4098b6;stroke-width:3;\" /><line x1=\"65\" y1=\"0\" x2=\"65\" y2=\"20\" style=\"stroke:#419ab6;stroke-width:3;\" /><line x1=\"66\" y1=\"0\" x2=\"66\" y2=\"20\" style=\"stroke:#439bb5;stroke-width:3;\" /><line x1=\"67\" y1=\"0\" x2=\"67\" y2=\"20\" style=\"stroke:#449cb5;stroke-width:3;\" /><line x1=\"68\" y1=\"0\" x2=\"68\" y2=\"20\" style=\"stroke:#459db5;stroke-width:3;\" /><line x1=\"69\" y1=\"0\" x2=\"69\" y2=\"20\" style=\"stroke:#469eb4;stroke-width:3;\" /><line x1=\"70\" y1=\"0\" x2=\"70\" y2=\"20\" style=\"stroke:#479fb4;stroke-width:3;\" /><line x1=\"71\" y1=\"0\" x2=\"71\" y2=\"20\" style=\"stroke:#48a1b3;stroke-width:3;\" /><line x1=\"72\" y1=\"0\" x2=\"72\" y2=\"20\" style=\"stroke:#49a2b3;stroke-width:3;\" /><line x1=\"73\" y1=\"0\" x2=\"73\" y2=\"20\" style=\"stroke:#4aa3b2;stroke-width:3;\" /><line x1=\"74\" y1=\"0\" x2=\"74\" y2=\"20\" style=\"stroke:#4ba4b2;stroke-width:3;\" /><line x1=\"75\" y1=\"0\" x2=\"75\" y2=\"20\" style=\"stroke:#4ca5b1;stroke-width:3;\" /><line x1=\"76\" y1=\"0\" x2=\"76\" y2=\"20\" style=\"stroke:#4da6b1;stroke-width:3;\" /><line x1=\"77\" y1=\"0\" x2=\"77\" y2=\"20\" style=\"stroke:#4ea8b0;stroke-width:3;\" /><line x1=\"78\" y1=\"0\" x2=\"78\" y2=\"20\" style=\"stroke:#4fa9b0;stroke-width:3;\" /><line x1=\"79\" y1=\"0\" x2=\"79\" y2=\"20\" style=\"stroke:#50aaaf;stroke-width:3;\" /><line x1=\"80\" y1=\"0\" x2=\"80\" y2=\"20\" style=\"stroke:#51abaf;stroke-width:3;\" /><line x1=\"81\" y1=\"0\" x2=\"81\" y2=\"20\" style=\"stroke:#52acae;stroke-width:3;\" /><line x1=\"82\" y1=\"0\" x2=\"82\" y2=\"20\" style=\"stroke:#53adae;stroke-width:3;\" /><line x1=\"83\" y1=\"0\" x2=\"83\" y2=\"20\" style=\"stroke:#54afad;stroke-width:3;\" /><line x1=\"84\" y1=\"0\" x2=\"84\" y2=\"20\" style=\"stroke:#55b0ad;stroke-width:3;\" /><line x1=\"85\" y1=\"0\" x2=\"85\" y2=\"20\" style=\"stroke:#56b1ac;stroke-width:3;\" /><line x1=\"86\" y1=\"0\" x2=\"86\" y2=\"20\" style=\"stroke:#57b2ac;stroke-width:3;\" /><line x1=\"87\" y1=\"0\" x2=\"87\" y2=\"20\" style=\"stroke:#59b3ab;stroke-width:3;\" /><line x1=\"88\" y1=\"0\" x2=\"88\" y2=\"20\" style=\"stroke:#5ab4ab;stroke-width:3;\" /><line x1=\"89\" y1=\"0\" x2=\"89\" y2=\"20\" style=\"stroke:#5bb6aa;stroke-width:3;\" /><line x1=\"90\" y1=\"0\" x2=\"90\" y2=\"20\" style=\"stroke:#5cb7aa;stroke-width:3;\" /><line x1=\"91\" y1=\"0\" x2=\"91\" y2=\"20\" style=\"stroke:#5db8a9;stroke-width:3;\" /><line x1=\"92\" y1=\"0\" x2=\"92\" y2=\"20\" style=\"stroke:#5eb9a9;stroke-width:3;\" /><line x1=\"93\" y1=\"0\" x2=\"93\" y2=\"20\" style=\"stroke:#5fbaa8;stroke-width:3;\" /><line x1=\"94\" y1=\"0\" x2=\"94\" y2=\"20\" style=\"stroke:#60bba8;stroke-width:3;\" /><line x1=\"95\" y1=\"0\" x2=\"95\" y2=\"20\" style=\"stroke:#61bda7;stroke-width:3;\" /><line x1=\"96\" y1=\"0\" x2=\"96\" y2=\"20\" style=\"stroke:#62bea7;stroke-width:3;\" /><line x1=\"97\" y1=\"0\" x2=\"97\" y2=\"20\" style=\"stroke:#63bfa6;stroke-width:3;\" /><line x1=\"98\" y1=\"0\" x2=\"98\" y2=\"20\" style=\"stroke:#64c0a6;stroke-width:3;\" /><line x1=\"99\" y1=\"0\" x2=\"99\" y2=\"20\" style=\"stroke:#65c1a6;stroke-width:3;\" /><line x1=\"100\" y1=\"0\" x2=\"100\" y2=\"20\" style=\"stroke:#66c2a5;stroke-width:3;\" /><line x1=\"101\" y1=\"0\" x2=\"101\" y2=\"20\" style=\"stroke:#68c3a5;stroke-width:3;\" /><line x1=\"102\" y1=\"0\" x2=\"102\" y2=\"20\" style=\"stroke:#69c3a5;stroke-width:3;\" /><line x1=\"103\" y1=\"0\" x2=\"103\" y2=\"20\" style=\"stroke:#6ac4a5;stroke-width:3;\" /><line x1=\"104\" y1=\"0\" x2=\"104\" y2=\"20\" style=\"stroke:#6cc5a5;stroke-width:3;\" /><line x1=\"105\" y1=\"0\" x2=\"105\" y2=\"20\" style=\"stroke:#6dc5a5;stroke-width:3;\" /><line x1=\"106\" y1=\"0\" x2=\"106\" y2=\"20\" style=\"stroke:#6fc6a5;stroke-width:3;\" /><line x1=\"107\" y1=\"0\" x2=\"107\" y2=\"20\" style=\"stroke:#70c6a5;stroke-width:3;\" /><line x1=\"108\" y1=\"0\" x2=\"108\" y2=\"20\" style=\"stroke:#71c7a5;stroke-width:3;\" /><line x1=\"109\" y1=\"0\" x2=\"109\" y2=\"20\" style=\"stroke:#73c7a5;stroke-width:3;\" /><line x1=\"110\" y1=\"0\" x2=\"110\" y2=\"20\" style=\"stroke:#74c8a5;stroke-width:3;\" /><line x1=\"111\" y1=\"0\" x2=\"111\" y2=\"20\" style=\"stroke:#75c8a5;stroke-width:3;\" /><line x1=\"112\" y1=\"0\" x2=\"112\" y2=\"20\" style=\"stroke:#77c9a5;stroke-width:3;\" /><line x1=\"113\" y1=\"0\" x2=\"113\" y2=\"20\" style=\"stroke:#78c9a5;stroke-width:3;\" /><line x1=\"114\" y1=\"0\" x2=\"114\" y2=\"20\" style=\"stroke:#7acaa5;stroke-width:3;\" /><line x1=\"115\" y1=\"0\" x2=\"115\" y2=\"20\" style=\"stroke:#7bcba5;stroke-width:3;\" /><line x1=\"116\" y1=\"0\" x2=\"116\" y2=\"20\" style=\"stroke:#7ccba5;stroke-width:3;\" /><line x1=\"117\" y1=\"0\" x2=\"117\" y2=\"20\" style=\"stroke:#7ecca5;stroke-width:3;\" /><line x1=\"118\" y1=\"0\" x2=\"118\" y2=\"20\" style=\"stroke:#7fcca5;stroke-width:3;\" /><line x1=\"119\" y1=\"0\" x2=\"119\" y2=\"20\" style=\"stroke:#81cda5;stroke-width:3;\" /><line x1=\"120\" y1=\"0\" x2=\"120\" y2=\"20\" style=\"stroke:#82cda5;stroke-width:3;\" /><line x1=\"121\" y1=\"0\" x2=\"121\" y2=\"20\" style=\"stroke:#83cea5;stroke-width:3;\" /><line x1=\"122\" y1=\"0\" x2=\"122\" y2=\"20\" style=\"stroke:#85cea5;stroke-width:3;\" /><line x1=\"123\" y1=\"0\" x2=\"123\" y2=\"20\" style=\"stroke:#86cfa5;stroke-width:3;\" /><line x1=\"124\" y1=\"0\" x2=\"124\" y2=\"20\" style=\"stroke:#87cfa5;stroke-width:3;\" /><line x1=\"125\" y1=\"0\" x2=\"125\" y2=\"20\" style=\"stroke:#89d0a5;stroke-width:3;\" /><line x1=\"126\" y1=\"0\" x2=\"126\" y2=\"20\" style=\"stroke:#8ad0a5;stroke-width:3;\" /><line x1=\"127\" y1=\"0\" x2=\"127\" y2=\"20\" style=\"stroke:#8cd1a5;stroke-width:3;\" /><line x1=\"128\" y1=\"0\" x2=\"128\" y2=\"20\" style=\"stroke:#8dd2a5;stroke-width:3;\" /><line x1=\"129\" y1=\"0\" x2=\"129\" y2=\"20\" style=\"stroke:#8ed2a5;stroke-width:3;\" /><line x1=\"130\" y1=\"0\" x2=\"130\" y2=\"20\" style=\"stroke:#90d3a5;stroke-width:3;\" /><line x1=\"131\" y1=\"0\" x2=\"131\" y2=\"20\" style=\"stroke:#91d3a5;stroke-width:3;\" /><line x1=\"132\" y1=\"0\" x2=\"132\" y2=\"20\" style=\"stroke:#93d4a4;stroke-width:3;\" /><line x1=\"133\" y1=\"0\" x2=\"133\" y2=\"20\" style=\"stroke:#94d4a4;stroke-width:3;\" /><line x1=\"134\" y1=\"0\" x2=\"134\" y2=\"20\" style=\"stroke:#95d5a4;stroke-width:3;\" /><line x1=\"135\" y1=\"0\" x2=\"135\" y2=\"20\" style=\"stroke:#97d5a4;stroke-width:3;\" /><line x1=\"136\" y1=\"0\" x2=\"136\" y2=\"20\" style=\"stroke:#98d6a4;stroke-width:3;\" /><line x1=\"137\" y1=\"0\" x2=\"137\" y2=\"20\" style=\"stroke:#9ad6a4;stroke-width:3;\" /><line x1=\"138\" y1=\"0\" x2=\"138\" y2=\"20\" style=\"stroke:#9bd7a4;stroke-width:3;\" /><line x1=\"139\" y1=\"0\" x2=\"139\" y2=\"20\" style=\"stroke:#9cd8a4;stroke-width:3;\" /><line x1=\"140\" y1=\"0\" x2=\"140\" y2=\"20\" style=\"stroke:#9ed8a4;stroke-width:3;\" /><line x1=\"141\" y1=\"0\" x2=\"141\" y2=\"20\" style=\"stroke:#9fd9a4;stroke-width:3;\" /><line x1=\"142\" y1=\"0\" x2=\"142\" y2=\"20\" style=\"stroke:#a0d9a4;stroke-width:3;\" /><line x1=\"143\" y1=\"0\" x2=\"143\" y2=\"20\" style=\"stroke:#a2daa4;stroke-width:3;\" /><line x1=\"144\" y1=\"0\" x2=\"144\" y2=\"20\" style=\"stroke:#a3daa4;stroke-width:3;\" /><line x1=\"145\" y1=\"0\" x2=\"145\" y2=\"20\" style=\"stroke:#a5dba4;stroke-width:3;\" /><line x1=\"146\" y1=\"0\" x2=\"146\" y2=\"20\" style=\"stroke:#a6dba4;stroke-width:3;\" /><line x1=\"147\" y1=\"0\" x2=\"147\" y2=\"20\" style=\"stroke:#a7dca4;stroke-width:3;\" /><line x1=\"148\" y1=\"0\" x2=\"148\" y2=\"20\" style=\"stroke:#a9dca4;stroke-width:3;\" /><line x1=\"149\" y1=\"0\" x2=\"149\" y2=\"20\" style=\"stroke:#aadda4;stroke-width:3;\" /><line x1=\"150\" y1=\"0\" x2=\"150\" y2=\"20\" style=\"stroke:#acdea4;stroke-width:3;\" /><line x1=\"151\" y1=\"0\" x2=\"151\" y2=\"20\" style=\"stroke:#addea4;stroke-width:3;\" /><line x1=\"152\" y1=\"0\" x2=\"152\" y2=\"20\" style=\"stroke:#aedea4;stroke-width:3;\" /><line x1=\"153\" y1=\"0\" x2=\"153\" y2=\"20\" style=\"stroke:#afdfa3;stroke-width:3;\" /><line x1=\"154\" y1=\"0\" x2=\"154\" y2=\"20\" style=\"stroke:#b0dfa3;stroke-width:3;\" /><line x1=\"155\" y1=\"0\" x2=\"155\" y2=\"20\" style=\"stroke:#b1e0a3;stroke-width:3;\" /><line x1=\"156\" y1=\"0\" x2=\"156\" y2=\"20\" style=\"stroke:#b3e0a3;stroke-width:3;\" /><line x1=\"157\" y1=\"0\" x2=\"157\" y2=\"20\" style=\"stroke:#b4e1a2;stroke-width:3;\" /><line x1=\"158\" y1=\"0\" x2=\"158\" y2=\"20\" style=\"stroke:#b5e1a2;stroke-width:3;\" /><line x1=\"159\" y1=\"0\" x2=\"159\" y2=\"20\" style=\"stroke:#b6e2a2;stroke-width:3;\" /><line x1=\"160\" y1=\"0\" x2=\"160\" y2=\"20\" style=\"stroke:#b7e2a2;stroke-width:3;\" /><line x1=\"161\" y1=\"0\" x2=\"161\" y2=\"20\" style=\"stroke:#b9e3a1;stroke-width:3;\" /><line x1=\"162\" y1=\"0\" x2=\"162\" y2=\"20\" style=\"stroke:#bae3a1;stroke-width:3;\" /><line x1=\"163\" y1=\"0\" x2=\"163\" y2=\"20\" style=\"stroke:#bbe4a1;stroke-width:3;\" /><line x1=\"164\" y1=\"0\" x2=\"164\" y2=\"20\" style=\"stroke:#bce4a1;stroke-width:3;\" /><line x1=\"165\" y1=\"0\" x2=\"165\" y2=\"20\" style=\"stroke:#bde5a0;stroke-width:3;\" /><line x1=\"166\" y1=\"0\" x2=\"166\" y2=\"20\" style=\"stroke:#bfe5a0;stroke-width:3;\" /><line x1=\"167\" y1=\"0\" x2=\"167\" y2=\"20\" style=\"stroke:#c0e6a0;stroke-width:3;\" /><line x1=\"168\" y1=\"0\" x2=\"168\" y2=\"20\" style=\"stroke:#c1e6a0;stroke-width:3;\" /><line x1=\"169\" y1=\"0\" x2=\"169\" y2=\"20\" style=\"stroke:#c2e79f;stroke-width:3;\" /><line x1=\"170\" y1=\"0\" x2=\"170\" y2=\"20\" style=\"stroke:#c3e79f;stroke-width:3;\" /><line x1=\"171\" y1=\"0\" x2=\"171\" y2=\"20\" style=\"stroke:#c4e89f;stroke-width:3;\" /><line x1=\"172\" y1=\"0\" x2=\"172\" y2=\"20\" style=\"stroke:#c6e89f;stroke-width:3;\" /><line x1=\"173\" y1=\"0\" x2=\"173\" y2=\"20\" style=\"stroke:#c7e99f;stroke-width:3;\" /><line x1=\"174\" y1=\"0\" x2=\"174\" y2=\"20\" style=\"stroke:#c8e99e;stroke-width:3;\" /><line x1=\"175\" y1=\"0\" x2=\"175\" y2=\"20\" style=\"stroke:#c9ea9e;stroke-width:3;\" /><line x1=\"176\" y1=\"0\" x2=\"176\" y2=\"20\" style=\"stroke:#caea9e;stroke-width:3;\" /><line x1=\"177\" y1=\"0\" x2=\"177\" y2=\"20\" style=\"stroke:#cceb9e;stroke-width:3;\" /><line x1=\"178\" y1=\"0\" x2=\"178\" y2=\"20\" style=\"stroke:#cdeb9d;stroke-width:3;\" /><line x1=\"179\" y1=\"0\" x2=\"179\" y2=\"20\" style=\"stroke:#ceec9d;stroke-width:3;\" /><line x1=\"180\" y1=\"0\" x2=\"180\" y2=\"20\" style=\"stroke:#cfec9d;stroke-width:3;\" /><line x1=\"181\" y1=\"0\" x2=\"181\" y2=\"20\" style=\"stroke:#d0ec9d;stroke-width:3;\" /><line x1=\"182\" y1=\"0\" x2=\"182\" y2=\"20\" style=\"stroke:#d2ed9c;stroke-width:3;\" /><line x1=\"183\" y1=\"0\" x2=\"183\" y2=\"20\" style=\"stroke:#d3ed9c;stroke-width:3;\" /><line x1=\"184\" y1=\"0\" x2=\"184\" y2=\"20\" style=\"stroke:#d4ee9c;stroke-width:3;\" /><line x1=\"185\" y1=\"0\" x2=\"185\" y2=\"20\" style=\"stroke:#d5ee9c;stroke-width:3;\" /><line x1=\"186\" y1=\"0\" x2=\"186\" y2=\"20\" style=\"stroke:#d6ef9b;stroke-width:3;\" /><line x1=\"187\" y1=\"0\" x2=\"187\" y2=\"20\" style=\"stroke:#d7ef9b;stroke-width:3;\" /><line x1=\"188\" y1=\"0\" x2=\"188\" y2=\"20\" style=\"stroke:#d9f09b;stroke-width:3;\" /><line x1=\"189\" y1=\"0\" x2=\"189\" y2=\"20\" style=\"stroke:#daf09b;stroke-width:3;\" /><line x1=\"190\" y1=\"0\" x2=\"190\" y2=\"20\" style=\"stroke:#dbf19a;stroke-width:3;\" /><line x1=\"191\" y1=\"0\" x2=\"191\" y2=\"20\" style=\"stroke:#dcf19a;stroke-width:3;\" /><line x1=\"192\" y1=\"0\" x2=\"192\" y2=\"20\" style=\"stroke:#ddf29a;stroke-width:3;\" /><line x1=\"193\" y1=\"0\" x2=\"193\" y2=\"20\" style=\"stroke:#dff29a;stroke-width:3;\" /><line x1=\"194\" y1=\"0\" x2=\"194\" y2=\"20\" style=\"stroke:#e0f399;stroke-width:3;\" /><line x1=\"195\" y1=\"0\" x2=\"195\" y2=\"20\" style=\"stroke:#e1f399;stroke-width:3;\" /><line x1=\"196\" y1=\"0\" x2=\"196\" y2=\"20\" style=\"stroke:#e2f499;stroke-width:3;\" /><line x1=\"197\" y1=\"0\" x2=\"197\" y2=\"20\" style=\"stroke:#e3f499;stroke-width:3;\" /><line x1=\"198\" y1=\"0\" x2=\"198\" y2=\"20\" style=\"stroke:#e5f598;stroke-width:3;\" /><line x1=\"199\" y1=\"0\" x2=\"199\" y2=\"20\" style=\"stroke:#e6f598;stroke-width:3;\" /><line x1=\"200\" y1=\"0\" x2=\"200\" y2=\"20\" style=\"stroke:#e7f698;stroke-width:3;\" /><line x1=\"201\" y1=\"0\" x2=\"201\" y2=\"20\" style=\"stroke:#e7f699;stroke-width:3;\" /><line x1=\"202\" y1=\"0\" x2=\"202\" y2=\"20\" style=\"stroke:#e8f69a;stroke-width:3;\" /><line x1=\"203\" y1=\"0\" x2=\"203\" y2=\"20\" style=\"stroke:#e8f69b;stroke-width:3;\" /><line x1=\"204\" y1=\"0\" x2=\"204\" y2=\"20\" style=\"stroke:#e9f69c;stroke-width:3;\" /><line x1=\"205\" y1=\"0\" x2=\"205\" y2=\"20\" style=\"stroke:#e9f79c;stroke-width:3;\" /><line x1=\"206\" y1=\"0\" x2=\"206\" y2=\"20\" style=\"stroke:#eaf79d;stroke-width:3;\" /><line x1=\"207\" y1=\"0\" x2=\"207\" y2=\"20\" style=\"stroke:#eaf79e;stroke-width:3;\" /><line x1=\"208\" y1=\"0\" x2=\"208\" y2=\"20\" style=\"stroke:#ebf79f;stroke-width:3;\" /><line x1=\"209\" y1=\"0\" x2=\"209\" y2=\"20\" style=\"stroke:#ebf79f;stroke-width:3;\" /><line x1=\"210\" y1=\"0\" x2=\"210\" y2=\"20\" style=\"stroke:#ecf8a0;stroke-width:3;\" /><line x1=\"211\" y1=\"0\" x2=\"211\" y2=\"20\" style=\"stroke:#ecf8a1;stroke-width:3;\" /><line x1=\"212\" y1=\"0\" x2=\"212\" y2=\"20\" style=\"stroke:#edf8a2;stroke-width:3;\" /><line x1=\"213\" y1=\"0\" x2=\"213\" y2=\"20\" style=\"stroke:#edf8a3;stroke-width:3;\" /><line x1=\"214\" y1=\"0\" x2=\"214\" y2=\"20\" style=\"stroke:#eef8a3;stroke-width:3;\" /><line x1=\"215\" y1=\"0\" x2=\"215\" y2=\"20\" style=\"stroke:#eef9a4;stroke-width:3;\" /><line x1=\"216\" y1=\"0\" x2=\"216\" y2=\"20\" style=\"stroke:#eff9a5;stroke-width:3;\" /><line x1=\"217\" y1=\"0\" x2=\"217\" y2=\"20\" style=\"stroke:#eff9a6;stroke-width:3;\" /><line x1=\"218\" y1=\"0\" x2=\"218\" y2=\"20\" style=\"stroke:#f0f9a7;stroke-width:3;\" /><line x1=\"219\" y1=\"0\" x2=\"219\" y2=\"20\" style=\"stroke:#f0f9a7;stroke-width:3;\" /><line x1=\"220\" y1=\"0\" x2=\"220\" y2=\"20\" style=\"stroke:#f1faa8;stroke-width:3;\" /><line x1=\"221\" y1=\"0\" x2=\"221\" y2=\"20\" style=\"stroke:#f1faa9;stroke-width:3;\" /><line x1=\"222\" y1=\"0\" x2=\"222\" y2=\"20\" style=\"stroke:#f2faaa;stroke-width:3;\" /><line x1=\"223\" y1=\"0\" x2=\"223\" y2=\"20\" style=\"stroke:#f2faaa;stroke-width:3;\" /><line x1=\"224\" y1=\"0\" x2=\"224\" y2=\"20\" style=\"stroke:#f3faab;stroke-width:3;\" /><line x1=\"225\" y1=\"0\" x2=\"225\" y2=\"20\" style=\"stroke:#f3fbac;stroke-width:3;\" /><line x1=\"226\" y1=\"0\" x2=\"226\" y2=\"20\" style=\"stroke:#f4fbad;stroke-width:3;\" /><line x1=\"227\" y1=\"0\" x2=\"227\" y2=\"20\" style=\"stroke:#f4fbae;stroke-width:3;\" /><line x1=\"228\" y1=\"0\" x2=\"228\" y2=\"20\" style=\"stroke:#f5fbae;stroke-width:3;\" /><line x1=\"229\" y1=\"0\" x2=\"229\" y2=\"20\" style=\"stroke:#f5fbaf;stroke-width:3;\" /><line x1=\"230\" y1=\"0\" x2=\"230\" y2=\"20\" style=\"stroke:#f6fcb0;stroke-width:3;\" /><line x1=\"231\" y1=\"0\" x2=\"231\" y2=\"20\" style=\"stroke:#f6fcb1;stroke-width:3;\" /><line x1=\"232\" y1=\"0\" x2=\"232\" y2=\"20\" style=\"stroke:#f7fcb2;stroke-width:3;\" /><line x1=\"233\" y1=\"0\" x2=\"233\" y2=\"20\" style=\"stroke:#f7fcb2;stroke-width:3;\" /><line x1=\"234\" y1=\"0\" x2=\"234\" y2=\"20\" style=\"stroke:#f8fcb3;stroke-width:3;\" /><line x1=\"235\" y1=\"0\" x2=\"235\" y2=\"20\" style=\"stroke:#f8fdb4;stroke-width:3;\" /><line x1=\"236\" y1=\"0\" x2=\"236\" y2=\"20\" style=\"stroke:#f9fdb5;stroke-width:3;\" /><line x1=\"237\" y1=\"0\" x2=\"237\" y2=\"20\" style=\"stroke:#f9fdb5;stroke-width:3;\" /><line x1=\"238\" y1=\"0\" x2=\"238\" y2=\"20\" style=\"stroke:#fafdb6;stroke-width:3;\" /><line x1=\"239\" y1=\"0\" x2=\"239\" y2=\"20\" style=\"stroke:#fafdb7;stroke-width:3;\" /><line x1=\"240\" y1=\"0\" x2=\"240\" y2=\"20\" style=\"stroke:#fbfeb8;stroke-width:3;\" /><line x1=\"241\" y1=\"0\" x2=\"241\" y2=\"20\" style=\"stroke:#fbfeb9;stroke-width:3;\" /><line x1=\"242\" y1=\"0\" x2=\"242\" y2=\"20\" style=\"stroke:#fcfeb9;stroke-width:3;\" /><line x1=\"243\" y1=\"0\" x2=\"243\" y2=\"20\" style=\"stroke:#fcfeba;stroke-width:3;\" /><line x1=\"244\" y1=\"0\" x2=\"244\" y2=\"20\" style=\"stroke:#fdfebb;stroke-width:3;\" /><line x1=\"245\" y1=\"0\" x2=\"245\" y2=\"20\" style=\"stroke:#fdffbc;stroke-width:3;\" /><line x1=\"246\" y1=\"0\" x2=\"246\" y2=\"20\" style=\"stroke:#feffbd;stroke-width:3;\" /><line x1=\"247\" y1=\"0\" x2=\"247\" y2=\"20\" style=\"stroke:#feffbd;stroke-width:3;\" /><line x1=\"248\" y1=\"0\" x2=\"248\" y2=\"20\" style=\"stroke:#ffffbe;stroke-width:3;\" /><line x1=\"249\" y1=\"0\" x2=\"249\" y2=\"20\" style=\"stroke:#ffffbf;stroke-width:3;\" /><line x1=\"250\" y1=\"0\" x2=\"250\" y2=\"20\" style=\"stroke:#ffffbf;stroke-width:3;\" /><line x1=\"251\" y1=\"0\" x2=\"251\" y2=\"20\" style=\"stroke:#ffffbe;stroke-width:3;\" /><line x1=\"252\" y1=\"0\" x2=\"252\" y2=\"20\" style=\"stroke:#fffebd;stroke-width:3;\" /><line x1=\"253\" y1=\"0\" x2=\"253\" y2=\"20\" style=\"stroke:#fffdbc;stroke-width:3;\" /><line x1=\"254\" y1=\"0\" x2=\"254\" y2=\"20\" style=\"stroke:#fffdbb;stroke-width:3;\" /><line x1=\"255\" y1=\"0\" x2=\"255\" y2=\"20\" style=\"stroke:#fffcb9;stroke-width:3;\" /><line x1=\"256\" y1=\"0\" x2=\"256\" y2=\"20\" style=\"stroke:#fffbb8;stroke-width:3;\" /><line x1=\"257\" y1=\"0\" x2=\"257\" y2=\"20\" style=\"stroke:#fffbb7;stroke-width:3;\" /><line x1=\"258\" y1=\"0\" x2=\"258\" y2=\"20\" style=\"stroke:#fffab6;stroke-width:3;\" /><line x1=\"259\" y1=\"0\" x2=\"259\" y2=\"20\" style=\"stroke:#fffab5;stroke-width:3;\" /><line x1=\"260\" y1=\"0\" x2=\"260\" y2=\"20\" style=\"stroke:#fff9b4;stroke-width:3;\" /><line x1=\"261\" y1=\"0\" x2=\"261\" y2=\"20\" style=\"stroke:#fff8b3;stroke-width:3;\" /><line x1=\"262\" y1=\"0\" x2=\"262\" y2=\"20\" style=\"stroke:#fff8b2;stroke-width:3;\" /><line x1=\"263\" y1=\"0\" x2=\"263\" y2=\"20\" style=\"stroke:#fff7b1;stroke-width:3;\" /><line x1=\"264\" y1=\"0\" x2=\"264\" y2=\"20\" style=\"stroke:#fff6b0;stroke-width:3;\" /><line x1=\"265\" y1=\"0\" x2=\"265\" y2=\"20\" style=\"stroke:#fff6af;stroke-width:3;\" /><line x1=\"266\" y1=\"0\" x2=\"266\" y2=\"20\" style=\"stroke:#fff5ae;stroke-width:3;\" /><line x1=\"267\" y1=\"0\" x2=\"267\" y2=\"20\" style=\"stroke:#fff5ad;stroke-width:3;\" /><line x1=\"268\" y1=\"0\" x2=\"268\" y2=\"20\" style=\"stroke:#fff4ac;stroke-width:3;\" /><line x1=\"269\" y1=\"0\" x2=\"269\" y2=\"20\" style=\"stroke:#fff3ab;stroke-width:3;\" /><line x1=\"270\" y1=\"0\" x2=\"270\" y2=\"20\" style=\"stroke:#fff3aa;stroke-width:3;\" /><line x1=\"271\" y1=\"0\" x2=\"271\" y2=\"20\" style=\"stroke:#fff2a9;stroke-width:3;\" /><line x1=\"272\" y1=\"0\" x2=\"272\" y2=\"20\" style=\"stroke:#fff1a8;stroke-width:3;\" /><line x1=\"273\" y1=\"0\" x2=\"273\" y2=\"20\" style=\"stroke:#fff1a7;stroke-width:3;\" /><line x1=\"274\" y1=\"0\" x2=\"274\" y2=\"20\" style=\"stroke:#fff0a6;stroke-width:3;\" /><line x1=\"275\" y1=\"0\" x2=\"275\" y2=\"20\" style=\"stroke:#fff0a5;stroke-width:3;\" /><line x1=\"276\" y1=\"0\" x2=\"276\" y2=\"20\" style=\"stroke:#ffefa4;stroke-width:3;\" /><line x1=\"277\" y1=\"0\" x2=\"277\" y2=\"20\" style=\"stroke:#ffeea2;stroke-width:3;\" /><line x1=\"278\" y1=\"0\" x2=\"278\" y2=\"20\" style=\"stroke:#ffeea1;stroke-width:3;\" /><line x1=\"279\" y1=\"0\" x2=\"279\" y2=\"20\" style=\"stroke:#ffeda0;stroke-width:3;\" /><line x1=\"280\" y1=\"0\" x2=\"280\" y2=\"20\" style=\"stroke:#ffec9f;stroke-width:3;\" /><line x1=\"281\" y1=\"0\" x2=\"281\" y2=\"20\" style=\"stroke:#ffec9e;stroke-width:3;\" /><line x1=\"282\" y1=\"0\" x2=\"282\" y2=\"20\" style=\"stroke:#ffeb9d;stroke-width:3;\" /><line x1=\"283\" y1=\"0\" x2=\"283\" y2=\"20\" style=\"stroke:#ffeb9c;stroke-width:3;\" /><line x1=\"284\" y1=\"0\" x2=\"284\" y2=\"20\" style=\"stroke:#ffea9b;stroke-width:3;\" /><line x1=\"285\" y1=\"0\" x2=\"285\" y2=\"20\" style=\"stroke:#ffe99a;stroke-width:3;\" /><line x1=\"286\" y1=\"0\" x2=\"286\" y2=\"20\" style=\"stroke:#ffe999;stroke-width:3;\" /><line x1=\"287\" y1=\"0\" x2=\"287\" y2=\"20\" style=\"stroke:#ffe898;stroke-width:3;\" /><line x1=\"288\" y1=\"0\" x2=\"288\" y2=\"20\" style=\"stroke:#ffe797;stroke-width:3;\" /><line x1=\"289\" y1=\"0\" x2=\"289\" y2=\"20\" style=\"stroke:#ffe796;stroke-width:3;\" /><line x1=\"290\" y1=\"0\" x2=\"290\" y2=\"20\" style=\"stroke:#ffe695;stroke-width:3;\" /><line x1=\"291\" y1=\"0\" x2=\"291\" y2=\"20\" style=\"stroke:#ffe694;stroke-width:3;\" /><line x1=\"292\" y1=\"0\" x2=\"292\" y2=\"20\" style=\"stroke:#ffe593;stroke-width:3;\" /><line x1=\"293\" y1=\"0\" x2=\"293\" y2=\"20\" style=\"stroke:#ffe492;stroke-width:3;\" /><line x1=\"294\" y1=\"0\" x2=\"294\" y2=\"20\" style=\"stroke:#ffe491;stroke-width:3;\" /><line x1=\"295\" y1=\"0\" x2=\"295\" y2=\"20\" style=\"stroke:#ffe390;stroke-width:3;\" /><line x1=\"296\" y1=\"0\" x2=\"296\" y2=\"20\" style=\"stroke:#ffe28f;stroke-width:3;\" /><line x1=\"297\" y1=\"0\" x2=\"297\" y2=\"20\" style=\"stroke:#ffe28e;stroke-width:3;\" /><line x1=\"298\" y1=\"0\" x2=\"298\" y2=\"20\" style=\"stroke:#ffe18d;stroke-width:3;\" /><line x1=\"299\" y1=\"0\" x2=\"299\" y2=\"20\" style=\"stroke:#ffe18b;stroke-width:3;\" /><line x1=\"300\" y1=\"0\" x2=\"300\" y2=\"20\" style=\"stroke:#fee08b;stroke-width:3;\" /><line x1=\"301\" y1=\"0\" x2=\"301\" y2=\"20\" style=\"stroke:#fedf8a;stroke-width:3;\" /><line x1=\"302\" y1=\"0\" x2=\"302\" y2=\"20\" style=\"stroke:#fede89;stroke-width:3;\" /><line x1=\"303\" y1=\"0\" x2=\"303\" y2=\"20\" style=\"stroke:#fedd88;stroke-width:3;\" /><line x1=\"304\" y1=\"0\" x2=\"304\" y2=\"20\" style=\"stroke:#fedc87;stroke-width:3;\" /><line x1=\"305\" y1=\"0\" x2=\"305\" y2=\"20\" style=\"stroke:#fedb86;stroke-width:3;\" /><line x1=\"306\" y1=\"0\" x2=\"306\" y2=\"20\" style=\"stroke:#feda85;stroke-width:3;\" /><line x1=\"307\" y1=\"0\" x2=\"307\" y2=\"20\" style=\"stroke:#fed985;stroke-width:3;\" /><line x1=\"308\" y1=\"0\" x2=\"308\" y2=\"20\" style=\"stroke:#fed884;stroke-width:3;\" /><line x1=\"309\" y1=\"0\" x2=\"309\" y2=\"20\" style=\"stroke:#fed783;stroke-width:3;\" /><line x1=\"310\" y1=\"0\" x2=\"310\" y2=\"20\" style=\"stroke:#fed682;stroke-width:3;\" /><line x1=\"311\" y1=\"0\" x2=\"311\" y2=\"20\" style=\"stroke:#fed581;stroke-width:3;\" /><line x1=\"312\" y1=\"0\" x2=\"312\" y2=\"20\" style=\"stroke:#fed480;stroke-width:3;\" /><line x1=\"313\" y1=\"0\" x2=\"313\" y2=\"20\" style=\"stroke:#fed380;stroke-width:3;\" /><line x1=\"314\" y1=\"0\" x2=\"314\" y2=\"20\" style=\"stroke:#fed27f;stroke-width:3;\" /><line x1=\"315\" y1=\"0\" x2=\"315\" y2=\"20\" style=\"stroke:#fed17e;stroke-width:3;\" /><line x1=\"316\" y1=\"0\" x2=\"316\" y2=\"20\" style=\"stroke:#fed07d;stroke-width:3;\" /><line x1=\"317\" y1=\"0\" x2=\"317\" y2=\"20\" style=\"stroke:#fecf7c;stroke-width:3;\" /><line x1=\"318\" y1=\"0\" x2=\"318\" y2=\"20\" style=\"stroke:#fece7b;stroke-width:3;\" /><line x1=\"319\" y1=\"0\" x2=\"319\" y2=\"20\" style=\"stroke:#fecd7a;stroke-width:3;\" /><line x1=\"320\" y1=\"0\" x2=\"320\" y2=\"20\" style=\"stroke:#fecc7a;stroke-width:3;\" /><line x1=\"321\" y1=\"0\" x2=\"321\" y2=\"20\" style=\"stroke:#fecb79;stroke-width:3;\" /><line x1=\"322\" y1=\"0\" x2=\"322\" y2=\"20\" style=\"stroke:#feca78;stroke-width:3;\" /><line x1=\"323\" y1=\"0\" x2=\"323\" y2=\"20\" style=\"stroke:#fec977;stroke-width:3;\" /><line x1=\"324\" y1=\"0\" x2=\"324\" y2=\"20\" style=\"stroke:#fec876;stroke-width:3;\" /><line x1=\"325\" y1=\"0\" x2=\"325\" y2=\"20\" style=\"stroke:#fec775;stroke-width:3;\" /><line x1=\"326\" y1=\"0\" x2=\"326\" y2=\"20\" style=\"stroke:#fec675;stroke-width:3;\" /><line x1=\"327\" y1=\"0\" x2=\"327\" y2=\"20\" style=\"stroke:#fec574;stroke-width:3;\" /><line x1=\"328\" y1=\"0\" x2=\"328\" y2=\"20\" style=\"stroke:#fec473;stroke-width:3;\" /><line x1=\"329\" y1=\"0\" x2=\"329\" y2=\"20\" style=\"stroke:#fec372;stroke-width:3;\" /><line x1=\"330\" y1=\"0\" x2=\"330\" y2=\"20\" style=\"stroke:#fec271;stroke-width:3;\" /><line x1=\"331\" y1=\"0\" x2=\"331\" y2=\"20\" style=\"stroke:#fec170;stroke-width:3;\" /><line x1=\"332\" y1=\"0\" x2=\"332\" y2=\"20\" style=\"stroke:#fec06f;stroke-width:3;\" /><line x1=\"333\" y1=\"0\" x2=\"333\" y2=\"20\" style=\"stroke:#febf6f;stroke-width:3;\" /><line x1=\"334\" y1=\"0\" x2=\"334\" y2=\"20\" style=\"stroke:#febe6e;stroke-width:3;\" /><line x1=\"335\" y1=\"0\" x2=\"335\" y2=\"20\" style=\"stroke:#febd6d;stroke-width:3;\" /><line x1=\"336\" y1=\"0\" x2=\"336\" y2=\"20\" style=\"stroke:#febc6c;stroke-width:3;\" /><line x1=\"337\" y1=\"0\" x2=\"337\" y2=\"20\" style=\"stroke:#febb6b;stroke-width:3;\" /><line x1=\"338\" y1=\"0\" x2=\"338\" y2=\"20\" style=\"stroke:#feba6a;stroke-width:3;\" /><line x1=\"339\" y1=\"0\" x2=\"339\" y2=\"20\" style=\"stroke:#feb96a;stroke-width:3;\" /><line x1=\"340\" y1=\"0\" x2=\"340\" y2=\"20\" style=\"stroke:#feb869;stroke-width:3;\" /><line x1=\"341\" y1=\"0\" x2=\"341\" y2=\"20\" style=\"stroke:#feb768;stroke-width:3;\" /><line x1=\"342\" y1=\"0\" x2=\"342\" y2=\"20\" style=\"stroke:#feb667;stroke-width:3;\" /><line x1=\"343\" y1=\"0\" x2=\"343\" y2=\"20\" style=\"stroke:#feb566;stroke-width:3;\" /><line x1=\"344\" y1=\"0\" x2=\"344\" y2=\"20\" style=\"stroke:#feb465;stroke-width:3;\" /><line x1=\"345\" y1=\"0\" x2=\"345\" y2=\"20\" style=\"stroke:#feb365;stroke-width:3;\" /><line x1=\"346\" y1=\"0\" x2=\"346\" y2=\"20\" style=\"stroke:#feb264;stroke-width:3;\" /><line x1=\"347\" y1=\"0\" x2=\"347\" y2=\"20\" style=\"stroke:#feb063;stroke-width:3;\" /><line x1=\"348\" y1=\"0\" x2=\"348\" y2=\"20\" style=\"stroke:#feaf62;stroke-width:3;\" /><line x1=\"349\" y1=\"0\" x2=\"349\" y2=\"20\" style=\"stroke:#fdae61;stroke-width:3;\" /><line x1=\"350\" y1=\"0\" x2=\"350\" y2=\"20\" style=\"stroke:#fdad60;stroke-width:3;\" /><line x1=\"351\" y1=\"0\" x2=\"351\" y2=\"20\" style=\"stroke:#fdac60;stroke-width:3;\" /><line x1=\"352\" y1=\"0\" x2=\"352\" y2=\"20\" style=\"stroke:#fdab5f;stroke-width:3;\" /><line x1=\"353\" y1=\"0\" x2=\"353\" y2=\"20\" style=\"stroke:#fda95f;stroke-width:3;\" /><line x1=\"354\" y1=\"0\" x2=\"354\" y2=\"20\" style=\"stroke:#fda85e;stroke-width:3;\" /><line x1=\"355\" y1=\"0\" x2=\"355\" y2=\"20\" style=\"stroke:#fca75d;stroke-width:3;\" /><line x1=\"356\" y1=\"0\" x2=\"356\" y2=\"20\" style=\"stroke:#fca55d;stroke-width:3;\" /><line x1=\"357\" y1=\"0\" x2=\"357\" y2=\"20\" style=\"stroke:#fca45c;stroke-width:3;\" /><line x1=\"358\" y1=\"0\" x2=\"358\" y2=\"20\" style=\"stroke:#fca35c;stroke-width:3;\" /><line x1=\"359\" y1=\"0\" x2=\"359\" y2=\"20\" style=\"stroke:#fca15b;stroke-width:3;\" /><line x1=\"360\" y1=\"0\" x2=\"360\" y2=\"20\" style=\"stroke:#fca05a;stroke-width:3;\" /><line x1=\"361\" y1=\"0\" x2=\"361\" y2=\"20\" style=\"stroke:#fb9f5a;stroke-width:3;\" /><line x1=\"362\" y1=\"0\" x2=\"362\" y2=\"20\" style=\"stroke:#fb9e59;stroke-width:3;\" /><line x1=\"363\" y1=\"0\" x2=\"363\" y2=\"20\" style=\"stroke:#fb9c59;stroke-width:3;\" /><line x1=\"364\" y1=\"0\" x2=\"364\" y2=\"20\" style=\"stroke:#fb9b58;stroke-width:3;\" /><line x1=\"365\" y1=\"0\" x2=\"365\" y2=\"20\" style=\"stroke:#fb9a57;stroke-width:3;\" /><line x1=\"366\" y1=\"0\" x2=\"366\" y2=\"20\" style=\"stroke:#fa9857;stroke-width:3;\" /><line x1=\"367\" y1=\"0\" x2=\"367\" y2=\"20\" style=\"stroke:#fa9756;stroke-width:3;\" /><line x1=\"368\" y1=\"0\" x2=\"368\" y2=\"20\" style=\"stroke:#fa9656;stroke-width:3;\" /><line x1=\"369\" y1=\"0\" x2=\"369\" y2=\"20\" style=\"stroke:#fa9455;stroke-width:3;\" /><line x1=\"370\" y1=\"0\" x2=\"370\" y2=\"20\" style=\"stroke:#fa9354;stroke-width:3;\" /><line x1=\"371\" y1=\"0\" x2=\"371\" y2=\"20\" style=\"stroke:#fa9254;stroke-width:3;\" /><line x1=\"372\" y1=\"0\" x2=\"372\" y2=\"20\" style=\"stroke:#f99053;stroke-width:3;\" /><line x1=\"373\" y1=\"0\" x2=\"373\" y2=\"20\" style=\"stroke:#f98f53;stroke-width:3;\" /><line x1=\"374\" y1=\"0\" x2=\"374\" y2=\"20\" style=\"stroke:#f98e52;stroke-width:3;\" /><line x1=\"375\" y1=\"0\" x2=\"375\" y2=\"20\" style=\"stroke:#f98d51;stroke-width:3;\" /><line x1=\"376\" y1=\"0\" x2=\"376\" y2=\"20\" style=\"stroke:#f98b51;stroke-width:3;\" /><line x1=\"377\" y1=\"0\" x2=\"377\" y2=\"20\" style=\"stroke:#f88a50;stroke-width:3;\" /><line x1=\"378\" y1=\"0\" x2=\"378\" y2=\"20\" style=\"stroke:#f88950;stroke-width:3;\" /><line x1=\"379\" y1=\"0\" x2=\"379\" y2=\"20\" style=\"stroke:#f8874f;stroke-width:3;\" /><line x1=\"380\" y1=\"0\" x2=\"380\" y2=\"20\" style=\"stroke:#f8864e;stroke-width:3;\" /><line x1=\"381\" y1=\"0\" x2=\"381\" y2=\"20\" style=\"stroke:#f8854e;stroke-width:3;\" /><line x1=\"382\" y1=\"0\" x2=\"382\" y2=\"20\" style=\"stroke:#f8834d;stroke-width:3;\" /><line x1=\"383\" y1=\"0\" x2=\"383\" y2=\"20\" style=\"stroke:#f7824d;stroke-width:3;\" /><line x1=\"384\" y1=\"0\" x2=\"384\" y2=\"20\" style=\"stroke:#f7814c;stroke-width:3;\" /><line x1=\"385\" y1=\"0\" x2=\"385\" y2=\"20\" style=\"stroke:#f77f4b;stroke-width:3;\" /><line x1=\"386\" y1=\"0\" x2=\"386\" y2=\"20\" style=\"stroke:#f77e4b;stroke-width:3;\" /><line x1=\"387\" y1=\"0\" x2=\"387\" y2=\"20\" style=\"stroke:#f77d4a;stroke-width:3;\" /><line x1=\"388\" y1=\"0\" x2=\"388\" y2=\"20\" style=\"stroke:#f67c4a;stroke-width:3;\" /><line x1=\"389\" y1=\"0\" x2=\"389\" y2=\"20\" style=\"stroke:#f67a49;stroke-width:3;\" /><line x1=\"390\" y1=\"0\" x2=\"390\" y2=\"20\" style=\"stroke:#f67948;stroke-width:3;\" /><line x1=\"391\" y1=\"0\" x2=\"391\" y2=\"20\" style=\"stroke:#f67848;stroke-width:3;\" /><line x1=\"392\" y1=\"0\" x2=\"392\" y2=\"20\" style=\"stroke:#f67647;stroke-width:3;\" /><line x1=\"393\" y1=\"0\" x2=\"393\" y2=\"20\" style=\"stroke:#f67547;stroke-width:3;\" /><line x1=\"394\" y1=\"0\" x2=\"394\" y2=\"20\" style=\"stroke:#f57446;stroke-width:3;\" /><line x1=\"395\" y1=\"0\" x2=\"395\" y2=\"20\" style=\"stroke:#f57245;stroke-width:3;\" /><line x1=\"396\" y1=\"0\" x2=\"396\" y2=\"20\" style=\"stroke:#f57145;stroke-width:3;\" /><line x1=\"397\" y1=\"0\" x2=\"397\" y2=\"20\" style=\"stroke:#f57044;stroke-width:3;\" /><line x1=\"398\" y1=\"0\" x2=\"398\" y2=\"20\" style=\"stroke:#f56e43;stroke-width:3;\" /><line x1=\"399\" y1=\"0\" x2=\"399\" y2=\"20\" style=\"stroke:#f46d43;stroke-width:3;\" /><line x1=\"400\" y1=\"0\" x2=\"400\" y2=\"20\" style=\"stroke:#f46c43;stroke-width:3;\" /><line x1=\"401\" y1=\"0\" x2=\"401\" y2=\"20\" style=\"stroke:#f36b43;stroke-width:3;\" /><line x1=\"402\" y1=\"0\" x2=\"402\" y2=\"20\" style=\"stroke:#f36a43;stroke-width:3;\" /><line x1=\"403\" y1=\"0\" x2=\"403\" y2=\"20\" style=\"stroke:#f26944;stroke-width:3;\" /><line x1=\"404\" y1=\"0\" x2=\"404\" y2=\"20\" style=\"stroke:#f16844;stroke-width:3;\" /><line x1=\"405\" y1=\"0\" x2=\"405\" y2=\"20\" style=\"stroke:#f16744;stroke-width:3;\" /><line x1=\"406\" y1=\"0\" x2=\"406\" y2=\"20\" style=\"stroke:#f06644;stroke-width:3;\" /><line x1=\"407\" y1=\"0\" x2=\"407\" y2=\"20\" style=\"stroke:#f06645;stroke-width:3;\" /><line x1=\"408\" y1=\"0\" x2=\"408\" y2=\"20\" style=\"stroke:#ef6545;stroke-width:3;\" /><line x1=\"409\" y1=\"0\" x2=\"409\" y2=\"20\" style=\"stroke:#ee6445;stroke-width:3;\" /><line x1=\"410\" y1=\"0\" x2=\"410\" y2=\"20\" style=\"stroke:#ee6345;stroke-width:3;\" /><line x1=\"411\" y1=\"0\" x2=\"411\" y2=\"20\" style=\"stroke:#ed6246;stroke-width:3;\" /><line x1=\"412\" y1=\"0\" x2=\"412\" y2=\"20\" style=\"stroke:#ec6146;stroke-width:3;\" /><line x1=\"413\" y1=\"0\" x2=\"413\" y2=\"20\" style=\"stroke:#ec6046;stroke-width:3;\" /><line x1=\"414\" y1=\"0\" x2=\"414\" y2=\"20\" style=\"stroke:#eb5f46;stroke-width:3;\" /><line x1=\"415\" y1=\"0\" x2=\"415\" y2=\"20\" style=\"stroke:#eb5e47;stroke-width:3;\" /><line x1=\"416\" y1=\"0\" x2=\"416\" y2=\"20\" style=\"stroke:#ea5d47;stroke-width:3;\" /><line x1=\"417\" y1=\"0\" x2=\"417\" y2=\"20\" style=\"stroke:#e95c47;stroke-width:3;\" /><line x1=\"418\" y1=\"0\" x2=\"418\" y2=\"20\" style=\"stroke:#e95b47;stroke-width:3;\" /><line x1=\"419\" y1=\"0\" x2=\"419\" y2=\"20\" style=\"stroke:#e85a48;stroke-width:3;\" /><line x1=\"420\" y1=\"0\" x2=\"420\" y2=\"20\" style=\"stroke:#e75948;stroke-width:3;\" /><line x1=\"421\" y1=\"0\" x2=\"421\" y2=\"20\" style=\"stroke:#e75848;stroke-width:3;\" /><line x1=\"422\" y1=\"0\" x2=\"422\" y2=\"20\" style=\"stroke:#e65748;stroke-width:3;\" /><line x1=\"423\" y1=\"0\" x2=\"423\" y2=\"20\" style=\"stroke:#e65649;stroke-width:3;\" /><line x1=\"424\" y1=\"0\" x2=\"424\" y2=\"20\" style=\"stroke:#e55549;stroke-width:3;\" /><line x1=\"425\" y1=\"0\" x2=\"425\" y2=\"20\" style=\"stroke:#e45549;stroke-width:3;\" /><line x1=\"426\" y1=\"0\" x2=\"426\" y2=\"20\" style=\"stroke:#e45449;stroke-width:3;\" /><line x1=\"427\" y1=\"0\" x2=\"427\" y2=\"20\" style=\"stroke:#e35349;stroke-width:3;\" /><line x1=\"428\" y1=\"0\" x2=\"428\" y2=\"20\" style=\"stroke:#e2524a;stroke-width:3;\" /><line x1=\"429\" y1=\"0\" x2=\"429\" y2=\"20\" style=\"stroke:#e2514a;stroke-width:3;\" /><line x1=\"430\" y1=\"0\" x2=\"430\" y2=\"20\" style=\"stroke:#e1504a;stroke-width:3;\" /><line x1=\"431\" y1=\"0\" x2=\"431\" y2=\"20\" style=\"stroke:#e14f4a;stroke-width:3;\" /><line x1=\"432\" y1=\"0\" x2=\"432\" y2=\"20\" style=\"stroke:#e04e4b;stroke-width:3;\" /><line x1=\"433\" y1=\"0\" x2=\"433\" y2=\"20\" style=\"stroke:#df4d4b;stroke-width:3;\" /><line x1=\"434\" y1=\"0\" x2=\"434\" y2=\"20\" style=\"stroke:#df4c4b;stroke-width:3;\" /><line x1=\"435\" y1=\"0\" x2=\"435\" y2=\"20\" style=\"stroke:#de4b4b;stroke-width:3;\" /><line x1=\"436\" y1=\"0\" x2=\"436\" y2=\"20\" style=\"stroke:#de4a4c;stroke-width:3;\" /><line x1=\"437\" y1=\"0\" x2=\"437\" y2=\"20\" style=\"stroke:#dd494c;stroke-width:3;\" /><line x1=\"438\" y1=\"0\" x2=\"438\" y2=\"20\" style=\"stroke:#dc484c;stroke-width:3;\" /><line x1=\"439\" y1=\"0\" x2=\"439\" y2=\"20\" style=\"stroke:#dc474c;stroke-width:3;\" /><line x1=\"440\" y1=\"0\" x2=\"440\" y2=\"20\" style=\"stroke:#db464d;stroke-width:3;\" /><line x1=\"441\" y1=\"0\" x2=\"441\" y2=\"20\" style=\"stroke:#da454d;stroke-width:3;\" /><line x1=\"442\" y1=\"0\" x2=\"442\" y2=\"20\" style=\"stroke:#da444d;stroke-width:3;\" /><line x1=\"443\" y1=\"0\" x2=\"443\" y2=\"20\" style=\"stroke:#d9444d;stroke-width:3;\" /><line x1=\"444\" y1=\"0\" x2=\"444\" y2=\"20\" style=\"stroke:#d9434e;stroke-width:3;\" /><line x1=\"445\" y1=\"0\" x2=\"445\" y2=\"20\" style=\"stroke:#d8424e;stroke-width:3;\" /><line x1=\"446\" y1=\"0\" x2=\"446\" y2=\"20\" style=\"stroke:#d7414e;stroke-width:3;\" /><line x1=\"447\" y1=\"0\" x2=\"447\" y2=\"20\" style=\"stroke:#d7404e;stroke-width:3;\" /><line x1=\"448\" y1=\"0\" x2=\"448\" y2=\"20\" style=\"stroke:#d63f4f;stroke-width:3;\" /><line x1=\"449\" y1=\"0\" x2=\"449\" y2=\"20\" style=\"stroke:#d53e4f;stroke-width:3;\" /><line x1=\"450\" y1=\"0\" x2=\"450\" y2=\"20\" style=\"stroke:#d43d4f;stroke-width:3;\" /><line x1=\"451\" y1=\"0\" x2=\"451\" y2=\"20\" style=\"stroke:#d33b4e;stroke-width:3;\" /><line x1=\"452\" y1=\"0\" x2=\"452\" y2=\"20\" style=\"stroke:#d23a4e;stroke-width:3;\" /><line x1=\"453\" y1=\"0\" x2=\"453\" y2=\"20\" style=\"stroke:#d1394e;stroke-width:3;\" /><line x1=\"454\" y1=\"0\" x2=\"454\" y2=\"20\" style=\"stroke:#d0384e;stroke-width:3;\" /><line x1=\"455\" y1=\"0\" x2=\"455\" y2=\"20\" style=\"stroke:#cf374d;stroke-width:3;\" /><line x1=\"456\" y1=\"0\" x2=\"456\" y2=\"20\" style=\"stroke:#ce354d;stroke-width:3;\" /><line x1=\"457\" y1=\"0\" x2=\"457\" y2=\"20\" style=\"stroke:#cd344d;stroke-width:3;\" /><line x1=\"458\" y1=\"0\" x2=\"458\" y2=\"20\" style=\"stroke:#cb334c;stroke-width:3;\" /><line x1=\"459\" y1=\"0\" x2=\"459\" y2=\"20\" style=\"stroke:#ca324c;stroke-width:3;\" /><line x1=\"460\" y1=\"0\" x2=\"460\" y2=\"20\" style=\"stroke:#c9304c;stroke-width:3;\" /><line x1=\"461\" y1=\"0\" x2=\"461\" y2=\"20\" style=\"stroke:#c82f4c;stroke-width:3;\" /><line x1=\"462\" y1=\"0\" x2=\"462\" y2=\"20\" style=\"stroke:#c72e4b;stroke-width:3;\" /><line x1=\"463\" y1=\"0\" x2=\"463\" y2=\"20\" style=\"stroke:#c62d4b;stroke-width:3;\" /><line x1=\"464\" y1=\"0\" x2=\"464\" y2=\"20\" style=\"stroke:#c52b4b;stroke-width:3;\" /><line x1=\"465\" y1=\"0\" x2=\"465\" y2=\"20\" style=\"stroke:#c42a4b;stroke-width:3;\" /><line x1=\"466\" y1=\"0\" x2=\"466\" y2=\"20\" style=\"stroke:#c3294a;stroke-width:3;\" /><line x1=\"467\" y1=\"0\" x2=\"467\" y2=\"20\" style=\"stroke:#c2284a;stroke-width:3;\" /><line x1=\"468\" y1=\"0\" x2=\"468\" y2=\"20\" style=\"stroke:#c0274a;stroke-width:3;\" /><line x1=\"469\" y1=\"0\" x2=\"469\" y2=\"20\" style=\"stroke:#bf254a;stroke-width:3;\" /><line x1=\"470\" y1=\"0\" x2=\"470\" y2=\"20\" style=\"stroke:#be2449;stroke-width:3;\" /><line x1=\"471\" y1=\"0\" x2=\"471\" y2=\"20\" style=\"stroke:#bd2349;stroke-width:3;\" /><line x1=\"472\" y1=\"0\" x2=\"472\" y2=\"20\" style=\"stroke:#bc2249;stroke-width:3;\" /><line x1=\"473\" y1=\"0\" x2=\"473\" y2=\"20\" style=\"stroke:#bb2049;stroke-width:3;\" /><line x1=\"474\" y1=\"0\" x2=\"474\" y2=\"20\" style=\"stroke:#ba1f48;stroke-width:3;\" /><line x1=\"475\" y1=\"0\" x2=\"475\" y2=\"20\" style=\"stroke:#b91e48;stroke-width:3;\" /><line x1=\"476\" y1=\"0\" x2=\"476\" y2=\"20\" style=\"stroke:#b81d48;stroke-width:3;\" /><line x1=\"477\" y1=\"0\" x2=\"477\" y2=\"20\" style=\"stroke:#b61c48;stroke-width:3;\" /><line x1=\"478\" y1=\"0\" x2=\"478\" y2=\"20\" style=\"stroke:#b51a47;stroke-width:3;\" /><line x1=\"479\" y1=\"0\" x2=\"479\" y2=\"20\" style=\"stroke:#b41947;stroke-width:3;\" /><line x1=\"480\" y1=\"0\" x2=\"480\" y2=\"20\" style=\"stroke:#b31847;stroke-width:3;\" /><line x1=\"481\" y1=\"0\" x2=\"481\" y2=\"20\" style=\"stroke:#b21746;stroke-width:3;\" /><line x1=\"482\" y1=\"0\" x2=\"482\" y2=\"20\" style=\"stroke:#b11546;stroke-width:3;\" /><line x1=\"483\" y1=\"0\" x2=\"483\" y2=\"20\" style=\"stroke:#b01446;stroke-width:3;\" /><line x1=\"484\" y1=\"0\" x2=\"484\" y2=\"20\" style=\"stroke:#af1346;stroke-width:3;\" /><line x1=\"485\" y1=\"0\" x2=\"485\" y2=\"20\" style=\"stroke:#ae1245;stroke-width:3;\" /><line x1=\"486\" y1=\"0\" x2=\"486\" y2=\"20\" style=\"stroke:#ad1045;stroke-width:3;\" /><line x1=\"487\" y1=\"0\" x2=\"487\" y2=\"20\" style=\"stroke:#ab0f45;stroke-width:3;\" /><line x1=\"488\" y1=\"0\" x2=\"488\" y2=\"20\" style=\"stroke:#aa0e45;stroke-width:3;\" /><line x1=\"489\" y1=\"0\" x2=\"489\" y2=\"20\" style=\"stroke:#a90d44;stroke-width:3;\" /><line x1=\"490\" y1=\"0\" x2=\"490\" y2=\"20\" style=\"stroke:#a80c44;stroke-width:3;\" /><line x1=\"491\" y1=\"0\" x2=\"491\" y2=\"20\" style=\"stroke:#a70a44;stroke-width:3;\" /><line x1=\"492\" y1=\"0\" x2=\"492\" y2=\"20\" style=\"stroke:#a60944;stroke-width:3;\" /><line x1=\"493\" y1=\"0\" x2=\"493\" y2=\"20\" style=\"stroke:#a50843;stroke-width:3;\" /><line x1=\"494\" y1=\"0\" x2=\"494\" y2=\"20\" style=\"stroke:#a40743;stroke-width:3;\" /><line x1=\"495\" y1=\"0\" x2=\"495\" y2=\"20\" style=\"stroke:#a30543;stroke-width:3;\" /><line x1=\"496\" y1=\"0\" x2=\"496\" y2=\"20\" style=\"stroke:#a10443;stroke-width:3;\" /><line x1=\"497\" y1=\"0\" x2=\"497\" y2=\"20\" style=\"stroke:#a00342;stroke-width:3;\" /><line x1=\"498\" y1=\"0\" x2=\"498\" y2=\"20\" style=\"stroke:#9f0242;stroke-width:3;\" /><line x1=\"499\" y1=\"0\" x2=\"499\" y2=\"20\" style=\"stroke:#9e0142;stroke-width:3;\" /><text x=\"0\" y=\"35\">-4</text><text x=\"500\" y=\"35\" style=\"text-anchor:end;\">3</text></svg>"
      ],
      "text/plain": [
       "<branca.colormap.LinearColormap at 0x1e973f0ea20>"
      ]
     },
     "execution_count": 47,
     "metadata": {},
     "output_type": "execute_result"
    }
   ],
   "source": [
    "BuRd=['#9e0142','#d53e4f','#f46d43','#fdae61','#fee08b','#ffffbf','#e6f598','#abdda4','#66c2a5','#3288bd','#5e4fa2']\n",
    "make_colormap(voters_org_diff['UDC'], ' UDC Percentage Difference between 2010-2013 and 2014-2018', \n",
    "             BuRd)"
   ]
  },
  {
   "cell_type": "markdown",
   "metadata": {},
   "source": [
    "For simplifing the task, we define a function: get_years_data to help us find the 2 periods' values, given a certain canton and a certain party. By using the result of it, we can easily draw a clear and beautiful bar chart."
   ]
  },
  {
   "cell_type": "code",
   "execution_count": 48,
   "metadata": {},
   "outputs": [],
   "source": [
    "#get the two periods data of a party and return a dataframe\n",
    "def get_years_data(dataframe, dataframe2, index, canton_id):\n",
    "    \"\"\"\n",
    "    \n",
    "    For a given index and canton_id, get values in two dataframe and merge to a dataframe\n",
    "    \n",
    "    Parameters:\n",
    "        dataframe:\n",
    "        the dataframe including columns ['Code']\n",
    "                 \n",
    "        dataframe2:\n",
    "        the dataframe including columns ['Code']\n",
    "        \n",
    "        index:\n",
    "        the str name of a colum in dataframe eg: 'PS'\n",
    "        \n",
    "        canton_id:\n",
    "        the id of canton like 'ZH'\n",
    "        \n",
    "    Return:\n",
    "        Return folium.map.FeatureGroup layer, which can be added to map.\n",
    "    \n",
    "    \"\"\"\n",
    "    values = {}\n",
    "    values_bar = dataframe[dataframe['Code'] == canton_id][[index]]  \n",
    "    values_bar2 = dataframe2[dataframe2['Code'] == canton_id][[index]]\n",
    "\n",
    "    values['2010-2013'] = values_bar.values[0]\n",
    "    values['2014-2017'] = values_bar2.values[0]\n",
    "    return values"
   ]
  },
  {
   "cell_type": "code",
   "execution_count": 49,
   "metadata": {},
   "outputs": [
    {
     "name": "stdout",
     "output_type": "stream",
     "text": [
      "UCD in ZH:  {'2010-2013': array([29.63555154]), '2014-2017': array([30.02321486])}\n"
     ]
    }
   ],
   "source": [
    "print('UCD in ZH: ', get_years_data(voters_org_2010, voters_org_2014, 'UDC', 'ZH'))"
   ]
  },
  {
   "cell_type": "markdown",
   "metadata": {},
   "source": [
    "Then, we are working on the main part for pop-up function. In the function `make_popup_barchart_layer()`, we iterate party percentage of every canton in topojson. If the data is NAN, pop-up message will be 'No data for XX'. If the data is valid, then it will draw a clear bar chart according to data from the two dataframes and add these charts to pop-up marker. In every loop, pop-up message will be exported to the target layer. \n",
    "\n",
    "__ATTENTION__ We use `Vincent` library to help us draw bar charts\n",
    "\n",
    "Vincent takes Python data structures (tuples, lists, dicts, and Pandas DataFrames) and translates them into Vega visualization grammar. It allows for quick iteration of visualization designs via simple addition and subtraction of grammar elements, and outputs the final visualization to JSON. Run the code blow to install `Vincent`\n"
   ]
  },
  {
   "cell_type": "code",
   "execution_count": 50,
   "metadata": {},
   "outputs": [],
   "source": [
    "def make_popup_barchart_layer(topojson, dataframe, dataframe2, index, index2, layer): \n",
    "    \"\"\"\n",
    "    \n",
    "     Add pop up infomation (Eg. Voting ratio, number of residents) for each canton.\n",
    "    \n",
    "    Parameters:\n",
    "        topojson: \n",
    "        The topojson contains infomation of canton code, canton position and borders.\n",
    "        \n",
    "        dataframe:\n",
    "        the dataframe including columns ['Code']\n",
    "        \n",
    "        index:\n",
    "        the str name of a colum in dataframe eg: 'UDC'\n",
    "        \n",
    "        dataframe2:\n",
    "        the dataframe including columns ['Code']\n",
    "        \n",
    "        index2:\n",
    "        the str name of a colum in dataframe eg: 'PS'\n",
    "        \n",
    "        layer:\n",
    "        the layer which will be add to\n",
    "        \n",
    "    Return:\n",
    "        ///////\n",
    "    \n",
    "    \"\"\"\n",
    "    \n",
    "\n",
    "    for data in topojson['objects']['cantons']['geometries']:\n",
    "        #copy all information in topojson     \n",
    "        canton_topo = copy.deepcopy(topojson) \n",
    "        canton_topo['objects']['cantons']['geometries'] = [data]\n",
    "        canton_id = canton_topo['objects']['cantons']['geometries'][0]['id']\n",
    "        canton_name = cantons[dataframe['Code'] == canton_id]['Canton of'].values[0]      \n",
    "        canton_layer = folium.TopoJson(canton_topo, 'objects.cantons', name = canton_id)\n",
    "        \n",
    "        if column_isnan(dataframe, index, canton_id) and column_isnan(dataframe, index2, canton_id) :\n",
    "            canton_layer.add_child(folium.Popup('No data for '+ canton_name))\n",
    "            canton_layer.add_to(layer)\n",
    "\n",
    "        else:\n",
    "            #plot a barchart\n",
    "            data = [get_years_data(dataframe, dataframe2, index, canton_id), get_years_data(dataframe, dataframe2, index2, canton_id)]\n",
    "            indexes = [index, index2]\n",
    "            bar = vincent.GroupedBar(pd.DataFrame(data, index=indexes))\n",
    "            bar.legend(title='Vote Percentage in '+ canton_name)\n",
    "            bar.axis_titles(x='Parties', y='Vote Percentage')\n",
    "            bar.common_axis_properties(title_size=10)\n",
    "            bar.width = 250\n",
    "            bar.height = 200\n",
    "            bar.colors(brew = 'Spectral')\n",
    "            bar_json = bar.to_json()\n",
    "            bar_dict = json.loads(bar_json)\n",
    "            v_bar_combined = folium.Vega(bar_dict, width = 500, height = 250)    \n",
    "            popup = folium.Popup(max_width = 850)    \n",
    "            popup.add_child(v_bar_combined)\n",
    "            canton_layer.add_child(popup) \n",
    "            canton_layer.add_to(layer)"
   ]
  },
  {
   "cell_type": "markdown",
   "metadata": {},
   "source": [
    "After implementing all functions we need, just get layers and merge them together.\n",
    "\n",
    "## To see the results, you must choose one layer through the button on the right-up corner. And you can click each canton to check the bar chart with details."
   ]
  },
  {
   "cell_type": "markdown",
   "metadata": {},
   "source": [
    "[Click here to see Difference.html](Difference.html)"
   ]
  },
  {
   "cell_type": "code",
   "execution_count": 51,
   "metadata": {},
   "outputs": [
    {
     "data": {
      "text/html": [
       "\n",
       "        <iframe\n",
       "            width=\"980\"\n",
       "            height=\"600\"\n",
       "            src=\"Difference.html\"\n",
       "            frameborder=\"0\"\n",
       "            allowfullscreen\n",
       "        ></iframe>\n",
       "        "
      ],
      "text/plain": [
       "<IPython.lib.display.IFrame at 0x1e974193f98>"
      ]
     },
     "execution_count": 51,
     "metadata": {},
     "output_type": "execute_result"
    }
   ],
   "source": [
    "mp2 = folium.Map([46.87, 8.36], tiles='cartodbpositron', zoom_start=7)\n",
    "\n",
    "#fill color to represent the difference\n",
    "layer_UDC = make_layer(topojson, voters_org_diff, 'UDC', BuRd )\n",
    "layer_PS = make_layer(topojson, voters_org_diff, 'PS', BuRd )\n",
    "\n",
    "#add pop-up with barchar to each layer\n",
    "make_popup_barchart_layer(topojson, voters_org_2010, voters_org_2014, 'UDC', 'PS', layer_UDC)\n",
    "make_popup_barchart_layer(topojson, voters_org_2010, voters_org_2014, 'UDC', 'PS', layer_PS)\n",
    "\n",
    "#merge layers\n",
    "make_colormap(voters_org_diff['PS'], 'Percentage Difference between 2010-2013 and 2014-2018', BuRd).add_to(mp2)\n",
    "layer_UDC.add_to(mp2)\n",
    "layer_PS.add_to(mp2)\n",
    "\n",
    "folium.LayerControl().add_to(mp2)\n",
    "\n",
    "folium.Map.save(mp2, 'Difference.html')\n",
    "IFrame(src=\"Difference.html\", width = 980, height = 600)"
   ]
  }
 ],
 "metadata": {
  "kernelspec": {
   "display_name": "Python 3",
   "language": "python",
   "name": "python3"
  },
  "language_info": {
   "codemirror_mode": {
    "name": "ipython",
    "version": 3
   },
   "file_extension": ".py",
   "mimetype": "text/x-python",
   "name": "python",
   "nbconvert_exporter": "python",
   "pygments_lexer": "ipython3",
   "version": "3.6.8"
  }
 },
 "nbformat": 4,
 "nbformat_minor": 2
}
