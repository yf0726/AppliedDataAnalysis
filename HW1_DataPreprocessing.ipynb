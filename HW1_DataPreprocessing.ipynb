{
 "cells": [
  {
   "cell_type": "markdown",
   "metadata": {},
   "source": [
    "# Exercise 1\n",
    " <p><div class=\"lev1\"><a href=\"#Task-A.-Another-LEGO-brick-in-the-wall\"><span class=\"toc-item-num\">Task A.&nbsp;&nbsp;</span>Another LEGO brick in the wall</a></div>\n",
    " <p><div class=\"lev1\"><a href=\"#Task-B.-Drop-the-Bike\"><span class=\"toc-item-num\">Task B.&nbsp;&nbsp;</span>Drop the Bike</a></div>"
   ]
  },
  {
   "cell_type": "markdown",
   "metadata": {},
   "source": [
    "TA Reviews\n",
    "\n",
    "Grade for Textual Description: 5.5\n",
    "\n",
    "Grade for Code Quality: 5.25\n",
    "\n",
    "Grade for Results: 5.25\n",
    "\n",
    "Comments: Code quality: (especially section B3) code reusability is great but in this section you have functions you use only once. Plus, they prevent you from inspecting intermediary stages of your dataframe and make the code less easy to follow. Avoid using for loops  Results      \n",
    "\n",
    "A2: great job on cleaning and validating, you could also use describe() or plots for getting a better idea about your data.           \n",
    "\n",
    "A3.2: here you had to compute 20 largest part categories (in terms of the number of parts belonging to the category), which is unrelared to the quantity in inventory sets.          \n",
    "\n",
    "A3.3: great job but you should have handled the color of [ [No color], Unknown] separately            \n",
    "\n",
    "B2:  Plan Duration should also be converted to category. End Time, Start Time should be converted into a datetime (you had to do that operation multiple times later to answer questions, which is not efficient). You should not keep station ids and their coordinates into two different tables (starting and end). Moreover, there is not a 1-2-1 mapping between station ID and coordinates in your tables.           \n",
    "\n",
    "B3.4: Note the question asked you to compute proportion of trips by passholder type AND trip route category (and not given trip route category, proportion of trips by passholder type ).           \n",
    "\n",
    "B3.5:round up your results.  Textual description: good job on your analysis. Some nitpick advice: make a separation between describing your approach of solving the problem and interpreting the results. The analysis of the plots should come after each plot, not at the end. "
   ]
  },
  {
   "cell_type": "code",
   "execution_count": 1,
   "metadata": {},
   "outputs": [],
   "source": [
    "# Add your imports here\n",
    "%matplotlib inline\n",
    "import numpy as np\n",
    "import pandas as pd\n",
    "import re  #regular expression\n",
    "from os import walk  #to detect file name\n",
    "import matplotlib.pyplot as plt #for plot\n",
    "from datetime import datetime"
   ]
  },
  {
   "cell_type": "code",
   "execution_count": 2,
   "metadata": {},
   "outputs": [],
   "source": [
    "DATA_FOLDER = 'data'"
   ]
  },
  {
   "cell_type": "markdown",
   "metadata": {},
   "source": [
    "## Task A. Another LEGO brick in the wall\n",
    "\n",
    "LEGO is a popular brand of toy building bricks. They are often sold in sets in order to build a specific object. Each set contains a number of parts in different shapes, sizes and colors. This database contains information on which parts are included in different LEGO sets. It was originally compiled to help people who owned some LEGO sets already figure out what other sets they could build with the pieces they had.\n",
    "\n",
    "This dataset contains the official LEGO colors, parts, inventories (i.e., sets of LEGO parts which assembled create an object in the LEGO world) and sets (i.e., sets of LEGO inventories which assembled create a LEGO ecosystem). The schema of the dataset can be shown in the following UML diagram: \n",
    "\n",
    "![lego-schema](lego-schema.png)\n",
    "\n",
    "In this task you have to apply the following Data Wrangling pipeline:\n",
    "1. Load your data into `Pandas`\n",
    "* Explore it and clean its dirty parts\n",
    "* Use it to answer a set of queries\n",
    "\n",
    "Each of these subtasks are described in detail below."
   ]
  },
  {
   "cell_type": "markdown",
   "metadata": {},
   "source": [
    "### A1. Loading phase\n",
    "Load all the csv files into different `DataFrames`. Use meaningful names for your `DataFrames` (e.g., the respective filenames).\n",
    "\n",
    "*Hint: You can load files without first unzipping them (for `Pandas` version >= 0.18.1).*"
   ]
  },
  {
   "cell_type": "code",
   "execution_count": 3,
   "metadata": {},
   "outputs": [],
   "source": [
    "LEGO_DATA_FOLDER = DATA_FOLDER + '/lego'"
   ]
  },
  {
   "cell_type": "code",
   "execution_count": 4,
   "metadata": {},
   "outputs": [],
   "source": [
    "# Write your code here\n",
    "# import all datasets in one file\n",
    "namespace = locals()\n",
    "for root, _, files in walk(LEGO_DATA_FOLDER):   #return three list \n",
    "    for name in files:\n",
    "        namespace[name.split('.')[0]] = pd.read_csv(LEGO_DATA_FOLDER + \"/\" + name)"
   ]
  },
  {
   "cell_type": "markdown",
   "metadata": {},
   "source": [
    "### A2. Cleaning phase\n",
    "Explore the following columns from your dataset:\n",
    "\n",
    "1. sets: year\n",
    "* inventory_parts: quantity\n",
    "\n",
    "What is the time range of the sets? \n",
    "What is the average quantity of the inventory parts? \n",
    "Do you see any inconsistencies? \n",
    "Provide code that detects and cleans such inconsistencies and validates the coherence of your dataset. "
   ]
  },
  {
   "cell_type": "code",
   "execution_count": 5,
   "metadata": {},
   "outputs": [
    {
     "name": "stdout",
     "output_type": "stream",
     "text": [
      "The time range of the sets is 67 years. [1950-2017]\n",
      "Years in dataset are validated with correct format.\n",
      "\n",
      "Average quantity of inventory parts is 2.767\n",
      "Quantities in dataset are validated with correct format.\n"
     ]
    }
   ],
   "source": [
    "# Write your code here\n",
    "# cleaning data \n",
    "# express time in same format by replacing irregular date format and correcting wrong year number like -20133\n",
    "\n",
    "\"\"\"This part is for detecting and correcting irregular year.\"\"\"\n",
    "sets.year = sets.year.replace(['70s','80s'],value=['1970','1980']) # replace '70s','80s' by '1970','1980'\n",
    "sets.year = sets.year.str.extract(r'(\\d{4})', expand = False) # extract the top 4 digits in year to avoid minus and duplicate numbers \n",
    "\n",
    "print('The time range of the sets is {} years. [{}-{}]'.format\\\n",
    "      (pd.to_numeric(sets.year.max())-pd.to_numeric(sets.year.min()),\\\n",
    "       pd.to_numeric(sets.year.min()),pd.to_numeric(sets.year.max())))\n",
    "\n",
    "# Validate function to check if year is a valid digit between 1900 to 2018\n",
    "def validate_year(year):         \n",
    "    year = pd.to_numeric(year)\n",
    "    if year < 1900 or year > 2018:\n",
    "        return False\n",
    "    return True\n",
    "\n",
    "if(sets['year'].apply(validate_year).values.all()):\n",
    "    print('Years in dataset are validated with correct format.\\n')\n",
    "else:\n",
    "    print('Years in dataset are not in the correct format.\\n')\n",
    "\n",
    "\"\"\" The next part is for inventory parts quantity.\"\"\"\n",
    "\n",
    "# replace negative infinite by zero in inventory parts\n",
    "inventory_parts.quantity = inventory_parts['quantity'].replace(to_replace=-np.inf, value = 0)\n",
    "print('Average quantity of inventory parts is %.3f' % inventory_parts.quantity.mean())\n",
    "\n",
    "# Validate function to check if quantity of the inventory parts is a nonnegative digit \n",
    "def validate_quantity(quantity):         \n",
    "    if quantity < 0:\n",
    "        return False\n",
    "    return True\n",
    "\n",
    "if(inventory_parts['quantity'].apply(validate_quantity).values.all()): #check if quantity is in valid form\n",
    "    print('Quantities in dataset are validated with correct format.')\n",
    "else:\n",
    "    print('Quantities in dataset are not in the correct format.')\n"
   ]
  },
  {
   "cell_type": "markdown",
   "metadata": {},
   "source": [
    "__\\* Briefly explain your approach here \\*__\n",
    "\n",
    "The time range of the sets is 67 years, and the range is 1950-2017.\n",
    "Average quantity of inventory parts is 2.767.\n",
    "\n",
    "When we load the dataset 'sets' and explore the column 'year', we can notice that the time includes srtings like '70s' and some minus year like '-20055'. We think that these numbers are in wrong format and they should be '1970' and '2005' respectively. So we provide the codes which detect and clean such inconsistencies by replacing '70s' and '80s' with '1970' and '1980'. For the rest, we use the regular expression to match top 4 digits in every year, so that we can avoid minus and double last two digits.\n",
    "Additionally, we provide a validation function to check whether all inputs of years are in correct format and range.\n",
    "\n",
    "As for the inventory parts quantity, we notice that there are some minus infinite and we replace them with 0s.\n",
    "Aslo, we provide a validation function to check if the quantity is non-negative.\n",
    "\n"
   ]
  },
  {
   "cell_type": "markdown",
   "metadata": {},
   "source": [
    "### A3. Querying phase\n",
    "Answer the following queries using the functionality of `Pandas`:\n",
    "\n",
    "1. List the ids of the inventories that belong to sets that contain cars. (*Hint: Find a smart way to distinguish which sets contain cars based on the sets' name*).\n",
    "* Plot the distribution of part categories as a (horizontal) bar chart. Restrict yourself to the 20 largest part categories (in terms of the number of parts belonging to the category).\n",
    "* Find the dominant color of each set. Then, plot using a (horizontal) bar chart, the number of sets per dominant color. Color each bar with the respective color that it represents.\n",
    "* Create a scatter plot of the *luminance*\\* of the sets vs their publishing year. Do you see a trend over the last years? How do you interpret it?\n",
    "\n",
    "\\*The luminance of a color is a [measure of brightness](https://en.wikipedia.org/wiki/Luminance) which, given its RGB representation, can be computed as follows:\n",
    "\n",
    "$luminance = \\sqrt{0.299*R^2 + 0.587*G^2 + 0.114*B^2}$"
   ]
  },
  {
   "cell_type": "code",
   "execution_count": 6,
   "metadata": {},
   "outputs": [
    {
     "name": "stdout",
     "output_type": "stream",
     "text": [
      "Int64Index([  500,   528,   908,  1371,  1401,  1418,  1649,  1716,  1732,\n",
      "             2559,  2814,  2917,  3109,  3764,  4051,  4187,  4430,  4969,\n",
      "             5110,  5358,  5857,  5904,  6066,  6086,  6296,  6530,  7151,\n",
      "             7363,  7430,  7881,  8140,  8202,  8348,  8820,  9178,  9426,\n",
      "            10028, 10158, 10406, 10515, 11861, 11966, 12110, 12437, 12851,\n",
      "            13083, 13355, 13380, 13398, 13427, 13696, 13941, 14011, 14174,\n",
      "            14493, 14711, 14919, 15010, 15694, 16131],\n",
      "           dtype='int64', name='inventory_id')\n"
     ]
    }
   ],
   "source": [
    "# Write your code here\n",
    "# A3.1\n",
    "names = sets.name.str.lower() # convert all alphabets into lower case to avoid case sensitivity\n",
    "idx_car = sets[names.str.contains(r'\\bcar\\b|\\bcars\\b')].copy() # using regex to match the word 'car' or 'cars' but avoiding substring containing 'car' or 'cars'\n",
    "car = pd.merge(idx_car, inventory_sets, left_on='id', right_on='set_id') # assigning car id with inventory set id\n",
    "car_inventory = car.groupby(['inventory_id']).count()\n",
    "print(car_inventory.index)"
   ]
  },
  {
   "cell_type": "code",
   "execution_count": 7,
   "metadata": {},
   "outputs": [
    {
     "data": {
      "image/png": "[encoded data removed]",
      "text/plain": [
       "<Figure size 432x288 with 1 Axes>"
      ]
     },
     "metadata": {},
     "output_type": "display_data"
    }
   ],
   "source": [
    "# A3.2\n",
    "# merge part_categories, parts and inventory_parts, id = part categories id, id_y = parts ID\n",
    "parts_merged = pd.merge(part_categories, parts, left_on='id', right_on='part_cat_id')\\\n",
    "               .merge(inventory_parts, left_on='id_y', right_on='part_id') \n",
    "\n",
    "# find the top 20 largest part categories, name_x = part category name \n",
    "result = parts_merged.groupby(['name_x']).sum().sort_values(ascending=False, by = 'quantity')[:20] \n",
    "result['quantity'].plot(kind='barh') # plot the result as horizontal bar chart\n",
    "\n",
    "# showing the value of every bar\n",
    "plt1 = result['quantity'].plot(kind='barh')\n",
    "for bar in range(len(result)):\n",
    "    plt.text(result['quantity'][bar],bar,str(result['quantity'][bar])[0:-5]+'k')\n",
    "    plt1.set_xlabel('Number')\n",
    "    \n",
    "plt1.set_ylabel('Car name')\n",
    "plt1.set_title('Distribution of part categories')\n",
    "fig = plt1.get_figure()\n",
    "fig.tight_layout()\n",
    "fig.savefig(\"A3.2 Distribution of part categories.png\")"
   ]
  },
  {
   "cell_type": "code",
   "execution_count": 8,
   "metadata": {},
   "outputs": [
    {
     "name": "stdout",
     "output_type": "stream",
     "text": [
      "AxesSubplot(0.125,0.125;0.775x0.755)\n"
     ]
    },
    {
     "data": {
      "image/png": "[encoded data removed]",
      "text/plain": [
       "<Figure size 432x288 with 1 Axes>"
      ]
     },
     "metadata": {},
     "output_type": "display_data"
    }
   ],
   "source": [
    "# A3.3\n",
    "# merge sets, inventory_sets, colors and inventory parts\n",
    "set_merged = pd.merge(sets, inventory_sets, left_on='id', right_on='set_id')\\\n",
    "            .merge(inventory_parts, left_on='inventory_id', right_on='inventory_id')\\\n",
    "            .merge(colors, left_on='color_id', right_on='id') \n",
    "\n",
    "# calculate the quantity of parts, quantity_x: quantity in inventory_sets, quantity_y: quantity in inventory_parts\n",
    "set_merged['total'] = set_merged['quantity_y']* set_merged['quantity_x']  \n",
    "\n",
    "# sum up quantity of parts in same color by different set id, id_x: set id\n",
    "merged_sum = set_merged.groupby(['id_x','color_id']).sum()['total']\n",
    "\n",
    "loc = merged_sum.reset_index().groupby(['id_x'])['total'].idxmax() # get the index of maximum value on every set id \n",
    "\n",
    "# using maximum value index to get dominant color for every set id\n",
    "colormerged = pd.merge(merged_sum.iloc[loc].reset_index(), colors, left_on='color_id', right_on='id') \n",
    "\n",
    "result_name = colormerged.name.value_counts() # getting the number of color names for every color id\n",
    "result_rgb = colors.set_index('name').loc[result_name.index].rgb.get_values() # getting the color rgb for every color id\n",
    "colorname = ['#'+str(result_rgb[i]) for i in range(len(result_rgb))] # creating a list for rgb values\n",
    "\n",
    "# plotting horizontal bar chart showing number of sets per dominant color\n",
    "ax = result_name.plot(kind='barh', color=colorname,title = 'Dominant colors') \n",
    "ax.set_ylabel(\"Color RGB\")\n",
    "ax.set_xlabel(\"Number of sets per dominant color\")\n",
    "ax.set_facecolor('#fce5cd')\n",
    "\n",
    "# showing the value of every bar\n",
    "for bar in range(len(result_name)):\n",
    "    ax.text(result_name[bar],bar,str(result_name[bar]))\n",
    "print(ax)\n",
    "fig = ax.get_figure()\n",
    "fig.tight_layout()\n",
    "fig.savefig(\"A3.3 Dominant colors.png\")"
   ]
  },
  {
   "cell_type": "code",
   "execution_count": 9,
   "metadata": {},
   "outputs": [
    {
     "data": {
      "image/png": "[encoded data removed]",
      "text/plain": [
       "<Figure size 1440x432 with 1 Axes>"
      ]
     },
     "metadata": {},
     "output_type": "display_data"
    }
   ],
   "source": [
    "# A3.4\n",
    "data_gen = merged_sum.iloc[loc].reset_index() # the maximum quantity for every dominant color per set\n",
    "data_with_color = pd.merge(data_gen, colors, left_on='color_id', right_on='id') # merging data_gen with colors\n",
    "lum = []\n",
    "for rgb_value in data_with_color['rgb']: # getting rgb for every dominant color per set and calculate the luminance\n",
    "    lum.append(np.sqrt(0.299*int(rgb_value[0:2], 16)**2 + 0.587*int(rgb_value[2:4], 16)**2 + 0.114*int(rgb_value[4:6], 16)**2))\n",
    "\n",
    "data_with_color['lum'] = lum # add luminance column to the data_with_color dataframe \n",
    "\n",
    "# getting luminance of dominant color for every year\n",
    "result = pd.merge(data_with_color, sets, left_on='id_x', right_on='id')[['lum','year']].sort_values('year') \n",
    "\n",
    "# plotting the result in scatter\n",
    "plt.figure(figsize=(20,6))\n",
    "ax = plt.scatter(result['year'],result['lum'],s=30,c='red',marker='x',alpha=0.3,label='luminance')\n",
    "plt.title('Luminance of the sets vs their publishing year ')\n",
    "plt.xlabel('Year')\n",
    "plt.ylabel('Luminance')\n",
    "plt.legend(loc='upper right')\n",
    "plt.show()\n",
    "fig = ax.get_figure()\n",
    "fig.tight_layout()\n",
    "fig.savefig(\"A3.4 Luminance of the sets vs publishing year.png\")"
   ]
  },
  {
   "cell_type": "markdown",
   "metadata": {},
   "source": [
    "__\\* Briefly explain your approach for every query here \\*__\n",
    "\n",
    "Do you see a trend over the last years? How do you interpret it?\n",
    "\n",
    "1. In this part we print the IDs of inventories that belong to sets that contains 'car' or 'cars' in the name of sets. \n",
    "2. Then we plot the distribution of 20 largest part categories in terms of the number of parts belonging to the category, by merging part_categories, parts and inventory_parts, by grouping the merged dataset with part category name.\n",
    "3. We find the dominant color of each set by merging sets, inventory sets, colors and inventory parts. Then we calculate total quantity of parts in same color, then we group the sum of quantities in same color by different set id, thus getting the dominant color for every set and corresponding RGB. Finally we plot the result in horizontal bar charts with the respective color that every dominant color represents.\n",
    "4. Here we get rgb for every dominant color per set and calculate the luminance, and we merge the result with sets to get the luminance of dominant color for every year. Then we show the result in scatters. In the figure, every 'x' means one point for luminance. The darker the 'x', the more points in same place, which implies larger quantity. We can see there are more and darker 'x' in lower space from 2003, which implies a trend for darker colors. "
   ]
  },
  {
   "cell_type": "markdown",
   "metadata": {},
   "source": [
    "## Task B. Drop the bike\n",
    "\n",
    "*Los Angeles Metro* has been sharing publicly [anonymized *Metro Bike Share* trip data](https://bikeshare.metro.net/about/data/) under the [Open Database License (ODbL)](http://opendatacommons.org/licenses/odbl/1.0/).\n",
    "\n",
    "In this task you will again perform data wrangling and interpretation."
   ]
  },
  {
   "cell_type": "markdown",
   "metadata": {},
   "source": [
    "### B1. Loading phase\n",
    "Load the json file into a `DataFrame`.\n"
   ]
  },
  {
   "cell_type": "code",
   "execution_count": 10,
   "metadata": {},
   "outputs": [],
   "source": [
    "BIKES_DATA_FOLDER = DATA_FOLDER + '/bikes'"
   ]
  },
  {
   "cell_type": "code",
   "execution_count": 11,
   "metadata": {},
   "outputs": [],
   "source": [
    "# Write your code here\n",
    "bike = pd.read_json(BIKES_DATA_FOLDER+'/metro-bike-share-trip-data.json.zip')"
   ]
  },
  {
   "cell_type": "markdown",
   "metadata": {},
   "source": [
    "### B2. Cleaning phase\n",
    "Describe the type and the value range of each attribute. Indicate and transform the attributes that are `Categorical`. Are there redundant columns in the dataset (i.e., are there columns whose value depends only on the value of another column)? What are the possible pitfalls of having such columns? Reduce *data redundancy* by extracting such columns to separate `DataFrames`. Which of the two formats (the initial one or the one with reduced data redundancy) is more susceptible to inconsistencies? At the end print for each `Dataframe` the *type of each column* and it's *shape*."
   ]
  },
  {
   "cell_type": "code",
   "execution_count": 12,
   "metadata": {},
   "outputs": [
    {
     "data": {
      "text/html": [
       "<div>\n",
       "<style scoped>\n",
       "    .dataframe tbody tr th:only-of-type {\n",
       "        vertical-align: middle;\n",
       "    }\n",
       "\n",
       "    .dataframe tbody tr th {\n",
       "        vertical-align: top;\n",
       "    }\n",
       "\n",
       "    .dataframe thead th {\n",
       "        text-align: right;\n",
       "    }\n",
       "</style>\n",
       "<table border=\"1\" class=\"dataframe\">\n",
       "  <thead>\n",
       "    <tr style=\"text-align: right;\">\n",
       "      <th></th>\n",
       "      <th>Bike ID</th>\n",
       "      <th>Duration</th>\n",
       "      <th>Ending Station ID</th>\n",
       "      <th>Ending Station Latitude</th>\n",
       "      <th>Ending Station Longitude</th>\n",
       "      <th>Plan Duration</th>\n",
       "      <th>Starting Station ID</th>\n",
       "      <th>Starting Station Latitude</th>\n",
       "      <th>Starting Station Longitude</th>\n",
       "      <th>Trip ID</th>\n",
       "    </tr>\n",
       "  </thead>\n",
       "  <tbody>\n",
       "    <tr>\n",
       "      <th>count</th>\n",
       "      <td>132417.000000</td>\n",
       "      <td>132427.000000</td>\n",
       "      <td>132331.00000</td>\n",
       "      <td>131376.000000</td>\n",
       "      <td>131376.000000</td>\n",
       "      <td>131661.000000</td>\n",
       "      <td>132408.000000</td>\n",
       "      <td>132379.000000</td>\n",
       "      <td>132379.000000</td>\n",
       "      <td>1.324270e+05</td>\n",
       "    </tr>\n",
       "    <tr>\n",
       "      <th>mean</th>\n",
       "      <td>6193.618878</td>\n",
       "      <td>1555.301562</td>\n",
       "      <td>3042.38672</td>\n",
       "      <td>34.034614</td>\n",
       "      <td>-118.206642</td>\n",
       "      <td>44.821967</td>\n",
       "      <td>3043.020754</td>\n",
       "      <td>34.039309</td>\n",
       "      <td>-118.221534</td>\n",
       "      <td>1.153001e+07</td>\n",
       "    </tr>\n",
       "    <tr>\n",
       "      <th>std</th>\n",
       "      <td>293.606755</td>\n",
       "      <td>5814.241813</td>\n",
       "      <td>43.08440</td>\n",
       "      <td>0.650706</td>\n",
       "      <td>2.259913</td>\n",
       "      <td>90.411579</td>\n",
       "      <td>37.742021</td>\n",
       "      <td>0.529336</td>\n",
       "      <td>1.838335</td>\n",
       "      <td>6.369462e+06</td>\n",
       "    </tr>\n",
       "    <tr>\n",
       "      <th>min</th>\n",
       "      <td>1349.000000</td>\n",
       "      <td>60.000000</td>\n",
       "      <td>3000.00000</td>\n",
       "      <td>0.000000</td>\n",
       "      <td>-118.472832</td>\n",
       "      <td>0.000000</td>\n",
       "      <td>3000.000000</td>\n",
       "      <td>0.000000</td>\n",
       "      <td>-118.472832</td>\n",
       "      <td>1.912818e+06</td>\n",
       "    </tr>\n",
       "    <tr>\n",
       "      <th>25%</th>\n",
       "      <td>5953.000000</td>\n",
       "      <td>360.000000</td>\n",
       "      <td>3022.00000</td>\n",
       "      <td>34.044159</td>\n",
       "      <td>-118.256981</td>\n",
       "      <td>0.000000</td>\n",
       "      <td>3024.000000</td>\n",
       "      <td>34.044170</td>\n",
       "      <td>-118.256980</td>\n",
       "      <td>5.060814e+06</td>\n",
       "    </tr>\n",
       "    <tr>\n",
       "      <th>50%</th>\n",
       "      <td>6186.000000</td>\n",
       "      <td>600.000000</td>\n",
       "      <td>3038.00000</td>\n",
       "      <td>34.046810</td>\n",
       "      <td>-118.250954</td>\n",
       "      <td>30.000000</td>\n",
       "      <td>3040.000000</td>\n",
       "      <td>34.046822</td>\n",
       "      <td>-118.250954</td>\n",
       "      <td>1.043827e+07</td>\n",
       "    </tr>\n",
       "    <tr>\n",
       "      <th>75%</th>\n",
       "      <td>6434.000000</td>\n",
       "      <td>1080.000000</td>\n",
       "      <td>3063.00000</td>\n",
       "      <td>34.050480</td>\n",
       "      <td>-118.238810</td>\n",
       "      <td>30.000000</td>\n",
       "      <td>3063.000000</td>\n",
       "      <td>34.050880</td>\n",
       "      <td>-118.241562</td>\n",
       "      <td>1.720633e+07</td>\n",
       "    </tr>\n",
       "    <tr>\n",
       "      <th>max</th>\n",
       "      <td>6728.000000</td>\n",
       "      <td>86400.000000</td>\n",
       "      <td>4108.00000</td>\n",
       "      <td>34.064281</td>\n",
       "      <td>0.000000</td>\n",
       "      <td>365.000000</td>\n",
       "      <td>4108.000000</td>\n",
       "      <td>34.064281</td>\n",
       "      <td>0.000000</td>\n",
       "      <td>2.379422e+07</td>\n",
       "    </tr>\n",
       "  </tbody>\n",
       "</table>\n",
       "</div>"
      ],
      "text/plain": [
       "             Bike ID       Duration  Ending Station ID  \\\n",
       "count  132417.000000  132427.000000       132331.00000   \n",
       "mean     6193.618878    1555.301562         3042.38672   \n",
       "std       293.606755    5814.241813           43.08440   \n",
       "min      1349.000000      60.000000         3000.00000   \n",
       "25%      5953.000000     360.000000         3022.00000   \n",
       "50%      6186.000000     600.000000         3038.00000   \n",
       "75%      6434.000000    1080.000000         3063.00000   \n",
       "max      6728.000000   86400.000000         4108.00000   \n",
       "\n",
       "       Ending Station Latitude  Ending Station Longitude  Plan Duration  \\\n",
       "count            131376.000000             131376.000000  131661.000000   \n",
       "mean                 34.034614               -118.206642      44.821967   \n",
       "std                   0.650706                  2.259913      90.411579   \n",
       "min                   0.000000               -118.472832       0.000000   \n",
       "25%                  34.044159               -118.256981       0.000000   \n",
       "50%                  34.046810               -118.250954      30.000000   \n",
       "75%                  34.050480               -118.238810      30.000000   \n",
       "max                  34.064281                  0.000000     365.000000   \n",
       "\n",
       "       Starting Station ID  Starting Station Latitude  \\\n",
       "count        132408.000000              132379.000000   \n",
       "mean           3043.020754                  34.039309   \n",
       "std              37.742021                   0.529336   \n",
       "min            3000.000000                   0.000000   \n",
       "25%            3024.000000                  34.044170   \n",
       "50%            3040.000000                  34.046822   \n",
       "75%            3063.000000                  34.050880   \n",
       "max            4108.000000                  34.064281   \n",
       "\n",
       "       Starting Station Longitude       Trip ID  \n",
       "count               132379.000000  1.324270e+05  \n",
       "mean                  -118.221534  1.153001e+07  \n",
       "std                      1.838335  6.369462e+06  \n",
       "min                   -118.472832  1.912818e+06  \n",
       "25%                   -118.256980  5.060814e+06  \n",
       "50%                   -118.250954  1.043827e+07  \n",
       "75%                   -118.241562  1.720633e+07  \n",
       "max                      0.000000  2.379422e+07  "
      ]
     },
     "execution_count": 12,
     "metadata": {},
     "output_type": "execute_result"
    }
   ],
   "source": [
    "bike.describe()\n",
    "# from table below we can see the value range of each attribute (from min to max)."
   ]
  },
  {
   "cell_type": "code",
   "execution_count": 13,
   "metadata": {},
   "outputs": [
    {
     "name": "stdout",
     "output_type": "stream",
     "text": [
      "<class 'pandas.core.frame.DataFrame'>\n",
      "RangeIndex: 132427 entries, 0 to 132426\n",
      "Data columns (total 14 columns):\n",
      "Bike ID                       132417 non-null float64\n",
      "Duration                      132427 non-null int64\n",
      "End Time                      132427 non-null object\n",
      "Ending Station ID             132331 non-null float64\n",
      "Ending Station Latitude       131376 non-null float64\n",
      "Ending Station Longitude      131376 non-null float64\n",
      "Passholder Type               132427 non-null object\n",
      "Plan Duration                 131661 non-null float64\n",
      "Start Time                    132427 non-null object\n",
      "Starting Station ID           132408 non-null float64\n",
      "Starting Station Latitude     132379 non-null float64\n",
      "Starting Station Longitude    132379 non-null float64\n",
      "Trip ID                       132427 non-null int64\n",
      "Trip Route Category           132427 non-null object\n",
      "dtypes: float64(8), int64(2), object(4)\n",
      "memory usage: 14.1+ MB\n"
     ]
    }
   ],
   "source": [
    "bike.info()\n",
    "# from the table below we can see the type of each attribute."
   ]
  },
  {
   "cell_type": "code",
   "execution_count": 14,
   "metadata": {},
   "outputs": [
    {
     "name": "stdout",
     "output_type": "stream",
     "text": [
      "<class 'pandas.core.frame.DataFrame'>\n",
      "RangeIndex: 132427 entries, 0 to 132426\n",
      "Data columns (total 14 columns):\n",
      "Bike ID                       132417 non-null float64\n",
      "Duration                      132427 non-null int64\n",
      "End Time                      132427 non-null object\n",
      "Ending Station ID             132331 non-null float64\n",
      "Ending Station Latitude       131376 non-null float64\n",
      "Ending Station Longitude      131376 non-null float64\n",
      "Passholder Type               132427 non-null category\n",
      "Plan Duration                 131661 non-null float64\n",
      "Start Time                    132427 non-null object\n",
      "Starting Station ID           132408 non-null float64\n",
      "Starting Station Latitude     132379 non-null float64\n",
      "Starting Station Longitude    132379 non-null float64\n",
      "Trip ID                       132427 non-null int64\n",
      "Trip Route Category           132427 non-null category\n",
      "dtypes: category(2), float64(8), int64(2), object(2)\n",
      "memory usage: 12.4+ MB\n"
     ]
    }
   ],
   "source": [
    "bike['Passholder Type'] = bike['Passholder Type'].astype('category')\n",
    "bike['Trip Route Category'] = bike['Trip Route Category'].astype('category')\n",
    "bike.info()\n",
    "# We set Passholder Type and Trip Route Category as categorical. \n",
    "# For the reason that they have 4 and 2 different inputs respectively."
   ]
  },
  {
   "cell_type": "code",
   "execution_count": 15,
   "metadata": {},
   "outputs": [
    {
     "data": {
      "text/html": [
       "<div>\n",
       "<style scoped>\n",
       "    .dataframe tbody tr th:only-of-type {\n",
       "        vertical-align: middle;\n",
       "    }\n",
       "\n",
       "    .dataframe tbody tr th {\n",
       "        vertical-align: top;\n",
       "    }\n",
       "\n",
       "    .dataframe thead th {\n",
       "        text-align: right;\n",
       "    }\n",
       "</style>\n",
       "<table border=\"1\" class=\"dataframe\">\n",
       "  <thead>\n",
       "    <tr style=\"text-align: right;\">\n",
       "      <th></th>\n",
       "      <th>Bike ID</th>\n",
       "      <th>Duration</th>\n",
       "      <th>Ending Station ID</th>\n",
       "      <th>Ending Station Latitude</th>\n",
       "      <th>Ending Station Longitude</th>\n",
       "      <th>Plan Duration</th>\n",
       "      <th>Starting Station ID</th>\n",
       "      <th>Starting Station Latitude</th>\n",
       "      <th>Starting Station Longitude</th>\n",
       "      <th>Trip ID</th>\n",
       "    </tr>\n",
       "  </thead>\n",
       "  <tbody>\n",
       "    <tr>\n",
       "      <th>Bike ID</th>\n",
       "      <td>1.000000</td>\n",
       "      <td>-0.008610</td>\n",
       "      <td>-0.000206</td>\n",
       "      <td>0.001285</td>\n",
       "      <td>-0.001290</td>\n",
       "      <td>-0.002839</td>\n",
       "      <td>-0.000426</td>\n",
       "      <td>0.000449</td>\n",
       "      <td>-0.000451</td>\n",
       "      <td>0.002660</td>\n",
       "    </tr>\n",
       "    <tr>\n",
       "      <th>Duration</th>\n",
       "      <td>-0.008610</td>\n",
       "      <td>1.000000</td>\n",
       "      <td>-0.023487</td>\n",
       "      <td>-0.005372</td>\n",
       "      <td>0.005209</td>\n",
       "      <td>-0.042622</td>\n",
       "      <td>0.004797</td>\n",
       "      <td>-0.000866</td>\n",
       "      <td>0.000612</td>\n",
       "      <td>0.024486</td>\n",
       "    </tr>\n",
       "    <tr>\n",
       "      <th>Ending Station ID</th>\n",
       "      <td>-0.000206</td>\n",
       "      <td>-0.023487</td>\n",
       "      <td>1.000000</td>\n",
       "      <td>-0.473819</td>\n",
       "      <td>0.473070</td>\n",
       "      <td>0.003294</td>\n",
       "      <td>0.387330</td>\n",
       "      <td>-0.240795</td>\n",
       "      <td>0.240309</td>\n",
       "      <td>0.033333</td>\n",
       "    </tr>\n",
       "    <tr>\n",
       "      <th>Ending Station Latitude</th>\n",
       "      <td>0.001285</td>\n",
       "      <td>-0.005372</td>\n",
       "      <td>-0.473819</td>\n",
       "      <td>1.000000</td>\n",
       "      <td>-0.999922</td>\n",
       "      <td>0.002851</td>\n",
       "      <td>-0.228222</td>\n",
       "      <td>0.510170</td>\n",
       "      <td>-0.510131</td>\n",
       "      <td>0.020103</td>\n",
       "    </tr>\n",
       "    <tr>\n",
       "      <th>Ending Station Longitude</th>\n",
       "      <td>-0.001290</td>\n",
       "      <td>0.005209</td>\n",
       "      <td>0.473070</td>\n",
       "      <td>-0.999922</td>\n",
       "      <td>1.000000</td>\n",
       "      <td>-0.002778</td>\n",
       "      <td>0.227879</td>\n",
       "      <td>-0.510127</td>\n",
       "      <td>0.510172</td>\n",
       "      <td>-0.020577</td>\n",
       "    </tr>\n",
       "    <tr>\n",
       "      <th>Plan Duration</th>\n",
       "      <td>-0.002839</td>\n",
       "      <td>-0.042622</td>\n",
       "      <td>0.003294</td>\n",
       "      <td>0.002851</td>\n",
       "      <td>-0.002778</td>\n",
       "      <td>1.000000</td>\n",
       "      <td>-0.004905</td>\n",
       "      <td>0.003745</td>\n",
       "      <td>-0.003609</td>\n",
       "      <td>-0.027371</td>\n",
       "    </tr>\n",
       "    <tr>\n",
       "      <th>Starting Station ID</th>\n",
       "      <td>-0.000426</td>\n",
       "      <td>0.004797</td>\n",
       "      <td>0.387330</td>\n",
       "      <td>-0.228222</td>\n",
       "      <td>0.227879</td>\n",
       "      <td>-0.004905</td>\n",
       "      <td>1.000000</td>\n",
       "      <td>-0.440102</td>\n",
       "      <td>0.439200</td>\n",
       "      <td>0.044675</td>\n",
       "    </tr>\n",
       "    <tr>\n",
       "      <th>Starting Station Latitude</th>\n",
       "      <td>0.000449</td>\n",
       "      <td>-0.000866</td>\n",
       "      <td>-0.240795</td>\n",
       "      <td>0.510170</td>\n",
       "      <td>-0.510127</td>\n",
       "      <td>0.003745</td>\n",
       "      <td>-0.440102</td>\n",
       "      <td>1.000000</td>\n",
       "      <td>-0.999884</td>\n",
       "      <td>0.016428</td>\n",
       "    </tr>\n",
       "    <tr>\n",
       "      <th>Starting Station Longitude</th>\n",
       "      <td>-0.000451</td>\n",
       "      <td>0.000612</td>\n",
       "      <td>0.240309</td>\n",
       "      <td>-0.510131</td>\n",
       "      <td>0.510172</td>\n",
       "      <td>-0.003609</td>\n",
       "      <td>0.439200</td>\n",
       "      <td>-0.999884</td>\n",
       "      <td>1.000000</td>\n",
       "      <td>-0.016805</td>\n",
       "    </tr>\n",
       "    <tr>\n",
       "      <th>Trip ID</th>\n",
       "      <td>0.002660</td>\n",
       "      <td>0.024486</td>\n",
       "      <td>0.033333</td>\n",
       "      <td>0.020103</td>\n",
       "      <td>-0.020577</td>\n",
       "      <td>-0.027371</td>\n",
       "      <td>0.044675</td>\n",
       "      <td>0.016428</td>\n",
       "      <td>-0.016805</td>\n",
       "      <td>1.000000</td>\n",
       "    </tr>\n",
       "  </tbody>\n",
       "</table>\n",
       "</div>"
      ],
      "text/plain": [
       "                             Bike ID  Duration  Ending Station ID  \\\n",
       "Bike ID                     1.000000 -0.008610          -0.000206   \n",
       "Duration                   -0.008610  1.000000          -0.023487   \n",
       "Ending Station ID          -0.000206 -0.023487           1.000000   \n",
       "Ending Station Latitude     0.001285 -0.005372          -0.473819   \n",
       "Ending Station Longitude   -0.001290  0.005209           0.473070   \n",
       "Plan Duration              -0.002839 -0.042622           0.003294   \n",
       "Starting Station ID        -0.000426  0.004797           0.387330   \n",
       "Starting Station Latitude   0.000449 -0.000866          -0.240795   \n",
       "Starting Station Longitude -0.000451  0.000612           0.240309   \n",
       "Trip ID                     0.002660  0.024486           0.033333   \n",
       "\n",
       "                            Ending Station Latitude  Ending Station Longitude  \\\n",
       "Bike ID                                    0.001285                 -0.001290   \n",
       "Duration                                  -0.005372                  0.005209   \n",
       "Ending Station ID                         -0.473819                  0.473070   \n",
       "Ending Station Latitude                    1.000000                 -0.999922   \n",
       "Ending Station Longitude                  -0.999922                  1.000000   \n",
       "Plan Duration                              0.002851                 -0.002778   \n",
       "Starting Station ID                       -0.228222                  0.227879   \n",
       "Starting Station Latitude                  0.510170                 -0.510127   \n",
       "Starting Station Longitude                -0.510131                  0.510172   \n",
       "Trip ID                                    0.020103                 -0.020577   \n",
       "\n",
       "                            Plan Duration  Starting Station ID  \\\n",
       "Bike ID                         -0.002839            -0.000426   \n",
       "Duration                        -0.042622             0.004797   \n",
       "Ending Station ID                0.003294             0.387330   \n",
       "Ending Station Latitude          0.002851            -0.228222   \n",
       "Ending Station Longitude        -0.002778             0.227879   \n",
       "Plan Duration                    1.000000            -0.004905   \n",
       "Starting Station ID             -0.004905             1.000000   \n",
       "Starting Station Latitude        0.003745            -0.440102   \n",
       "Starting Station Longitude      -0.003609             0.439200   \n",
       "Trip ID                         -0.027371             0.044675   \n",
       "\n",
       "                            Starting Station Latitude  \\\n",
       "Bike ID                                      0.000449   \n",
       "Duration                                    -0.000866   \n",
       "Ending Station ID                           -0.240795   \n",
       "Ending Station Latitude                      0.510170   \n",
       "Ending Station Longitude                    -0.510127   \n",
       "Plan Duration                                0.003745   \n",
       "Starting Station ID                         -0.440102   \n",
       "Starting Station Latitude                    1.000000   \n",
       "Starting Station Longitude                  -0.999884   \n",
       "Trip ID                                      0.016428   \n",
       "\n",
       "                            Starting Station Longitude   Trip ID  \n",
       "Bike ID                                      -0.000451  0.002660  \n",
       "Duration                                      0.000612  0.024486  \n",
       "Ending Station ID                             0.240309  0.033333  \n",
       "Ending Station Latitude                      -0.510131  0.020103  \n",
       "Ending Station Longitude                      0.510172 -0.020577  \n",
       "Plan Duration                                -0.003609 -0.027371  \n",
       "Starting Station ID                           0.439200  0.044675  \n",
       "Starting Station Latitude                    -0.999884  0.016428  \n",
       "Starting Station Longitude                    1.000000 -0.016805  \n",
       "Trip ID                                      -0.016805  1.000000  "
      ]
     },
     "execution_count": 15,
     "metadata": {},
     "output_type": "execute_result"
    }
   ],
   "source": [
    "bike.corr()\n",
    "# Showing the correlation between attributes."
   ]
  },
  {
   "cell_type": "code",
   "execution_count": 16,
   "metadata": {},
   "outputs": [],
   "source": [
    "# Write your code here\n",
    "# extract redundant columns as new dataframes.\n",
    "start_position = bike[['Starting Station ID','Starting Station Latitude','Starting Station Longitude']].set_index(['Starting Station ID']).drop_duplicates()\n",
    "end_position = bike[['Ending Station ID','Ending Station Latitude','Ending Station Longitude']].set_index(['Ending Station ID']).drop_duplicates()\n",
    "bike = bike.drop(columns=['Starting Station Latitude','Starting Station Longitude','Ending Station Latitude','Ending Station Longitude'])"
   ]
  },
  {
   "cell_type": "code",
   "execution_count": 17,
   "metadata": {},
   "outputs": [
    {
     "name": "stdout",
     "output_type": "stream",
     "text": [
      "<class 'pandas.core.frame.DataFrame'>\n",
      "Float64Index: 128 entries, 3014.0 to 3039.0\n",
      "Data columns (total 2 columns):\n",
      "Starting Station Latitude     127 non-null float64\n",
      "Starting Station Longitude    127 non-null float64\n",
      "dtypes: float64(2)\n",
      "memory usage: 3.0 KB\n"
     ]
    }
   ],
   "source": [
    "start_position.info()\n",
    "# we show type of every attributes in start_position and the size of it is 128 entries with 2 columns."
   ]
  },
  {
   "cell_type": "code",
   "execution_count": 18,
   "metadata": {},
   "outputs": [
    {
     "name": "stdout",
     "output_type": "stream",
     "text": [
      "<class 'pandas.core.frame.DataFrame'>\n",
      "Float64Index: 128 entries, 3014.0 to 3039.0\n",
      "Data columns (total 2 columns):\n",
      "Ending Station Latitude     127 non-null float64\n",
      "Ending Station Longitude    127 non-null float64\n",
      "dtypes: float64(2)\n",
      "memory usage: 3.0 KB\n"
     ]
    }
   ],
   "source": [
    "end_position.info()\n",
    "# we show type of every attributes in end_position and the size of it is 128 entries with 2 columns."
   ]
  },
  {
   "cell_type": "code",
   "execution_count": 19,
   "metadata": {
    "scrolled": true
   },
   "outputs": [
    {
     "name": "stdout",
     "output_type": "stream",
     "text": [
      "<class 'pandas.core.frame.DataFrame'>\n",
      "RangeIndex: 132427 entries, 0 to 132426\n",
      "Data columns (total 10 columns):\n",
      "Bike ID                132417 non-null float64\n",
      "Duration               132427 non-null int64\n",
      "End Time               132427 non-null object\n",
      "Ending Station ID      132331 non-null float64\n",
      "Passholder Type        132427 non-null category\n",
      "Plan Duration          131661 non-null float64\n",
      "Start Time             132427 non-null object\n",
      "Starting Station ID    132408 non-null float64\n",
      "Trip ID                132427 non-null int64\n",
      "Trip Route Category    132427 non-null category\n",
      "dtypes: category(2), float64(4), int64(2), object(2)\n",
      "memory usage: 8.3+ MB\n"
     ]
    }
   ],
   "source": [
    "bike.info()\n",
    "# we show type of every attributes in bike after reducing redundancy and the size of it is 132427 entries with 10 columns."
   ]
  },
  {
   "cell_type": "markdown",
   "metadata": {},
   "source": [
    "__\\* Briefly explain your approach here \\*__\n",
    "\n",
    "Here we calculate the Pearson correlation between every column and we find that the coefficient for ending station latitude and ending station longitude, as well as the starting station latitude and starting station longitude, is very close to 1 or -1, which means that they are related. So we consider them as redundant because they are only dependent on station ID. And we extract them out in new dataframes start_position and end_position, and drop latitude and longitude columns in the original bike dataframe.\n",
    "\n",
    "'Duration' can also be redundant because it can be calculated from start time and end time for each row. But we keep it here as it is required in following task.\n",
    "\n",
    "As for pitfall, the biggest downside is extra IO and storage overhead, as well as chance of anomalies. We reduce redundancy by extracting redundant columns from original dataframe, making the reduced data less susceptible to inconsistencies.\n",
    "\n",
    "Besides, the output of bike.info() shows that there are some nans in several attributes. However, for every row we get enough information('Duration','Start time','Trip ID','Trip Route Category') to analyze even though some information('Bike ID','Ending Station ID','Plan Duration','Starting Station ID') is missing. So we do not drop out nans here."
   ]
  },
  {
   "cell_type": "markdown",
   "metadata": {},
   "source": [
    "### B3. Querying phase\n",
    "Answer the following queries using the functionality of `Pandas`.\n",
    "\n",
    "1. Plot the *distribution* of the number of outgoing trips from each station in a histogram with 20 bins (Hint: each bin describes a range of counts, not stations).\n",
    "* Plot histograms for the *duration* and *trip starting hour in the day* attributes. For both the *duration*  and the *trip starting hour* use *discrete 1-hour intervals*. What do you observe in each plot? What are some popular values in the *duration* plot? Explain the local maxima and the trends you observe on the *trip starting hour* plot based on human behavior.\n",
    "* For each *trip route category*, calculate the proportion of trips by *passholder type* and present your results in *a stacked bar chart with normalized height*.\n",
    "* Considering only trips that begin in the morning hours (before noon), plot in *a single bar chart* the proportion of trips by *passholder type* and *trip route category*. Explain any outliers you observe.\n",
    "* Separate the hours of the day into two intervals that have (approximately) the same number of bikes leaving the stations. For each of the two intervals calculate the proportion of trips by *passholder type* and *trip route category*. Present your results in a `DataFrame` which has a unique, non-composite index. Does the proportion of trips depend on whether it is the first or second hour interval? Would the company have any significant benefit by creating a more complex paying scheme where monthly pass users would pay less in the first interval and (equally) more on the second one? Assume that the number of trips per interval will not change if the scheme changes."
   ]
  },
  {
   "cell_type": "code",
   "execution_count": 20,
   "metadata": {},
   "outputs": [],
   "source": [
    "# Write your code here"
   ]
  },
  {
   "cell_type": "code",
   "execution_count": 21,
   "metadata": {},
   "outputs": [
    {
     "data": {
      "image/png": "[encoded data removed]",
      "text/plain": [
       "<Figure size 432x288 with 1 Axes>"
      ]
     },
     "metadata": {},
     "output_type": "display_data"
    }
   ],
   "source": [
    "# B3.1\n",
    "# Plot the distribution of the number of outgoing trips from each station in a histogram with 20 bins \n",
    "plt.hist(bike['Starting Station ID'].value_counts(),bins=20,rwidth = 0.8,color='#607c8e')\n",
    "plt.title(\"Number of outgoing trips from station with 20 bins\")\n",
    "plt.xlabel('Number of trips going out')\n",
    "plt.ylabel('Range of stations')\n",
    "plt.grid(axis='y')\n",
    "plt.tight_layout()\n",
    "plt.savefig(\"B3.1 Number of outgoing trips with 20 bins.png\")\n",
    "plt.show()"
   ]
  },
  {
   "cell_type": "code",
   "execution_count": 22,
   "metadata": {},
   "outputs": [
    {
     "data": {
      "image/png": "[encoded data removed]",
      "text/plain": [
       "<Figure size 432x288 with 1 Axes>"
      ]
     },
     "metadata": {},
     "output_type": "display_data"
    }
   ],
   "source": [
    "# B3.2.1\n",
    "# Plot histograms for the duration by converting duration seconds into hours and plot in log axis\n",
    "bike.Duration.apply(lambda x: x/3600).hist(bins=24, rwidth=0.8, color='#607c8e', log=True)\n",
    "plt.title(\"Duration of trips\")\n",
    "plt.xlabel('Duration')\n",
    "plt.ylabel('Number of trips')\n",
    "plt.tight_layout()\n",
    "plt.savefig(\"B3.2.1 Duration of trips.png\")\n",
    "plt.show()"
   ]
  },
  {
   "cell_type": "code",
   "execution_count": 23,
   "metadata": {},
   "outputs": [
    {
     "data": {
      "image/png": "[encoded data removed]",
      "text/plain": [
       "<Figure size 432x288 with 1 Axes>"
      ]
     },
     "metadata": {},
     "output_type": "display_data"
    }
   ],
   "source": [
    "# B3.2.2\n",
    "# Plot histograms for trip starting hour in the day attributes. \n",
    "plt.hist(pd.to_datetime(bike['Start Time']).apply(lambda x: x.hour), bins=range(0,25), rwidth=0.8, color='#607c8e')\n",
    "plt.title('Trip starting hour in the day')\n",
    "plt.xlabel('Starting hour [h]')\n",
    "plt.ylabel('Number of trips')\n",
    "plt.grid(axis='both')\n",
    "plt.tight_layout()\n",
    "plt.savefig(\"B3.2.2 Trip starting hour in the day.png\")\n",
    "plt.show()"
   ]
  },
  {
   "cell_type": "code",
   "execution_count": 24,
   "metadata": {},
   "outputs": [],
   "source": [
    "# B3.3\n",
    "# a general function used to plot proportion of trips\n",
    "def plottrip(toplotfr,cate1,group1,group2,cate2,title,stacked,df=False):\n",
    "    \n",
    "    monthly,walkup,flexpass,staff = cal_proportion(toplotfr,cate1,group1,group2,cate2)\n",
    "    ind = np.arange(2)\n",
    "    width = 0.2\n",
    "    if stacked == False:\n",
    "        p1 = plt.bar(ind, monthly, width, label='Monthly Pass')\n",
    "        p2 = plt.bar(ind+width, walkup, width, label='Walk-up')\n",
    "        p3 = plt.bar(ind+2*width, flexpass, width, label='Flex Pass')\n",
    "        p4 = plt.bar(ind+3*width, staff, width, label='Staff Annual')\n",
    "        plt.xticks(ind+width, ('One Way Trip','Round Trip'))\n",
    "    else: \n",
    "        p1 = plt.bar(ind, monthly, width, label='Monthly Pass')\n",
    "        p2 = plt.bar(ind, walkup, width, bottom=monthly, label='Walk-up')\n",
    "        p3 = plt.bar(ind, flexpass, width, bottom=[i+j for i,j in zip(monthly,walkup)], label='Flex Pass')\n",
    "        p4 = plt.bar(ind, staff, width, bottom=[i+j+k for i,j,k in zip(monthly,walkup,flexpass)], label='Staff Annual')\n",
    "        plt.xticks(ind, ('One Way Trip','Round Trip'))\n",
    "        \n",
    "    plt.xlabel('Trip Route Category')\n",
    "    plt.ylabel('Proportion of each catagory')\n",
    "    plt.title('Proportion of trips %s'%title)\n",
    "    plt.yticks(np.arange(0, 1.1, 0.1))\n",
    "    plt.legend()\n",
    "    plt.tight_layout()\n",
    "    plt.savefig('Proportion of trips %s.png'%title)\n",
    "    plt.show()\n",
    "    \n",
    "    if df==False:\n",
    "        return\n",
    "    else:\n",
    "        return tripframe(monthly,walkup,flexpass,staff)"
   ]
  },
  {
   "cell_type": "code",
   "execution_count": 25,
   "metadata": {},
   "outputs": [],
   "source": [
    "# function used to convert category types into objects and to normalize the proportion of each category\n",
    "def cal_proportion(toplotfr,cate1,group1,group2,cate2):\n",
    "    toplotfr[cate1] = toplotfr[cate1].astype('object')\n",
    "    toplotfr[cate2] = toplotfr[cate2].astype('object')\n",
    "    \n",
    "    g1 = toplotfr[toplotfr[cate1].apply(lambda x: x.endswith(group1))][cate2].value_counts()\n",
    "    g2 = toplotfr[toplotfr[cate1].apply(lambda x: x.endswith(group2))][cate2].value_counts()\n",
    "    \n",
    "    # normalize the proportion of each category\n",
    "    monthly = [g1['Monthly Pass']/sum(g1),g2['Monthly Pass']/sum(g2)]\n",
    "    walkup = [g1['Walk-up']/sum(g1),g2['Walk-up']/sum(g2)]\n",
    "    flexpass = [g1['Flex Pass']/sum(g1),g2['Flex Pass']/sum(g2)]\n",
    "    staff = [g1['Staff Annual']/sum(g1),g2['Staff Annual']/sum(g2)]\n",
    "    \n",
    "    return monthly,walkup,flexpass,staff"
   ]
  },
  {
   "cell_type": "code",
   "execution_count": 26,
   "metadata": {},
   "outputs": [],
   "source": [
    "# function to return the output of the cal_proportion function as a dictionary\n",
    "def tripframe(monthly,walkup,flexpass,staff):\n",
    "    df = pd.DataFrame({'Trip Category':['One way','Round Trip'],\n",
    "                       'Monthly':[monthly[0],monthly[1]],\n",
    "                       'Walk-up':[walkup[0],walkup[1]],\n",
    "                       'Flexpass':[flexpass[0],flexpass[1]],\n",
    "                       'Staff Annual':[staff[0],staff[1]]})\n",
    "    df = df.set_index('Trip Category')\n",
    "    return df"
   ]
  },
  {
   "cell_type": "code",
   "execution_count": 27,
   "metadata": {},
   "outputs": [
    {
     "data": {
      "image/png": "[encoded data removed]",
      "text/plain": [
       "<Figure size 432x288 with 1 Axes>"
      ]
     },
     "metadata": {},
     "output_type": "display_data"
    }
   ],
   "source": [
    "plottrip(bike,'Trip Route Category','One Way','Round Trip','Passholder Type','',stacked = True)"
   ]
  },
  {
   "cell_type": "code",
   "execution_count": 28,
   "metadata": {},
   "outputs": [
    {
     "data": {
      "image/png": "[encoded data removed]",
      "text/plain": [
       "<Figure size 432x288 with 1 Axes>"
      ]
     },
     "metadata": {},
     "output_type": "display_data"
    }
   ],
   "source": [
    "# B2.4\n",
    "hour = pd.to_datetime(bike['Start Time']).apply(lambda x:x.hour) \n",
    "idx_morning = [i for i,v in enumerate(hour) if 5<v<13] # we set the morning time as 6 - 12\n",
    "morning = bike.loc[idx_morning].copy()\n",
    "plottrip(morning,'Trip Route Category','One Way','Round Trip','Passholder Type','morning (6 am to 12 am)',stacked = False)"
   ]
  },
  {
   "cell_type": "code",
   "execution_count": 29,
   "metadata": {
    "scrolled": true
   },
   "outputs": [
    {
     "data": {
      "image/png": "[encoded data removed]",
      "text/plain": [
       "<Figure size 432x288 with 1 Axes>"
      ]
     },
     "metadata": {},
     "output_type": "display_data"
    },
    {
     "data": {
      "image/png": "[encoded data removed]",
      "text/plain": [
       "<Figure size 432x288 with 1 Axes>"
      ]
     },
     "metadata": {},
     "output_type": "display_data"
    }
   ],
   "source": [
    "# B3.5\n",
    "hours = pd.Series(hour)\n",
    "sortedhour = hours.value_counts().sort_index()\n",
    "idx = max([i for i in range(len(sortedhour)) if abs(sum(sortedhour[0:i])-\\\n",
    "            sum(sortedhour[i:len(sortedhour)]))>abs(sum(sortedhour[0:i+1])-sum(sortedhour[i+1:len(sortedhour)]))])\n",
    "# find the idx that separate the day in two parts, and each part has similar number of trips\n",
    "halfday1 = bike[hours<idx+1].copy()\n",
    "firstinv = plottrip(halfday1,'Trip Route Category','One Way','Round Trip','Passholder Type','interval 1',stacked = False,df=True)\n",
    "halfday2 = bike[hours>idx-1].copy()\n",
    "secondinv = plottrip(halfday2,'Trip Route Category','One Way','Round Trip','Passholder Type','interval 2',stacked = False,df=True)"
   ]
  },
  {
   "cell_type": "code",
   "execution_count": 30,
   "metadata": {},
   "outputs": [
    {
     "data": {
      "text/html": [
       "<div>\n",
       "<style scoped>\n",
       "    .dataframe tbody tr th:only-of-type {\n",
       "        vertical-align: middle;\n",
       "    }\n",
       "\n",
       "    .dataframe tbody tr th {\n",
       "        vertical-align: top;\n",
       "    }\n",
       "\n",
       "    .dataframe thead th {\n",
       "        text-align: right;\n",
       "    }\n",
       "</style>\n",
       "<table border=\"1\" class=\"dataframe\">\n",
       "  <thead>\n",
       "    <tr style=\"text-align: right;\">\n",
       "      <th></th>\n",
       "      <th>Trip Category</th>\n",
       "      <th>Monthly_first</th>\n",
       "      <th>Walk-up_first</th>\n",
       "      <th>Flexpass_first</th>\n",
       "      <th>Staff Annual_first</th>\n",
       "      <th>Monthly_second</th>\n",
       "      <th>Walk-up_second</th>\n",
       "      <th>Flexpass_second</th>\n",
       "      <th>Staff Annual_second</th>\n",
       "    </tr>\n",
       "  </thead>\n",
       "  <tbody>\n",
       "    <tr>\n",
       "      <th>0</th>\n",
       "      <td>One way</td>\n",
       "      <td>0.657161</td>\n",
       "      <td>0.262668</td>\n",
       "      <td>0.077116</td>\n",
       "      <td>0.003055</td>\n",
       "      <td>0.629936</td>\n",
       "      <td>0.293462</td>\n",
       "      <td>0.074313</td>\n",
       "      <td>0.002289</td>\n",
       "    </tr>\n",
       "    <tr>\n",
       "      <th>1</th>\n",
       "      <td>Round Trip</td>\n",
       "      <td>0.314134</td>\n",
       "      <td>0.636170</td>\n",
       "      <td>0.040729</td>\n",
       "      <td>0.008967</td>\n",
       "      <td>0.278732</td>\n",
       "      <td>0.681050</td>\n",
       "      <td>0.036308</td>\n",
       "      <td>0.003910</td>\n",
       "    </tr>\n",
       "  </tbody>\n",
       "</table>\n",
       "</div>"
      ],
      "text/plain": [
       "  Trip Category  Monthly_first  Walk-up_first  Flexpass_first  \\\n",
       "0       One way       0.657161       0.262668        0.077116   \n",
       "1    Round Trip       0.314134       0.636170        0.040729   \n",
       "\n",
       "   Staff Annual_first  Monthly_second  Walk-up_second  Flexpass_second  \\\n",
       "0            0.003055        0.629936        0.293462         0.074313   \n",
       "1            0.008967        0.278732        0.681050         0.036308   \n",
       "\n",
       "   Staff Annual_second  \n",
       "0             0.002289  \n",
       "1             0.003910  "
      ]
     },
     "execution_count": 30,
     "metadata": {},
     "output_type": "execute_result"
    }
   ],
   "source": [
    "# creating a dataframe with a unique index\n",
    "inv = firstinv.join(secondinv, on='Trip Category', lsuffix = '_first', rsuffix='_second').reset_index()\n",
    "inv"
   ]
  },
  {
   "cell_type": "markdown",
   "metadata": {},
   "source": [
    "__\\* Briefly explain your approach for every query here \\*__\n",
    "1. We plot the distribution of the number of outgoing trips from each stations by a range of counts.\n",
    "2. We plot histograms for the duration and trip starting hour in the day attributes. From duration histogram, we can observe that mostly people just use the bikes for short time (1-2 hours), and a spike in 24 hours may imply that many people rent bike for a whole day. From the starting hour histogram, we find out that people prefer to go out in the afternoon. And local maximum appears around 8 am, 12 am-1 pm and 6 pm. These local maximums show the time when people go to work in the morning, have lunch in the noon and go back home in the evening.\n",
    "3. We calculate and plot the proportion of trips by passholder type for each trip route category, and show the results in a stacked bar chart with normalized height.\n",
    "4. Here we consider 6 am to 12 am is the morning hour, and we plot single bar chart showing the proportion of trips by passholder type and trip route category. We can observe that round walk-up (single ride) trips in the morning have very high percentage, which we think that may be an outlier, because is highly unusual to rent a single ride bike to make a round trip in the morning.\n",
    "5. We try to find two intervals having similar bike trips numbers by finding an index. And we find out that 14 is the hour meeting the requirement. The proportion of trips does not change whether it is the first or second interval. We do not think that the company will have significant benefit by creating a paying scheme where monthly pass users would pay less in the first interval, because the proportion and number of monthly pass does not change dramatically. Additionally, we present our results in a DataFrame with a unique, non-composite index."
   ]
  }
 ],
 "metadata": {
  "kernelspec": {
   "display_name": "Python 3",
   "language": "python",
   "name": "python3"
  },
  "language_info": {
   "codemirror_mode": {
    "name": "ipython",
    "version": 3
   },
   "file_extension": ".py",
   "mimetype": "text/x-python",
   "name": "python",
   "nbconvert_exporter": "python",
   "pygments_lexer": "ipython3",
   "version": "3.7.2"
  }
 },
 "nbformat": 4,
 "nbformat_minor": 2
}
