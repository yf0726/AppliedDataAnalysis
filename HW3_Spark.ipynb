{
 "cells": [
  {
   "cell_type": "markdown",
   "metadata": {},
   "source": [
    "# ADA 2018 - Homework 3\n",
    "\n",
    "\n",
    "\n",
    "## Undestanding the StackOverflow community\n",
    "\n",
    "\n",
    "Deadline: Nov 7th 2018, 23:59:59\n",
    "\n",
    "Submission link: Check channel homework-3-public"
   ]
  },
  {
   "cell_type": "markdown",
   "metadata": {},
   "source": [
    "TA Reviews\n",
    "\n",
    "Grade for Textual Description: 5.75\n",
    "\n",
    "Grade for Code Quality: 5.75\n",
    "\n",
    "Grade for Results: 5.0\n",
    "\n",
    "Comments: General comment : This is a good homework on the whole. Make sure to deeply understand what went wrong with the results by going through the solution.\n",
    "\n",
    "Results : In task B2 a histogram would have been welcome instead of a simple line. In task C2 you missed that there are outliers on you graph. If you compute the pearson correlation factor without those leverage points then you get a really low score that shows there is actually  almost no correlation in the data. In taks D, I think what you did not manage to say in your analysis of the two bootstrap (mean and median) is that the mean is a less ROBUST statistic than the median and that's why we choose the median. \n",
    "\n",
    "Code quality : You plot too much query outputs and that makes your notebook messy. You could also make some computations more idiomatic by running them directly in spark (cf. solution).\n",
    "\n",
    "Textual description : You would gain to make clearer and shorter what you want to say. We don't want you to write really long comments and analysis, just what is appropriate and relevant. Seek conciseness. \n",
    "\n"
   ]
  },
  {
   "cell_type": "markdown",
   "metadata": {},
   "source": [
    "StackOverflow is the most popular programming-related Q&A website. It serves as a platform for users to ask and answer questions and to vote questions and answers up or down. Users of StackOverflow can earn reputation points and \"badges\"; for example, a person is awarded 10 reputation points for receiving an \"up\" vote on an answer given to a question, and 5 points for the \"up\" vote on a question asked. Also, users receive badges for their valued contributions, which represents a kind of gamification of the traditional Q&A site. \n",
    "\n",
    "[Learn more about StackOverflow on Wikipedia](https://en.wikipedia.org/wiki/Stack_Overflow)\n",
    "\n",
    "----\n",
    "\n",
    "Dataset link:\n",
    "\n",
    "https://drive.google.com/open?id=1POlGjqzw9v_pZ_bUnXGihOgk45kbvNjB\n",
    "\n",
    "http://iccluster053.iccluster.epfl.ch/Posts.json.zip (mirror 1)\n",
    "\n",
    "https://iloveadatas.com/datasets/Posts.json.zip (mirror 2)\n",
    "\n",
    "Dataset description:\n",
    "\n",
    "* **Id**: Id of the post\n",
    "* **CreationDate**: Creation date of the post (String format)\n",
    "* **PostTypeId**: Type of post (Question = 1, Answer = 2)\n",
    "* **ParentId**: The id of the question. Only present if PostTypeId = 2\n",
    "* **Score**: Points assigned by the users\n",
    "* **Tags**: Tags of the question. Only present if PostTypeId = 1\n",
    "* **Title**: Only present if PostTypeId = 1\n",
    "* **ViewCount**: Only present if PostTypeId = 1\n",
    "\n",
    "The dataset format is JSON. Here are examples of a question and an answer:\n",
    "\n",
    "Question:\n",
    "```json\n",
    "{\n",
    "    \"Id\": 10130734,\n",
    "    \"CreationDate\": \"2012-04-12T19:51:25.793+02:00\",\n",
    "    \"PostTypeId\": 1,\n",
    "    \"Score\": 4,\n",
    "    \"Tags\": \"<python><pandas>\",\n",
    "    \"Title\": \"Best way to insert a new value\",\n",
    "    \"ViewCount\": 3803\n",
    "}\n",
    "```\n",
    "\n",
    "Answer:\n",
    "```json\n",
    "{  \n",
    "   \"CreationDate\":\"2010-10-26T03:19:05.063+02:00\",\n",
    "   \"Id\":4020440,\n",
    "   \"ParentId\":4020214,\n",
    "   \"PostTypeId\":2,\n",
    "   \"Score\":1\n",
    "}\n",
    "```\n",
    "\n",
    "----\n",
    "Useful resources:\n",
    "\n",
    "**Spark SQL, DataFrames and Datasets Guide**\n",
    "\n",
    "https://spark.apache.org/docs/latest/sql-programming-guide.html\n",
    "\n",
    "**Database schema documentation for the public data dump**\n",
    "\n",
    "https://meta.stackexchange.com/questions/2677/database-schema-documentation-for-the-public-data-dump-and-sede\n",
    "\n",
    "----\n",
    "\n",
    "**Note:** Use Spark where possible. Some computations can take more than 10 minutes on a common notebook. Consider to save partial results on disk."
   ]
  },
  {
   "cell_type": "code",
   "execution_count": 1,
   "metadata": {},
   "outputs": [],
   "source": [
    "# Add your imports here\n",
    "import pandas as pd\n",
    "import numpy as np\n",
    "import scipy as sp\n",
    "from pyspark.sql.functions import *\n",
    "from pyspark.sql import *\n",
    "%matplotlib inline\n",
    "import matplotlib.pyplot as plt\n",
    "import matplotlib.ticker\n",
    "from pyspark.sql.types import FloatType\n",
    "import pyspark.sql.functions as func\n",
    "import seaborn as sns\n",
    "sns.set(style='darkgrid')\n",
    "pd.set_option('float_format', '{:,.0f}'.format)\n",
    "spark = SparkSession.builder.getOrCreate()"
   ]
  },
  {
   "cell_type": "markdown",
   "metadata": {},
   "source": [
    "### Task A: Convert the dataset to a more convenient format\n",
    "As a warm-up task (and to avoid to warm up your laptop too much), load the dataset into a Spark dataframe, show the content, and save it in the _Parquet_ format. Use this step to convert the fields to a more convenient form.\n",
    "\n",
    "Answer the following questions:\n",
    "\n",
    "1. How many questions have been asked on StackOverflow?\n",
    "2. How many answers have been given?\n",
    "3. What is the percentage of questions with a score of 0?\n",
    "\n",
    "**Hint:** The next tasks involve a time difference. Consider storing time in numeric format."
   ]
  },
  {
   "cell_type": "markdown",
   "metadata": {},
   "source": [
    "We load the dataset into a Spark dataframe `Stack_Overflow` and show the content.\n",
    "\n",
    "**ATTENTION**\n",
    "\n",
    "Please unzip the Posts.json.zip at first. "
   ]
  },
  {
   "cell_type": "code",
   "execution_count": 2,
   "metadata": {},
   "outputs": [],
   "source": [
    "# Load the dataset into a Spark dataframe\n",
    "Stack_Overflow = spark.read.json(\"Posts.json\")"
   ]
  },
  {
   "cell_type": "code",
   "execution_count": 3,
   "metadata": {},
   "outputs": [
    {
     "name": "stdout",
     "output_type": "stream",
     "text": [
      "+--------------------+-------+--------+----------+-----+--------------------+--------------------+---------+\n",
      "|        CreationDate|     Id|ParentId|PostTypeId|Score|                Tags|               Title|ViewCount|\n",
      "+--------------------+-------+--------+----------+-----+--------------------+--------------------+---------+\n",
      "|2010-10-26T03:17:...|4020437|    null|         1|    0|<asp.net-mvc><jqu...|display jquery di...|      510|\n",
      "|2010-10-26T03:18:...|4020438|    null|         1|    0|<javascript><html...|Why can only my m...|       62|\n",
      "|2010-10-26T03:19:...|4020440| 4020214|         2|    1|                null|                null|     null|\n",
      "|2010-10-26T03:19:...|4020441| 3938154|         2|    0|                null|                null|     null|\n",
      "|2010-10-26T03:20:...|4020443| 4020419|         2|  324|                null|                null|     null|\n",
      "|2010-10-26T03:20:...|4020444| 4020433|         2|    0|                null|                null|     null|\n",
      "|2010-10-26T03:21:...|4020445|    null|         1|    0|<c++><visual-stud...|Communicating ove...|     1170|\n",
      "|2010-10-26T03:21:...|4020447| 4020433|         2|    1|                null|                null|     null|\n",
      "|2010-10-26T03:21:...|4020448| 4020437|         2|    1|                null|                null|     null|\n",
      "|2010-10-26T03:21:...|4020449|    null|         1|    0|<c#><textbox><fil...|C# Text Box File ...|      845|\n",
      "|2010-10-26T03:21:...|4020450|    null|         1|    0|<php><wordpress><...|PHP image grab wh...|      761|\n",
      "|2010-10-26T03:21:...|4020451| 4020382|         2|    2|                null|                null|     null|\n",
      "|2010-10-26T03:22:...|4020452| 4020433|         2|    7|                null|                null|     null|\n",
      "|2010-10-26T03:22:...|4020453|    null|         1|    4|<objective-c><del...|Objective C - Str...|     1091|\n",
      "|2010-10-26T03:22:...|4020454| 4020433|         2|    2|                null|                null|     null|\n",
      "|2010-10-26T03:22:...|4020455| 1175258|         2|    5|                null|                null|     null|\n",
      "|2010-10-26T03:23:...|4020456|    null|         1|    2|       <c><pointers>|Changing pointer ...|     4143|\n",
      "|2010-10-26T03:23:...|4020457|    null|         1|    1|<flash><actionscr...|AS2 Center loadMo...|     1449|\n",
      "|2010-10-26T03:23:...|4020458| 4010166|         2|    1|                null|                null|     null|\n",
      "|2010-10-26T03:23:...|4020460|    null|         1|    3|<c#><asp.net><ima...|HTML email \"opens...|      544|\n",
      "+--------------------+-------+--------+----------+-----+--------------------+--------------------+---------+\n",
      "only showing top 20 rows\n",
      "\n"
     ]
    }
   ],
   "source": [
    "Stack_Overflow.show()"
   ]
  },
  {
   "cell_type": "markdown",
   "metadata": {},
   "source": [
    "Next, we check the schema of Stack_Overflow dataframe to see the data types for each column. We can notice that `CreationDate` is a string with formal timestap format. Therefore, we use the hint and change this column to type `timestamp` which we will use for next tasks."
   ]
  },
  {
   "cell_type": "code",
   "execution_count": 4,
   "metadata": {
    "scrolled": true
   },
   "outputs": [
    {
     "data": {
      "text/plain": [
       "DataFrame[CreationDate: string, Id: bigint, ParentId: bigint, PostTypeId: bigint, Score: bigint, Tags: string, Title: string, ViewCount: bigint]"
      ]
     },
     "execution_count": 4,
     "metadata": {},
     "output_type": "execute_result"
    }
   ],
   "source": [
    "Stack_Overflow"
   ]
  },
  {
   "cell_type": "code",
   "execution_count": 5,
   "metadata": {},
   "outputs": [],
   "source": [
    "# Set standard time zone as UTC and caculate the relative timestamp   \n",
    "spark.conf.set(\"spark.sql.session.timeZone\", \"UTC\")\n",
    "Stack_Overflow = Stack_Overflow.withColumn('CreationDate', to_utc_timestamp(\"CreationDate\", \"y-MM-dd'T'hh:mm:ssZ\"))"
   ]
  },
  {
   "cell_type": "code",
   "execution_count": 6,
   "metadata": {},
   "outputs": [
    {
     "name": "stdout",
     "output_type": "stream",
     "text": [
      "+--------------------+-------+--------+----------+-----+--------------------+--------------------+---------+\n",
      "|        CreationDate|     Id|ParentId|PostTypeId|Score|                Tags|               Title|ViewCount|\n",
      "+--------------------+-------+--------+----------+-----+--------------------+--------------------+---------+\n",
      "|2010-10-26 01:17:...|4020437|    null|         1|    0|<asp.net-mvc><jqu...|display jquery di...|      510|\n",
      "|2010-10-26 01:18:...|4020438|    null|         1|    0|<javascript><html...|Why can only my m...|       62|\n",
      "|2010-10-26 01:19:...|4020440| 4020214|         2|    1|                null|                null|     null|\n",
      "|2010-10-26 01:19:...|4020441| 3938154|         2|    0|                null|                null|     null|\n",
      "|2010-10-26 01:20:...|4020443| 4020419|         2|  324|                null|                null|     null|\n",
      "|2010-10-26 01:20:...|4020444| 4020433|         2|    0|                null|                null|     null|\n",
      "|2010-10-26 01:21:...|4020445|    null|         1|    0|<c++><visual-stud...|Communicating ove...|     1170|\n",
      "|2010-10-26 01:21:...|4020447| 4020433|         2|    1|                null|                null|     null|\n",
      "|2010-10-26 01:21:...|4020448| 4020437|         2|    1|                null|                null|     null|\n",
      "|2010-10-26 01:21:...|4020449|    null|         1|    0|<c#><textbox><fil...|C# Text Box File ...|      845|\n",
      "|2010-10-26 01:21:...|4020450|    null|         1|    0|<php><wordpress><...|PHP image grab wh...|      761|\n",
      "|2010-10-26 01:21:...|4020451| 4020382|         2|    2|                null|                null|     null|\n",
      "|2010-10-26 01:22:...|4020452| 4020433|         2|    7|                null|                null|     null|\n",
      "|2010-10-26 01:22:...|4020453|    null|         1|    4|<objective-c><del...|Objective C - Str...|     1091|\n",
      "|2010-10-26 01:22:...|4020454| 4020433|         2|    2|                null|                null|     null|\n",
      "|2010-10-26 01:22:...|4020455| 1175258|         2|    5|                null|                null|     null|\n",
      "|2010-10-26 01:23:...|4020456|    null|         1|    2|       <c><pointers>|Changing pointer ...|     4143|\n",
      "|2010-10-26 01:23:...|4020457|    null|         1|    1|<flash><actionscr...|AS2 Center loadMo...|     1449|\n",
      "|2010-10-26 01:23:...|4020458| 4010166|         2|    1|                null|                null|     null|\n",
      "|2010-10-26 01:23:...|4020460|    null|         1|    3|<c#><asp.net><ima...|HTML email \"opens...|      544|\n",
      "+--------------------+-------+--------+----------+-----+--------------------+--------------------+---------+\n",
      "only showing top 20 rows\n",
      "\n"
     ]
    }
   ],
   "source": [
    "Stack_Overflow.show()"
   ]
  },
  {
   "cell_type": "code",
   "execution_count": 6,
   "metadata": {},
   "outputs": [],
   "source": [
    "# Save the data in Parquet format to get faster access\n",
    "Stack_Overflow.write.mode('overwrite').parquet(\"stack.parquet\")"
   ]
  },
  {
   "cell_type": "code",
   "execution_count": 2,
   "metadata": {},
   "outputs": [
    {
     "data": {
      "text/plain": [
       "DataFrame[CreationDate: timestamp, Id: bigint, ParentId: bigint, PostTypeId: bigint, Score: bigint, Tags: string, Title: string, ViewCount: bigint]"
      ]
     },
     "execution_count": 2,
     "metadata": {},
     "output_type": "execute_result"
    }
   ],
   "source": [
    "parquet_stack = spark.read.parquet(\"stack.parquet\")\n",
    "parquet_stack"
   ]
  },
  {
   "cell_type": "markdown",
   "metadata": {},
   "source": [
    "And now we can see that the `CreationDate` is converted to timestamp type. Next we create two different dataframes for questions and answers, so we can answer the questions:\n"
   ]
  },
  {
   "cell_type": "markdown",
   "metadata": {},
   "source": [
    "__Question 1: How many questions have been asked on StackOverflow?__"
   ]
  },
  {
   "cell_type": "code",
   "execution_count": 3,
   "metadata": {},
   "outputs": [
    {
     "name": "stdout",
     "output_type": "stream",
     "text": [
      "The total number of questions is: 15,647,060.\n"
     ]
    }
   ],
   "source": [
    "# Select the questions from the dataframe\n",
    "question = parquet_stack.filter((parquet_stack['PostTypeId']==1) & (parquet_stack['Tags']!='null'))\n",
    "print('The total number of questions is: {:,}.'.format(question.count()))"
   ]
  },
  {
   "cell_type": "markdown",
   "metadata": {},
   "source": [
    "__Question 2: How many answers have been given?__"
   ]
  },
  {
   "cell_type": "code",
   "execution_count": 4,
   "metadata": {},
   "outputs": [
    {
     "name": "stdout",
     "output_type": "stream",
     "text": [
      "The total number of answers is: 25,192,772.\n"
     ]
    }
   ],
   "source": [
    "# Select the answers from the dataframe\n",
    "answer = parquet_stack.filter(parquet_stack['PostTypeId']==2)\n",
    "print('The total number of answers is: {:,}.'.format(answer.count()))"
   ]
  },
  {
   "cell_type": "markdown",
   "metadata": {},
   "source": [
    "__Question 3: What is the percentage of questions with a score of 0?__"
   ]
  },
  {
   "cell_type": "code",
   "execution_count": 5,
   "metadata": {},
   "outputs": [
    {
     "name": "stdout",
     "output_type": "stream",
     "text": [
      "The percentage of questions with a score of 0 is: 46.54 %.\n"
     ]
    }
   ],
   "source": [
    "# Caculate the percentage of questions with a score of 0\n",
    "question_0score = question.filter(parquet_stack[4]==\"0\")\n",
    "print('The percentage of questions with a score of 0 is: {0:.2f} %.'.format(question_0score.count()/question.count()*100))"
   ]
  },
  {
   "cell_type": "markdown",
   "metadata": {},
   "source": [
    "### Task B: What are the 10 most popular tags?\n",
    "\n",
    "What are the most popular tags in StackOverflow? Use Spark to extract the information you need, and answer the following questions with Pandas and Matplotlib (or Seaborn):\n",
    "\n",
    "1. What is the proportion of tags that appear in fewer than 100 questions?\n",
    "2. Plot the distribution of the tag counts using an appropriate representation.\n",
    "3. Plot a bar chart with the number of questions for the 10 most popular tags.\n",
    "\n",
    "For each task describe your findings briefly."
   ]
  },
  {
   "cell_type": "markdown",
   "metadata": {},
   "source": [
    "__Question 1:__"
   ]
  },
  {
   "cell_type": "markdown",
   "metadata": {},
   "source": [
    "In order to get the proportion of tags having particular frequency, first we need to separate all different tags and then count the number of times they appear in the dataframe. Then, we apply threshold of 100 and show the answer."
   ]
  },
  {
   "cell_type": "code",
   "execution_count": 6,
   "metadata": {},
   "outputs": [
    {
     "name": "stdout",
     "output_type": "stream",
     "text": [
      "+-------------------------------------------------------------------------+\n",
      "|Tags                                                                     |\n",
      "+-------------------------------------------------------------------------+\n",
      "|<flash><react-native>                                                    |\n",
      "|<postgresql><formatting><plpgsql>                                        |\n",
      "|<python><websocket><python-asyncio>                                      |\n",
      "|<facebook><facebook-javascript-sdk><share><facebook-opengraph><opengraph>|\n",
      "|<mongodb><shell>                                                         |\n",
      "+-------------------------------------------------------------------------+\n",
      "only showing top 5 rows\n",
      "\n"
     ]
    }
   ],
   "source": [
    "# Get the tag dataframe\n",
    "df_tag = question.select(\"Tags\")\n",
    "df_tag.show(5, truncate=False)"
   ]
  },
  {
   "cell_type": "markdown",
   "metadata": {},
   "source": [
    "Since df_tag is a Spark dataframe, we convert the dataframe to RDD and use flatMap and map funtions to separate each tag and make a list for them. We first split tags in each row with \"><\" to have tag list like `<flash`, `python`, `facebook>`. Then, we use map with replace function to delete \">\" and \"<\" at the beginning and ending."
   ]
  },
  {
   "cell_type": "code",
   "execution_count": 7,
   "metadata": {},
   "outputs": [
    {
     "data": {
      "text/plain": [
       "['flash', 'react-native', 'postgresql', 'formatting', 'plpgsql']"
      ]
     },
     "execution_count": 7,
     "metadata": {},
     "output_type": "execute_result"
    }
   ],
   "source": [
    "# Split tags in each row with \"><\" and delete the \">\" and \"<\" in the beginning and ending\n",
    "tags = df_tag.rdd.flatMap(lambda r: r[0].strip('<').strip('>').split('><'))\n",
    "tags.take(5)"
   ]
  },
  {
   "cell_type": "markdown",
   "metadata": {},
   "source": [
    "Now, we just count the number of each tag and sort them by the number they appear in a new pandas dataframe (which we need to plot the data in the next questions)."
   ]
  },
  {
   "cell_type": "code",
   "execution_count": 8,
   "metadata": {},
   "outputs": [
    {
     "data": {
      "text/html": [
       "<div>\n",
       "<style scoped>\n",
       "    .dataframe tbody tr th:only-of-type {\n",
       "        vertical-align: middle;\n",
       "    }\n",
       "\n",
       "    .dataframe tbody tr th {\n",
       "        vertical-align: top;\n",
       "    }\n",
       "\n",
       "    .dataframe thead th {\n",
       "        text-align: right;\n",
       "    }\n",
       "</style>\n",
       "<table border=\"1\" class=\"dataframe\">\n",
       "  <thead>\n",
       "    <tr style=\"text-align: right;\">\n",
       "      <th></th>\n",
       "      <th>Tag</th>\n",
       "      <th>Count</th>\n",
       "    </tr>\n",
       "  </thead>\n",
       "  <tbody>\n",
       "    <tr>\n",
       "      <th>0</th>\n",
       "      <td>javascript</td>\n",
       "      <td>1585495</td>\n",
       "    </tr>\n",
       "    <tr>\n",
       "      <th>1</th>\n",
       "      <td>java</td>\n",
       "      <td>1352735</td>\n",
       "    </tr>\n",
       "    <tr>\n",
       "      <th>2</th>\n",
       "      <td>c#</td>\n",
       "      <td>1172492</td>\n",
       "    </tr>\n",
       "    <tr>\n",
       "      <th>3</th>\n",
       "      <td>php</td>\n",
       "      <td>1136082</td>\n",
       "    </tr>\n",
       "    <tr>\n",
       "      <th>4</th>\n",
       "      <td>android</td>\n",
       "      <td>1088811</td>\n",
       "    </tr>\n",
       "  </tbody>\n",
       "</table>\n",
       "</div>"
      ],
      "text/plain": [
       "          Tag    Count\n",
       "0  javascript  1585495\n",
       "1        java  1352735\n",
       "2          c#  1172492\n",
       "3         php  1136082\n",
       "4     android  1088811"
      ]
     },
     "execution_count": 8,
     "metadata": {},
     "output_type": "execute_result"
    }
   ],
   "source": [
    "# Count the number of each tag and sort them by the number they appear in a new pandas dataframe\n",
    "pd_tag = pd.DataFrame(tags.map(lambda a: (a,1)).reduceByKey(lambda a,b: a+b)\\\n",
    "                    .sortBy(lambda r: r[1], ascending = False).collect(), columns = ['Tag','Count'])\n",
    "pd_tag.head()"
   ]
  },
  {
   "cell_type": "code",
   "execution_count": 9,
   "metadata": {},
   "outputs": [
    {
     "name": "stdout",
     "output_type": "stream",
     "text": [
      "The total number of different tags is: 52,994.\n"
     ]
    }
   ],
   "source": [
    "print('The total number of different tags is: {:,}.'.format(pd_tag['Tag'].count()))"
   ]
  },
  {
   "cell_type": "markdown",
   "metadata": {},
   "source": [
    "__So the proportion of tags that appear in fewer than 100 questions should be:__"
   ]
  },
  {
   "cell_type": "code",
   "execution_count": 10,
   "metadata": {},
   "outputs": [
    {
     "name": "stdout",
     "output_type": "stream",
     "text": [
      "The  proportion of tags that appear in fewer than 100 questions is: 67.98 %.\n"
     ]
    }
   ],
   "source": [
    "print('The  proportion of tags that appear in fewer than 100 questions is: {0:.2f} %.'\\\n",
    "      .format(pd_tag[pd_tag['Count']<100]['Count'].count()/pd_tag['Count'].count()*100))"
   ]
  },
  {
   "cell_type": "markdown",
   "metadata": {},
   "source": [
    "__Question 2:   Plot the distribution of the tag counts using an appropriate representation.__"
   ]
  },
  {
   "cell_type": "code",
   "execution_count": 11,
   "metadata": {},
   "outputs": [
    {
     "data": {
      "text/plain": [
       "Text(0.5, 1.0, 'Distribution of tag counts')"
      ]
     },
     "execution_count": 11,
     "metadata": {},
     "output_type": "execute_result"
    },
    {
     "data": {
      "image/png": "[encoded data removed]",
      "text/plain": [
       "<Figure size 720x432 with 1 Axes>"
      ]
     },
     "metadata": {
      "needs_background": "light"
     },
     "output_type": "display_data"
    }
   ],
   "source": [
    "sns.set_context(\"paper\", font_scale=1.6)\n",
    "fig1 = pd_tag.plot(logy=True, figsize=(10,6))\n",
    "fig1.set_xlabel('Tags in frequency descending order')\n",
    "fig1.set_ylabel('Number of related questions in log10')\n",
    "fig1.set_title('Distribution of tag counts')"
   ]
  },
  {
   "cell_type": "markdown",
   "metadata": {},
   "source": [
    "   In this plot, we use `logy` for better representation of the data because we find that small proportion of Tag values have so high variance that the plot cannot show them properly (The left part where tags have high frequency). So we activate the ylog to shorten the y-axis scale.\n",
    "   \n",
    "   However, the normal plot still cannot perfectly show the outliers, median, mean etc. We want to show more information on the plot to represent the dataset more thoroughly, so we choose boxplot to show the distribution of tags."
   ]
  },
  {
   "cell_type": "code",
   "execution_count": 12,
   "metadata": {},
   "outputs": [
    {
     "data": {
      "text/plain": [
       "Text(0.5, 1.0, 'Distribution of tag counts')"
      ]
     },
     "execution_count": 12,
     "metadata": {},
     "output_type": "execute_result"
    },
    {
     "data": {
      "image/png": "[encoded data removed]",
      "text/plain": [
       "<Figure size 576x432 with 1 Axes>"
      ]
     },
     "metadata": {
      "needs_background": "light"
     },
     "output_type": "display_data"
    }
   ],
   "source": [
    "# Draw boxplot\n",
    "fig2 = np.log(pd_tag.Count).plot.box(sym='r', figsize=(8,6))\n",
    "fig2.set_ylabel('Number of related questions in log scale')\n",
    "fig2.set_title('Distribution of tag counts')"
   ]
  },
  {
   "cell_type": "markdown",
   "metadata": {},
   "source": [
    "__Question 3:__"
   ]
  },
  {
   "cell_type": "markdown",
   "metadata": {},
   "source": [
    "In oder to plot a bar chart with the number of questions for the 10 most popular tags, we have to extract the 10 most popular tags. Since we have already made a descending tags dataframe: `pd_tag`,we just take the first 10 rows of data and plot the results."
   ]
  },
  {
   "cell_type": "code",
   "execution_count": 13,
   "metadata": {},
   "outputs": [
    {
     "data": {
      "image/png": "[encoded data removed]",
      "text/plain": [
       "<Figure size 720x432 with 1 Axes>"
      ]
     },
     "metadata": {
      "needs_background": "light"
     },
     "output_type": "display_data"
    }
   ],
   "source": [
    "sns.set_context(\"paper\", font_scale=1.6)\n",
    "top_tag = pd_tag.head(10)\n",
    "fig3 = plt.figure(figsize=(10,6))\n",
    "fig3 = sns.barplot(top_tag.Count, top_tag.Tag)\n",
    "fig3.set_title('Bar chart for the 10 most popular tags')\n",
    "fig3.get_xaxis().set_major_formatter(matplotlib.ticker.FuncFormatter(lambda x, p: format(int(x), ',')))"
   ]
  },
  {
   "cell_type": "markdown",
   "metadata": {},
   "source": [
    "### Task C: View-score relation\n",
    "\n",
    "We want to investigate the correlation between the view count and the score of questions.\n",
    "\n",
    "1. Get the view count and score of the questions with tag ```random-effects``` and visualize the relation between these two variables using an appropriate plot.\n",
    "2. Are these two variables correlated? Use the Pearson coefficient to validate your hypothesis. Discuss your findings in detail.\n",
    "\n",
    "**Hint:** Inspect the data visually before drawing your conclusions."
   ]
  },
  {
   "cell_type": "markdown",
   "metadata": {},
   "source": [
    "__Question1:__"
   ]
  },
  {
   "cell_type": "markdown",
   "metadata": {},
   "source": [
    "For getting questions with `random-effects` tags, we have two ways:\n",
    "1. use sql with  `SELECT * FROM question WHERE Tags LIKE \"%<random-effects>%\"`\n",
    "2. use Column.contains() to get a boolean filter and apply it to question dataframe\n",
    "\n",
    "To be more brief, we implement with the 2nd solution below:"
   ]
  },
  {
   "cell_type": "code",
   "execution_count": 14,
   "metadata": {},
   "outputs": [
    {
     "data": {
      "text/html": [
       "<div>\n",
       "<style scoped>\n",
       "    .dataframe tbody tr th:only-of-type {\n",
       "        vertical-align: middle;\n",
       "    }\n",
       "\n",
       "    .dataframe tbody tr th {\n",
       "        vertical-align: top;\n",
       "    }\n",
       "\n",
       "    .dataframe thead th {\n",
       "        text-align: right;\n",
       "    }\n",
       "</style>\n",
       "<table border=\"1\" class=\"dataframe\">\n",
       "  <thead>\n",
       "    <tr style=\"text-align: right;\">\n",
       "      <th></th>\n",
       "      <th>CreationDate</th>\n",
       "      <th>Id</th>\n",
       "      <th>ParentId</th>\n",
       "      <th>PostTypeId</th>\n",
       "      <th>Score</th>\n",
       "      <th>Tags</th>\n",
       "      <th>Title</th>\n",
       "      <th>ViewCount</th>\n",
       "    </tr>\n",
       "  </thead>\n",
       "  <tbody>\n",
       "    <tr>\n",
       "      <th>0</th>\n",
       "      <td>2018-03-20 11:48:15.283</td>\n",
       "      <td>49383437</td>\n",
       "      <td>None</td>\n",
       "      <td>1</td>\n",
       "      <td>0</td>\n",
       "      <td>&lt;statistics&gt;&lt;regression&gt;&lt;multi-level&gt;&lt;random-e...</td>\n",
       "      <td>Estimation sample used in random effects multi...</td>\n",
       "      <td>12</td>\n",
       "    </tr>\n",
       "    <tr>\n",
       "      <th>1</th>\n",
       "      <td>2018-03-13 04:01:55.350</td>\n",
       "      <td>49248152</td>\n",
       "      <td>None</td>\n",
       "      <td>1</td>\n",
       "      <td>0</td>\n",
       "      <td>&lt;r&gt;&lt;plm&gt;&lt;random-effects&gt;</td>\n",
       "      <td>R - plm package error - \"system is exactly sin...</td>\n",
       "      <td>495</td>\n",
       "    </tr>\n",
       "    <tr>\n",
       "      <th>2</th>\n",
       "      <td>2018-03-14 09:10:08.173</td>\n",
       "      <td>49277430</td>\n",
       "      <td>None</td>\n",
       "      <td>1</td>\n",
       "      <td>0</td>\n",
       "      <td>&lt;r&gt;&lt;nlme&gt;&lt;random-effects&gt;</td>\n",
       "      <td>Covariance structure in lme - AR(1)</td>\n",
       "      <td>220</td>\n",
       "    </tr>\n",
       "    <tr>\n",
       "      <th>3</th>\n",
       "      <td>2017-10-02 13:02:29.983</td>\n",
       "      <td>46526027</td>\n",
       "      <td>None</td>\n",
       "      <td>1</td>\n",
       "      <td>0</td>\n",
       "      <td>&lt;random-effects&gt;</td>\n",
       "      <td>GLMM model design</td>\n",
       "      <td>21</td>\n",
       "    </tr>\n",
       "    <tr>\n",
       "      <th>4</th>\n",
       "      <td>2018-08-03 20:29:11.630</td>\n",
       "      <td>51679728</td>\n",
       "      <td>None</td>\n",
       "      <td>1</td>\n",
       "      <td>5</td>\n",
       "      <td>&lt;r&gt;&lt;nlme&gt;&lt;random-effects&gt;</td>\n",
       "      <td>`nlme` with crossed random effects</td>\n",
       "      <td>126</td>\n",
       "    </tr>\n",
       "  </tbody>\n",
       "</table>\n",
       "</div>"
      ],
      "text/plain": [
       "             CreationDate        Id ParentId  PostTypeId  Score  \\\n",
       "0 2018-03-20 11:48:15.283  49383437     None           1      0   \n",
       "1 2018-03-13 04:01:55.350  49248152     None           1      0   \n",
       "2 2018-03-14 09:10:08.173  49277430     None           1      0   \n",
       "3 2017-10-02 13:02:29.983  46526027     None           1      0   \n",
       "4 2018-08-03 20:29:11.630  51679728     None           1      5   \n",
       "\n",
       "                                                Tags  \\\n",
       "0  <statistics><regression><multi-level><random-e...   \n",
       "1                           <r><plm><random-effects>   \n",
       "2                          <r><nlme><random-effects>   \n",
       "3                                   <random-effects>   \n",
       "4                          <r><nlme><random-effects>   \n",
       "\n",
       "                                               Title  ViewCount  \n",
       "0  Estimation sample used in random effects multi...         12  \n",
       "1  R - plm package error - \"system is exactly sin...        495  \n",
       "2                Covariance structure in lme - AR(1)        220  \n",
       "3                                  GLMM model design         21  \n",
       "4                 `nlme` with crossed random effects        126  "
      ]
     },
     "execution_count": 14,
     "metadata": {},
     "output_type": "execute_result"
    }
   ],
   "source": [
    "# Get questions with random-effects tags and convert to pandas\n",
    "random_effects = question[question.Tags.contains('<random-effects>')].toPandas()\n",
    "random_effects.head()"
   ]
  },
  {
   "cell_type": "markdown",
   "metadata": {},
   "source": [
    "Here we create a Jointplot to show the relation between view count and score of the questions with tag random-effects, as well as their distributions. SInce we have a few data points for ViewCount which are larger than the other, we use log-scaling to show the results."
   ]
  },
  {
   "cell_type": "code",
   "execution_count": 15,
   "metadata": {},
   "outputs": [
    {
     "name": "stderr",
     "output_type": "stream",
     "text": [
      "/anaconda3/envs/ada/lib/python3.6/site-packages/scipy/stats/stats.py:1713: FutureWarning: Using a non-tuple sequence for multidimensional indexing is deprecated; use `arr[tuple(seq)]` instead of `arr[seq]`. In the future this will be interpreted as an array index, `arr[np.array(seq)]`, which will result either in an error or a different result.\n",
      "  return np.add.reduce(sorted[indexer] * weights, axis=axis) / sumval\n"
     ]
    },
    {
     "data": {
      "text/plain": [
       "<seaborn.axisgrid.JointGrid at 0x1a24f8d908>"
      ]
     },
     "execution_count": 15,
     "metadata": {},
     "output_type": "execute_result"
    },
    {
     "data": {
      "image/png": "[encoded data removed]",
      "text/plain": [
       "<Figure size 432x432 with 3 Axes>"
      ]
     },
     "metadata": {
      "needs_background": "light"
     },
     "output_type": "display_data"
    }
   ],
   "source": [
    "sns.jointplot(random_effects['Score'], np.log(random_effects['ViewCount']), kind='reg', stat_func=None)"
   ]
  },
  {
   "cell_type": "markdown",
   "metadata": {},
   "source": [
    "__Question2:__"
   ]
  },
  {
   "cell_type": "markdown",
   "metadata": {},
   "source": [
    "We find the Pearson coefficient and the correlation between the score and viewcount data points. Then we present a boxplot from where we can observe the correlation closely."
   ]
  },
  {
   "cell_type": "code",
   "execution_count": 16,
   "metadata": {},
   "outputs": [
    {
     "name": "stdout",
     "output_type": "stream",
     "text": [
      "The correlation of score and viewcount is: 0.8821972419941507.\n"
     ]
    }
   ],
   "source": [
    "# Find the correlation of Score and ViewCount using Pearson coefficient\n",
    "print('The correlation of score and viewcount is: {:,}.'.format(random_effects['Score'].corr(random_effects['ViewCount'],method = 'pearson')))\n"
   ]
  },
  {
   "cell_type": "code",
   "execution_count": 17,
   "metadata": {},
   "outputs": [
    {
     "data": {
      "text/plain": [
       "Text(0.5, 1.0, 'Boxplot grouped by Score')"
      ]
     },
     "execution_count": 17,
     "metadata": {},
     "output_type": "execute_result"
    },
    {
     "data": {
      "image/png": "[encoded data removed]",
      "text/plain": [
       "<Figure size 648x432 with 1 Axes>"
      ]
     },
     "metadata": {
      "needs_background": "light"
     },
     "output_type": "display_data"
    }
   ],
   "source": [
    "fig5, ax = plt.subplots(figsize=(9, 6))\n",
    "ax.set_yscale('log')\n",
    "sns.boxplot(random_effects['Score'], random_effects['ViewCount'])\n",
    "ax.set_title('Boxplot grouped by Score')"
   ]
  },
  {
   "cell_type": "markdown",
   "metadata": {},
   "source": [
    "From the correlation, these two variables get 0.88 as Pearson's correlation, which is high enough to indicate this two factors are linear correlated. And from the box plot above, we can notice that when we increase the score, median and quartile of log ViewCount become larger overall. In other words, the higher the score a question has, the more possibility to get large view count, which complies with reality."
   ]
  },
  {
   "cell_type": "markdown",
   "metadata": {},
   "source": [
    "### Task D: What are the tags with the fastest first answer?\n",
    "\n",
    "What are the tags that have the fastest response time from the community? We define the response time as the difference in seconds between the timestamps of the question and of the first answer received.\n",
    "\n",
    "1. Get the response time for the first answer of the questions with the tags ```python``` and ```java```.\n",
    "2. Plot the two distributions in an appropriate format. What do you observe? Describe your findings and discuss the following distribution properties: mean, median, standard deviation.\n",
    "3. We believe that the response time is lower for questions related to Python (compare to Java). Contradict or confirm this assumption by estimating the proper statistic with bootstrapping. Visualize the 95% confidence intervals with box plots and describe your findings.\n",
    "3. Repeat the first analysis (D1) by using the proper statistic to measure the response time for the tags that appear at least 5000 times. Plot the distribution of the 10 tags with the fastest response time.\n"
   ]
  },
  {
   "cell_type": "markdown",
   "metadata": {},
   "source": [
    "__Question1:__\n",
    "\n",
    "We create three different spark dataframes. We will present every one below."
   ]
  },
  {
   "cell_type": "code",
   "execution_count": 18,
   "metadata": {},
   "outputs": [],
   "source": [
    "question.registerTempTable(\"question_sql\")\n",
    "answer.registerTempTable(\"answer_sql\")"
   ]
  },
  {
   "cell_type": "code",
   "execution_count": 19,
   "metadata": {},
   "outputs": [],
   "source": [
    "question_time = spark.sql('select Id,Tags,question_sql.CreationDate as AskTime from question_sql')\n",
    "question_time.registerTempTable(\"question_time\")"
   ]
  },
  {
   "cell_type": "code",
   "execution_count": 20,
   "metadata": {},
   "outputs": [
    {
     "name": "stdout",
     "output_type": "stream",
     "text": [
      "+--------+-------------------------------------------------------------------------+-----------------------+\n",
      "|Id      |Tags                                                                     |AskTime                |\n",
      "+--------+-------------------------------------------------------------------------+-----------------------+\n",
      "|45740348|<flash><react-native>                                                    |2017-08-17 16:20:28.873|\n",
      "|45740355|<postgresql><formatting><plpgsql>                                        |2017-08-17 16:20:58.597|\n",
      "|45740358|<python><websocket><python-asyncio>                                      |2017-08-17 16:21:08.42 |\n",
      "|45740363|<facebook><facebook-javascript-sdk><share><facebook-opengraph><opengraph>|2017-08-17 16:21:32.037|\n",
      "|45740371|<mongodb><shell>                                                         |2017-08-17 16:21:46.27 |\n",
      "+--------+-------------------------------------------------------------------------+-----------------------+\n",
      "only showing top 5 rows\n",
      "\n"
     ]
    }
   ],
   "source": [
    "question_time.show(5, truncate=False)"
   ]
  },
  {
   "cell_type": "markdown",
   "metadata": {},
   "source": [
    " The first dataframe above contains every question with Id, tags and timestamp."
   ]
  },
  {
   "cell_type": "code",
   "execution_count": 21,
   "metadata": {},
   "outputs": [],
   "source": [
    "query_answers=\"\"\"\n",
    "select ParentId,min(answer_sql.CreationDate) as AnswerTime \n",
    "from answer_sql\n",
    "group by ParentId\n",
    "\"\"\"\n",
    "answer_time = spark.sql(query_answers)\n",
    "answer_time.registerTempTable(\"answer_time\")"
   ]
  },
  {
   "cell_type": "code",
   "execution_count": 22,
   "metadata": {},
   "outputs": [
    {
     "name": "stdout",
     "output_type": "stream",
     "text": [
      "+--------+-----------------------+\n",
      "|ParentId|AnswerTime             |\n",
      "+--------+-----------------------+\n",
      "|45740555|2017-08-17 16:40:59.373|\n",
      "|45739892|2017-08-17 17:28:52.357|\n",
      "|45742243|2017-08-17 18:14:07.273|\n",
      "|42632211|2017-08-17 18:20:42.56 |\n",
      "|45740914|2017-08-17 18:32:47.463|\n",
      "+--------+-----------------------+\n",
      "only showing top 5 rows\n",
      "\n"
     ]
    }
   ],
   "source": [
    "answer_time.show(5, truncate = False)"
   ]
  },
  {
   "cell_type": "markdown",
   "metadata": {},
   "source": [
    "The second dataframe above contains the timestamp for the first answer of every question and the ParentId. "
   ]
  },
  {
   "cell_type": "code",
   "execution_count": 23,
   "metadata": {},
   "outputs": [
    {
     "name": "stdout",
     "output_type": "stream",
     "text": [
      "+-----------------------------------+-----------------------+-----------------------+\n",
      "|Tags                               |AskTime                |AnswerTime             |\n",
      "+-----------------------------------+-----------------------+-----------------------+\n",
      "|<c#><dataset><datatable>           |2008-08-05 13:07:40.563|2008-08-05 13:10:26.487|\n",
      "|<unit-testing><tdd><bdd>           |2008-08-05 15:58:08.473|2008-08-05 16:06:36.88 |\n",
      "|<version-control>                  |2008-08-17 01:38:24.797|2008-08-17 01:39:54.31 |\n",
      "|<firefox><browser><synchronization>|2008-08-17 04:58:38.51 |2008-08-17 05:17:05.697|\n",
      "|<.net><visual-studio><refactoring> |2008-08-18 18:37:12.913|2008-08-18 18:39:03.08 |\n",
      "+-----------------------------------+-----------------------+-----------------------+\n",
      "only showing top 5 rows\n",
      "\n"
     ]
    }
   ],
   "source": [
    "query_result=\"\"\"\n",
    "select Tags,AskTime,AnswerTime\n",
    "from question_time\n",
    "inner join answer_time\n",
    "on question_time.Id = answer_time.ParentId\n",
    "\"\"\"\n",
    "\n",
    "result = spark.sql(query_result)\n",
    "result.show(5, truncate = False)"
   ]
  },
  {
   "cell_type": "markdown",
   "metadata": {},
   "source": [
    "Finally, we create our desired dataframe with response time for the first answer of the questions for every tag. Next we calculate the response time for the first answer of questions with the tags `python` and `java`."
   ]
  },
  {
   "cell_type": "code",
   "execution_count": 24,
   "metadata": {},
   "outputs": [],
   "source": [
    "time_diff = result.withColumn(\"date_diff\", (unix_timestamp(\"AnswerTime\") - unix_timestamp(\"AskTime\")))"
   ]
  },
  {
   "cell_type": "markdown",
   "metadata": {},
   "source": [
    "The response time for the first answer of questions with tag `python` is presented below in a dataframe:"
   ]
  },
  {
   "cell_type": "code",
   "execution_count": 25,
   "metadata": {},
   "outputs": [
    {
     "name": "stdout",
     "output_type": "stream",
     "text": [
      "+----------------------------------+-----------------------+-----------------------+---------+\n",
      "|Tags                              |AskTime                |AnswerTime             |date_diff|\n",
      "+----------------------------------+-----------------------+-----------------------+---------+\n",
      "|<python><distutils>               |2008-09-02 09:40:26.58 |2008-09-02 11:43:45.55 |7399     |\n",
      "|<python><api><sockets><ssl><gmail>|2008-09-18 13:41:22.93 |2008-09-18 15:06:11.31 |5089     |\n",
      "|<python><ms-word><openxml><docx>  |2008-09-22 17:08:12.423|2008-09-22 17:16:43.417|511      |\n",
      "|<python><dll><py2exe>             |2008-10-08 06:34:21.103|2008-10-08 06:46:57.74 |756      |\n",
      "|<python><module>                  |2008-10-22 23:38:30.3  |2008-10-22 23:40:26.63 |116      |\n",
      "+----------------------------------+-----------------------+-----------------------+---------+\n",
      "only showing top 5 rows\n",
      "\n"
     ]
    }
   ],
   "source": [
    "python_time = time_diff[time_diff.Tags.contains('<python>')]\n",
    "python_time.show(5, truncate=False)"
   ]
  },
  {
   "cell_type": "markdown",
   "metadata": {},
   "source": [
    "The response time for the first answer of questions with tag `java` is presented below in a dataframe:"
   ]
  },
  {
   "cell_type": "code",
   "execution_count": 26,
   "metadata": {},
   "outputs": [
    {
     "name": "stdout",
     "output_type": "stream",
     "text": [
      "+----------------------------------------------+-----------------------+-----------------------+---------+\n",
      "|Tags                                          |AskTime                |AnswerTime             |date_diff|\n",
      "+----------------------------------------------+-----------------------+-----------------------+---------+\n",
      "|<java><cluster-computing><terracotta><jgroups>|2008-08-27 15:21:31.83 |2008-08-27 15:53:33.717|1922     |\n",
      "|<java><unit-testing><tdd>                     |2008-09-01 00:40:03.83 |2008-09-01 00:47:22.907|439      |\n",
      "|<java><java-io>                               |2008-09-11 02:40:12.563|2008-09-11 02:45:02.617|290      |\n",
      "|<java><validation><date><mask>                |2008-09-17 03:29:03.147|2008-09-17 03:31:39.1  |156      |\n",
      "|<java><swing><jprofiler>                      |2008-09-22 00:01:13.547|2008-09-22 00:52:29.553|3076     |\n",
      "+----------------------------------------------+-----------------------+-----------------------+---------+\n",
      "only showing top 5 rows\n",
      "\n"
     ]
    }
   ],
   "source": [
    "java_time = time_diff[time_diff.Tags.contains('<java>')]\n",
    "java_time.show(5, truncate=False)"
   ]
  },
  {
   "cell_type": "markdown",
   "metadata": {},
   "source": [
    "__Question2:__\n",
    "\n",
    "In this part we convert the data to pandas dataframes and create histograms for the response time for `python` and `java`:"
   ]
  },
  {
   "cell_type": "code",
   "execution_count": 27,
   "metadata": {},
   "outputs": [],
   "source": [
    "pd_python_time = python_time.toPandas()"
   ]
  },
  {
   "cell_type": "code",
   "execution_count": 28,
   "metadata": {},
   "outputs": [],
   "source": [
    "pd_java_time = java_time.toPandas()"
   ]
  },
  {
   "cell_type": "code",
   "execution_count": 29,
   "metadata": {},
   "outputs": [
    {
     "data": {
      "text/plain": [
       "Text(0.5, 1.0, 'Distribution of first response time under python tag (not corrected ver.)')"
      ]
     },
     "execution_count": 29,
     "metadata": {},
     "output_type": "execute_result"
    },
    {
     "data": {
      "image/png": "[encoded data removed]",
      "text/plain": [
       "<Figure size 648x360 with 1 Axes>"
      ]
     },
     "metadata": {
      "needs_background": "light"
     },
     "output_type": "display_data"
    }
   ],
   "source": [
    "sns.set_context(\"paper\", font_scale=1.6)\n",
    "pd_python_time.date_diff.hist(bins=200, log=True, figsize=(9,5))\n",
    "plt.xlabel('First response time in seconds')\n",
    "plt.ylabel('Number of related questions')\n",
    "plt.title('Distribution of first response time under python tag (not corrected ver.)')"
   ]
  },
  {
   "cell_type": "code",
   "execution_count": 30,
   "metadata": {},
   "outputs": [
    {
     "data": {
      "text/plain": [
       "Text(0.5, 1.0, 'Distribution of first response time under java tag (not corrected ver.)')"
      ]
     },
     "execution_count": 30,
     "metadata": {},
     "output_type": "execute_result"
    },
    {
     "data": {
      "image/png": "[encoded data removed]",
      "text/plain": [
       "<Figure size 648x360 with 1 Axes>"
      ]
     },
     "metadata": {
      "needs_background": "light"
     },
     "output_type": "display_data"
    }
   ],
   "source": [
    "sns.set_context(\"paper\", font_scale=1.6)\n",
    "pd_java_time.date_diff.hist(bins=200, log=True, figsize=(9,5))\n",
    "plt.xlabel('First response time in seconds')\n",
    "plt.ylabel('Number of related questions')\n",
    "plt.title('Distribution of first response time under java tag (not corrected ver.)')"
   ]
  },
  {
   "cell_type": "markdown",
   "metadata": {},
   "source": [
    "We can notice that we have negative values for the response time, which does not make sense. We check the number of values which are negative or equal to zero for each tag."
   ]
  },
  {
   "cell_type": "code",
   "execution_count": 31,
   "metadata": {},
   "outputs": [
    {
     "name": "stdout",
     "output_type": "stream",
     "text": [
      "Negative or zero values for python response time: 2312 or 0.28 %\n"
     ]
    }
   ],
   "source": [
    "print('Negative or zero values for python response time: {0} or {1:.2f} %'\\\n",
    "      .format(pd_python_time[pd_python_time.date_diff<=0].date_diff.count()\\\n",
    "        ,(pd_python_time[pd_python_time.date_diff<=0].date_diff.count()/pd_python_time.date_diff.count()*100)))"
   ]
  },
  {
   "cell_type": "code",
   "execution_count": 32,
   "metadata": {},
   "outputs": [
    {
     "name": "stdout",
     "output_type": "stream",
     "text": [
      "Negative or zero values for java response time: 2252 or 0.19 %\n"
     ]
    }
   ],
   "source": [
    "print('Negative or zero values for java response time: {0} or {1:.2f} %'\\\n",
    "      .format(pd_java_time[pd_java_time.date_diff<=0].date_diff.count()\\\n",
    "        ,(pd_java_time[pd_java_time.date_diff<=0].date_diff.count()/pd_java_time.date_diff.count()*100)))"
   ]
  },
  {
   "cell_type": "markdown",
   "metadata": {},
   "source": [
    "From the results we get that 0.28 % from the response time of `python` tag and 0.19 % from the response time of `java` tag are negative or equal to zero. The reason could be that, stack flow dataset gives the final edition time but not the first publish time. \n",
    "\n",
    "Because an answer cannot exist before the question has been asked and since this data points occur in very small number compared to all answers, we consider them as mistakes and drop them. Below are the new histograms for the corrected values."
   ]
  },
  {
   "cell_type": "code",
   "execution_count": 33,
   "metadata": {},
   "outputs": [],
   "source": [
    "pd_python_time_pos = pd_python_time[pd_python_time.date_diff > 0]"
   ]
  },
  {
   "cell_type": "code",
   "execution_count": 34,
   "metadata": {},
   "outputs": [],
   "source": [
    "pd_java_time_pos = pd_java_time[pd_java_time.date_diff > 0]"
   ]
  },
  {
   "cell_type": "code",
   "execution_count": 35,
   "metadata": {},
   "outputs": [
    {
     "data": {
      "text/plain": [
       "Text(0.5, 1.0, 'Distribution of first response time under python tag')"
      ]
     },
     "execution_count": 35,
     "metadata": {},
     "output_type": "execute_result"
    },
    {
     "data": {
      "image/png": "[encoded data removed]",
      "text/plain": [
       "<Figure size 648x360 with 1 Axes>"
      ]
     },
     "metadata": {
      "needs_background": "light"
     },
     "output_type": "display_data"
    }
   ],
   "source": [
    "sns.set_context(\"paper\", font_scale=1.6)\n",
    "pd_python_time_pos.date_diff.hist(bins=200, log=True, figsize=(9,5))\n",
    "plt.xlabel('First response time in seconds')\n",
    "plt.ylabel('Number of related questions')\n",
    "plt.title('Distribution of first response time under python tag')"
   ]
  },
  {
   "cell_type": "code",
   "execution_count": 36,
   "metadata": {},
   "outputs": [
    {
     "data": {
      "text/plain": [
       "Text(0.5, 1.0, 'Distribution of first response time under java tag')"
      ]
     },
     "execution_count": 36,
     "metadata": {},
     "output_type": "execute_result"
    },
    {
     "data": {
      "image/png": "[encoded data removed]",
      "text/plain": [
       "<Figure size 648x360 with 1 Axes>"
      ]
     },
     "metadata": {
      "needs_background": "light"
     },
     "output_type": "display_data"
    }
   ],
   "source": [
    "sns.set_context(\"paper\", font_scale=1.6)\n",
    "pd_java_time_pos.date_diff.hist(bins=200, log=True, figsize=(9,5))\n",
    "plt.xlabel('First response time in seconds')\n",
    "plt.ylabel('Number of related questions')\n",
    "plt.title('Distribution of first response time under java tag')"
   ]
  },
  {
   "cell_type": "markdown",
   "metadata": {},
   "source": [
    "We can easily notice that the histograms for both python and java are very similar, as we will demonstrate below with the statistics.\n",
    "\n",
    "Now we can discuss the following distribution properties: mean, median, standard deviation for python and java response time."
   ]
  },
  {
   "cell_type": "code",
   "execution_count": 37,
   "metadata": {},
   "outputs": [
    {
     "data": {
      "text/html": [
       "<div>\n",
       "<style scoped>\n",
       "    .dataframe tbody tr th:only-of-type {\n",
       "        vertical-align: middle;\n",
       "    }\n",
       "\n",
       "    .dataframe tbody tr th {\n",
       "        vertical-align: top;\n",
       "    }\n",
       "\n",
       "    .dataframe thead th {\n",
       "        text-align: right;\n",
       "    }\n",
       "</style>\n",
       "<table border=\"1\" class=\"dataframe\">\n",
       "  <thead>\n",
       "    <tr style=\"text-align: right;\">\n",
       "      <th></th>\n",
       "      <th>date_diff</th>\n",
       "    </tr>\n",
       "  </thead>\n",
       "  <tbody>\n",
       "    <tr>\n",
       "      <th>count</th>\n",
       "      <td>827,848</td>\n",
       "    </tr>\n",
       "    <tr>\n",
       "      <th>mean</th>\n",
       "      <td>983,717</td>\n",
       "    </tr>\n",
       "    <tr>\n",
       "      <th>std</th>\n",
       "      <td>6,908,426</td>\n",
       "    </tr>\n",
       "    <tr>\n",
       "      <th>min</th>\n",
       "      <td>1</td>\n",
       "    </tr>\n",
       "    <tr>\n",
       "      <th>25%</th>\n",
       "      <td>425</td>\n",
       "    </tr>\n",
       "    <tr>\n",
       "      <th>50%</th>\n",
       "      <td>1,357</td>\n",
       "    </tr>\n",
       "    <tr>\n",
       "      <th>75%</th>\n",
       "      <td>9,583</td>\n",
       "    </tr>\n",
       "    <tr>\n",
       "      <th>max</th>\n",
       "      <td>246,457,525</td>\n",
       "    </tr>\n",
       "  </tbody>\n",
       "</table>\n",
       "</div>"
      ],
      "text/plain": [
       "        date_diff\n",
       "count     827,848\n",
       "mean      983,717\n",
       "std     6,908,426\n",
       "min             1\n",
       "25%           425\n",
       "50%         1,357\n",
       "75%         9,583\n",
       "max   246,457,525"
      ]
     },
     "execution_count": 37,
     "metadata": {},
     "output_type": "execute_result"
    }
   ],
   "source": [
    "pd_python_time_pos.describe()"
   ]
  },
  {
   "cell_type": "code",
   "execution_count": 38,
   "metadata": {},
   "outputs": [
    {
     "name": "stdout",
     "output_type": "stream",
     "text": [
      "Response time over one year: 0.90 %.\n",
      "Response time over one month: 4.10 %\n"
     ]
    }
   ],
   "source": [
    "print('Response time over one year: {0:.2f} %.\\nResponse time over one month: {1:.2f} %'\\\n",
    "     .format(np.sum(pd_python_time_pos.date_diff>=31536000)/pd_python_time_pos.date_diff.count()*100,\n",
    "             np.sum(pd_python_time_pos.date_diff>=2592000)/pd_python_time_pos.date_diff.count()*100))"
   ]
  },
  {
   "cell_type": "markdown",
   "metadata": {},
   "source": [
    "From the statistics results for `python` above first we can notice that the range of values is extremely big, namely from 1 second to 246,457,525 seconds or 7.8 years. Additionally, we can notice that the mean value of the response time is around 11.4 days (983,717 seconds) and is a consequence from a few data points which have very large values for the responce time due to the enormous time range. This is also the reason for the big standard deviation in the data of 6,908,426 seconds or 2.66 months. For instance, we have around 0.9 % from all of the data points with responce time over one year and 4.1 % from all of the data points with responce time over one month. This analysis only shows that for this dataset the mean is maybe not the best statistic to represent the data. On the other hand, if we take a look on the median with a value of approximately 22 minutes (1,357 seconds) or the 75% with value of 2.66 hours (9,583 seconds) we can conclude that these statistics are much more realistic for the given dataset."
   ]
  },
  {
   "cell_type": "code",
   "execution_count": 39,
   "metadata": {},
   "outputs": [
    {
     "data": {
      "text/html": [
       "<div>\n",
       "<style scoped>\n",
       "    .dataframe tbody tr th:only-of-type {\n",
       "        vertical-align: middle;\n",
       "    }\n",
       "\n",
       "    .dataframe tbody tr th {\n",
       "        vertical-align: top;\n",
       "    }\n",
       "\n",
       "    .dataframe thead th {\n",
       "        text-align: right;\n",
       "    }\n",
       "</style>\n",
       "<table border=\"1\" class=\"dataframe\">\n",
       "  <thead>\n",
       "    <tr style=\"text-align: right;\">\n",
       "      <th></th>\n",
       "      <th>date_diff</th>\n",
       "    </tr>\n",
       "  </thead>\n",
       "  <tbody>\n",
       "    <tr>\n",
       "      <th>count</th>\n",
       "      <td>1,176,818</td>\n",
       "    </tr>\n",
       "    <tr>\n",
       "      <th>mean</th>\n",
       "      <td>998,876</td>\n",
       "    </tr>\n",
       "    <tr>\n",
       "      <th>std</th>\n",
       "      <td>7,133,064</td>\n",
       "    </tr>\n",
       "    <tr>\n",
       "      <th>min</th>\n",
       "      <td>1</td>\n",
       "    </tr>\n",
       "    <tr>\n",
       "      <th>25%</th>\n",
       "      <td>396</td>\n",
       "    </tr>\n",
       "    <tr>\n",
       "      <th>50%</th>\n",
       "      <td>1,224</td>\n",
       "    </tr>\n",
       "    <tr>\n",
       "      <th>75%</th>\n",
       "      <td>9,615</td>\n",
       "    </tr>\n",
       "    <tr>\n",
       "      <th>max</th>\n",
       "      <td>298,536,705</td>\n",
       "    </tr>\n",
       "  </tbody>\n",
       "</table>\n",
       "</div>"
      ],
      "text/plain": [
       "        date_diff\n",
       "count   1,176,818\n",
       "mean      998,876\n",
       "std     7,133,064\n",
       "min             1\n",
       "25%           396\n",
       "50%         1,224\n",
       "75%         9,615\n",
       "max   298,536,705"
      ]
     },
     "execution_count": 39,
     "metadata": {},
     "output_type": "execute_result"
    }
   ],
   "source": [
    "pd_java_time_pos.describe()"
   ]
  },
  {
   "cell_type": "code",
   "execution_count": 40,
   "metadata": {},
   "outputs": [
    {
     "name": "stdout",
     "output_type": "stream",
     "text": [
      "Response time over one year: 0.90 %.\n",
      "Response time over one month: 4.04 %\n"
     ]
    }
   ],
   "source": [
    "print('Response time over one year: {0:.2f} %.\\nResponse time over one month: {1:.2f} %'\\\n",
    "     .format(np.sum(pd_java_time_pos.date_diff>=31536000)/pd_java_time_pos.date_diff.count()*100,\n",
    "             np.sum(pd_java_time_pos.date_diff>=2592000)/pd_java_time_pos.date_diff.count()*100))"
   ]
  },
  {
   "cell_type": "markdown",
   "metadata": {},
   "source": [
    "From the statistics results for `java` above first we can notice that the range of values is extremely big, from 1 second to 298,536,705 seconds or 9.5 years. Additionally, we can notice that the mean value of the response time is very similar to the responce time of python with a value of around 11.5 days (998,876 seconds) and the reason for this is the same one. The standard deviation is 7,133,064 seconds or 2.75 months. Here we have around 0.9 % from all of the data points with responce time over one year and 4.04 % from all of the data points with responce time over one month, which is almost the same as before. The conclusion for java is the same as in the python case due to the similarity in the dataset."
   ]
  },
  {
   "cell_type": "markdown",
   "metadata": {},
   "source": [
    "__Question3:__\n",
    "\n",
    "In order to contradict or confirm the hypotesis for the response time for Python and Java, we decided to check with two statistcs, namely with the mean and median of the dataframes. We define a function `bootstrap_mean` which calculates the mean for a specific subset for a given number of iterations, and similarly the function `bootstrap_median` which calculates the median for a specific subset for a given number of iterations. Then we call the functions for python and java, and plot the 95% confidence intervals with box plots."
   ]
  },
  {
   "cell_type": "code",
   "execution_count": 41,
   "metadata": {},
   "outputs": [],
   "source": [
    "def bootstrap_mean(df, iternum=10, fraction=0.2):\n",
    "    \"\"\"\n",
    "    Calculate the mean for a subset of the dataframe expressed through the fraction for 'iternum' number of iterations.\n",
    "    \n",
    "    Parameters:\n",
    "        df: dataframe\n",
    "        iternum: number of iterations, default=10\n",
    "        fraction: fraction of the dataframe, default=0.2\n",
    "        \n",
    "    Return:\n",
    "        List of the calculated means for the specified number of iterations for the subset\n",
    "    \"\"\"\n",
    "    result = []\n",
    "    for i in range(iternum):\n",
    "        bootstrap_mean = df.sample(replace=True,frac=fraction).date_diff.mean()\n",
    "        result.append(bootstrap_mean)\n",
    "    return result"
   ]
  },
  {
   "cell_type": "code",
   "execution_count": 42,
   "metadata": {},
   "outputs": [],
   "source": [
    "python_bootstrap_mean = bootstrap_mean(pd_python_time_pos, 50, 0.5)"
   ]
  },
  {
   "cell_type": "code",
   "execution_count": 43,
   "metadata": {},
   "outputs": [],
   "source": [
    "java_bootstrap_mean = bootstrap_mean(pd_java_time_pos, 50, 0.5)"
   ]
  },
  {
   "cell_type": "markdown",
   "metadata": {},
   "source": [
    "To check if the values for the mean from the bootstrap estimation are close to the real values of the mean for python and java tags, we calculate and present the apsolute and relative difference below:"
   ]
  },
  {
   "cell_type": "code",
   "execution_count": 44,
   "metadata": {},
   "outputs": [
    {
     "name": "stdout",
     "output_type": "stream",
     "text": [
      "Difference between python original mean and bootstrap mean: 1329.19 or 0.14 %.\n",
      "Difference between java original mean and bootstrap mean: -1960.41 or -0.20 %.\n"
     ]
    }
   ],
   "source": [
    "print('Difference between python original mean and bootstrap mean: {0:.2f} or {1:.2f} %.\\n'\\\n",
    "      'Difference between java original mean and bootstrap mean: {2:.2f} or {3:.2f} %.'\\\n",
    "     .format((np.mean(python_bootstrap_mean)-pd_python_time_pos.date_diff.mean()),\n",
    "             (np.mean(python_bootstrap_mean)-pd_python_time_pos.date_diff.mean())/pd_python_time_pos.date_diff.mean()*100,\n",
    "             (np.mean(java_bootstrap_mean)-pd_java_time_pos.date_diff.mean()),\n",
    "             (np.mean(java_bootstrap_mean)-pd_java_time_pos.date_diff.mean())/pd_java_time_pos.date_diff.mean()*100))"
   ]
  },
  {
   "cell_type": "markdown",
   "metadata": {},
   "source": [
    "And we can see that bootstrap method can estimate true mean very successfully."
   ]
  },
  {
   "cell_type": "code",
   "execution_count": 45,
   "metadata": {},
   "outputs": [],
   "source": [
    "results_mean = pd.DataFrame({'Python': python_bootstrap_mean,'Java':java_bootstrap_mean})"
   ]
  },
  {
   "cell_type": "code",
   "execution_count": 46,
   "metadata": {},
   "outputs": [
    {
     "data": {
      "image/png": "[encoded data removed]",
      "text/plain": [
       "<Figure size 504x360 with 1 Axes>"
      ]
     },
     "metadata": {
      "needs_background": "light"
     },
     "output_type": "display_data"
    }
   ],
   "source": [
    "sns.set_context(\"paper\", font_scale=1.5)\n",
    "fig = plt.figure(figsize=(7,5))\n",
    "fig = sns.boxplot(x=results_mean.columns, y=[results_mean['Python'],results_mean['Java']], whis=[2.5, 97.5], width=0.3)\n",
    "plt.title('Bootstrap mean - 95% confidence intervals')\n",
    "fig.get_yaxis().set_major_formatter(matplotlib.ticker.FuncFormatter(lambda x, p: format(int(x), ',')))\n",
    "plt.show()\n"
   ]
  },
  {
   "cell_type": "markdown",
   "metadata": {},
   "source": [
    "From the boxplot above, we can confirm that indeed Python has a lower response time compared to Java based on the mean as a statistic. The results were obtained by bootstrap on a subset using 50% of the original data from the dataframes and for 50 iterations.\n",
    "\n",
    "Next, we will compare the results using the median as a statistic."
   ]
  },
  {
   "cell_type": "code",
   "execution_count": 47,
   "metadata": {},
   "outputs": [],
   "source": [
    "def bootstrap_median(df, iternum=10, fraction=0.2):\n",
    "    \"\"\"\n",
    "    Calculate the median for a subset of the dataframe expressed through the fraction for 'iternum' number of iterations.\n",
    "    \n",
    "    Parameters:\n",
    "        df: dataframe\n",
    "        iternum: number of iterations, default=10\n",
    "        fraction: fraction of the dataframe, default=0.2\n",
    "        \n",
    "    Return:\n",
    "        List of the calculated medians for the specified number of iterations for the subset\n",
    "    \"\"\"\n",
    "    result = []\n",
    "    for i in range(iternum):\n",
    "        bootstrap_median = df.sample(replace=True,frac=fraction).date_diff.median()\n",
    "        result.append(bootstrap_median)\n",
    "    return result"
   ]
  },
  {
   "cell_type": "code",
   "execution_count": 48,
   "metadata": {},
   "outputs": [],
   "source": [
    "python_bootstrap_median = bootstrap_median(pd_python_time_pos, 50, 0.5)"
   ]
  },
  {
   "cell_type": "code",
   "execution_count": 49,
   "metadata": {},
   "outputs": [],
   "source": [
    "java_bootstrap_median = bootstrap_median(pd_java_time_pos, 50, 0.5)"
   ]
  },
  {
   "cell_type": "markdown",
   "metadata": {},
   "source": [
    "Similarly, to check if the values for the median from the bootstrap estimation are close to the real values of the median for python and java tags, we calculate and present the apsolute and relative difference below:"
   ]
  },
  {
   "cell_type": "code",
   "execution_count": 50,
   "metadata": {},
   "outputs": [
    {
     "name": "stdout",
     "output_type": "stream",
     "text": [
      "Difference between python original median and bootstrap median: 1.23 or 0.09 %.\n",
      "Difference between java original median and bootstrap median: 0.34 or 0.03 %.\n"
     ]
    }
   ],
   "source": [
    "print('Difference between python original median and bootstrap median: {0:.2f} or {1:.2f} %.\\n'\\\n",
    "      'Difference between java original median and bootstrap median: {2:.2f} or {3:.2f} %.'\n",
    "     .format((np.mean(python_bootstrap_median)-pd_python_time_pos.date_diff.median()),\n",
    "             (np.mean(python_bootstrap_median)-pd_python_time_pos.date_diff.median())/pd_python_time_pos.date_diff.median()*100,\n",
    "             (np.mean(java_bootstrap_median)-pd_java_time_pos.date_diff.median()),\n",
    "             (np.mean(java_bootstrap_median)-pd_java_time_pos.date_diff.median())/pd_java_time_pos.date_diff.median()*100))"
   ]
  },
  {
   "cell_type": "markdown",
   "metadata": {},
   "source": [
    "And we can see that bootstrap method can estimate true median very successfully."
   ]
  },
  {
   "cell_type": "code",
   "execution_count": 51,
   "metadata": {},
   "outputs": [],
   "source": [
    "results_median = pd.DataFrame({'Python': python_bootstrap_median,'Java':java_bootstrap_median})"
   ]
  },
  {
   "cell_type": "code",
   "execution_count": 52,
   "metadata": {},
   "outputs": [
    {
     "data": {
      "image/png": "[encoded data removed]",
      "text/plain": [
       "<Figure size 504x360 with 1 Axes>"
      ]
     },
     "metadata": {
      "needs_background": "light"
     },
     "output_type": "display_data"
    }
   ],
   "source": [
    "sns.set_context(\"paper\", font_scale=1.5)\n",
    "fig = plt.figure(figsize=(7,5))\n",
    "fig = sns.boxplot(x=results_median.columns, y=[results_median['Python'],results_median['Java']], whis=[2.5, 97.5], width=0.3)\n",
    "plt.title('Bootstrap median - 95% confidence intervals')\n",
    "fig.get_yaxis().set_major_formatter(matplotlib.ticker.FuncFormatter(lambda x, p: format(int(x), ',')))\n",
    "plt.show()\n"
   ]
  },
  {
   "cell_type": "markdown",
   "metadata": {},
   "source": [
    "From the boxplot above, we have the opposite situation where Java has a lower response time compared to Python based on the median as a statistic. The results were obtained by bootstrap on a subset using 50% of the original data from the dataframes and for 50 iterations.\n",
    "\n",
    "The different conclusion drew from mean and median can be explained by the large range of value, as mentioned in the last part of Task D, Q2. The response time of Java has larger value range than Python, and this will enlarge  its mean. To avoid influence from value range, quantile is a better choice. And as shown in the plot above, the median (50% quantile) distribution is much more compact and distinguishable for java and python than that of mean separatively.\n",
    "\n",
    "So, here we reject the null hypothesis that python has lower response time than java but accept that java has lower response time on the contrary.\n",
    "\n",
    "Thus, in following step, we decide to use `median` as the proper statistic to measure response time for other tags."
   ]
  },
  {
   "cell_type": "markdown",
   "metadata": {},
   "source": [
    "__Question4:__ Repeat the first analysis (D1) by using the proper statistic to measure the response time for the tags that appear at least 5000 times. Plot the distribution of the 10 tags with the fastest response time."
   ]
  },
  {
   "cell_type": "markdown",
   "metadata": {},
   "source": [
    "In this part, we first flat map all tags and group the result by tags, calculate counts and median response time for each tag. And then we sort the response time in order to find the 10 fastest answered tags and plot them in bar chart."
   ]
  },
  {
   "cell_type": "code",
   "execution_count": 64,
   "metadata": {},
   "outputs": [],
   "source": [
    "# in this part we flatten the dataframe by flatmapping tags in different questions \n",
    "# after faltmapping, each row in df_flat_tag is only one tag and its response time in certain question\n",
    "tmp = time_diff.rdd.map(lambda line:[line.Tags.strip('<').strip('>').split('><'),line.date_diff])\n",
    "flat_tag = tmp.flatMap(lambda line:[[tag,line[1]] for tag in line[0]])\n",
    "df_flat_tag = flat_tag.toDF(['Tag','response time'])"
   ]
  },
  {
   "cell_type": "code",
   "execution_count": 65,
   "metadata": {},
   "outputs": [],
   "source": [
    "# here we use udf function to calculate the median\n",
    "def median(values_list):\n",
    "    med = np.median(values_list)\n",
    "    return float(med)\n",
    "udf_median = func.udf(median, FloatType())\n",
    "\n",
    "# we group the dataframe from former step by tags, and calculate the count and median separately for each tag\n",
    "med_result = df_flat_tag.groupby('Tag').agg(count('*').alias('count'),\n",
    "                                       udf_median(func.collect_list(col('response time'))).alias('median time')).cache()"
   ]
  },
  {
   "cell_type": "code",
   "execution_count": 75,
   "metadata": {},
   "outputs": [],
   "source": [
    "# select the tag that are mentioned over 5000 times, and then sort the dataframe by median time\n",
    "# then extract Tag and median time column to form a new dataframe for plotting\n",
    "median_list = med_result.where(med_result['count']>5000).sort('median time')['Tag','median time']\n",
    "pd_median = pd.DataFrame(median_list.head(10))\n",
    "pd_median.columns = ['Tag','Response Time']"
   ]
  },
  {
   "cell_type": "code",
   "execution_count": 77,
   "metadata": {},
   "outputs": [
    {
     "data": {
      "text/plain": [
       "Text(0.5, 1.0, 'Bar chart for the 10 fastest responded tags (appeared at least 5000 times)')"
      ]
     },
     "execution_count": 77,
     "metadata": {},
     "output_type": "execute_result"
    },
    {
     "data": {
      "image/png": "[encoded data removed]",
      "text/plain": [
       "<Figure size 720x432 with 1 Axes>"
      ]
     },
     "metadata": {
      "needs_background": "light"
     },
     "output_type": "display_data"
    }
   ],
   "source": [
    "sns.set_context(\"paper\", font_scale=1.6)\n",
    "fig3 = plt.figure(figsize=(10,6))\n",
    "fig3 = sns.barplot(pd_median['Response Time'], pd_median['Tag'])\n",
    "fig3.set_title('Bar chart for the 10 fastest responded tags (appeared at least 5000 times)')"
   ]
  },
  {
   "cell_type": "code",
   "execution_count": 78,
   "metadata": {},
   "outputs": [
    {
     "data": {
      "text/html": [
       "<div>\n",
       "<style scoped>\n",
       "    .dataframe tbody tr th:only-of-type {\n",
       "        vertical-align: middle;\n",
       "    }\n",
       "\n",
       "    .dataframe tbody tr th {\n",
       "        vertical-align: top;\n",
       "    }\n",
       "\n",
       "    .dataframe thead th {\n",
       "        text-align: right;\n",
       "    }\n",
       "</style>\n",
       "<table border=\"1\" class=\"dataframe\">\n",
       "  <thead>\n",
       "    <tr style=\"text-align: right;\">\n",
       "      <th></th>\n",
       "      <th>Tag</th>\n",
       "      <th>Response Time</th>\n",
       "    </tr>\n",
       "  </thead>\n",
       "  <tbody>\n",
       "    <tr>\n",
       "      <th>718</th>\n",
       "      <td>&lt;jquery-selectors&gt;</td>\n",
       "      <td>278</td>\n",
       "    </tr>\n",
       "    <tr>\n",
       "      <th>776</th>\n",
       "      <td>&lt;int&gt;</td>\n",
       "      <td>368</td>\n",
       "    </tr>\n",
       "    <tr>\n",
       "      <th>675</th>\n",
       "      <td>&lt;char&gt;</td>\n",
       "      <td>393</td>\n",
       "    </tr>\n",
       "    <tr>\n",
       "      <th>657</th>\n",
       "      <td>&lt;css-selectors&gt;</td>\n",
       "      <td>409</td>\n",
       "    </tr>\n",
       "    <tr>\n",
       "      <th>789</th>\n",
       "      <td>&lt;return&gt;</td>\n",
       "      <td>412</td>\n",
       "    </tr>\n",
       "    <tr>\n",
       "      <th>427</th>\n",
       "      <td>&lt;constructor&gt;</td>\n",
       "      <td>415</td>\n",
       "    </tr>\n",
       "    <tr>\n",
       "      <th>147</th>\n",
       "      <td>&lt;pointers&gt;</td>\n",
       "      <td>432</td>\n",
       "    </tr>\n",
       "    <tr>\n",
       "      <th>421</th>\n",
       "      <td>&lt;syntax&gt;</td>\n",
       "      <td>435</td>\n",
       "    </tr>\n",
       "    <tr>\n",
       "      <th>746</th>\n",
       "      <td>&lt;integer&gt;</td>\n",
       "      <td>447</td>\n",
       "    </tr>\n",
       "    <tr>\n",
       "      <th>796</th>\n",
       "      <td>&lt;boolean&gt;</td>\n",
       "      <td>452</td>\n",
       "    </tr>\n",
       "  </tbody>\n",
       "</table>\n",
       "</div>"
      ],
      "text/plain": [
       "                    Tag  Response Time\n",
       "718  <jquery-selectors>            278\n",
       "776               <int>            368\n",
       "675              <char>            393\n",
       "657     <css-selectors>            409\n",
       "789            <return>            412\n",
       "427       <constructor>            415\n",
       "147          <pointers>            432\n",
       "421            <syntax>            435\n",
       "746           <integer>            447\n",
       "796           <boolean>            452"
      ]
     },
     "execution_count": 78,
     "metadata": {},
     "output_type": "execute_result"
    }
   ],
   "source": [
    "pd_median"
   ]
  },
  {
   "cell_type": "markdown",
   "metadata": {},
   "source": [
    "### Task E: What's up with PySpark?\n",
    "The number of questions asked regarding a specific topic reflect the public’s interest on it. We are interested on the popularity of PySpark. Compute and plot the number of questions with the ```pyspark``` tag for 30-day time intervals. Do you notice any trend over time? Is there any correlation between time and number of questions?\n"
   ]
  },
  {
   "cell_type": "markdown",
   "metadata": {},
   "source": [
    "At first, we get all the questions with `pyspark` tag and then sort them by time."
   ]
  },
  {
   "cell_type": "code",
   "execution_count": 70,
   "metadata": {},
   "outputs": [
    {
     "name": "stdout",
     "output_type": "stream",
     "text": [
      "+--------------------+--------+--------+----------+-----+--------------------+--------------------+---------+\n",
      "|        CreationDate|      Id|ParentId|PostTypeId|Score|                Tags|               Title|ViewCount|\n",
      "+--------------------+--------+--------+----------+-----+--------------------+--------------------+---------+\n",
      "|2017-08-17 16:40:...|45740730|    null|         1|    0|<python><apache-s...|Balanced RDD part...|      123|\n",
      "|2017-08-17 20:36:...|45744554|    null|         1|    0|<apache-spark><py...|Get row indices b...|     1703|\n",
      "|2016-08-03 08:10:...|38737958|    null|         1|    0|<pyspark><apache-...|How to insert val...|     3589|\n",
      "|2016-08-03 08:22:...|38738213|    null|         1|    1|<pyspark><pyspark...|Design a saturate...|      138|\n",
      "|2016-08-03 12:06:...|38743194|    null|         1|    0|<scala><apache-sp...|Unable to find ja...|       45|\n",
      "+--------------------+--------+--------+----------+-----+--------------------+--------------------+---------+\n",
      "only showing top 5 rows\n",
      "\n"
     ]
    }
   ],
   "source": [
    "# Get questions with <pyspark> tag\n",
    "question.registerTempTable(\"question_sql\")\n",
    "query_pyspark = \"\"\"\n",
    "select *\n",
    "from question_sql\n",
    "where Tags like '%<pyspark>%' \n",
    "\"\"\"\n",
    "\n",
    "question_pyspark= spark.sql(query_pyspark)\n",
    "question_pyspark.show(5)"
   ]
  },
  {
   "cell_type": "markdown",
   "metadata": {},
   "source": [
    "Then, we split the questions by month and count the frequncy. \n",
    "We use query to count the number of each month and order by time."
   ]
  },
  {
   "cell_type": "code",
   "execution_count": 71,
   "metadata": {},
   "outputs": [
    {
     "name": "stdout",
     "output_type": "stream",
     "text": [
      "+----------+\n",
      "|      date|\n",
      "+----------+\n",
      "|2017-08-17|\n",
      "|2017-08-17|\n",
      "|2016-08-03|\n",
      "|2016-08-03|\n",
      "|2016-08-03|\n",
      "+----------+\n",
      "only showing top 5 rows\n",
      "\n"
     ]
    }
   ],
   "source": [
    "question_month = question_pyspark.select(date_format(question_pyspark.CreationDate, 'yyyy-MM-dd').alias('date'))\n",
    "question_month.show(5)"
   ]
  },
  {
   "cell_type": "markdown",
   "metadata": {},
   "source": [
    "In order to group data by interval of 30 days, we set 2014-04-01 as the starting date which is the earliest date where pyspark tag appears in a question. Then, for each question it should be calculated the day difference with base time and divide the number by the time inverval of 30. Using this approach, we get group id showing what interval this question locate. Lastly, we group our data by groupid and count number of each category which means frequency in this interval."
   ]
  },
  {
   "cell_type": "code",
   "execution_count": 72,
   "metadata": {},
   "outputs": [
    {
     "name": "stdout",
     "output_type": "stream",
     "text": [
      "+-------+----+\n",
      "|groupid|freq|\n",
      "+-------+----+\n",
      "|      0|   1|\n",
      "|      4|   1|\n",
      "|      6|   3|\n",
      "|      7|   5|\n",
      "|      8|   1|\n",
      "+-------+----+\n",
      "only showing top 5 rows\n",
      "\n"
     ]
    }
   ],
   "source": [
    "# Use query to count the number of each month and order by time\n",
    "question_month.registerTempTable(\"question_month_sql\") #register in table\n",
    "query_freq = \"\"\"\n",
    "select t.groupid, count(t.date) as freq\n",
    "from\n",
    "(\n",
    "select q.date, floor(datediff(q.date, '2014-04-01')/30) as groupid\n",
    "from question_month_sql as q\n",
    ") as t\n",
    "group by groupid\n",
    "order by groupid\n",
    "\"\"\"\n",
    "\n",
    "result_freq = spark.sql(query_freq)\n",
    "result_freq.show(5)"
   ]
  },
  {
   "cell_type": "markdown",
   "metadata": {},
   "source": [
    "Use the data above to plot the frequency."
   ]
  },
  {
   "cell_type": "code",
   "execution_count": 73,
   "metadata": {},
   "outputs": [],
   "source": [
    "pyspark_freq = result_freq.toPandas()"
   ]
  },
  {
   "cell_type": "code",
   "execution_count": 74,
   "metadata": {},
   "outputs": [
    {
     "data": {
      "image/png": "[encoded data removed]",
      "text/plain": [
       "<Figure size 576x360 with 1 Axes>"
      ]
     },
     "metadata": {
      "needs_background": "light"
     },
     "output_type": "display_data"
    }
   ],
   "source": [
    "# Draw the plot with matplot\n",
    "p = pyspark_freq.plot(x='groupid', y='freq', figsize=(8,5))\n",
    "p.set_xlabel('Date')\n",
    "p.set_ylabel('Ask Frequency')\n",
    "p.set_xticklabels(['2014/04', '2014/08', '2015/06', '2016/04', '2017/02', '2017/12', '2018/09'])\n",
    "p.set_title('Hot degree of Pyspark in Stackoverflow')\n",
    "plt.show()"
   ]
  },
  {
   "cell_type": "markdown",
   "metadata": {},
   "source": [
    "### Conclusion"
   ]
  },
  {
   "cell_type": "markdown",
   "metadata": {},
   "source": [
    "We notice that from 2014.08 to 2018.09, more and more questions are posted on Stackoverflow. In particular, 2018.09 has a very small frequency, so we assume that people collect the data on early September and monthly data is not complete that time. The result shows that people are more likely to raise questions about `pyspark`, which indicates that pyspark has increasing importance in computer area and becomes a hot topic. "
   ]
  }
 ],
 "metadata": {
  "kernelspec": {
   "display_name": "Python 3",
   "language": "python",
   "name": "python3"
  },
  "language_info": {
   "codemirror_mode": {
    "name": "ipython",
    "version": 3
   },
   "file_extension": ".py",
   "mimetype": "text/x-python",
   "name": "python",
   "nbconvert_exporter": "python",
   "pygments_lexer": "ipython3",
   "version": "3.6.8"
  }
 },
 "nbformat": 4,
 "nbformat_minor": 2
}
